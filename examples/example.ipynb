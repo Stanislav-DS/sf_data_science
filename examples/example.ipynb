{
 "cells": [
  {
   "cell_type": "markdown",
   "id": "e40743e2",
   "metadata": {},
   "source": [
    "1. Задание из чата от пользователя Александр (1001663427) 07.04.2025"
   ]
  },
  {
   "cell_type": "markdown",
   "id": "4e96e4a9",
   "metadata": {},
   "source": [
    "![](data/task_1.jpg)"
   ]
  },
  {
   "cell_type": "code",
   "execution_count": null,
   "id": "f1d94d99",
   "metadata": {},
   "outputs": [
    {
     "name": "stdout",
     "output_type": "stream",
     "text": [
      "1  2  3  4  5  \n",
      "14 15 16 17 6  \n",
      "13 20 19 18 7  \n",
      "12 11 10 9  8  \n"
     ]
    }
   ],
   "source": [
    "import numpy as np\n",
    "\n",
    "n, m = map(int, input().split())  # получаем входные данные\n",
    "matrix = np.zeros((n, m), dtype=int)  # создаем матрицу с нулями\n",
    "\n",
    "# индексы границ матрицы\n",
    "start_row = 0\n",
    "start_col = 0\n",
    "finish_row = n - 1\n",
    "finish_col = m - 1\n",
    "\n",
    "step = 1  # шаг заполнения\n",
    "val = 1  # значение, которым будем заполнять матрицу\n",
    "\n",
    "# Последовательное заполнение матрицы по спирали\n",
    "while True:\n",
    "    # заполнение строки\n",
    "    for i in range(start_col, finish_col + step, step):\n",
    "        matrix[start_row, i] = val\n",
    "        val += 1\n",
    "\n",
    "    # проверка условия выхода из цикла\n",
    "    if val > n * m:\n",
    "        break\n",
    "\n",
    "    # сужение границ по горизонтали\n",
    "    start_row += step\n",
    "    # меняем местами индексы начала и конца столбца, чтобы заполнять по спирали\n",
    "    start_col, finish_col = finish_col, start_col\n",
    "\n",
    "    # заполнение столбца\n",
    "    for j in range(start_row, finish_row + step, step):\n",
    "        matrix[j, start_col] = val\n",
    "        val += 1\n",
    "\n",
    "    # проверка условия выхода из цикла\n",
    "    if val > n * m:\n",
    "        break\n",
    "\n",
    "    # инверсия шага\n",
    "    step *= -1\n",
    "\n",
    "    # сужение границ по вертикали\n",
    "    start_col += step\n",
    "    # меняем местами индексы начала и конца строки, чтобы заполнять по спирали\n",
    "    start_row, finish_row = finish_row, start_row\n",
    "\n",
    "\n",
    "# Вывод результата согласно условия задачи\n",
    "for row in matrix:\n",
    "    for element in row:\n",
    "        print(str(element).ljust(3), end=\"\")\n",
    "    print()"
   ]
  }
 ],
 "metadata": {
  "kernelspec": {
   "display_name": "Python 3",
   "language": "python",
   "name": "python3"
  },
  "language_info": {
   "codemirror_mode": {
    "name": "ipython",
    "version": 3
   },
   "file_extension": ".py",
   "mimetype": "text/x-python",
   "name": "python",
   "nbconvert_exporter": "python",
   "pygments_lexer": "ipython3",
   "version": "3.12.9"
  }
 },
 "nbformat": 4,
 "nbformat_minor": 5
}
