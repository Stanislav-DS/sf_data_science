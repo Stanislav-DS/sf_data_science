{
 "cells": [
  {
   "cell_type": "markdown",
   "metadata": {},
   "source": [
    "<center> <img src = https://raw.githubusercontent.com/AndreyRysistov/DatasetsForPandas/main/hh%20label.jpg alt=\"drawing\" style=\"width:400px;\">"
   ]
  },
  {
   "cell_type": "markdown",
   "metadata": {},
   "source": [
    "# Проект. Анализ вакансий на HeadHunter"
   ]
  },
  {
   "cell_type": "markdown",
   "metadata": {},
   "source": [
    "## Юнит 1. Работа с базой данных из Python\n",
    "\n",
    "---"
   ]
  },
  {
   "cell_type": "markdown",
   "metadata": {},
   "source": [
    "В реальной деятельности дата-сайентисту требуется не только писать запрос к данным, но и затем обрабатывать его результаты с помощью *Python*. Для решения таких задач требуется некоторое средство, которое будет связывать *Python* и *PostgreSQL* так, чтобы мы могли с помощью *Python* отправлять запросы в *Postgres* и принимать оттуда результаты.\n",
    "\n",
    "Именно таким средством является пакет [psycopg2](https://www.psycopg.org/docs/), о котором мы сейчас и поговорим."
   ]
  },
  {
   "cell_type": "markdown",
   "metadata": {},
   "source": [
    "### Установка psycopg2\n",
    "\n",
    "```linux\n",
    "pip install psycopg2\n",
    "```"
   ]
  },
  {
   "cell_type": "markdown",
   "metadata": {},
   "source": [
    "Для подключения нам потребуются следующие данные:\n",
    "\n",
    "* dbname — название базы, к которой нужно подключиться;\n",
    "* user — имя пользователя в СУБД;\n",
    "* password — пароль;\n",
    "* host — адрес, по которому нужно подключиться;\n",
    "* port — порт, к которому нужно подключиться (по умолчанию равен 5432).\n",
    "\n",
    "Для нашей базы эти параметры сохранены в текущей директории в файле `config.ini`, который добавлен в список исключений `.gitignore` "
   ]
  },
  {
   "cell_type": "markdown",
   "metadata": {},
   "source": [
    "### Импорт библиотек. Соединение с БД"
   ]
  },
  {
   "cell_type": "markdown",
   "metadata": {},
   "source": [
    "❗ При вызове функции `read_sql_query` выводилось предупреждение:\n",
    "```\n",
    "UserWarning: pandas only supports SQLAlchemy connectable (engine/connection) or database string URI or sqlite3 DBAPI2 connection. Other DBAPI2 objects are not tested. Please consider using SQLAlchemy.\n",
    "```\n",
    "Поэтому для соединения с БД SQL вместо `psycopg2` использована библиотека `sqlalchemy`"
   ]
  },
  {
   "cell_type": "code",
   "execution_count": null,
   "metadata": {},
   "outputs": [],
   "source": [
    "from bs4 import BeautifulSoup\n",
    "import configparser\n",
    "import pandas as pd\n",
    "import psycopg2\n",
    "from sqlalchemy import create_engine\n",
    "from sqlalchemy.engine.url import URL\n",
    "import requests\n",
    "import warnings\n",
    "from IPython.display import display, HTML"
   ]
  },
  {
   "cell_type": "code",
   "execution_count": 168,
   "metadata": {},
   "outputs": [],
   "source": [
    "# Получение сведений об авторизации.\n",
    "config = configparser.ConfigParser()\n",
    "config.read(\"config.ini\")\n",
    "\n",
    "# connection = psycopg2.connect(\n",
    "#     dbname=config.get(\"postgresql\", 'DBNAME'),\n",
    "#     user=config.get(\"postgresql\", \"USER\"),\n",
    "#     host=config.get(\"postgresql\", \"HOST\"),\n",
    "#     password=config.get(\"postgresql\", \"PASSWORD\"),\n",
    "#     port=config.get(\"postgresql\", \"PORT\"),\n",
    "# )\n",
    "\n",
    "# Исключение предупреждающих сообщений из выходных данных ячеек (требуется при использования библиотеки psycopg)\n",
    "# warnings.simplefilter(action='ignore', category=FutureWarning)\n",
    "# warnings.simplefilter(action='ignore', category=UserWarning)\n",
    "\n",
    "# ----------------------------------------------------------------------------\n",
    "# Для соединения с БД вместо psycopg2 использована библиотека sqlalchemy,\n",
    "# которая полностью совместима с pandas и не выводится никаких предупреждений\n",
    "# ----------------------------------------------------------------------------\n",
    "\n",
    "# Формирование строки подключения\n",
    "db_params = {\n",
    "    \"drivername\": \"postgresql\",\n",
    "    \"username\": config.get(\"postgresql\", \"USER\"),\n",
    "    \"password\": config.get(\"postgresql\", \"PASSWORD\"),\n",
    "    \"host\": config.get(\"postgresql\", \"HOST\"),\n",
    "    \"port\": config.get(\"postgresql\", \"PORT\"),\n",
    "    \"database\": config.get(\"postgresql\", \"DBNAME\"),\n",
    "}\n",
    "\n",
    "# Формируем строку подключения через SQLAlchemy\n",
    "db_url = URL.create(**db_params)\n",
    "\n",
    "\n",
    "# Создание SQLAlchemy engine\n",
    "engine = create_engine(db_url)"
   ]
  },
  {
   "cell_type": "markdown",
   "metadata": {},
   "source": [
    "Запрос:"
   ]
  },
  {
   "cell_type": "code",
   "execution_count": 169,
   "metadata": {},
   "outputs": [],
   "source": [
    "n = 10\n",
    "query = f\"\"\"\n",
    "   SELECT *\n",
    "     FROM vacancies\n",
    "    LIMIT {n}\n",
    "\"\"\""
   ]
  },
  {
   "cell_type": "markdown",
   "metadata": {},
   "source": [
    "Выполнение запроса"
   ]
  },
  {
   "cell_type": "code",
   "execution_count": 170,
   "metadata": {},
   "outputs": [
    {
     "data": {
      "application/vnd.microsoft.datawrangler.viewer.v0+json": {
       "columns": [
        {
         "name": "index",
         "rawType": "int64",
         "type": "integer"
        },
        {
         "name": "id",
         "rawType": "int64",
         "type": "integer"
        },
        {
         "name": "name",
         "rawType": "object",
         "type": "string"
        },
        {
         "name": "key_skills",
         "rawType": "object",
         "type": "unknown"
        },
        {
         "name": "schedule",
         "rawType": "object",
         "type": "string"
        },
        {
         "name": "experience",
         "rawType": "object",
         "type": "string"
        },
        {
         "name": "employment",
         "rawType": "object",
         "type": "string"
        },
        {
         "name": "salary_from",
         "rawType": "float64",
         "type": "float"
        },
        {
         "name": "salary_to",
         "rawType": "float64",
         "type": "float"
        },
        {
         "name": "area_id",
         "rawType": "int64",
         "type": "integer"
        },
        {
         "name": "employer_id",
         "rawType": "int64",
         "type": "integer"
        }
       ],
       "conversionMethod": "pd.DataFrame",
       "ref": "dc63e95b-4872-435b-b575-21e8a8ee4c4b",
       "rows": [
        [
         "0",
         "55312386",
         "Компьютерный Мастер",
         "Пользователь ПК\tРабота в команде\tРемонт ноутбуков\tДиагностика\tОпытный пользователь ПК\tРемонт\tУстановка ОС\tРемонт компьютеров\tНавыки продаж",
         "Полный день",
         "Нет опыта",
         "Полная занятость",
         "64000.0",
         null,
         "1516",
         "5724811"
        ],
        [
         "1",
         "55843014",
         "Системный администратор",
         "Средства криптографической защиты информации\tActive Directory\tИнформационные технологии\tИнформационная безопасность\tРемонт ПК",
         "Полный день",
         "От 3 до 6 лет",
         "Полная занятость",
         null,
         null,
         "130",
         "4903713"
        ],
        [
         "2",
         "54525964",
         "Lead Java Developer to Poland",
         "Spring Framework\tSQL\tHibernate ORM\tJava\tGit",
         "Удаленная работа",
         "От 3 до 6 лет",
         "Полная занятость",
         null,
         null,
         "160",
         "69961"
        ],
        [
         "3",
         "54525965",
         "Lead Java Developer to Poland",
         "Spring Framework\tSQL\tHibernate ORM\tJava\tGit",
         "Удаленная работа",
         "От 3 до 6 лет",
         "Полная занятость",
         null,
         null,
         "159",
         "69961"
        ],
        [
         "4",
         "55354053",
         "Специалист службы поддержки с техническими знаниями (Диск)",
         null,
         "Удаленная работа",
         "Нет опыта",
         "Частичная занятость",
         "15000.0",
         null,
         "1955",
         "1740"
        ],
        [
         "5",
         "55906072",
         "Корректор",
         "Корректура текстов\tГрамотность\tРабота в команде\tРабота с большим объемом информации",
         "Полный день",
         "Нет опыта",
         "Полная занятость",
         null,
         null,
         "2323",
         "584934"
        ],
        [
         "6",
         "55523207",
         "React Front-end Middle Developer",
         "JavaScript\tTypeScript\tCSS3\tNode.js\tHTML5",
         "Гибкий график",
         "От 1 года до 3 лет",
         "Полная занятость",
         null,
         null,
         "2759",
         "204511"
        ],
        [
         "7",
         "55050261",
         "Инженер-программист",
         "Java SE\tSpring Framework\tSpring Boot\tGit\tSQL\tПаттерны проектирования",
         "Полный день",
         "Нет опыта",
         "Полная занятость",
         "40000.0",
         "60000.0",
         "49",
         "4448636"
        ],
        [
         "8",
         "55583432",
         "Системный администратор",
         "Linux\tАдминистрирование сетевого оборудования\tНастройка ПО\tНастройка ПК\tНастройка DNS\tРемонт ПК\tТехническое обслуживание\tСборка ПК\tОфисная техника\tНастройка серверов\tРабота с оргтехникой\tАдминистрирование\tНастройка сетевых подключений\tWindows 7\tActive Directory",
         "Полный день",
         "От 1 года до 3 лет",
         "Полная занятость",
         "50000.0",
         null,
         "3",
         "55126"
        ],
        [
         "9",
         "55312414",
         "Ведущий специалист группы разработки систем",
         "1С программирование\t1С: Предприятие 8\t1С: Документооборот\t1С: Управление Производственным Предприятием\tОбновление конфигурации 1С",
         "Полный день",
         "От 3 до 6 лет",
         "Полная занятость",
         null,
         null,
         "47",
         "1413754"
        ]
       ],
       "shape": {
        "columns": 10,
        "rows": 10
       }
      },
      "text/html": [
       "<div>\n",
       "<style scoped>\n",
       "    .dataframe tbody tr th:only-of-type {\n",
       "        vertical-align: middle;\n",
       "    }\n",
       "\n",
       "    .dataframe tbody tr th {\n",
       "        vertical-align: top;\n",
       "    }\n",
       "\n",
       "    .dataframe thead th {\n",
       "        text-align: right;\n",
       "    }\n",
       "</style>\n",
       "<table border=\"1\" class=\"dataframe\">\n",
       "  <thead>\n",
       "    <tr style=\"text-align: right;\">\n",
       "      <th></th>\n",
       "      <th>id</th>\n",
       "      <th>name</th>\n",
       "      <th>key_skills</th>\n",
       "      <th>schedule</th>\n",
       "      <th>experience</th>\n",
       "      <th>employment</th>\n",
       "      <th>salary_from</th>\n",
       "      <th>salary_to</th>\n",
       "      <th>area_id</th>\n",
       "      <th>employer_id</th>\n",
       "    </tr>\n",
       "  </thead>\n",
       "  <tbody>\n",
       "    <tr>\n",
       "      <th>0</th>\n",
       "      <td>55312386</td>\n",
       "      <td>Компьютерный Мастер</td>\n",
       "      <td>Пользователь ПК\\tРабота в команде\\tРемонт ноут...</td>\n",
       "      <td>Полный день</td>\n",
       "      <td>Нет опыта</td>\n",
       "      <td>Полная занятость</td>\n",
       "      <td>64000.0</td>\n",
       "      <td>NaN</td>\n",
       "      <td>1516</td>\n",
       "      <td>5724811</td>\n",
       "    </tr>\n",
       "    <tr>\n",
       "      <th>1</th>\n",
       "      <td>55843014</td>\n",
       "      <td>Системный администратор</td>\n",
       "      <td>Средства криптографической защиты информации\\t...</td>\n",
       "      <td>Полный день</td>\n",
       "      <td>От 3 до 6 лет</td>\n",
       "      <td>Полная занятость</td>\n",
       "      <td>NaN</td>\n",
       "      <td>NaN</td>\n",
       "      <td>130</td>\n",
       "      <td>4903713</td>\n",
       "    </tr>\n",
       "    <tr>\n",
       "      <th>2</th>\n",
       "      <td>54525964</td>\n",
       "      <td>Lead Java Developer to Poland</td>\n",
       "      <td>Spring Framework\\tSQL\\tHibernate ORM\\tJava\\tGit</td>\n",
       "      <td>Удаленная работа</td>\n",
       "      <td>От 3 до 6 лет</td>\n",
       "      <td>Полная занятость</td>\n",
       "      <td>NaN</td>\n",
       "      <td>NaN</td>\n",
       "      <td>160</td>\n",
       "      <td>69961</td>\n",
       "    </tr>\n",
       "    <tr>\n",
       "      <th>3</th>\n",
       "      <td>54525965</td>\n",
       "      <td>Lead Java Developer to Poland</td>\n",
       "      <td>Spring Framework\\tSQL\\tHibernate ORM\\tJava\\tGit</td>\n",
       "      <td>Удаленная работа</td>\n",
       "      <td>От 3 до 6 лет</td>\n",
       "      <td>Полная занятость</td>\n",
       "      <td>NaN</td>\n",
       "      <td>NaN</td>\n",
       "      <td>159</td>\n",
       "      <td>69961</td>\n",
       "    </tr>\n",
       "    <tr>\n",
       "      <th>4</th>\n",
       "      <td>55354053</td>\n",
       "      <td>Специалист службы поддержки с техническими зна...</td>\n",
       "      <td>None</td>\n",
       "      <td>Удаленная работа</td>\n",
       "      <td>Нет опыта</td>\n",
       "      <td>Частичная занятость</td>\n",
       "      <td>15000.0</td>\n",
       "      <td>NaN</td>\n",
       "      <td>1955</td>\n",
       "      <td>1740</td>\n",
       "    </tr>\n",
       "    <tr>\n",
       "      <th>5</th>\n",
       "      <td>55906072</td>\n",
       "      <td>Корректор</td>\n",
       "      <td>Корректура текстов\\tГрамотность\\tРабота в кома...</td>\n",
       "      <td>Полный день</td>\n",
       "      <td>Нет опыта</td>\n",
       "      <td>Полная занятость</td>\n",
       "      <td>NaN</td>\n",
       "      <td>NaN</td>\n",
       "      <td>2323</td>\n",
       "      <td>584934</td>\n",
       "    </tr>\n",
       "    <tr>\n",
       "      <th>6</th>\n",
       "      <td>55523207</td>\n",
       "      <td>React Front-end Middle Developer</td>\n",
       "      <td>JavaScript\\tTypeScript\\tCSS3\\tNode.js\\tHTML5</td>\n",
       "      <td>Гибкий график</td>\n",
       "      <td>От 1 года до 3 лет</td>\n",
       "      <td>Полная занятость</td>\n",
       "      <td>NaN</td>\n",
       "      <td>NaN</td>\n",
       "      <td>2759</td>\n",
       "      <td>204511</td>\n",
       "    </tr>\n",
       "    <tr>\n",
       "      <th>7</th>\n",
       "      <td>55050261</td>\n",
       "      <td>Инженер-программист</td>\n",
       "      <td>Java SE\\tSpring Framework\\tSpring Boot\\tGit\\tS...</td>\n",
       "      <td>Полный день</td>\n",
       "      <td>Нет опыта</td>\n",
       "      <td>Полная занятость</td>\n",
       "      <td>40000.0</td>\n",
       "      <td>60000.0</td>\n",
       "      <td>49</td>\n",
       "      <td>4448636</td>\n",
       "    </tr>\n",
       "    <tr>\n",
       "      <th>8</th>\n",
       "      <td>55583432</td>\n",
       "      <td>Системный администратор</td>\n",
       "      <td>Linux\\tАдминистрирование сетевого оборудования...</td>\n",
       "      <td>Полный день</td>\n",
       "      <td>От 1 года до 3 лет</td>\n",
       "      <td>Полная занятость</td>\n",
       "      <td>50000.0</td>\n",
       "      <td>NaN</td>\n",
       "      <td>3</td>\n",
       "      <td>55126</td>\n",
       "    </tr>\n",
       "    <tr>\n",
       "      <th>9</th>\n",
       "      <td>55312414</td>\n",
       "      <td>Ведущий специалист группы разработки систем</td>\n",
       "      <td>1С программирование\\t1С: Предприятие 8\\t1С: До...</td>\n",
       "      <td>Полный день</td>\n",
       "      <td>От 3 до 6 лет</td>\n",
       "      <td>Полная занятость</td>\n",
       "      <td>NaN</td>\n",
       "      <td>NaN</td>\n",
       "      <td>47</td>\n",
       "      <td>1413754</td>\n",
       "    </tr>\n",
       "  </tbody>\n",
       "</table>\n",
       "</div>"
      ],
      "text/plain": [
       "         id                                               name  \\\n",
       "0  55312386                                Компьютерный Мастер   \n",
       "1  55843014                            Системный администратор   \n",
       "2  54525964                      Lead Java Developer to Poland   \n",
       "3  54525965                      Lead Java Developer to Poland   \n",
       "4  55354053  Специалист службы поддержки с техническими зна...   \n",
       "5  55906072                                          Корректор   \n",
       "6  55523207                   React Front-end Middle Developer   \n",
       "7  55050261                                Инженер-программист   \n",
       "8  55583432                            Системный администратор   \n",
       "9  55312414        Ведущий специалист группы разработки систем   \n",
       "\n",
       "                                          key_skills          schedule  \\\n",
       "0  Пользователь ПК\\tРабота в команде\\tРемонт ноут...       Полный день   \n",
       "1  Средства криптографической защиты информации\\t...       Полный день   \n",
       "2    Spring Framework\\tSQL\\tHibernate ORM\\tJava\\tGit  Удаленная работа   \n",
       "3    Spring Framework\\tSQL\\tHibernate ORM\\tJava\\tGit  Удаленная работа   \n",
       "4                                               None  Удаленная работа   \n",
       "5  Корректура текстов\\tГрамотность\\tРабота в кома...       Полный день   \n",
       "6       JavaScript\\tTypeScript\\tCSS3\\tNode.js\\tHTML5     Гибкий график   \n",
       "7  Java SE\\tSpring Framework\\tSpring Boot\\tGit\\tS...       Полный день   \n",
       "8  Linux\\tАдминистрирование сетевого оборудования...       Полный день   \n",
       "9  1С программирование\\t1С: Предприятие 8\\t1С: До...       Полный день   \n",
       "\n",
       "           experience           employment  salary_from  salary_to  area_id  \\\n",
       "0           Нет опыта     Полная занятость      64000.0        NaN     1516   \n",
       "1       От 3 до 6 лет     Полная занятость          NaN        NaN      130   \n",
       "2       От 3 до 6 лет     Полная занятость          NaN        NaN      160   \n",
       "3       От 3 до 6 лет     Полная занятость          NaN        NaN      159   \n",
       "4           Нет опыта  Частичная занятость      15000.0        NaN     1955   \n",
       "5           Нет опыта     Полная занятость          NaN        NaN     2323   \n",
       "6  От 1 года до 3 лет     Полная занятость          NaN        NaN     2759   \n",
       "7           Нет опыта     Полная занятость      40000.0    60000.0       49   \n",
       "8  От 1 года до 3 лет     Полная занятость      50000.0        NaN        3   \n",
       "9       От 3 до 6 лет     Полная занятость          NaN        NaN       47   \n",
       "\n",
       "   employer_id  \n",
       "0      5724811  \n",
       "1      4903713  \n",
       "2        69961  \n",
       "3        69961  \n",
       "4         1740  \n",
       "5       584934  \n",
       "6       204511  \n",
       "7      4448636  \n",
       "8        55126  \n",
       "9      1413754  "
      ]
     },
     "execution_count": 170,
     "metadata": {},
     "output_type": "execute_result"
    }
   ],
   "source": [
    "# df = pd.read_sql_query(query, connection)\n",
    "df = pd.read_sql_query(query, engine)\n",
    "connection.close()\n",
    "df"
   ]
  },
  {
   "cell_type": "markdown",
   "metadata": {},
   "source": [
    " <a name=\"anchor2\"></a>\n",
    "## Юнит 2. Введение. Знакомство с данными\n",
    "---"
   ]
  },
  {
   "cell_type": "markdown",
   "metadata": {},
   "source": [
    "Представьте, что вы устроились на работу в кадровое агентство, которое подбирает вакансии для IT-специалистов. Ваш первый проект — создание модели машинного обучения, которая будет рекомендовать вакансии клиентам агентства, претендующим на позицию Data Scientist. Сначала вам необходимо понять, что из себя представляют данные и насколько они соответствуют целям проекта. В литературе эта часть работы над ML-проектом называется Data Understanding, или анализ данных."
   ]
  },
  {
   "cell_type": "markdown",
   "metadata": {},
   "source": [
    "Наш проект включает в себя несколько этапов:\n",
    "\n",
    "* знакомство с данными;\n",
    "* предварительный анализ данных;\n",
    "* детальный анализ вакансий;\n",
    "* анализ работодателей;\n",
    "* предметный анализ."
   ]
  },
  {
   "cell_type": "markdown",
   "metadata": {},
   "source": [
    "Каждая из частей будет состоять из блока практических заданий, которые вам необходимо выполнить в своих Jupyter-ноутбуках, и контрольных вопросов на платформе, которые проверяются автоматически.\n",
    "\n",
    "Также вам предстоит отправить свой код ментору для код-ревью. Вам будет предоставлен ноутбук-шаблон и требования, согласно которым вы должны оформить своё решение."
   ]
  },
  {
   "cell_type": "markdown",
   "metadata": {},
   "source": [
    "Требования к оформлению ноутбука-решения:\n",
    "\n",
    "* Решение оформляется только в Jupyter Notebook.\n",
    "* Решение оформляется в соответствии с [ноутбуком-шаблоном](https://lms.skillfactory.ru/asset-v1:SkillFactory+DST-3.0+28FEB2021+type@asset+block@Project_2_%D0%9D%D0%BE%D1%83%D1%82%D0%B1%D1%83%D0%BA_%D1%88%D0%B0%D0%B1%D0%BB%D0%BE%D0%BD.ipynb).\n",
    "* Каждое задание выполняется в отдельной ячейке, выделенной под задание (в шаблоне они помечены как ваш код здесь). Не следует создавать много ячеек для решения задачи — это провоцирует неудобства при проверке.\n",
    "* Текст SQL-запросов и код на Python должны быть читаемыми. Не забывайте про отступы в SQL-коде.\n",
    "* Выводы по каждому этапу оформляются в формате Markdown в отдельной ячейке (в шаблоне они помечены как ваши выводы здесь).\n",
    "* Выводы можно дополнительно проиллюстрировать с помощью графиков. Они оформляются в соответствии с теми правилами, которые мы приводили в модуле по визуализации данных.\n",
    "* Не забудьте удалить ячейку с данными соединения перед фиксацией работы в GitHub.\n",
    "\n"
   ]
  },
  {
   "cell_type": "markdown",
   "metadata": {},
   "source": [
    "Все необходимые таблицы находятся в схеме public базы данных project_sql (именно эту базу вам необходимо указать в параметре dbname при подключении).\n",
    "\n",
    "То есть параметры подключения будут следующими: см. файл `config.ini`"
   ]
  },
  {
   "cell_type": "markdown",
   "metadata": {},
   "source": [
    "![](images/asset-v1%20SkillFactory+DST-3.0+28FEB2021+type@asset+block@SQL_pj2_2_1.png)"
   ]
  },
  {
   "cell_type": "markdown",
   "metadata": {},
   "source": [
    "Познакомимся с каждой таблицей."
   ]
  },
  {
   "cell_type": "markdown",
   "metadata": {},
   "source": [
    "vacancies\n",
    "\n",
    "![](images/asset-v1%20SkillFactory+DST-3.0+28FEB2021+type@asset+block@SQL_pj2_2_2.png)\n"
   ]
  },
  {
   "cell_type": "markdown",
   "metadata": {},
   "source": [
    "Зарплатная вилка — это верхняя и нижняя граница оплаты труда в рублях (зарплаты в других валютах уже переведены в рубли). Соискателям она показывает, в каком диапазоне компания готова платить сотруднику на этой должности."
   ]
  },
  {
   "cell_type": "markdown",
   "metadata": {},
   "source": [
    "areas\n",
    "\n",
    "Таблица-справочник, которая хранит код региона и его название.\n",
    "\n",
    "![](images/asset-v1%20SkillFactory+DST-3.0+28FEB2021+type@asset+block@SQL_pj2_2_3.png)"
   ]
  },
  {
   "cell_type": "markdown",
   "metadata": {},
   "source": [
    "employers\n",
    "\n",
    "Таблица-справочник со списком работодателей.\n",
    "\n",
    "![](images/asset-v1%20SkillFactory+DST-3.0+28FEB2021+type@asset+block@SQL_pj2_2_4.png)"
   ]
  },
  {
   "cell_type": "markdown",
   "metadata": {},
   "source": [
    "industries\n",
    "\n",
    "Таблица-справочник вариантов сфер деятельности работодателей.\n",
    "\n",
    "![](images/asset-v1%20SkillFactory+DST-3.0+28FEB2021+type@asset+block@SQL_pj2_2_5.png)"
   ]
  },
  {
   "cell_type": "markdown",
   "metadata": {},
   "source": [
    "employers_industries\n",
    "\n",
    "Дополнительная таблица, которая существует для организации связи между работодателями и сферами их деятельности.\n",
    "\n",
    "Эта таблица нужна нам, поскольку у одного работодателя может быть несколько сфер деятельности (или работодатели могут вовсе не указать их). Для удобства анализа необходимо хранить запись по каждой сфере каждого работодателя в отдельной строке таблицы.\n",
    "\n",
    "![](images/asset-v1%20SkillFactory+DST-3.0+28FEB2021+type@asset+block@SQL_pj2_2_6.png)"
   ]
  },
  {
   "cell_type": "markdown",
   "metadata": {},
   "source": [
    "<a name=\"anchor3\"></a>\n",
    "## Юнит 3. Предварительный анализ данных\n",
    "---"
   ]
  },
  {
   "cell_type": "markdown",
   "metadata": {},
   "source": [
    "### Задание 3.1"
   ]
  },
  {
   "cell_type": "markdown",
   "metadata": {},
   "source": [
    "> 1. Напишите запрос, который посчитает количество вакансий в нашей базе (вакансии находятся в таблице vacancies). "
   ]
  },
  {
   "cell_type": "code",
   "execution_count": 152,
   "metadata": {},
   "outputs": [],
   "source": [
    "# текст запроса\n",
    "query = f'''\n",
    "   SELECT count(*)\n",
    "     FROM vacancies\n",
    "'''\n",
    "\n",
    "# df = pd.read_sql_query(query, connection)\n",
    "df = pd.read_sql_query(query, engine)"
   ]
  },
  {
   "cell_type": "code",
   "execution_count": 153,
   "metadata": {},
   "outputs": [
    {
     "data": {
      "text/html": [
       "<p style='font-size:25px;'>Ответ (3.1)<br><br>В базе содержится 49197 вакансий.</p>"
      ],
      "text/plain": [
       "<IPython.core.display.HTML object>"
      ]
     },
     "metadata": {},
     "output_type": "display_data"
    }
   ],
   "source": [
    "# результат запроса\n",
    "text = f\"<p style='font-size:25px;'>Ответ (3.1)<br><br>В базе содержится {df.iloc[0, 0]} вакансий.</p>\"\n",
    "display(HTML(text))"
   ]
  },
  {
   "cell_type": "markdown",
   "metadata": {},
   "source": [
    "### Задание 3.2"
   ]
  },
  {
   "cell_type": "markdown",
   "metadata": {},
   "source": [
    "> 2. Напишите запрос, который посчитает количество работодателей (таблица employers). "
   ]
  },
  {
   "cell_type": "code",
   "execution_count": 101,
   "metadata": {},
   "outputs": [],
   "source": [
    "# текст запроса\n",
    "query = f'''\n",
    "   SELECT count(*)\n",
    "     FROM employers\n",
    "'''\n",
    "# df = pd.read_sql_query(query, connection)\n",
    "df = pd.read_sql_query(query, engine)"
   ]
  },
  {
   "cell_type": "code",
   "execution_count": 102,
   "metadata": {},
   "outputs": [
    {
     "data": {
      "text/html": [
       "<p style='font-size:25px;'>Ответ (3.2)<br><br>В базе содержится 23501 работодателей.</p>"
      ],
      "text/plain": [
       "<IPython.core.display.HTML object>"
      ]
     },
     "metadata": {},
     "output_type": "display_data"
    }
   ],
   "source": [
    "# результат запроса\n",
    "text = f\"<p style='font-size:25px;'>Ответ (3.2)<br><br>В базе содержится {df.iloc[0, 0]} работодателей.</p>\"\n",
    "display(HTML(text))"
   ]
  },
  {
   "cell_type": "markdown",
   "metadata": {},
   "source": [
    "### Задание 3.3"
   ]
  },
  {
   "cell_type": "markdown",
   "metadata": {},
   "source": [
    "> 3. Посчитате с помощью запроса количество регионов (таблица areas)."
   ]
  },
  {
   "cell_type": "code",
   "execution_count": 99,
   "metadata": {},
   "outputs": [],
   "source": [
    "# текст запроса\n",
    "query = f'''\n",
    "   SELECT count(*)\n",
    "     FROM areas\n",
    "'''\n",
    "# df = pd.read_sql_query(query, connection)\n",
    "df = pd.read_sql_query(query, engine)"
   ]
  },
  {
   "cell_type": "code",
   "execution_count": 100,
   "metadata": {},
   "outputs": [
    {
     "data": {
      "text/html": [
       "<p style='font-size:25px;'>Ответ (3.3)<br><br>В базе содержится 1362 региона.</p>"
      ],
      "text/plain": [
       "<IPython.core.display.HTML object>"
      ]
     },
     "metadata": {},
     "output_type": "display_data"
    }
   ],
   "source": [
    "# результат запроса\n",
    "text = f\"<p style='font-size:25px;'>Ответ (3.3)<br><br>В базе содержится {df.iloc[0, 0]} региона.</p>\"\n",
    "display(HTML(text))"
   ]
  },
  {
   "cell_type": "markdown",
   "metadata": {},
   "source": [
    "### Задание 3.4"
   ]
  },
  {
   "cell_type": "markdown",
   "metadata": {},
   "source": [
    "> 4. Посчитате с помощью запроса количество сфер деятельности в базе (таблица industries)."
   ]
  },
  {
   "cell_type": "code",
   "execution_count": 97,
   "metadata": {},
   "outputs": [],
   "source": [
    "# текст запроса\n",
    "query = f'''\n",
    "   SELECT count(*)\n",
    "     FROM industries\n",
    "'''\n",
    "# df = pd.read_sql_query(query, connection)7\n",
    "df = pd.read_sql_query(query, engine)"
   ]
  },
  {
   "cell_type": "code",
   "execution_count": 98,
   "metadata": {},
   "outputs": [
    {
     "data": {
      "text/html": [
       "<p style='font-size:25px;'>Ответ (3.4)<br><br>В базе содержится 294 сферы деятельности.</p>"
      ],
      "text/plain": [
       "<IPython.core.display.HTML object>"
      ]
     },
     "metadata": {},
     "output_type": "display_data"
    }
   ],
   "source": [
    "# результат запроса\n",
    "text = f\"<p style='font-size:25px;'>Ответ (3.4)<br><br>В базе содержится {df.iloc[0, 0]} сферы деятельности.</p>\"\n",
    "display(HTML(text))"
   ]
  },
  {
   "cell_type": "markdown",
   "metadata": {},
   "source": [
    "<a name=\"anchor4\"></a>\n",
    "## Юнит 4. Детальный анализ ваканский\n",
    "---"
   ]
  },
  {
   "cell_type": "markdown",
   "metadata": {},
   "source": [
    "### Задание 4.1"
   ]
  },
  {
   "cell_type": "markdown",
   "metadata": {},
   "source": [
    "> 1. Напишите запрос, который позволит узнать, сколько (cnt) вакансий в каждом регионе (area).\n",
    "Отсортируйте по количеству вакансий в порядке убывания."
   ]
  },
  {
   "cell_type": "code",
   "execution_count": 94,
   "metadata": {},
   "outputs": [],
   "source": [
    "# текст запроса\n",
    "query = f'''\n",
    "   SELECT a.name AS area,\n",
    "          count(v.id) AS cnt\n",
    "     FROM areas AS a\n",
    "     JOIN vacancies AS v ON a.id = v.area_id\n",
    " GROUP BY a.id\n",
    " ORDER BY 2 DESC\n",
    "    LIMIT 5\n",
    "'''\n",
    "# df = pd.read_sql_query(query, connection)\n",
    "df = pd.read_sql_query(query, engine)"
   ]
  },
  {
   "cell_type": "code",
   "execution_count": 95,
   "metadata": {},
   "outputs": [
    {
     "data": {
      "text/html": [
       "<p style='font-size:25px;'>Ответ (4.1)<br><br>Количество вакансий по регионам (5-ка лидеров)</p>"
      ],
      "text/plain": [
       "<IPython.core.display.HTML object>"
      ]
     },
     "metadata": {},
     "output_type": "display_data"
    },
    {
     "data": {
      "application/vnd.microsoft.datawrangler.viewer.v0+json": {
       "columns": [
        {
         "name": "index",
         "rawType": "int64",
         "type": "integer"
        },
        {
         "name": "area",
         "rawType": "object",
         "type": "string"
        },
        {
         "name": "cnt",
         "rawType": "int64",
         "type": "integer"
        }
       ],
       "conversionMethod": "pd.DataFrame",
       "ref": "97027c5d-32fb-4b25-aa40-a3f0077e60b0",
       "rows": [
        [
         "0",
         "Москва",
         "5333"
        ],
        [
         "1",
         "Санкт-Петербург",
         "2851"
        ],
        [
         "2",
         "Минск",
         "2112"
        ],
        [
         "3",
         "Новосибирск",
         "2006"
        ],
        [
         "4",
         "Алматы",
         "1892"
        ]
       ],
       "shape": {
        "columns": 2,
        "rows": 5
       }
      },
      "text/html": [
       "<div>\n",
       "<style scoped>\n",
       "    .dataframe tbody tr th:only-of-type {\n",
       "        vertical-align: middle;\n",
       "    }\n",
       "\n",
       "    .dataframe tbody tr th {\n",
       "        vertical-align: top;\n",
       "    }\n",
       "\n",
       "    .dataframe thead th {\n",
       "        text-align: right;\n",
       "    }\n",
       "</style>\n",
       "<table border=\"1\" class=\"dataframe\">\n",
       "  <thead>\n",
       "    <tr style=\"text-align: right;\">\n",
       "      <th></th>\n",
       "      <th>area</th>\n",
       "      <th>cnt</th>\n",
       "    </tr>\n",
       "  </thead>\n",
       "  <tbody>\n",
       "    <tr>\n",
       "      <th>0</th>\n",
       "      <td>Москва</td>\n",
       "      <td>5333</td>\n",
       "    </tr>\n",
       "    <tr>\n",
       "      <th>1</th>\n",
       "      <td>Санкт-Петербург</td>\n",
       "      <td>2851</td>\n",
       "    </tr>\n",
       "    <tr>\n",
       "      <th>2</th>\n",
       "      <td>Минск</td>\n",
       "      <td>2112</td>\n",
       "    </tr>\n",
       "    <tr>\n",
       "      <th>3</th>\n",
       "      <td>Новосибирск</td>\n",
       "      <td>2006</td>\n",
       "    </tr>\n",
       "    <tr>\n",
       "      <th>4</th>\n",
       "      <td>Алматы</td>\n",
       "      <td>1892</td>\n",
       "    </tr>\n",
       "  </tbody>\n",
       "</table>\n",
       "</div>"
      ],
      "text/plain": [
       "              area   cnt\n",
       "0           Москва  5333\n",
       "1  Санкт-Петербург  2851\n",
       "2            Минск  2112\n",
       "3      Новосибирск  2006\n",
       "4           Алматы  1892"
      ]
     },
     "metadata": {},
     "output_type": "display_data"
    }
   ],
   "source": [
    "text = f\"<p style='font-size:25px;'>Ответ (4.1)<br><br>Количество вакансий по регионам (5-ка лидеров)</p>\"\n",
    "display(HTML(text))\n",
    "display(df)"
   ]
  },
  {
   "cell_type": "markdown",
   "metadata": {},
   "source": [
    "### Задание 4.2"
   ]
  },
  {
   "cell_type": "markdown",
   "metadata": {},
   "source": [
    "> 2. Напишите запрос, чтобы определить у какого количества вакансий заполнено хотя бы одно из двух полей с зарплатой."
   ]
  },
  {
   "cell_type": "code",
   "execution_count": 91,
   "metadata": {},
   "outputs": [],
   "source": [
    "# текст запроса\n",
    "query = f'''\n",
    "   SELECT count(*)\n",
    "     FROM vacancies AS v\n",
    "    WHERE v.salary_from IS NOT NULL\n",
    "       OR v.salary_to IS NOT NULL\n",
    "'''\n",
    "# df = pd.read_sql_query(query, connection)\n",
    "df = pd.read_sql_query(query, engine)"
   ]
  },
  {
   "cell_type": "code",
   "execution_count": null,
   "metadata": {},
   "outputs": [
    {
     "data": {
      "text/html": [
       "<p style='font-size:25px;'>Ответ (4.2)<br><br>Количество вакансий, где заполнено хотя бы одно из полей с зарплатой, составляет 24073.</p>"
      ],
      "text/plain": [
       "<IPython.core.display.HTML object>"
      ]
     },
     "metadata": {},
     "output_type": "display_data"
    }
   ],
   "source": [
    "text = (\n",
    "    f\"<p style='font-size:25px;'>Ответ (4.2)<br><br>\"\n",
    "    f\"Количество вакансий, где заполнено хотя бы одно из полей с зарплатой, составляет {df.iloc[0, 0]}.</p>\"\n",
    ")\n",
    "display(HTML(text))"
   ]
  },
  {
   "cell_type": "markdown",
   "metadata": {},
   "source": [
    "### Задание 4.3"
   ]
  },
  {
   "cell_type": "markdown",
   "metadata": {},
   "source": [
    "> 3. Найдите средние значения для нижней и верхней границы зарплатной вилки. Округлите значения до целого."
   ]
  },
  {
   "cell_type": "code",
   "execution_count": 21,
   "metadata": {},
   "outputs": [],
   "source": [
    "# текст запроса\n",
    "query = f'''\n",
    "   SELECT round(avg(salary_from))\n",
    "     FROM vacancies\n",
    "'''\n",
    "# mean_salary_from = int(pd.read_sql_query(query, connection).iloc[0, 0])\n",
    "mean_salary_from = int(pd.read_sql_query(query, engine).iloc[0, 0])\n",
    "\n",
    "query = f'''\n",
    "   SELECT round(avg(salary_to))\n",
    "     FROM vacancies\n",
    "'''\n",
    "# mean_salary_to = int(pd.read_sql_query(query, connection).iloc[0, 0])\n",
    "mean_salary_to = int(pd.read_sql_query(query, engine).iloc[0, 0])"
   ]
  },
  {
   "cell_type": "code",
   "execution_count": 81,
   "metadata": {},
   "outputs": [
    {
     "data": {
      "text/html": [
       "<p style='font-size:25px;'>Ответ (4.3)</p>"
      ],
      "text/plain": [
       "<IPython.core.display.HTML object>"
      ]
     },
     "metadata": {},
     "output_type": "display_data"
    },
    {
     "name": "stdout",
     "output_type": "stream",
     "text": [
      "Среднее значение зарплаты:\n",
      "    • для нижней границы составляет 71 065 ₽;\n",
      "    • для верхней границы составляет 110 537 ₽.\n"
     ]
    }
   ],
   "source": [
    "text = f\"<p style='font-size:25px;'>Ответ (4.3)</p>\"\n",
    "display(HTML(text))\n",
    "print(\"Среднее значение зарплаты:\")\n",
    "print(f\"    \\u2022 для нижней границы составляет {mean_salary_from:,} \\u20BD;\".replace(\",\", \" \"))\n",
    "print(f\"    \\u2022 для верхней границы составляет {mean_salary_to:,} \\u20BD.\".replace(\",\", \" \"))"
   ]
  },
  {
   "cell_type": "markdown",
   "metadata": {},
   "source": [
    "### Задание 4.4"
   ]
  },
  {
   "cell_type": "markdown",
   "metadata": {},
   "source": [
    "> 4. Напишите запрос, который выведет количество вакансий для каждого сочетания типа рабочего графика (schedule) и типа трудоустройства (employment), используемого в вакансиях. Результат отсортируйте по убыванию количества.\n"
   ]
  },
  {
   "cell_type": "code",
   "execution_count": 172,
   "metadata": {},
   "outputs": [
    {
     "ename": "OperationalError",
     "evalue": "(psycopg2.OperationalError) server closed the connection unexpectedly\n\tThis probably means the server terminated abnormally\n\tbefore or while processing the request.\n\n[SQL: \n   SELECT schedule,\n          employment,\n          count(*)\n     FROM vacancies\n GROUP BY schedule,\n          employment\n ORDER BY 3 DESC\n]\n(Background on this error at: https://sqlalche.me/e/20/e3q8)",
     "output_type": "error",
     "traceback": [
      "\u001b[31m---------------------------------------------------------------------------\u001b[39m",
      "\u001b[31mOperationalError\u001b[39m                          Traceback (most recent call last)",
      "\u001b[36mFile \u001b[39m\u001b[32m~/IDE/.conda/lib/python3.12/site-packages/sqlalchemy/engine/base.py:1964\u001b[39m, in \u001b[36mConnection._exec_single_context\u001b[39m\u001b[34m(self, dialect, context, statement, parameters)\u001b[39m\n\u001b[32m   1963\u001b[39m     \u001b[38;5;28;01mif\u001b[39;00m \u001b[38;5;129;01mnot\u001b[39;00m evt_handled:\n\u001b[32m-> \u001b[39m\u001b[32m1964\u001b[39m         \u001b[38;5;28;43mself\u001b[39;49m\u001b[43m.\u001b[49m\u001b[43mdialect\u001b[49m\u001b[43m.\u001b[49m\u001b[43mdo_execute\u001b[49m\u001b[43m(\u001b[49m\n\u001b[32m   1965\u001b[39m \u001b[43m            \u001b[49m\u001b[43mcursor\u001b[49m\u001b[43m,\u001b[49m\u001b[43m \u001b[49m\u001b[43mstr_statement\u001b[49m\u001b[43m,\u001b[49m\u001b[43m \u001b[49m\u001b[43meffective_parameters\u001b[49m\u001b[43m,\u001b[49m\u001b[43m \u001b[49m\u001b[43mcontext\u001b[49m\n\u001b[32m   1966\u001b[39m \u001b[43m        \u001b[49m\u001b[43m)\u001b[49m\n\u001b[32m   1968\u001b[39m \u001b[38;5;28;01mif\u001b[39;00m \u001b[38;5;28mself\u001b[39m._has_events \u001b[38;5;129;01mor\u001b[39;00m \u001b[38;5;28mself\u001b[39m.engine._has_events:\n",
      "\u001b[36mFile \u001b[39m\u001b[32m~/IDE/.conda/lib/python3.12/site-packages/sqlalchemy/engine/default.py:945\u001b[39m, in \u001b[36mDefaultDialect.do_execute\u001b[39m\u001b[34m(self, cursor, statement, parameters, context)\u001b[39m\n\u001b[32m    944\u001b[39m \u001b[38;5;28;01mdef\u001b[39;00m\u001b[38;5;250m \u001b[39m\u001b[34mdo_execute\u001b[39m(\u001b[38;5;28mself\u001b[39m, cursor, statement, parameters, context=\u001b[38;5;28;01mNone\u001b[39;00m):\n\u001b[32m--> \u001b[39m\u001b[32m945\u001b[39m     \u001b[43mcursor\u001b[49m\u001b[43m.\u001b[49m\u001b[43mexecute\u001b[49m\u001b[43m(\u001b[49m\u001b[43mstatement\u001b[49m\u001b[43m,\u001b[49m\u001b[43m \u001b[49m\u001b[43mparameters\u001b[49m\u001b[43m)\u001b[49m\n",
      "\u001b[31mOperationalError\u001b[39m: server closed the connection unexpectedly\n\tThis probably means the server terminated abnormally\n\tbefore or while processing the request.\n",
      "\nThe above exception was the direct cause of the following exception:\n",
      "\u001b[31mOperationalError\u001b[39m                          Traceback (most recent call last)",
      "\u001b[36mCell\u001b[39m\u001b[36m \u001b[39m\u001b[32mIn[172]\u001b[39m\u001b[32m, line 11\u001b[39m\n\u001b[32m      1\u001b[39m query = \u001b[33mf\u001b[39m\u001b[33m'''\u001b[39m\n\u001b[32m      2\u001b[39m \u001b[33m   SELECT schedule,\u001b[39m\n\u001b[32m      3\u001b[39m \u001b[33m          employment,\u001b[39m\n\u001b[32m   (...)\u001b[39m\u001b[32m      8\u001b[39m \u001b[33m ORDER BY 3 DESC\u001b[39m\n\u001b[32m      9\u001b[39m \u001b[33m'''\u001b[39m\n\u001b[32m     10\u001b[39m \u001b[38;5;66;03m# df = pd.read_sql_query(query, connection)\u001b[39;00m\n\u001b[32m---> \u001b[39m\u001b[32m11\u001b[39m df = \u001b[43mpd\u001b[49m\u001b[43m.\u001b[49m\u001b[43mread_sql_query\u001b[49m\u001b[43m(\u001b[49m\u001b[43mquery\u001b[49m\u001b[43m,\u001b[49m\u001b[43m \u001b[49m\u001b[43mengine\u001b[49m\u001b[43m)\u001b[49m\n",
      "\u001b[36mFile \u001b[39m\u001b[32m~/IDE/.conda/lib/python3.12/site-packages/pandas/io/sql.py:526\u001b[39m, in \u001b[36mread_sql_query\u001b[39m\u001b[34m(sql, con, index_col, coerce_float, params, parse_dates, chunksize, dtype, dtype_backend)\u001b[39m\n\u001b[32m    523\u001b[39m \u001b[38;5;28;01massert\u001b[39;00m dtype_backend \u001b[38;5;129;01mis\u001b[39;00m \u001b[38;5;129;01mnot\u001b[39;00m lib.no_default\n\u001b[32m    525\u001b[39m \u001b[38;5;28;01mwith\u001b[39;00m pandasSQL_builder(con) \u001b[38;5;28;01mas\u001b[39;00m pandas_sql:\n\u001b[32m--> \u001b[39m\u001b[32m526\u001b[39m     \u001b[38;5;28;01mreturn\u001b[39;00m \u001b[43mpandas_sql\u001b[49m\u001b[43m.\u001b[49m\u001b[43mread_query\u001b[49m\u001b[43m(\u001b[49m\n\u001b[32m    527\u001b[39m \u001b[43m        \u001b[49m\u001b[43msql\u001b[49m\u001b[43m,\u001b[49m\n\u001b[32m    528\u001b[39m \u001b[43m        \u001b[49m\u001b[43mindex_col\u001b[49m\u001b[43m=\u001b[49m\u001b[43mindex_col\u001b[49m\u001b[43m,\u001b[49m\n\u001b[32m    529\u001b[39m \u001b[43m        \u001b[49m\u001b[43mparams\u001b[49m\u001b[43m=\u001b[49m\u001b[43mparams\u001b[49m\u001b[43m,\u001b[49m\n\u001b[32m    530\u001b[39m \u001b[43m        \u001b[49m\u001b[43mcoerce_float\u001b[49m\u001b[43m=\u001b[49m\u001b[43mcoerce_float\u001b[49m\u001b[43m,\u001b[49m\n\u001b[32m    531\u001b[39m \u001b[43m        \u001b[49m\u001b[43mparse_dates\u001b[49m\u001b[43m=\u001b[49m\u001b[43mparse_dates\u001b[49m\u001b[43m,\u001b[49m\n\u001b[32m    532\u001b[39m \u001b[43m        \u001b[49m\u001b[43mchunksize\u001b[49m\u001b[43m=\u001b[49m\u001b[43mchunksize\u001b[49m\u001b[43m,\u001b[49m\n\u001b[32m    533\u001b[39m \u001b[43m        \u001b[49m\u001b[43mdtype\u001b[49m\u001b[43m=\u001b[49m\u001b[43mdtype\u001b[49m\u001b[43m,\u001b[49m\n\u001b[32m    534\u001b[39m \u001b[43m        \u001b[49m\u001b[43mdtype_backend\u001b[49m\u001b[43m=\u001b[49m\u001b[43mdtype_backend\u001b[49m\u001b[43m,\u001b[49m\n\u001b[32m    535\u001b[39m \u001b[43m    \u001b[49m\u001b[43m)\u001b[49m\n",
      "\u001b[36mFile \u001b[39m\u001b[32m~/IDE/.conda/lib/python3.12/site-packages/pandas/io/sql.py:1836\u001b[39m, in \u001b[36mSQLDatabase.read_query\u001b[39m\u001b[34m(self, sql, index_col, coerce_float, parse_dates, params, chunksize, dtype, dtype_backend)\u001b[39m\n\u001b[32m   1779\u001b[39m \u001b[38;5;28;01mdef\u001b[39;00m\u001b[38;5;250m \u001b[39m\u001b[34mread_query\u001b[39m(\n\u001b[32m   1780\u001b[39m     \u001b[38;5;28mself\u001b[39m,\n\u001b[32m   1781\u001b[39m     sql: \u001b[38;5;28mstr\u001b[39m,\n\u001b[32m   (...)\u001b[39m\u001b[32m   1788\u001b[39m     dtype_backend: DtypeBackend | Literal[\u001b[33m\"\u001b[39m\u001b[33mnumpy\u001b[39m\u001b[33m\"\u001b[39m] = \u001b[33m\"\u001b[39m\u001b[33mnumpy\u001b[39m\u001b[33m\"\u001b[39m,\n\u001b[32m   1789\u001b[39m ) -> DataFrame | Iterator[DataFrame]:\n\u001b[32m   1790\u001b[39m \u001b[38;5;250m    \u001b[39m\u001b[33;03m\"\"\"\u001b[39;00m\n\u001b[32m   1791\u001b[39m \u001b[33;03m    Read SQL query into a DataFrame.\u001b[39;00m\n\u001b[32m   1792\u001b[39m \n\u001b[32m   (...)\u001b[39m\u001b[32m   1834\u001b[39m \n\u001b[32m   1835\u001b[39m \u001b[33;03m    \"\"\"\u001b[39;00m\n\u001b[32m-> \u001b[39m\u001b[32m1836\u001b[39m     result = \u001b[38;5;28;43mself\u001b[39;49m\u001b[43m.\u001b[49m\u001b[43mexecute\u001b[49m\u001b[43m(\u001b[49m\u001b[43msql\u001b[49m\u001b[43m,\u001b[49m\u001b[43m \u001b[49m\u001b[43mparams\u001b[49m\u001b[43m)\u001b[49m\n\u001b[32m   1837\u001b[39m     columns = result.keys()\n\u001b[32m   1839\u001b[39m     \u001b[38;5;28;01mif\u001b[39;00m chunksize \u001b[38;5;129;01mis\u001b[39;00m \u001b[38;5;129;01mnot\u001b[39;00m \u001b[38;5;28;01mNone\u001b[39;00m:\n",
      "\u001b[36mFile \u001b[39m\u001b[32m~/IDE/.conda/lib/python3.12/site-packages/pandas/io/sql.py:1659\u001b[39m, in \u001b[36mSQLDatabase.execute\u001b[39m\u001b[34m(self, sql, params)\u001b[39m\n\u001b[32m   1657\u001b[39m args = [] \u001b[38;5;28;01mif\u001b[39;00m params \u001b[38;5;129;01mis\u001b[39;00m \u001b[38;5;28;01mNone\u001b[39;00m \u001b[38;5;28;01melse\u001b[39;00m [params]\n\u001b[32m   1658\u001b[39m \u001b[38;5;28;01mif\u001b[39;00m \u001b[38;5;28misinstance\u001b[39m(sql, \u001b[38;5;28mstr\u001b[39m):\n\u001b[32m-> \u001b[39m\u001b[32m1659\u001b[39m     \u001b[38;5;28;01mreturn\u001b[39;00m \u001b[38;5;28;43mself\u001b[39;49m\u001b[43m.\u001b[49m\u001b[43mcon\u001b[49m\u001b[43m.\u001b[49m\u001b[43mexec_driver_sql\u001b[49m\u001b[43m(\u001b[49m\u001b[43msql\u001b[49m\u001b[43m,\u001b[49m\u001b[43m \u001b[49m\u001b[43m*\u001b[49m\u001b[43margs\u001b[49m\u001b[43m)\u001b[49m\n\u001b[32m   1660\u001b[39m \u001b[38;5;28;01mreturn\u001b[39;00m \u001b[38;5;28mself\u001b[39m.con.execute(sql, *args)\n",
      "\u001b[36mFile \u001b[39m\u001b[32m~/IDE/.conda/lib/python3.12/site-packages/sqlalchemy/engine/base.py:1776\u001b[39m, in \u001b[36mConnection.exec_driver_sql\u001b[39m\u001b[34m(self, statement, parameters, execution_options)\u001b[39m\n\u001b[32m   1771\u001b[39m execution_options = \u001b[38;5;28mself\u001b[39m._execution_options.merge_with(\n\u001b[32m   1772\u001b[39m     execution_options\n\u001b[32m   1773\u001b[39m )\n\u001b[32m   1775\u001b[39m dialect = \u001b[38;5;28mself\u001b[39m.dialect\n\u001b[32m-> \u001b[39m\u001b[32m1776\u001b[39m ret = \u001b[38;5;28;43mself\u001b[39;49m\u001b[43m.\u001b[49m\u001b[43m_execute_context\u001b[49m\u001b[43m(\u001b[49m\n\u001b[32m   1777\u001b[39m \u001b[43m    \u001b[49m\u001b[43mdialect\u001b[49m\u001b[43m,\u001b[49m\n\u001b[32m   1778\u001b[39m \u001b[43m    \u001b[49m\u001b[43mdialect\u001b[49m\u001b[43m.\u001b[49m\u001b[43mexecution_ctx_cls\u001b[49m\u001b[43m.\u001b[49m\u001b[43m_init_statement\u001b[49m\u001b[43m,\u001b[49m\n\u001b[32m   1779\u001b[39m \u001b[43m    \u001b[49m\u001b[43mstatement\u001b[49m\u001b[43m,\u001b[49m\n\u001b[32m   1780\u001b[39m \u001b[43m    \u001b[49m\u001b[38;5;28;43;01mNone\u001b[39;49;00m\u001b[43m,\u001b[49m\n\u001b[32m   1781\u001b[39m \u001b[43m    \u001b[49m\u001b[43mexecution_options\u001b[49m\u001b[43m,\u001b[49m\n\u001b[32m   1782\u001b[39m \u001b[43m    \u001b[49m\u001b[43mstatement\u001b[49m\u001b[43m,\u001b[49m\n\u001b[32m   1783\u001b[39m \u001b[43m    \u001b[49m\u001b[43mdistilled_parameters\u001b[49m\u001b[43m,\u001b[49m\n\u001b[32m   1784\u001b[39m \u001b[43m\u001b[49m\u001b[43m)\u001b[49m\n\u001b[32m   1786\u001b[39m \u001b[38;5;28;01mreturn\u001b[39;00m ret\n",
      "\u001b[36mFile \u001b[39m\u001b[32m~/IDE/.conda/lib/python3.12/site-packages/sqlalchemy/engine/base.py:1843\u001b[39m, in \u001b[36mConnection._execute_context\u001b[39m\u001b[34m(self, dialect, constructor, statement, parameters, execution_options, *args, **kw)\u001b[39m\n\u001b[32m   1841\u001b[39m     \u001b[38;5;28;01mreturn\u001b[39;00m \u001b[38;5;28mself\u001b[39m._exec_insertmany_context(dialect, context)\n\u001b[32m   1842\u001b[39m \u001b[38;5;28;01melse\u001b[39;00m:\n\u001b[32m-> \u001b[39m\u001b[32m1843\u001b[39m     \u001b[38;5;28;01mreturn\u001b[39;00m \u001b[38;5;28;43mself\u001b[39;49m\u001b[43m.\u001b[49m\u001b[43m_exec_single_context\u001b[49m\u001b[43m(\u001b[49m\n\u001b[32m   1844\u001b[39m \u001b[43m        \u001b[49m\u001b[43mdialect\u001b[49m\u001b[43m,\u001b[49m\u001b[43m \u001b[49m\u001b[43mcontext\u001b[49m\u001b[43m,\u001b[49m\u001b[43m \u001b[49m\u001b[43mstatement\u001b[49m\u001b[43m,\u001b[49m\u001b[43m \u001b[49m\u001b[43mparameters\u001b[49m\n\u001b[32m   1845\u001b[39m \u001b[43m    \u001b[49m\u001b[43m)\u001b[49m\n",
      "\u001b[36mFile \u001b[39m\u001b[32m~/IDE/.conda/lib/python3.12/site-packages/sqlalchemy/engine/base.py:1983\u001b[39m, in \u001b[36mConnection._exec_single_context\u001b[39m\u001b[34m(self, dialect, context, statement, parameters)\u001b[39m\n\u001b[32m   1980\u001b[39m     result = context._setup_result_proxy()\n\u001b[32m   1982\u001b[39m \u001b[38;5;28;01mexcept\u001b[39;00m \u001b[38;5;167;01mBaseException\u001b[39;00m \u001b[38;5;28;01mas\u001b[39;00m e:\n\u001b[32m-> \u001b[39m\u001b[32m1983\u001b[39m     \u001b[38;5;28;43mself\u001b[39;49m\u001b[43m.\u001b[49m\u001b[43m_handle_dbapi_exception\u001b[49m\u001b[43m(\u001b[49m\n\u001b[32m   1984\u001b[39m \u001b[43m        \u001b[49m\u001b[43me\u001b[49m\u001b[43m,\u001b[49m\u001b[43m \u001b[49m\u001b[43mstr_statement\u001b[49m\u001b[43m,\u001b[49m\u001b[43m \u001b[49m\u001b[43meffective_parameters\u001b[49m\u001b[43m,\u001b[49m\u001b[43m \u001b[49m\u001b[43mcursor\u001b[49m\u001b[43m,\u001b[49m\u001b[43m \u001b[49m\u001b[43mcontext\u001b[49m\n\u001b[32m   1985\u001b[39m \u001b[43m    \u001b[49m\u001b[43m)\u001b[49m\n\u001b[32m   1987\u001b[39m \u001b[38;5;28;01mreturn\u001b[39;00m result\n",
      "\u001b[36mFile \u001b[39m\u001b[32m~/IDE/.conda/lib/python3.12/site-packages/sqlalchemy/engine/base.py:2352\u001b[39m, in \u001b[36mConnection._handle_dbapi_exception\u001b[39m\u001b[34m(self, e, statement, parameters, cursor, context, is_sub_exec)\u001b[39m\n\u001b[32m   2350\u001b[39m \u001b[38;5;28;01melif\u001b[39;00m should_wrap:\n\u001b[32m   2351\u001b[39m     \u001b[38;5;28;01massert\u001b[39;00m sqlalchemy_exception \u001b[38;5;129;01mis\u001b[39;00m \u001b[38;5;129;01mnot\u001b[39;00m \u001b[38;5;28;01mNone\u001b[39;00m\n\u001b[32m-> \u001b[39m\u001b[32m2352\u001b[39m     \u001b[38;5;28;01mraise\u001b[39;00m sqlalchemy_exception.with_traceback(exc_info[\u001b[32m2\u001b[39m]) \u001b[38;5;28;01mfrom\u001b[39;00m\u001b[38;5;250m \u001b[39m\u001b[34;01me\u001b[39;00m\n\u001b[32m   2353\u001b[39m \u001b[38;5;28;01melse\u001b[39;00m:\n\u001b[32m   2354\u001b[39m     \u001b[38;5;28;01massert\u001b[39;00m exc_info[\u001b[32m1\u001b[39m] \u001b[38;5;129;01mis\u001b[39;00m \u001b[38;5;129;01mnot\u001b[39;00m \u001b[38;5;28;01mNone\u001b[39;00m\n",
      "\u001b[36mFile \u001b[39m\u001b[32m~/IDE/.conda/lib/python3.12/site-packages/sqlalchemy/engine/base.py:1964\u001b[39m, in \u001b[36mConnection._exec_single_context\u001b[39m\u001b[34m(self, dialect, context, statement, parameters)\u001b[39m\n\u001b[32m   1962\u001b[39m                 \u001b[38;5;28;01mbreak\u001b[39;00m\n\u001b[32m   1963\u001b[39m     \u001b[38;5;28;01mif\u001b[39;00m \u001b[38;5;129;01mnot\u001b[39;00m evt_handled:\n\u001b[32m-> \u001b[39m\u001b[32m1964\u001b[39m         \u001b[38;5;28;43mself\u001b[39;49m\u001b[43m.\u001b[49m\u001b[43mdialect\u001b[49m\u001b[43m.\u001b[49m\u001b[43mdo_execute\u001b[49m\u001b[43m(\u001b[49m\n\u001b[32m   1965\u001b[39m \u001b[43m            \u001b[49m\u001b[43mcursor\u001b[49m\u001b[43m,\u001b[49m\u001b[43m \u001b[49m\u001b[43mstr_statement\u001b[49m\u001b[43m,\u001b[49m\u001b[43m \u001b[49m\u001b[43meffective_parameters\u001b[49m\u001b[43m,\u001b[49m\u001b[43m \u001b[49m\u001b[43mcontext\u001b[49m\n\u001b[32m   1966\u001b[39m \u001b[43m        \u001b[49m\u001b[43m)\u001b[49m\n\u001b[32m   1968\u001b[39m \u001b[38;5;28;01mif\u001b[39;00m \u001b[38;5;28mself\u001b[39m._has_events \u001b[38;5;129;01mor\u001b[39;00m \u001b[38;5;28mself\u001b[39m.engine._has_events:\n\u001b[32m   1969\u001b[39m     \u001b[38;5;28mself\u001b[39m.dispatch.after_cursor_execute(\n\u001b[32m   1970\u001b[39m         \u001b[38;5;28mself\u001b[39m,\n\u001b[32m   1971\u001b[39m         cursor,\n\u001b[32m   (...)\u001b[39m\u001b[32m   1975\u001b[39m         context.executemany,\n\u001b[32m   1976\u001b[39m     )\n",
      "\u001b[36mFile \u001b[39m\u001b[32m~/IDE/.conda/lib/python3.12/site-packages/sqlalchemy/engine/default.py:945\u001b[39m, in \u001b[36mDefaultDialect.do_execute\u001b[39m\u001b[34m(self, cursor, statement, parameters, context)\u001b[39m\n\u001b[32m    944\u001b[39m \u001b[38;5;28;01mdef\u001b[39;00m\u001b[38;5;250m \u001b[39m\u001b[34mdo_execute\u001b[39m(\u001b[38;5;28mself\u001b[39m, cursor, statement, parameters, context=\u001b[38;5;28;01mNone\u001b[39;00m):\n\u001b[32m--> \u001b[39m\u001b[32m945\u001b[39m     \u001b[43mcursor\u001b[49m\u001b[43m.\u001b[49m\u001b[43mexecute\u001b[49m\u001b[43m(\u001b[49m\u001b[43mstatement\u001b[49m\u001b[43m,\u001b[49m\u001b[43m \u001b[49m\u001b[43mparameters\u001b[49m\u001b[43m)\u001b[49m\n",
      "\u001b[31mOperationalError\u001b[39m: (psycopg2.OperationalError) server closed the connection unexpectedly\n\tThis probably means the server terminated abnormally\n\tbefore or while processing the request.\n\n[SQL: \n   SELECT schedule,\n          employment,\n          count(*)\n     FROM vacancies\n GROUP BY schedule,\n          employment\n ORDER BY 3 DESC\n]\n(Background on this error at: https://sqlalche.me/e/20/e3q8)"
     ]
    }
   ],
   "source": [
    "query = f'''\n",
    "   SELECT schedule,\n",
    "          employment,\n",
    "          count(*)\n",
    "     FROM vacancies\n",
    " GROUP BY schedule,\n",
    "          employment\n",
    " ORDER BY 3 DESC\n",
    "'''\n",
    "# df = pd.read_sql_query(query, connection)\n",
    "df = pd.read_sql_query(query, engine)"
   ]
  },
  {
   "cell_type": "code",
   "execution_count": 24,
   "metadata": {},
   "outputs": [
    {
     "data": {
      "application/vnd.microsoft.datawrangler.viewer.v0+json": {
       "columns": [
        {
         "name": "index",
         "rawType": "int64",
         "type": "integer"
        },
        {
         "name": "schedule",
         "rawType": "object",
         "type": "string"
        },
        {
         "name": "employment",
         "rawType": "object",
         "type": "string"
        },
        {
         "name": "count",
         "rawType": "int64",
         "type": "integer"
        }
       ],
       "conversionMethod": "pd.DataFrame",
       "ref": "8c1fa221-6cb2-41e1-a082-d550d7ef9dc3",
       "rows": [
        [
         "0",
         "Полный день",
         "Полная занятость",
         "35367"
        ],
        [
         "1",
         "Удаленная работа",
         "Полная занятость",
         "7802"
        ],
        [
         "2",
         "Гибкий график",
         "Полная занятость",
         "1593"
        ],
        [
         "3",
         "Удаленная работа",
         "Частичная занятость",
         "1312"
        ],
        [
         "4",
         "Сменный график",
         "Полная занятость",
         "940"
        ],
        [
         "5",
         "Полный день",
         "Стажировка",
         "569"
        ],
        [
         "6",
         "Вахтовый метод",
         "Полная занятость",
         "367"
        ],
        [
         "7",
         "Полный день",
         "Частичная занятость",
         "347"
        ],
        [
         "8",
         "Гибкий график",
         "Частичная занятость",
         "312"
        ],
        [
         "9",
         "Полный день",
         "Проектная работа",
         "141"
        ],
        [
         "10",
         "Удаленная работа",
         "Проектная работа",
         "133"
        ],
        [
         "11",
         "Гибкий график",
         "Стажировка",
         "116"
        ],
        [
         "12",
         "Сменный график",
         "Частичная занятость",
         "101"
        ],
        [
         "13",
         "Удаленная работа",
         "Стажировка",
         "64"
        ],
        [
         "14",
         "Гибкий график",
         "Проектная работа",
         "18"
        ],
        [
         "15",
         "Сменный график",
         "Стажировка",
         "12"
        ],
        [
         "16",
         "Вахтовый метод",
         "Проектная работа",
         "2"
        ],
        [
         "17",
         "Сменный график",
         "Проектная работа",
         "1"
        ]
       ],
       "shape": {
        "columns": 3,
        "rows": 18
       }
      },
      "text/html": [
       "<div>\n",
       "<style scoped>\n",
       "    .dataframe tbody tr th:only-of-type {\n",
       "        vertical-align: middle;\n",
       "    }\n",
       "\n",
       "    .dataframe tbody tr th {\n",
       "        vertical-align: top;\n",
       "    }\n",
       "\n",
       "    .dataframe thead th {\n",
       "        text-align: right;\n",
       "    }\n",
       "</style>\n",
       "<table border=\"1\" class=\"dataframe\">\n",
       "  <thead>\n",
       "    <tr style=\"text-align: right;\">\n",
       "      <th></th>\n",
       "      <th>schedule</th>\n",
       "      <th>employment</th>\n",
       "      <th>count</th>\n",
       "    </tr>\n",
       "  </thead>\n",
       "  <tbody>\n",
       "    <tr>\n",
       "      <th>0</th>\n",
       "      <td>Полный день</td>\n",
       "      <td>Полная занятость</td>\n",
       "      <td>35367</td>\n",
       "    </tr>\n",
       "    <tr>\n",
       "      <th>1</th>\n",
       "      <td>Удаленная работа</td>\n",
       "      <td>Полная занятость</td>\n",
       "      <td>7802</td>\n",
       "    </tr>\n",
       "    <tr>\n",
       "      <th>2</th>\n",
       "      <td>Гибкий график</td>\n",
       "      <td>Полная занятость</td>\n",
       "      <td>1593</td>\n",
       "    </tr>\n",
       "    <tr>\n",
       "      <th>3</th>\n",
       "      <td>Удаленная работа</td>\n",
       "      <td>Частичная занятость</td>\n",
       "      <td>1312</td>\n",
       "    </tr>\n",
       "    <tr>\n",
       "      <th>4</th>\n",
       "      <td>Сменный график</td>\n",
       "      <td>Полная занятость</td>\n",
       "      <td>940</td>\n",
       "    </tr>\n",
       "    <tr>\n",
       "      <th>5</th>\n",
       "      <td>Полный день</td>\n",
       "      <td>Стажировка</td>\n",
       "      <td>569</td>\n",
       "    </tr>\n",
       "    <tr>\n",
       "      <th>6</th>\n",
       "      <td>Вахтовый метод</td>\n",
       "      <td>Полная занятость</td>\n",
       "      <td>367</td>\n",
       "    </tr>\n",
       "    <tr>\n",
       "      <th>7</th>\n",
       "      <td>Полный день</td>\n",
       "      <td>Частичная занятость</td>\n",
       "      <td>347</td>\n",
       "    </tr>\n",
       "    <tr>\n",
       "      <th>8</th>\n",
       "      <td>Гибкий график</td>\n",
       "      <td>Частичная занятость</td>\n",
       "      <td>312</td>\n",
       "    </tr>\n",
       "    <tr>\n",
       "      <th>9</th>\n",
       "      <td>Полный день</td>\n",
       "      <td>Проектная работа</td>\n",
       "      <td>141</td>\n",
       "    </tr>\n",
       "    <tr>\n",
       "      <th>10</th>\n",
       "      <td>Удаленная работа</td>\n",
       "      <td>Проектная работа</td>\n",
       "      <td>133</td>\n",
       "    </tr>\n",
       "    <tr>\n",
       "      <th>11</th>\n",
       "      <td>Гибкий график</td>\n",
       "      <td>Стажировка</td>\n",
       "      <td>116</td>\n",
       "    </tr>\n",
       "    <tr>\n",
       "      <th>12</th>\n",
       "      <td>Сменный график</td>\n",
       "      <td>Частичная занятость</td>\n",
       "      <td>101</td>\n",
       "    </tr>\n",
       "    <tr>\n",
       "      <th>13</th>\n",
       "      <td>Удаленная работа</td>\n",
       "      <td>Стажировка</td>\n",
       "      <td>64</td>\n",
       "    </tr>\n",
       "    <tr>\n",
       "      <th>14</th>\n",
       "      <td>Гибкий график</td>\n",
       "      <td>Проектная работа</td>\n",
       "      <td>18</td>\n",
       "    </tr>\n",
       "    <tr>\n",
       "      <th>15</th>\n",
       "      <td>Сменный график</td>\n",
       "      <td>Стажировка</td>\n",
       "      <td>12</td>\n",
       "    </tr>\n",
       "    <tr>\n",
       "      <th>16</th>\n",
       "      <td>Вахтовый метод</td>\n",
       "      <td>Проектная работа</td>\n",
       "      <td>2</td>\n",
       "    </tr>\n",
       "    <tr>\n",
       "      <th>17</th>\n",
       "      <td>Сменный график</td>\n",
       "      <td>Проектная работа</td>\n",
       "      <td>1</td>\n",
       "    </tr>\n",
       "  </tbody>\n",
       "</table>\n",
       "</div>"
      ],
      "text/plain": [
       "            schedule           employment  count\n",
       "0        Полный день     Полная занятость  35367\n",
       "1   Удаленная работа     Полная занятость   7802\n",
       "2      Гибкий график     Полная занятость   1593\n",
       "3   Удаленная работа  Частичная занятость   1312\n",
       "4     Сменный график     Полная занятость    940\n",
       "5        Полный день           Стажировка    569\n",
       "6     Вахтовый метод     Полная занятость    367\n",
       "7        Полный день  Частичная занятость    347\n",
       "8      Гибкий график  Частичная занятость    312\n",
       "9        Полный день     Проектная работа    141\n",
       "10  Удаленная работа     Проектная работа    133\n",
       "11     Гибкий график           Стажировка    116\n",
       "12    Сменный график  Частичная занятость    101\n",
       "13  Удаленная работа           Стажировка     64\n",
       "14     Гибкий график     Проектная работа     18\n",
       "15    Сменный график           Стажировка     12\n",
       "16    Вахтовый метод     Проектная работа      2\n",
       "17    Сменный график     Проектная работа      1"
      ]
     },
     "execution_count": 24,
     "metadata": {},
     "output_type": "execute_result"
    }
   ],
   "source": [
    "df"
   ]
  },
  {
   "cell_type": "code",
   "execution_count": 171,
   "metadata": {},
   "outputs": [
    {
     "data": {
      "text/html": [
       "\n",
       "    <p style=\"font-size:25px;\">\n",
       "        Ответ (4.4)<br><br>\n",
       "        На втором месте по популярности находится график \"55843014 — Системный администратор\"\n",
       "    </p>\n"
      ],
      "text/plain": [
       "<IPython.core.display.HTML object>"
      ]
     },
     "metadata": {},
     "output_type": "display_data"
    }
   ],
   "source": [
    "text = f\"\"\"\n",
    "    <p style=\"font-size:25px;\">\n",
    "        Ответ (4.4)<br><br>\n",
    "        На втором месте по популярности находится график \"{df.iloc[1, 0]} — {df.iloc[1, 1]}\"\n",
    "    </p>\n",
    "\"\"\"\n",
    "display(HTML(text))"
   ]
  },
  {
   "cell_type": "markdown",
   "metadata": {},
   "source": [
    "> 5. Напишите запрос, выводящий значения поля Требуемый опыт работы (experience) в порядке возрастания количества вакансий, в которых указан данный вариант опыта. "
   ]
  },
  {
   "cell_type": "code",
   "execution_count": 32,
   "metadata": {},
   "outputs": [],
   "source": [
    "query = f'''\n",
    "   SELECT experience,\n",
    "          count(*)\n",
    "     FROM vacancies\n",
    " GROUP BY experience\n",
    " ORDER BY 2\n",
    "'''\n",
    "# df = pd.read_sql_query(query, connection)\n",
    "df = pd.read_sql_query(query, engine)"
   ]
  },
  {
   "cell_type": "code",
   "execution_count": 33,
   "metadata": {},
   "outputs": [
    {
     "data": {
      "application/vnd.microsoft.datawrangler.viewer.v0+json": {
       "columns": [
        {
         "name": "index",
         "rawType": "int64",
         "type": "integer"
        },
        {
         "name": "experience",
         "rawType": "object",
         "type": "string"
        },
        {
         "name": "count",
         "rawType": "int64",
         "type": "integer"
        }
       ],
       "conversionMethod": "pd.DataFrame",
       "ref": "bc16079e-3d19-4354-b46a-6023b31658af",
       "rows": [
        [
         "0",
         "Более 6 лет",
         "1337"
        ],
        [
         "1",
         "Нет опыта",
         "7197"
        ],
        [
         "2",
         "От 3 до 6 лет",
         "14511"
        ],
        [
         "3",
         "От 1 года до 3 лет",
         "26152"
        ]
       ],
       "shape": {
        "columns": 2,
        "rows": 4
       }
      },
      "text/html": [
       "<div>\n",
       "<style scoped>\n",
       "    .dataframe tbody tr th:only-of-type {\n",
       "        vertical-align: middle;\n",
       "    }\n",
       "\n",
       "    .dataframe tbody tr th {\n",
       "        vertical-align: top;\n",
       "    }\n",
       "\n",
       "    .dataframe thead th {\n",
       "        text-align: right;\n",
       "    }\n",
       "</style>\n",
       "<table border=\"1\" class=\"dataframe\">\n",
       "  <thead>\n",
       "    <tr style=\"text-align: right;\">\n",
       "      <th></th>\n",
       "      <th>experience</th>\n",
       "      <th>count</th>\n",
       "    </tr>\n",
       "  </thead>\n",
       "  <tbody>\n",
       "    <tr>\n",
       "      <th>0</th>\n",
       "      <td>Более 6 лет</td>\n",
       "      <td>1337</td>\n",
       "    </tr>\n",
       "    <tr>\n",
       "      <th>1</th>\n",
       "      <td>Нет опыта</td>\n",
       "      <td>7197</td>\n",
       "    </tr>\n",
       "    <tr>\n",
       "      <th>2</th>\n",
       "      <td>От 3 до 6 лет</td>\n",
       "      <td>14511</td>\n",
       "    </tr>\n",
       "    <tr>\n",
       "      <th>3</th>\n",
       "      <td>От 1 года до 3 лет</td>\n",
       "      <td>26152</td>\n",
       "    </tr>\n",
       "  </tbody>\n",
       "</table>\n",
       "</div>"
      ],
      "text/plain": [
       "           experience  count\n",
       "0         Более 6 лет   1337\n",
       "1           Нет опыта   7197\n",
       "2       От 3 до 6 лет  14511\n",
       "3  От 1 года до 3 лет  26152"
      ]
     },
     "execution_count": 33,
     "metadata": {},
     "output_type": "execute_result"
    }
   ],
   "source": [
    "df"
   ]
  },
  {
   "cell_type": "markdown",
   "metadata": {},
   "source": [
    "<a name=\"anchor5\"></a>\n",
    "## Юнит 5. Анализ работодателей\n",
    "---"
   ]
  },
  {
   "cell_type": "markdown",
   "metadata": {},
   "source": [
    "### Задание 5.1"
   ]
  },
  {
   "cell_type": "markdown",
   "metadata": {},
   "source": [
    "> 1. Напишите запрос, который позволит узнать, какие работодатели находятся на первом и пятом месте по количеству вакансий."
   ]
  },
  {
   "cell_type": "code",
   "execution_count": 108,
   "metadata": {},
   "outputs": [],
   "source": [
    "query= f'''\n",
    "   SELECT e.name,\n",
    "          count(*)\n",
    "     FROM employers AS e\n",
    "     JOIN vacancies AS v ON e.id = v.employer_id\n",
    " GROUP BY e.id,\n",
    "          e.name\n",
    " ORDER BY 2 DESC\n",
    "'''\n",
    "# df = pd.read_sql_query(query, connection)\n",
    "df = pd.read_sql_query(query, engine)"
   ]
  },
  {
   "cell_type": "code",
   "execution_count": 109,
   "metadata": {},
   "outputs": [
    {
     "data": {
      "application/vnd.microsoft.datawrangler.viewer.v0+json": {
       "columns": [
        {
         "name": "index",
         "rawType": "int64",
         "type": "integer"
        },
        {
         "name": "name",
         "rawType": "object",
         "type": "string"
        },
        {
         "name": "count",
         "rawType": "int64",
         "type": "integer"
        }
       ],
       "conversionMethod": "pd.DataFrame",
       "ref": "102a228a-0f18-49f4-af28-92f2cb01b666",
       "rows": [
        [
         "0",
         "Яндекс",
         "1933"
        ],
        [
         "1",
         "Ростелеком",
         "491"
        ],
        [
         "2",
         "Тинькофф",
         "444"
        ],
        [
         "3",
         "СБЕР",
         "428"
        ],
        [
         "4",
         "Газпром нефть",
         "331"
        ],
        [
         "5",
         "ИК СИБИНТЕК",
         "327"
        ],
        [
         "6",
         "МТС",
         "292"
        ],
        [
         "7",
         "DataArt",
         "247"
        ],
        [
         "8",
         "Совкомбанк Технологии",
         "204"
        ],
        [
         "9",
         "Первый Бит",
         "176"
        ]
       ],
       "shape": {
        "columns": 2,
        "rows": 10
       }
      },
      "text/html": [
       "<div>\n",
       "<style scoped>\n",
       "    .dataframe tbody tr th:only-of-type {\n",
       "        vertical-align: middle;\n",
       "    }\n",
       "\n",
       "    .dataframe tbody tr th {\n",
       "        vertical-align: top;\n",
       "    }\n",
       "\n",
       "    .dataframe thead th {\n",
       "        text-align: right;\n",
       "    }\n",
       "</style>\n",
       "<table border=\"1\" class=\"dataframe\">\n",
       "  <thead>\n",
       "    <tr style=\"text-align: right;\">\n",
       "      <th></th>\n",
       "      <th>name</th>\n",
       "      <th>count</th>\n",
       "    </tr>\n",
       "  </thead>\n",
       "  <tbody>\n",
       "    <tr>\n",
       "      <th>0</th>\n",
       "      <td>Яндекс</td>\n",
       "      <td>1933</td>\n",
       "    </tr>\n",
       "    <tr>\n",
       "      <th>1</th>\n",
       "      <td>Ростелеком</td>\n",
       "      <td>491</td>\n",
       "    </tr>\n",
       "    <tr>\n",
       "      <th>2</th>\n",
       "      <td>Тинькофф</td>\n",
       "      <td>444</td>\n",
       "    </tr>\n",
       "    <tr>\n",
       "      <th>3</th>\n",
       "      <td>СБЕР</td>\n",
       "      <td>428</td>\n",
       "    </tr>\n",
       "    <tr>\n",
       "      <th>4</th>\n",
       "      <td>Газпром нефть</td>\n",
       "      <td>331</td>\n",
       "    </tr>\n",
       "    <tr>\n",
       "      <th>5</th>\n",
       "      <td>ИК СИБИНТЕК</td>\n",
       "      <td>327</td>\n",
       "    </tr>\n",
       "    <tr>\n",
       "      <th>6</th>\n",
       "      <td>МТС</td>\n",
       "      <td>292</td>\n",
       "    </tr>\n",
       "    <tr>\n",
       "      <th>7</th>\n",
       "      <td>DataArt</td>\n",
       "      <td>247</td>\n",
       "    </tr>\n",
       "    <tr>\n",
       "      <th>8</th>\n",
       "      <td>Совкомбанк Технологии</td>\n",
       "      <td>204</td>\n",
       "    </tr>\n",
       "    <tr>\n",
       "      <th>9</th>\n",
       "      <td>Первый Бит</td>\n",
       "      <td>176</td>\n",
       "    </tr>\n",
       "  </tbody>\n",
       "</table>\n",
       "</div>"
      ],
      "text/plain": [
       "                    name  count\n",
       "0                 Яндекс   1933\n",
       "1             Ростелеком    491\n",
       "2               Тинькофф    444\n",
       "3                   СБЕР    428\n",
       "4          Газпром нефть    331\n",
       "5            ИК СИБИНТЕК    327\n",
       "6                    МТС    292\n",
       "7                DataArt    247\n",
       "8  Совкомбанк Технологии    204\n",
       "9             Первый Бит    176"
      ]
     },
     "execution_count": 109,
     "metadata": {},
     "output_type": "execute_result"
    }
   ],
   "source": [
    "df.head(10)"
   ]
  },
  {
   "cell_type": "code",
   "execution_count": 112,
   "metadata": {},
   "outputs": [
    {
     "data": {
      "text/html": [
       "<p style='font-size:25px;'>Ответ (5.1)<br><br>На 1-м и 5-м месте по количеству вакансий находятся \"Яндекс\" и \"Газпром нефть\"."
      ],
      "text/plain": [
       "<IPython.core.display.HTML object>"
      ]
     },
     "metadata": {},
     "output_type": "display_data"
    }
   ],
   "source": [
    "text = (\n",
    "    f\"<p style='font-size:25px;'>Ответ (5.1)<br><br>\"\n",
    "    f'На 1-м и 5-м месте по количеству вакансий находятся \"{df['name'].iloc[0]}\" и \"{df['name'].iloc[4]}\".'\n",
    ")\n",
    "display(HTML(text))\n",
    "# print(f\"\")"
   ]
  },
  {
   "cell_type": "markdown",
   "metadata": {},
   "source": [
    "### Задание 5.2"
   ]
  },
  {
   "cell_type": "markdown",
   "metadata": {},
   "source": [
    "> 2. Напишите запрос, который для каждого региона выведет количество работодателей и вакансий в нём.\n",
    "Среди регионов, в которых нет вакансий, найдите тот, в котором наибольшее количество работодателей.\n"
   ]
  },
  {
   "cell_type": "code",
   "execution_count": 113,
   "metadata": {},
   "outputs": [],
   "source": [
    "query = f'''\n",
    "    WITH areas_vacancies_cnt AS (\n",
    "             SELECT a.id,\n",
    "                    a.name AS name,\n",
    "                    count(v.area_id) AS vacancies_cnt\n",
    "               FROM areas AS a\n",
    "          LEFT JOIN vacancies AS v ON a.id = v.area_id\n",
    "           GROUP BY a.id,\n",
    "                    a.name\n",
    "          )\n",
    "   SELECT av.name,\n",
    "          av.vacancies_cnt,\n",
    "          count(e.id) AS employers_cnt\n",
    "     FROM areas_vacancies_cnt AS av\n",
    "LEFT JOIN employers AS e ON e.area = av.id\n",
    " GROUP BY av.id,\n",
    "          av.name,\n",
    "          av.vacancies_cnt\n",
    "   HAVING vacancies_cnt = 0\n",
    " ORDER BY 3 DESC\n",
    "    -- LIMIT 1     \n",
    "'''\n",
    "# df = pd.read_sql_query(query, connection)\n",
    "df = pd.read_sql_query(query, engine)"
   ]
  },
  {
   "cell_type": "code",
   "execution_count": 116,
   "metadata": {},
   "outputs": [
    {
     "data": {
      "application/vnd.microsoft.datawrangler.viewer.v0+json": {
       "columns": [
        {
         "name": "index",
         "rawType": "int64",
         "type": "integer"
        },
        {
         "name": "name",
         "rawType": "object",
         "type": "string"
        },
        {
         "name": "vacancies_cnt",
         "rawType": "int64",
         "type": "integer"
        },
        {
         "name": "employers_cnt",
         "rawType": "int64",
         "type": "integer"
        }
       ],
       "conversionMethod": "pd.DataFrame",
       "ref": "f7de06cf-3aba-48c0-adbd-fdeca786e3dc",
       "rows": [
        [
         "0",
         "Россия",
         "0",
         "410"
        ],
        [
         "1",
         "Казахстан",
         "0",
         "207"
        ],
        [
         "2",
         "Московская область",
         "0",
         "75"
        ],
        [
         "3",
         "Краснодарский край",
         "0",
         "19"
        ],
        [
         "4",
         "Беларусь",
         "0",
         "18"
        ],
        [
         "5",
         "Ростовская область",
         "0",
         "18"
        ],
        [
         "6",
         "Азербайджан",
         "0",
         "17"
        ],
        [
         "7",
         "Республика Татарстан",
         "0",
         "16"
        ],
        [
         "8",
         "Нижегородская область",
         "0",
         "16"
        ],
        [
         "9",
         "Узбекистан",
         "0",
         "15"
        ],
        [
         "10",
         "Сингапур",
         "0",
         "10"
        ],
        [
         "11",
         "Белгородская область",
         "0",
         "10"
        ],
        [
         "12",
         "Калужская область",
         "0",
         "9"
        ],
        [
         "13",
         "Ленинградская область",
         "0",
         "9"
        ],
        [
         "14",
         "Самарская область",
         "0",
         "7"
        ],
        [
         "15",
         "Воронежская область",
         "0",
         "7"
        ],
        [
         "16",
         "Ставропольский край",
         "0",
         "6"
        ],
        [
         "17",
         "Ульяновская область",
         "0",
         "6"
        ],
        [
         "18",
         "Австралия",
         "0",
         "6"
        ],
        [
         "19",
         "Кыргызстан",
         "0",
         "6"
        ],
        [
         "20",
         "Кировская область",
         "0",
         "6"
        ],
        [
         "21",
         "Липецкая область",
         "0",
         "5"
        ],
        [
         "22",
         "Ивановская область",
         "0",
         "5"
        ],
        [
         "23",
         "Тульская область",
         "0",
         "5"
        ],
        [
         "24",
         "Новосибирская область",
         "0",
         "5"
        ],
        [
         "25",
         "Швейцария",
         "0",
         "5"
        ],
        [
         "26",
         "Канада",
         "0",
         "5"
        ],
        [
         "27",
         "Иркутская область",
         "0",
         "4"
        ],
        [
         "28",
         "Рязанская область",
         "0",
         "4"
        ],
        [
         "29",
         "Пензенская область",
         "0",
         "4"
        ],
        [
         "30",
         "Чувашская Республика",
         "0",
         "4"
        ],
        [
         "31",
         "Республика Крым",
         "0",
         "4"
        ],
        [
         "32",
         "Свердловская область",
         "0",
         "4"
        ],
        [
         "33",
         "Волгоградская область",
         "0",
         "4"
        ],
        [
         "34",
         "Кемеровская область",
         "0",
         "4"
        ],
        [
         "35",
         "Красноярский край",
         "0",
         "3"
        ],
        [
         "36",
         "Владимирская область",
         "0",
         "3"
        ],
        [
         "37",
         "Минская область",
         "0",
         "3"
        ],
        [
         "38",
         "Томская область",
         "0",
         "3"
        ],
        [
         "39",
         "Калининградская область",
         "0",
         "3"
        ],
        [
         "40",
         "Удмуртская Республика",
         "0",
         "3"
        ],
        [
         "41",
         "Костромская область",
         "0",
         "3"
        ],
        [
         "42",
         "Другие регионы",
         "0",
         "3"
        ],
        [
         "43",
         "Алтайский край",
         "0",
         "3"
        ],
        [
         "44",
         "Пермский край",
         "0",
         "3"
        ],
        [
         "45",
         "Ярославская область",
         "0",
         "3"
        ],
        [
         "46",
         "Тверская область",
         "0",
         "2"
        ],
        [
         "47",
         "Камчатский край",
         "0",
         "2"
        ],
        [
         "48",
         "Жодино",
         "0",
         "2"
        ],
        [
         "49",
         "Ворсино (Калужская область)",
         "0",
         "2"
        ]
       ],
       "shape": {
        "columns": 3,
        "rows": 593
       }
      },
      "text/html": [
       "<div>\n",
       "<style scoped>\n",
       "    .dataframe tbody tr th:only-of-type {\n",
       "        vertical-align: middle;\n",
       "    }\n",
       "\n",
       "    .dataframe tbody tr th {\n",
       "        vertical-align: top;\n",
       "    }\n",
       "\n",
       "    .dataframe thead th {\n",
       "        text-align: right;\n",
       "    }\n",
       "</style>\n",
       "<table border=\"1\" class=\"dataframe\">\n",
       "  <thead>\n",
       "    <tr style=\"text-align: right;\">\n",
       "      <th></th>\n",
       "      <th>name</th>\n",
       "      <th>vacancies_cnt</th>\n",
       "      <th>employers_cnt</th>\n",
       "    </tr>\n",
       "  </thead>\n",
       "  <tbody>\n",
       "    <tr>\n",
       "      <th>0</th>\n",
       "      <td>Россия</td>\n",
       "      <td>0</td>\n",
       "      <td>410</td>\n",
       "    </tr>\n",
       "    <tr>\n",
       "      <th>1</th>\n",
       "      <td>Казахстан</td>\n",
       "      <td>0</td>\n",
       "      <td>207</td>\n",
       "    </tr>\n",
       "    <tr>\n",
       "      <th>2</th>\n",
       "      <td>Московская область</td>\n",
       "      <td>0</td>\n",
       "      <td>75</td>\n",
       "    </tr>\n",
       "    <tr>\n",
       "      <th>3</th>\n",
       "      <td>Краснодарский край</td>\n",
       "      <td>0</td>\n",
       "      <td>19</td>\n",
       "    </tr>\n",
       "    <tr>\n",
       "      <th>4</th>\n",
       "      <td>Беларусь</td>\n",
       "      <td>0</td>\n",
       "      <td>18</td>\n",
       "    </tr>\n",
       "    <tr>\n",
       "      <th>...</th>\n",
       "      <td>...</td>\n",
       "      <td>...</td>\n",
       "      <td>...</td>\n",
       "    </tr>\n",
       "    <tr>\n",
       "      <th>588</th>\n",
       "      <td>Козьмодемьянск</td>\n",
       "      <td>0</td>\n",
       "      <td>0</td>\n",
       "    </tr>\n",
       "    <tr>\n",
       "      <th>589</th>\n",
       "      <td>Струнино</td>\n",
       "      <td>0</td>\n",
       "      <td>0</td>\n",
       "    </tr>\n",
       "    <tr>\n",
       "      <th>590</th>\n",
       "      <td>Верхний Тагил</td>\n",
       "      <td>0</td>\n",
       "      <td>0</td>\n",
       "    </tr>\n",
       "    <tr>\n",
       "      <th>591</th>\n",
       "      <td>Кант</td>\n",
       "      <td>0</td>\n",
       "      <td>0</td>\n",
       "    </tr>\n",
       "    <tr>\n",
       "      <th>592</th>\n",
       "      <td>Балашов</td>\n",
       "      <td>0</td>\n",
       "      <td>0</td>\n",
       "    </tr>\n",
       "  </tbody>\n",
       "</table>\n",
       "<p>593 rows × 3 columns</p>\n",
       "</div>"
      ],
      "text/plain": [
       "                   name  vacancies_cnt  employers_cnt\n",
       "0                Россия              0            410\n",
       "1             Казахстан              0            207\n",
       "2    Московская область              0             75\n",
       "3    Краснодарский край              0             19\n",
       "4              Беларусь              0             18\n",
       "..                  ...            ...            ...\n",
       "588      Козьмодемьянск              0              0\n",
       "589            Струнино              0              0\n",
       "590       Верхний Тагил              0              0\n",
       "591                Кант              0              0\n",
       "592             Балашов              0              0\n",
       "\n",
       "[593 rows x 3 columns]"
      ]
     },
     "execution_count": 116,
     "metadata": {},
     "output_type": "execute_result"
    }
   ],
   "source": [
    "df"
   ]
  },
  {
   "cell_type": "code",
   "execution_count": 114,
   "metadata": {},
   "outputs": [
    {
     "data": {
      "text/html": [
       "<p style='font-size:25px;'>Ответ (5.2)<br><br>Среди регионов, не имеющих вакансий, наибольшее количество работодателей в регионе \"Россия\""
      ],
      "text/plain": [
       "<IPython.core.display.HTML object>"
      ]
     },
     "metadata": {},
     "output_type": "display_data"
    }
   ],
   "source": [
    "text = (\n",
    "    f\"<p style='font-size:25px;'>Ответ (5.2)<br><br>\"\n",
    "    f\"Среди регионов, не имеющих вакансий, наибольшее количество работодателей в регионе \\\"{df.iloc[0, 0]}\\\"\"\n",
    ")\n",
    "display(HTML(text))\n",
    "# print()"
   ]
  },
  {
   "cell_type": "markdown",
   "metadata": {},
   "source": [
    "### Задание 5.3"
   ]
  },
  {
   "cell_type": "markdown",
   "metadata": {},
   "source": [
    "> 3. Для каждого работодателя посчитайте количество регионов, в которых он публикует свои вакансии. Отсортируйте результат по убыванию количества.\n"
   ]
  },
  {
   "cell_type": "code",
   "execution_count": 119,
   "metadata": {},
   "outputs": [],
   "source": [
    "query = f'''\n",
    "    select\n",
    "        e.name as employer_name,\n",
    "        count(distinct v.area_id) as areas_cnt\n",
    "    from\n",
    "        employers as e\n",
    "        join vacancies as v on e.id = v.employer_id\n",
    "    group by\n",
    "        e.id,\n",
    "        e.name\n",
    "    order by\n",
    "        2 DESC\n",
    "'''\n",
    "# df = pd.read_sql_query(query, connection)\n",
    "df = pd.read_sql_query(query, engine)"
   ]
  },
  {
   "cell_type": "code",
   "execution_count": 120,
   "metadata": {},
   "outputs": [
    {
     "data": {
      "text/html": [
       "<p style='font-size:25px;'>Ответ (5.3)<br><br>Максимальное количество регионов присутствия - 181 - у компании \"Яндекс\""
      ],
      "text/plain": [
       "<IPython.core.display.HTML object>"
      ]
     },
     "metadata": {},
     "output_type": "display_data"
    }
   ],
   "source": [
    "text = (\n",
    "    f\"<p style='font-size:25px;'>Ответ (5.3)<br><br>\"\n",
    "    f\"Максимальное количество регионов присутствия - {df.iloc[0, 1]} - у компании \\\"{df.iloc[0,0]}\\\"\"\n",
    ")\n",
    "display(HTML(text))"
   ]
  },
  {
   "cell_type": "markdown",
   "metadata": {},
   "source": [
    "### Задание 5.4"
   ]
  },
  {
   "cell_type": "markdown",
   "metadata": {},
   "source": [
    "> 4. Напишите запрос для подсчёта количества работодателей, у которых не указана сфера деятельности. "
   ]
  },
  {
   "cell_type": "code",
   "execution_count": 121,
   "metadata": {},
   "outputs": [],
   "source": [
    "query = f'''\n",
    "   SELECT count(DISTINCT e.id)\n",
    "     FROM employers e\n",
    "LEFT JOIN employers_industries ei ON e.id = ei.employer_id\n",
    "    WHERE ei.employer_id IS NULL\n",
    "'''\n",
    "# df = pd.read_sql_query(query, connection)\n",
    "df = pd.read_sql_query(query, engine)"
   ]
  },
  {
   "cell_type": "code",
   "execution_count": 123,
   "metadata": {},
   "outputs": [
    {
     "data": {
      "text/html": [
       "<p style='font-size:25px;'>Ответ (5.4)<br><br>Количество работодателей, у которых не указана сфера деятельности, составляет 8419."
      ],
      "text/plain": [
       "<IPython.core.display.HTML object>"
      ]
     },
     "metadata": {},
     "output_type": "display_data"
    }
   ],
   "source": [
    "text = (\n",
    "    f\"<p style='font-size:25px;'>Ответ (5.4)<br><br>\"\n",
    "    f\"Количество работодателей, у которых не указана сфера деятельности, составляет {df.iloc[0, 0]}.\"\n",
    ")\n",
    "display(HTML(text))"
   ]
  },
  {
   "cell_type": "markdown",
   "metadata": {},
   "source": [
    "### Задание 5.5"
   ]
  },
  {
   "cell_type": "markdown",
   "metadata": {},
   "source": [
    "> 5. Напишите запрос, чтобы узнать название компании, находящейся на третьем месте в алфавитном списке (по названию) компаний, у которых указано четыре сферы деятельности."
   ]
  },
  {
   "cell_type": "code",
   "execution_count": 125,
   "metadata": {},
   "outputs": [],
   "source": [
    "query = f'''\n",
    "   SELECT e.name,\n",
    "          count(DISTINCT ei.industry_id)\n",
    "     FROM employers e\n",
    "LEFT JOIN employers_industries ei ON e.id = ei.employer_id\n",
    " GROUP BY e.id\n",
    "   HAVING count(DISTINCT ei.industry_id) = 4\n",
    " ORDER BY 1\n",
    "    LIMIT 3  \n",
    "'''\n",
    "# df = pd.read_sql_query(query, connection)\n",
    "df = pd.read_sql_query(query, engine)"
   ]
  },
  {
   "cell_type": "code",
   "execution_count": 127,
   "metadata": {},
   "outputs": [
    {
     "data": {
      "text/html": [
       "<p style='font-size:25px;'>Ответ (5.5)<br><br>Компания, находящаяся на третьем месте в алфавитном списке (по названию) компаний,<br>у которых указано четыре сферы деятельности, является \"2ГИС\""
      ],
      "text/plain": [
       "<IPython.core.display.HTML object>"
      ]
     },
     "metadata": {},
     "output_type": "display_data"
    }
   ],
   "source": [
    "text = (\n",
    "    f\"<p style='font-size:25px;'>Ответ (5.5)<br><br>\"\n",
    "    \"Компания, находящаяся на третьем месте в алфавитном списке (по названию) компаний,<br>\"\n",
    "    f'у которых указано четыре сферы деятельности, является \"{df.iloc[2, 0]}\"'\n",
    ")\n",
    "display(HTML(text))"
   ]
  },
  {
   "cell_type": "markdown",
   "metadata": {},
   "source": [
    "### Задание 5.6"
   ]
  },
  {
   "cell_type": "markdown",
   "metadata": {},
   "source": [
    "> 6. С помощью запроса выясните, у какого количества работодателей в качестве сферы деятельности указана Разработка программного обеспечения.\n"
   ]
  },
  {
   "cell_type": "code",
   "execution_count": 128,
   "metadata": {},
   "outputs": [],
   "source": [
    "source_industry = \"Разработка программного обеспечения\"\n",
    "query = f'''\n",
    "   SELECT count(DISTINCT e.id) AS количество_работодателей\n",
    "     FROM employers e\n",
    "     JOIN employers_industries ei ON e.id = ei.employer_id\n",
    "     JOIN industries i ON ei.industry_id = i.id\n",
    "    WHERE i.name = '{source_industry}'\n",
    ";\n",
    "'''\n",
    "# df = pd.read_sql_query(query, connection)\n",
    "df = pd.read_sql_query(query, engine)"
   ]
  },
  {
   "cell_type": "code",
   "execution_count": 131,
   "metadata": {},
   "outputs": [
    {
     "data": {
      "text/html": [
       "<p style='font-size:25px;'>Ответ (5.6)<br><br>Количество работодателей, занимающихся разработкой программного обеспечения, составляет 3553."
      ],
      "text/plain": [
       "<IPython.core.display.HTML object>"
      ]
     },
     "metadata": {},
     "output_type": "display_data"
    }
   ],
   "source": [
    "text = (\n",
    "    f\"<p style='font-size:25px;'>Ответ (5.6)<br><br>\"\n",
    "    f\"Количество работодателей, занимающихся разработкой программного обеспечения, составляет {df.iloc[0,0]}.\"\n",
    ")\n",
    "display(HTML(text))"
   ]
  },
  {
   "cell_type": "markdown",
   "metadata": {},
   "source": [
    "### Задание 5.7"
   ]
  },
  {
   "cell_type": "markdown",
   "metadata": {},
   "source": [
    "> 7. Для компании «Яндекс» выведите список регионов-миллионников, в которых представлены вакансии компании, вместе с количеством вакансий в этих регионах. Также добавьте строку Total с общим количеством вакансий компании. Результат отсортируйте по возрастанию количества.\n",
    ">\n",
    "> Список городов-милионников надо взять [отсюда](https://ru.wikipedia.org/wiki/%D0%93%D0%BE%D1%80%D0%BE%D0%B4%D0%B0-%D0%BC%D0%B8%D0%BB%D0%BB%D0%B8%D0%BE%D0%BD%D0%B5%D1%80%D1%8B_%D0%A0%D0%BE%D1%81%D1%81%D0%B8%D0%B8). \n",
    "> \n",
    "> Если возникнут трудности с этим заданием посмотрите материалы модуля  PYTHON-17. Как получать данные из веб-источников и API. "
   ]
  },
  {
   "cell_type": "code",
   "execution_count": 155,
   "metadata": {},
   "outputs": [],
   "source": [
    "# Получаем список городов-миллионников\n",
    "url = \"https://ru.wikipedia.org/wiki/Города-миллионеры_России\"\n",
    "response = requests.get(url)\n",
    "soup = BeautifulSoup(response.text, \"html.parser\")\n",
    "# Ищем всё с тегом table на листе.\n",
    "table = soup.find_all(\"table\")\n",
    "# Опытным путем выяснилось, что искомая таблица имеет индекс 0.\n",
    "rows = table[0].find_all(\"tr\")[1:]\n",
    "cities = [row.find_all(\"td\")[1].text.strip() for row in rows]"
   ]
  },
  {
   "cell_type": "markdown",
   "metadata": {},
   "source": [
    "Вариант решения № 1"
   ]
  },
  {
   "cell_type": "code",
   "execution_count": null,
   "metadata": {},
   "outputs": [],
   "source": [
    "# Парметры для передачи в SQL запрос (кортежи с городами-миллионниками)\n",
    "parameters = {\n",
    "    \"city_list_1\": tuple(cities),\n",
    "    \"city_list_2\": tuple(cities),\n",
    "}\n",
    "\n",
    "query = f\"\"\"\n",
    "   SELECT name,\n",
    "          cnt\n",
    "          -- Подзапросы используются для сортировки (чтобы строка итогов была внизу),\n",
    "          -- а остальная таблица была отсортирована по возрастанию количества вакансий\n",
    "          -- как в примере в условии задания на платформе.\n",
    "     FROM (\n",
    "             SELECT a.name,\n",
    "                    count(v.id) AS cnt,\n",
    "                    1 AS order_col -- технический столбец для сортировки\n",
    "               FROM areas AS a\n",
    "               JOIN vacancies AS v ON a.id = v.area_id\n",
    "               JOIN employers AS e ON e.id = v.employer_id\n",
    "              WHERE a.name IN %(city_list_1)s\n",
    "                AND e.name = 'Яндекс'\n",
    "           GROUP BY a.id,\n",
    "                    a.name\n",
    "          UNION ALL -- формирование строки итогов\n",
    "             SELECT 'Total' AS name,\n",
    "                    count(v.id) AS cnt,\n",
    "                    2 AS order_col -- технический столбец для сортировки\n",
    "               FROM areas AS a\n",
    "               JOIN vacancies AS v ON a.id = v.area_id\n",
    "               JOIN employers AS e ON e.id = v.employer_id\n",
    "              WHERE a.name IN %(city_list_2)s\n",
    "                AND e.name = 'Яндекс'\n",
    "          ) sub -- сортировка таблицы целиком\n",
    " ORDER BY order_col,\n",
    "          cnt\n",
    ";\n",
    "\"\"\"\n",
    "\n",
    "df = pd.read_sql_query(\n",
    "    query,\n",
    "    engine,\n",
    "    params=parameters,\n",
    ")"
   ]
  },
  {
   "cell_type": "markdown",
   "metadata": {},
   "source": [
    "Вариант решения № 2 (более короткий)"
   ]
  },
  {
   "cell_type": "code",
   "execution_count": null,
   "metadata": {},
   "outputs": [],
   "source": [
    "# Парметр для передачи в SQL запрос (кортеж с городами-миллионниками)\n",
    "parameters = {\"city_list\": tuple(cities)}\n",
    "\n",
    "query = f\"\"\"\n",
    "WITH filtered_data AS (\n",
    "             SELECT a.name AS city_name,\n",
    "                    COUNT(v.id)::INTEGER AS cnt\n",
    "               FROM areas AS a\n",
    "               JOIN vacancies AS v ON a.id = v.area_id\n",
    "               JOIN employers AS e ON e.id = v.employer_id\n",
    "              WHERE a.name IN %(city_list)s\n",
    "                AND e.name = 'Яндекс'\n",
    "           GROUP BY a.name\n",
    "           ORDER BY 2\n",
    "          )\n",
    "   SELECT city_name AS name,\n",
    "          cnt\n",
    "     FROM filtered_data\n",
    "UNION ALL\n",
    "   SELECT 'Total' AS name,\n",
    "          SUM(cnt)::INTEGER AS cnt\n",
    "     FROM filtered_data\n",
    ";\n",
    "\"\"\"\n",
    "\n",
    "df = pd.read_sql_query(\n",
    "    query,\n",
    "    engine,\n",
    "    params=parameters,\n",
    ")"
   ]
  },
  {
   "cell_type": "code",
   "execution_count": 159,
   "metadata": {},
   "outputs": [
    {
     "data": {
      "text/html": [
       "<p style='font-size:25px;'>Ответ (5.7)<br><br>Количество вакансий компании \"Яндекс\" в городах-миллионниках"
      ],
      "text/plain": [
       "<IPython.core.display.HTML object>"
      ]
     },
     "metadata": {},
     "output_type": "display_data"
    },
    {
     "data": {
      "application/vnd.microsoft.datawrangler.viewer.v0+json": {
       "columns": [
        {
         "name": "index",
         "rawType": "int64",
         "type": "integer"
        },
        {
         "name": "name",
         "rawType": "object",
         "type": "string"
        },
        {
         "name": "cnt",
         "rawType": "int64",
         "type": "integer"
        }
       ],
       "conversionMethod": "pd.DataFrame",
       "ref": "c7b56881-3fb4-489b-88c6-e74ed08ea872",
       "rows": [
        [
         "0",
         "Омск",
         "21"
        ],
        [
         "1",
         "Челябинск",
         "22"
        ],
        [
         "2",
         "Красноярск",
         "23"
        ],
        [
         "3",
         "Волгоград",
         "24"
        ],
        [
         "4",
         "Пермь",
         "25"
        ],
        [
         "5",
         "Казань",
         "25"
        ],
        [
         "6",
         "Ростов-на-Дону",
         "25"
        ],
        [
         "7",
         "Уфа",
         "26"
        ],
        [
         "8",
         "Самара",
         "26"
        ],
        [
         "9",
         "Краснодар",
         "30"
        ],
        [
         "10",
         "Воронеж",
         "32"
        ],
        [
         "11",
         "Новосибирск",
         "35"
        ],
        [
         "12",
         "Нижний Новгород",
         "36"
        ],
        [
         "13",
         "Екатеринбург",
         "39"
        ],
        [
         "14",
         "Санкт-Петербург",
         "42"
        ],
        [
         "15",
         "Москва",
         "54"
        ],
        [
         "16",
         "Total",
         "485"
        ]
       ],
       "shape": {
        "columns": 2,
        "rows": 17
       }
      },
      "text/html": [
       "<div>\n",
       "<style scoped>\n",
       "    .dataframe tbody tr th:only-of-type {\n",
       "        vertical-align: middle;\n",
       "    }\n",
       "\n",
       "    .dataframe tbody tr th {\n",
       "        vertical-align: top;\n",
       "    }\n",
       "\n",
       "    .dataframe thead th {\n",
       "        text-align: right;\n",
       "    }\n",
       "</style>\n",
       "<table border=\"1\" class=\"dataframe\">\n",
       "  <thead>\n",
       "    <tr style=\"text-align: right;\">\n",
       "      <th></th>\n",
       "      <th>name</th>\n",
       "      <th>cnt</th>\n",
       "    </tr>\n",
       "  </thead>\n",
       "  <tbody>\n",
       "    <tr>\n",
       "      <th>0</th>\n",
       "      <td>Омск</td>\n",
       "      <td>21</td>\n",
       "    </tr>\n",
       "    <tr>\n",
       "      <th>1</th>\n",
       "      <td>Челябинск</td>\n",
       "      <td>22</td>\n",
       "    </tr>\n",
       "    <tr>\n",
       "      <th>2</th>\n",
       "      <td>Красноярск</td>\n",
       "      <td>23</td>\n",
       "    </tr>\n",
       "    <tr>\n",
       "      <th>3</th>\n",
       "      <td>Волгоград</td>\n",
       "      <td>24</td>\n",
       "    </tr>\n",
       "    <tr>\n",
       "      <th>4</th>\n",
       "      <td>Пермь</td>\n",
       "      <td>25</td>\n",
       "    </tr>\n",
       "    <tr>\n",
       "      <th>5</th>\n",
       "      <td>Казань</td>\n",
       "      <td>25</td>\n",
       "    </tr>\n",
       "    <tr>\n",
       "      <th>6</th>\n",
       "      <td>Ростов-на-Дону</td>\n",
       "      <td>25</td>\n",
       "    </tr>\n",
       "    <tr>\n",
       "      <th>7</th>\n",
       "      <td>Уфа</td>\n",
       "      <td>26</td>\n",
       "    </tr>\n",
       "    <tr>\n",
       "      <th>8</th>\n",
       "      <td>Самара</td>\n",
       "      <td>26</td>\n",
       "    </tr>\n",
       "    <tr>\n",
       "      <th>9</th>\n",
       "      <td>Краснодар</td>\n",
       "      <td>30</td>\n",
       "    </tr>\n",
       "    <tr>\n",
       "      <th>10</th>\n",
       "      <td>Воронеж</td>\n",
       "      <td>32</td>\n",
       "    </tr>\n",
       "    <tr>\n",
       "      <th>11</th>\n",
       "      <td>Новосибирск</td>\n",
       "      <td>35</td>\n",
       "    </tr>\n",
       "    <tr>\n",
       "      <th>12</th>\n",
       "      <td>Нижний Новгород</td>\n",
       "      <td>36</td>\n",
       "    </tr>\n",
       "    <tr>\n",
       "      <th>13</th>\n",
       "      <td>Екатеринбург</td>\n",
       "      <td>39</td>\n",
       "    </tr>\n",
       "    <tr>\n",
       "      <th>14</th>\n",
       "      <td>Санкт-Петербург</td>\n",
       "      <td>42</td>\n",
       "    </tr>\n",
       "    <tr>\n",
       "      <th>15</th>\n",
       "      <td>Москва</td>\n",
       "      <td>54</td>\n",
       "    </tr>\n",
       "    <tr>\n",
       "      <th>16</th>\n",
       "      <td>Total</td>\n",
       "      <td>485</td>\n",
       "    </tr>\n",
       "  </tbody>\n",
       "</table>\n",
       "</div>"
      ],
      "text/plain": [
       "               name  cnt\n",
       "0              Омск   21\n",
       "1         Челябинск   22\n",
       "2        Красноярск   23\n",
       "3         Волгоград   24\n",
       "4             Пермь   25\n",
       "5            Казань   25\n",
       "6    Ростов-на-Дону   25\n",
       "7               Уфа   26\n",
       "8            Самара   26\n",
       "9         Краснодар   30\n",
       "10          Воронеж   32\n",
       "11      Новосибирск   35\n",
       "12  Нижний Новгород   36\n",
       "13     Екатеринбург   39\n",
       "14  Санкт-Петербург   42\n",
       "15           Москва   54\n",
       "16            Total  485"
      ]
     },
     "metadata": {},
     "output_type": "display_data"
    }
   ],
   "source": [
    "text = (\n",
    "    f\"<p style='font-size:25px;'>Ответ (5.7)<br><br>\"\n",
    "    \"Количество вакансий компании \\\"Яндекс\\\" в городах-миллионниках\"\n",
    ")\n",
    "display(HTML(text))\n",
    "display(df)"
   ]
  },
  {
   "cell_type": "markdown",
   "metadata": {},
   "source": [
    "<a name=\"anchor6\"></a>\n",
    "## Юнит 6. Предметный анализ\n",
    "\n",
    "---"
   ]
  },
  {
   "cell_type": "markdown",
   "metadata": {},
   "source": [
    "> 1. Сколько вакансий имеет отношение к данным?\n",
    ">\n",
    "> Считаем, что вакансия имеет отношение к данным, если в её названии содержатся слова 'data' или 'данн'.\n",
    ">\n",
    "> *Подсказка: Обратите внимание, что названия вакансий могут быть написаны в любом регистре.* \n"
   ]
  },
  {
   "cell_type": "code",
   "execution_count": 67,
   "metadata": {},
   "outputs": [],
   "source": [
    "query_6_1 = f'''\n",
    "   SELECT count(DISTINCT v.id) AS cnt\n",
    "     FROM vacancies AS v\n",
    "    WHERE lower(v.name) LIKE '%data%'\n",
    "       OR lower(v.name) LIKE '%данн%'\n",
    "'''\n",
    "df = pd.read_sql_query(query_6_1, connection)"
   ]
  },
  {
   "cell_type": "code",
   "execution_count": 68,
   "metadata": {},
   "outputs": [
    {
     "name": "stdout",
     "output_type": "stream",
     "text": [
      "В базе содержится 1771 вакансия, имеющая отношение к данным.\n"
     ]
    }
   ],
   "source": [
    "print(f\"В базе содержится {df.iloc[0, 0]} вакансия, имеющая отношение к данным.\")"
   ]
  },
  {
   "cell_type": "markdown",
   "metadata": {},
   "source": [
    "> 2. Сколько есть подходящих вакансий для начинающего дата-сайентиста? \n",
    "> Будем считать вакансиями для дата-сайентистов такие, в названии которых есть хотя бы одно из следующих сочетаний:\n",
    "> * 'data scientist'\n",
    "> * 'data science'\n",
    "> * 'исследователь данных'\n",
    "> * 'ML' (здесь не нужно брать вакансии по HTML)\n",
    "> * 'machine learning'\n",
    "> * 'машинн%обучен%'\n",
    "> \n",
    "> **В следующих заданиях мы продолжим работать с вакансиями по этому условию.*\n",
    "> \n",
    "> Считаем вакансиями для специалистов уровня Junior следующие:\n",
    "> * в названии есть слово 'junior' *или*\n",
    "> * требуемый опыт — Нет опыта *или*\n",
    "> * тип трудоустройства — Стажировка.\n",
    " "
   ]
  },
  {
   "cell_type": "code",
   "execution_count": 5,
   "metadata": {},
   "outputs": [],
   "source": [
    "query_6_2 = f'''\n",
    "   SELECT count(DISTINCT v.id) AS cnt\n",
    "     FROM vacancies AS v\n",
    "    WHERE (\n",
    "          lower(v.name) LIKE '%data scientist%'\n",
    "       OR lower(v.name) LIKE '%data science%'\n",
    "       OR lower(v.name) LIKE '%исследователь данных%'\n",
    "       OR lower(v.name) LIKE '%machine learning%'\n",
    "       OR lower(v.name) LIKE '%машинн%обучен%'\n",
    "       OR (\n",
    "          v.name LIKE '%ML%'\n",
    "      AND v.name NOT LIKE '%HTML%'\n",
    "          )\n",
    "          )\n",
    "      AND (\n",
    "          lower(v.name) LIKE '%junior%'\n",
    "       OR lower(v.experience) LIKE '%нет опыта%'\n",
    "       OR lower(v.employment) LIKE '%стажировка%'\n",
    "          )\n",
    "'''\n",
    "df = pd.read_sql_query(query_6_2, connection)"
   ]
  },
  {
   "cell_type": "code",
   "execution_count": 6,
   "metadata": {},
   "outputs": [
    {
     "name": "stdout",
     "output_type": "stream",
     "text": [
      "В базе содержится 51 вакансия для начинающего дата-сайентиста.\n"
     ]
    }
   ],
   "source": [
    "print(f\"В базе содержится {df.iloc[0, 0]} вакансия для начинающего дата-сайентиста.\")"
   ]
  },
  {
   "cell_type": "markdown",
   "metadata": {},
   "source": [
    "> 3. Сколько есть вакансий для DS, в которых в качестве ключевого навыка указан SQL или postgres?\n",
    "> \n",
    "> **Критерии для отнесения вакансии к DS указаны в предыдущем задании.*"
   ]
  },
  {
   "cell_type": "code",
   "execution_count": 7,
   "metadata": {},
   "outputs": [],
   "source": [
    "query_6_3 = f'''\n",
    "   SELECT count(DISTINCT v.id) AS cnt\n",
    "     FROM vacancies AS v\n",
    "    WHERE (\n",
    "          lower(v.name) LIKE '%data scientist%'\n",
    "       OR lower(v.name) LIKE '%data science%'\n",
    "       OR lower(v.name) LIKE '%исследователь данных%'\n",
    "       OR lower(v.name) LIKE '%machine learning%'\n",
    "       OR lower(v.name) LIKE '%машинн%обучен%'\n",
    "       OR (\n",
    "          v.name LIKE '%ML%'\n",
    "      AND v.name NOT LIKE '%HTML%'\n",
    "          )\n",
    "          )\n",
    "      AND (\n",
    "          lower(v.key_skills) LIKE '%sql%'\n",
    "       OR lower(v.key_skills) LIKE '%postgres%'\n",
    "          )\n",
    "'''\n",
    "df = pd.read_sql_query(query_6_3, connection)"
   ]
  },
  {
   "cell_type": "code",
   "execution_count": 8,
   "metadata": {},
   "outputs": [
    {
     "name": "stdout",
     "output_type": "stream",
     "text": [
      "В базе содержится 201 вакансия для дата-сайентиста, где в качестве ключевого навыка указан SQL или postgres.\n"
     ]
    }
   ],
   "source": [
    "print(f\"В базе содержится {df.iloc[0, 0]} вакансия для дата-сайентиста, где в качестве ключевого навыка указан SQL или postgres.\")"
   ]
  },
  {
   "cell_type": "markdown",
   "metadata": {},
   "source": [
    "> 4. Проверьте, насколько популярен Python в требованиях работодателей к DS.Для этого вычислите количество вакансий, в которых в качестве ключевого навыка указан Python.\n",
    "> \n",
    "> **Это можно сделать помощью запроса, аналогичного предыдущему.*"
   ]
  },
  {
   "cell_type": "code",
   "execution_count": 9,
   "metadata": {},
   "outputs": [],
   "source": [
    "query_6_4 = f'''\n",
    "   SELECT count(DISTINCT v.id) AS cnt\n",
    "     FROM vacancies AS v\n",
    "    WHERE (\n",
    "          lower(v.name) LIKE '%data scientist%'\n",
    "       OR lower(v.name) LIKE '%data science%'\n",
    "       OR lower(v.name) LIKE '%исследователь данных%'\n",
    "       OR lower(v.name) LIKE '%machine learning%'\n",
    "       OR lower(v.name) LIKE '%машинн%обучен%'\n",
    "       OR (\n",
    "          v.name LIKE '%ML%'\n",
    "      AND v.name NOT LIKE '%HTML%'\n",
    "          )\n",
    "          )\n",
    "      AND lower(v.key_skills) LIKE '%python%'\n",
    "      \n",
    "'''\n",
    "df = pd.read_sql_query(query_6_4, connection)"
   ]
  },
  {
   "cell_type": "code",
   "execution_count": 10,
   "metadata": {},
   "outputs": [
    {
     "name": "stdout",
     "output_type": "stream",
     "text": [
      "В базе содержится 351 вакансия для дата-сайентиста, где в качестве ключевого навыка указан Python.\n"
     ]
    }
   ],
   "source": [
    "print(f\"В базе содержится {df.iloc[0, 0]} вакансия для дата-сайентиста, где в качестве ключевого навыка указан Python.\")"
   ]
  },
  {
   "cell_type": "markdown",
   "metadata": {},
   "source": [
    "> 5. Сколько ключевых навыков в среднем указывают в вакансиях для DS?\n",
    "> Ответ округлите до двух знаков после точки-разделителя."
   ]
  },
  {
   "cell_type": "code",
   "execution_count": 11,
   "metadata": {},
   "outputs": [],
   "source": [
    "query_6_5 = f'''\n",
    "   SELECT round(avg(cardinality), 2) AS avg_cnt\n",
    "     FROM (\n",
    "             SELECT cardinality(string_to_array(v.key_skills, '\\t')) AS cardinality\n",
    "               FROM vacancies AS v\n",
    "              WHERE (\n",
    "                    lower(v.name) LIKE '%data scientist%'\n",
    "                 OR lower(v.name) LIKE '%data science%'\n",
    "                 OR lower(v.name) LIKE '%исследователь данных%'\n",
    "                 OR lower(v.name) LIKE '%machine learning%'\n",
    "                 OR lower(v.name) LIKE '%машинн%обучен%'\n",
    "                 OR (\n",
    "                    v.name LIKE '%ML%'\n",
    "                AND v.name NOT LIKE '%HTML%'\n",
    "                    )\n",
    "                    )\n",
    "          ) AS subquery\n",
    ";\n",
    "'''\n",
    "df = pd.read_sql_query(query_6_5, connection)"
   ]
  },
  {
   "cell_type": "code",
   "execution_count": 12,
   "metadata": {},
   "outputs": [
    {
     "name": "stdout",
     "output_type": "stream",
     "text": [
      "В вакансиях для DS в среднем указывают 6.41 ключевых навыка.\n"
     ]
    }
   ],
   "source": [
    "print(f\"В вакансиях для DS в среднем указывают {df.iloc[0, 0]} ключевых навыка.\")"
   ]
  },
  {
   "cell_type": "markdown",
   "metadata": {},
   "source": [
    "> 6. Напишите запрос, позволяющий вычислить, какую зарплату для DS в **среднем** указывают для каждого типа требуемого опыта (уникальное значение из поля *experience*). \n",
    "> \n",
    "> При решении задачи примите во внимание следующее:\n",
    "> 1. Рассматриваем только вакансии, у которых заполнено хотя бы одно из двух полей с зарплатой.\n",
    "> 2. Если заполнены оба поля с зарплатой, то считаем зарплату по каждой вакансии как сумму двух полей, делённую на 2. Если заполнено только одно из полей, то его и считаем зарплатой по вакансии.\n",
    "> 3. Если в расчётах участвует null, в результате он тоже даст null (посмотрите, что возвращает запрос select 1 + null). Чтобы избежать этой ситуацию, мы воспользуемся функцией [coalesce](https://postgrespro.ru/docs/postgresql/9.5/functions-conditional#functions-coalesce-nvl-ifnull), которая заменит null на значение, которое мы передадим. Например, посмотрите, что возвращает запрос `select 1 + coalesce(null, 0)`\n",
    "> \n",
    "> Выясните, на какую зарплату в среднем может рассчитывать дата-сайентист с опытом работы от 3 до 6 лет. Результат округлите до целого числа. "
   ]
  },
  {
   "cell_type": "code",
   "execution_count": 15,
   "metadata": {},
   "outputs": [],
   "source": [
    "query_6_6 = f'''\n",
    "   SELECT v.experience AS experience,\n",
    "          avg(\n",
    "          (\n",
    "          coalesce(v.salary_from, v.salary_to) + coalesce(v.salary_to, salary_from)\n",
    "          ) / 2\n",
    "          ) AS avg_salary\n",
    "     FROM vacancies AS v\n",
    "    WHERE (\n",
    "          lower(v.name) LIKE '%data scientist%'\n",
    "       OR lower(v.name) LIKE '%data science%'\n",
    "       OR lower(v.name) LIKE '%исследователь данных%'\n",
    "       OR lower(v.name) LIKE '%machine learning%'\n",
    "       OR lower(v.name) LIKE '%машинн%обучен%'\n",
    "       OR (\n",
    "          v.name LIKE '%ML%'\n",
    "      AND v.name NOT LIKE '%HTML%'\n",
    "          )\n",
    "          )\n",
    "      AND (\n",
    "          v.salary_from IS NOT NULL\n",
    "       OR v.salary_to IS NOT NULL\n",
    "          )\n",
    " GROUP BY v.experience\n",
    ";\n",
    "'''\n",
    "df = pd.read_sql_query(query_6_6, connection)\n",
    "\n",
    "mask = df['experience'] == 'От 3 до 6 лет'\n",
    "source_salary = round(df[mask].iloc[0, 1])"
   ]
  },
  {
   "cell_type": "code",
   "execution_count": 16,
   "metadata": {},
   "outputs": [
    {
     "data": {
      "application/vnd.microsoft.datawrangler.viewer.v0+json": {
       "columns": [
        {
         "name": "index",
         "rawType": "int64",
         "type": "integer"
        },
        {
         "name": "experience",
         "rawType": "object",
         "type": "string"
        },
        {
         "name": "avg_salary",
         "rawType": "float64",
         "type": "float"
        }
       ],
       "conversionMethod": "pd.DataFrame",
       "ref": "1cdd4ba7-7543-4a52-8cad-72024dfb14e3",
       "rows": [
        [
         "0",
         "Нет опыта",
         "74642.85714285714"
        ],
        [
         "1",
         "От 1 года до 3 лет",
         "139674.75"
        ],
        [
         "2",
         "От 3 до 6 лет",
         "243114.66666666666"
        ]
       ],
       "shape": {
        "columns": 2,
        "rows": 3
       }
      },
      "text/html": [
       "<div>\n",
       "<style scoped>\n",
       "    .dataframe tbody tr th:only-of-type {\n",
       "        vertical-align: middle;\n",
       "    }\n",
       "\n",
       "    .dataframe tbody tr th {\n",
       "        vertical-align: top;\n",
       "    }\n",
       "\n",
       "    .dataframe thead th {\n",
       "        text-align: right;\n",
       "    }\n",
       "</style>\n",
       "<table border=\"1\" class=\"dataframe\">\n",
       "  <thead>\n",
       "    <tr style=\"text-align: right;\">\n",
       "      <th></th>\n",
       "      <th>experience</th>\n",
       "      <th>avg_salary</th>\n",
       "    </tr>\n",
       "  </thead>\n",
       "  <tbody>\n",
       "    <tr>\n",
       "      <th>0</th>\n",
       "      <td>Нет опыта</td>\n",
       "      <td>74642.857143</td>\n",
       "    </tr>\n",
       "    <tr>\n",
       "      <th>1</th>\n",
       "      <td>От 1 года до 3 лет</td>\n",
       "      <td>139674.750000</td>\n",
       "    </tr>\n",
       "    <tr>\n",
       "      <th>2</th>\n",
       "      <td>От 3 до 6 лет</td>\n",
       "      <td>243114.666667</td>\n",
       "    </tr>\n",
       "  </tbody>\n",
       "</table>\n",
       "</div>"
      ],
      "text/plain": [
       "           experience     avg_salary\n",
       "0           Нет опыта   74642.857143\n",
       "1  От 1 года до 3 лет  139674.750000\n",
       "2       От 3 до 6 лет  243114.666667"
      ]
     },
     "execution_count": 16,
     "metadata": {},
     "output_type": "execute_result"
    }
   ],
   "source": [
    "df"
   ]
  },
  {
   "cell_type": "code",
   "execution_count": 17,
   "metadata": {},
   "outputs": [
    {
     "name": "stdout",
     "output_type": "stream",
     "text": [
      "Дата-сайентист с опытом работы от 3 до 6 лет может рассчитывать на среднюю зарплату 243 115 ₽.\n"
     ]
    }
   ],
   "source": [
    "print(\n",
    "    \"Дата-сайентист с опытом работы от 3 до 6 лет может рассчитывать на среднюю зарплату \"\n",
    "    f\"{source_salary:,} \\u20BD.\".replace(\n",
    "        \",\", \" \"\n",
    "    )\n",
    ")"
   ]
  },
  {
   "cell_type": "code",
   "execution_count": 18,
   "metadata": {},
   "outputs": [],
   "source": [
    "connection.close()"
   ]
  },
  {
   "cell_type": "markdown",
   "metadata": {},
   "source": [
    "<a name=\"anchor7\"></a>\n",
    "## Юнит 7. Финальное задание и итоги\n",
    "---"
   ]
  }
 ],
 "metadata": {
  "kernelspec": {
   "display_name": "Python 3",
   "language": "python",
   "name": "python3"
  },
  "language_info": {
   "codemirror_mode": {
    "name": "ipython",
    "version": 3
   },
   "file_extension": ".py",
   "mimetype": "text/x-python",
   "name": "python",
   "nbconvert_exporter": "python",
   "pygments_lexer": "ipython3",
   "version": "3.12.9"
  }
 },
 "nbformat": 4,
 "nbformat_minor": 2
}
