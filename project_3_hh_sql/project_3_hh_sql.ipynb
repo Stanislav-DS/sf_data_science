{
 "cells": [
  {
   "cell_type": "markdown",
   "metadata": {},
   "source": [
    "<center> <img src = https://raw.githubusercontent.com/AndreyRysistov/DatasetsForPandas/main/hh%20label.jpg alt=\"drawing\" style=\"width:400px;\">"
   ]
  },
  {
   "cell_type": "markdown",
   "metadata": {},
   "source": [
    "# Проект. Анализ вакансий на HeadHunter"
   ]
  },
  {
   "cell_type": "markdown",
   "metadata": {},
   "source": [
    "## (1) Работа с базой данных из Python\n",
    "\n",
    "---"
   ]
  },
  {
   "cell_type": "markdown",
   "metadata": {},
   "source": [
    "В реальной деятельности дата-сайентисту требуется не только писать запрос к данным, но и затем обрабатывать его результаты с помощью *Python*. Для решения таких задач требуется некоторое средство, которое будет связывать *Python* и *PostgreSQL* так, чтобы мы могли с помощью *Python* отправлять запросы в *Postgres* и принимать оттуда результаты.\n",
    "\n",
    "Именно таким средством является пакет [psycopg2](https://www.psycopg.org/docs/), о котором мы сейчас и поговорим."
   ]
  },
  {
   "cell_type": "markdown",
   "metadata": {},
   "source": [
    "### Установка psycopg2\n",
    "\n",
    "```linux\n",
    "pip install psycopg2\n",
    "```"
   ]
  },
  {
   "cell_type": "markdown",
   "metadata": {},
   "source": [
    "Для подключения нам потребуются следующие данные:\n",
    "\n",
    "* dbname — название базы, к которой нужно подключиться;\n",
    "* user — имя пользователя в СУБД;\n",
    "* password — пароль;\n",
    "* host — адрес, по которому нужно подключиться;\n",
    "* port — порт, к которому нужно подключиться (по умолчанию равен 5432).\n",
    "\n",
    "Для нашей базы эти параметры сохранены в текущей директории в файле `config.ini`, который добавлен в список исключений `.gitignore` "
   ]
  },
  {
   "cell_type": "code",
   "execution_count": 1,
   "metadata": {},
   "outputs": [],
   "source": [
    "from bs4 import BeautifulSoup\n",
    "import configparser\n",
    "import pandas as pd\n",
    "import psycopg2\n",
    "import requests\n",
    "import warnings"
   ]
  },
  {
   "cell_type": "code",
   "execution_count": 2,
   "metadata": {},
   "outputs": [],
   "source": [
    "# Исключение предупреждающих сообщений из выходных данных ячеек\n",
    "warnings.simplefilter(action='ignore', category=FutureWarning)\n",
    "warnings.simplefilter(action='ignore', category=UserWarning)"
   ]
  },
  {
   "cell_type": "code",
   "execution_count": 3,
   "metadata": {},
   "outputs": [],
   "source": [
    "# Получение сведений об авторизации. Установление содинения с БД \n",
    "config = configparser.ConfigParser()\n",
    "config.read(\"config.ini\")\n",
    "connection = psycopg2.connect(\n",
    "    dbname=config.get(\"postgresql\", 'DBNAME'),\n",
    "    user=config.get(\"postgresql\", \"USER\"),\n",
    "    host=config.get(\"postgresql\", \"HOST\"),\n",
    "    password=config.get(\"postgresql\", \"PASSWORD\"),\n",
    "    port=config.get(\"postgresql\", \"PORT\"),\n",
    ")"
   ]
  },
  {
   "cell_type": "markdown",
   "metadata": {},
   "source": [
    "Запрос:"
   ]
  },
  {
   "cell_type": "code",
   "execution_count": 15,
   "metadata": {},
   "outputs": [],
   "source": [
    "# n = 10\n",
    "# query = f\"\"\"\n",
    "#     select *\n",
    "#     from vacancies\n",
    "#     limit {n}\n",
    "# \"\"\""
   ]
  },
  {
   "cell_type": "markdown",
   "metadata": {},
   "source": [
    "Выполнение запроса"
   ]
  },
  {
   "cell_type": "code",
   "execution_count": 14,
   "metadata": {},
   "outputs": [],
   "source": [
    "# df = pd.read_sql_query(query, connection)\n",
    "# connection.close()\n",
    "# df"
   ]
  },
  {
   "cell_type": "markdown",
   "metadata": {},
   "source": [
    " <a name=\"anchor1\"></a>\n",
    "## (2) Введение. Знакомство с данными\n",
    "---"
   ]
  },
  {
   "cell_type": "markdown",
   "metadata": {},
   "source": [
    "Представьте, что вы устроились на работу в кадровое агентство, которое подбирает вакансии для IT-специалистов. Ваш первый проект — создание модели машинного обучения, которая будет рекомендовать вакансии клиентам агентства, претендующим на позицию Data Scientist. Сначала вам необходимо понять, что из себя представляют данные и насколько они соответствуют целям проекта. В литературе эта часть работы над ML-проектом называется Data Understanding, или анализ данных."
   ]
  },
  {
   "cell_type": "markdown",
   "metadata": {},
   "source": [
    "Наш проект включает в себя несколько этапов:\n",
    "\n",
    "* знакомство с данными;\n",
    "* предварительный анализ данных;\n",
    "* детальный анализ вакансий;\n",
    "* анализ работодателей;\n",
    "* предметный анализ."
   ]
  },
  {
   "cell_type": "markdown",
   "metadata": {},
   "source": [
    "Каждая из частей будет состоять из блока практических заданий, которые вам необходимо выполнить в своих Jupyter-ноутбуках, и контрольных вопросов на платформе, которые проверяются автоматически.\n",
    "\n",
    "Также вам предстоит отправить свой код ментору для код-ревью. Вам будет предоставлен ноутбук-шаблон и требования, согласно которым вы должны оформить своё решение."
   ]
  },
  {
   "cell_type": "markdown",
   "metadata": {},
   "source": [
    "Требования к оформлению ноутбука-решения:\n",
    "\n",
    "* Решение оформляется только в Jupyter Notebook.\n",
    "* Решение оформляется в соответствии с [ноутбуком-шаблоном](https://lms.skillfactory.ru/asset-v1:SkillFactory+DST-3.0+28FEB2021+type@asset+block@Project_2_%D0%9D%D0%BE%D1%83%D1%82%D0%B1%D1%83%D0%BA_%D1%88%D0%B0%D0%B1%D0%BB%D0%BE%D0%BD.ipynb).\n",
    "* Каждое задание выполняется в отдельной ячейке, выделенной под задание (в шаблоне они помечены как ваш код здесь). Не следует создавать много ячеек для решения задачи — это провоцирует неудобства при проверке.\n",
    "* Текст SQL-запросов и код на Python должны быть читаемыми. Не забывайте про отступы в SQL-коде.\n",
    "* Выводы по каждому этапу оформляются в формате Markdown в отдельной ячейке (в шаблоне они помечены как ваши выводы здесь).\n",
    "* Выводы можно дополнительно проиллюстрировать с помощью графиков. Они оформляются в соответствии с теми правилами, которые мы приводили в модуле по визуализации данных.\n",
    "* Не забудьте удалить ячейку с данными соединения перед фиксацией работы в GitHub.\n",
    "\n"
   ]
  },
  {
   "cell_type": "markdown",
   "metadata": {},
   "source": [
    "### Знакомство с данными"
   ]
  },
  {
   "cell_type": "markdown",
   "metadata": {},
   "source": [
    "Все необходимые таблицы находятся в схеме public базы данных project_sql (именно эту базу вам необходимо указать в параметре dbname при подключении).\n",
    "\n",
    "То есть параметры подключения будут следующими: см. файл `config.ini`"
   ]
  },
  {
   "cell_type": "markdown",
   "metadata": {},
   "source": [
    "![](images/asset-v1%20SkillFactory+DST-3.0+28FEB2021+type@asset+block@SQL_pj2_2_1.png)"
   ]
  },
  {
   "cell_type": "markdown",
   "metadata": {},
   "source": [
    "Познакомимся с каждой таблицей."
   ]
  },
  {
   "cell_type": "markdown",
   "metadata": {},
   "source": [
    "vacancies\n",
    "\n",
    "![](images/asset-v1%20SkillFactory+DST-3.0+28FEB2021+type@asset+block@SQL_pj2_2_2.png)\n"
   ]
  },
  {
   "cell_type": "markdown",
   "metadata": {},
   "source": [
    "Зарплатная вилка — это верхняя и нижняя граница оплаты труда в рублях (зарплаты в других валютах уже переведены в рубли). Соискателям она показывает, в каком диапазоне компания готова платить сотруднику на этой должности."
   ]
  },
  {
   "cell_type": "markdown",
   "metadata": {},
   "source": [
    "areas\n",
    "\n",
    "Таблица-справочник, которая хранит код региона и его название.\n",
    "\n",
    "![](images/asset-v1%20SkillFactory+DST-3.0+28FEB2021+type@asset+block@SQL_pj2_2_3.png)"
   ]
  },
  {
   "cell_type": "markdown",
   "metadata": {},
   "source": [
    "employers\n",
    "\n",
    "Таблица-справочник со списком работодателей.\n",
    "\n",
    "![](images/asset-v1%20SkillFactory+DST-3.0+28FEB2021+type@asset+block@SQL_pj2_2_4.png)"
   ]
  },
  {
   "cell_type": "markdown",
   "metadata": {},
   "source": [
    "industries\n",
    "\n",
    "Таблица-справочник вариантов сфер деятельности работодателей.\n",
    "\n",
    "![](images/asset-v1%20SkillFactory+DST-3.0+28FEB2021+type@asset+block@SQL_pj2_2_5.png)"
   ]
  },
  {
   "cell_type": "markdown",
   "metadata": {},
   "source": [
    "employers_industries\n",
    "\n",
    "Дополнительная таблица, которая существует для организации связи между работодателями и сферами их деятельности.\n",
    "\n",
    "Эта таблица нужна нам, поскольку у одного работодателя может быть несколько сфер деятельности (или работодатели могут вовсе не указать их). Для удобства анализа необходимо хранить запись по каждой сфере каждого работодателя в отдельной строке таблицы.\n",
    "\n",
    "![](images/asset-v1%20SkillFactory+DST-3.0+28FEB2021+type@asset+block@SQL_pj2_2_6.png)"
   ]
  },
  {
   "cell_type": "markdown",
   "metadata": {},
   "source": [
    "## (3) Предварительный анализ данных\n",
    "---"
   ]
  },
  {
   "cell_type": "markdown",
   "metadata": {},
   "source": [
    "1. Напишите запрос, который посчитает количество вакансий в нашей базе (вакансии находятся в таблице vacancies). "
   ]
  },
  {
   "cell_type": "code",
   "execution_count": 5,
   "metadata": {},
   "outputs": [],
   "source": [
    "# текст запроса\n",
    "query_3_1 = f'''\n",
    "    select \n",
    "        count(*)\n",
    "    from\n",
    "        vacancies\n",
    "'''\n",
    "df = pd.read_sql_query(query_3_1, connection)"
   ]
  },
  {
   "cell_type": "code",
   "execution_count": 6,
   "metadata": {},
   "outputs": [
    {
     "name": "stdout",
     "output_type": "stream",
     "text": [
      "В базе содержится 49197 вакансий.\n"
     ]
    }
   ],
   "source": [
    "# результат запроса\n",
    "print(f\"В базе содержится {df.iloc[0, 0]} вакансий.\")"
   ]
  },
  {
   "cell_type": "markdown",
   "metadata": {},
   "source": [
    "2. Напишите запрос, который посчитает количество работодателей (таблица employers). "
   ]
  },
  {
   "cell_type": "code",
   "execution_count": 32,
   "metadata": {},
   "outputs": [],
   "source": [
    "# текст запроса\n",
    "query_3_2 = f'''\n",
    "    select \n",
    "        count(*)\n",
    "    from\n",
    "        employers\n",
    "'''\n",
    "df = pd.read_sql_query(query_3_2, connection)"
   ]
  },
  {
   "cell_type": "code",
   "execution_count": 33,
   "metadata": {},
   "outputs": [
    {
     "name": "stdout",
     "output_type": "stream",
     "text": [
      "В базе содержится 23501 работодателей.\n"
     ]
    }
   ],
   "source": [
    "# результат запроса\n",
    "print(f\"В базе содержится {df.iloc[0, 0]} работодателей.\")"
   ]
  },
  {
   "cell_type": "markdown",
   "metadata": {},
   "source": [
    "3. Посчитате с помощью запроса количество регионов (таблица areas)."
   ]
  },
  {
   "cell_type": "code",
   "execution_count": 35,
   "metadata": {},
   "outputs": [],
   "source": [
    "# текст запроса\n",
    "query_3_3 = f'''\n",
    "    select \n",
    "        count(*)\n",
    "    from\n",
    "        areas\n",
    "'''\n",
    "df = pd.read_sql_query(query_3_3, connection)"
   ]
  },
  {
   "cell_type": "code",
   "execution_count": 37,
   "metadata": {},
   "outputs": [
    {
     "name": "stdout",
     "output_type": "stream",
     "text": [
      "В базе содержится 1362 региона.\n"
     ]
    }
   ],
   "source": [
    "# результат запроса\n",
    "print(f\"В базе содержится {df.iloc[0, 0]} региона.\")"
   ]
  },
  {
   "cell_type": "markdown",
   "metadata": {},
   "source": [
    "4. Посчитате с помощью запроса количество сфер деятельности в базе (таблица industries)."
   ]
  },
  {
   "cell_type": "code",
   "execution_count": 38,
   "metadata": {},
   "outputs": [],
   "source": [
    "# текст запроса\n",
    "query_3_4 = f'''\n",
    "    select \n",
    "        count(*)\n",
    "    from\n",
    "        industries\n",
    "'''\n",
    "df = pd.read_sql_query(query_3_4, connection)"
   ]
  },
  {
   "cell_type": "code",
   "execution_count": 40,
   "metadata": {},
   "outputs": [
    {
     "name": "stdout",
     "output_type": "stream",
     "text": [
      "В базе содержится 294 сферы деятельности.\n"
     ]
    }
   ],
   "source": [
    "# результат запроса\n",
    "print(f\"В базе содержится {df.iloc[0, 0]} сферы деятельности.\")"
   ]
  },
  {
   "cell_type": "markdown",
   "metadata": {},
   "source": [
    "## (4) Детальный анализ ваканский\n",
    "---"
   ]
  },
  {
   "cell_type": "markdown",
   "metadata": {},
   "source": [
    "1. Напишите запрос, который позволит узнать, сколько (cnt) вакансий в каждом регионе (area).\n",
    "Отсортируйте по количеству вакансий в порядке убывания."
   ]
  },
  {
   "cell_type": "code",
   "execution_count": 32,
   "metadata": {},
   "outputs": [],
   "source": [
    "# текст запроса\n",
    "query_4_1 = f'''\n",
    "    select\n",
    "        a.name as area,\n",
    "        count(v.id) as cnt\n",
    "    from\n",
    "        areas as a\n",
    "        join vacancies as v on a.id = v.area_id\n",
    "    group by\n",
    "        a.id\n",
    "    order by\n",
    "        2 desc\n",
    "    limit\n",
    "        5\n",
    "'''\n",
    "df = pd.read_sql_query(query_4_1, connection)"
   ]
  },
  {
   "cell_type": "code",
   "execution_count": 33,
   "metadata": {},
   "outputs": [
    {
     "name": "stdout",
     "output_type": "stream",
     "text": [
      "Количество вакансий по регионам РФ (5-ка лидеров)\n"
     ]
    },
    {
     "data": {
      "text/html": [
       "<div>\n",
       "<style scoped>\n",
       "    .dataframe tbody tr th:only-of-type {\n",
       "        vertical-align: middle;\n",
       "    }\n",
       "\n",
       "    .dataframe tbody tr th {\n",
       "        vertical-align: top;\n",
       "    }\n",
       "\n",
       "    .dataframe thead th {\n",
       "        text-align: right;\n",
       "    }\n",
       "</style>\n",
       "<table border=\"1\" class=\"dataframe\">\n",
       "  <thead>\n",
       "    <tr style=\"text-align: right;\">\n",
       "      <th></th>\n",
       "      <th>area</th>\n",
       "      <th>cnt</th>\n",
       "    </tr>\n",
       "  </thead>\n",
       "  <tbody>\n",
       "    <tr>\n",
       "      <th>0</th>\n",
       "      <td>Москва</td>\n",
       "      <td>5333</td>\n",
       "    </tr>\n",
       "    <tr>\n",
       "      <th>1</th>\n",
       "      <td>Санкт-Петербург</td>\n",
       "      <td>2851</td>\n",
       "    </tr>\n",
       "    <tr>\n",
       "      <th>2</th>\n",
       "      <td>Минск</td>\n",
       "      <td>2112</td>\n",
       "    </tr>\n",
       "    <tr>\n",
       "      <th>3</th>\n",
       "      <td>Новосибирск</td>\n",
       "      <td>2006</td>\n",
       "    </tr>\n",
       "    <tr>\n",
       "      <th>4</th>\n",
       "      <td>Алматы</td>\n",
       "      <td>1892</td>\n",
       "    </tr>\n",
       "  </tbody>\n",
       "</table>\n",
       "</div>"
      ],
      "text/plain": [
       "              area   cnt\n",
       "0           Москва  5333\n",
       "1  Санкт-Петербург  2851\n",
       "2            Минск  2112\n",
       "3      Новосибирск  2006\n",
       "4           Алматы  1892"
      ]
     },
     "metadata": {},
     "output_type": "display_data"
    }
   ],
   "source": [
    "print(\"Количество вакансий по регионам РФ (5-ка лидеров)\")\n",
    "display(df)"
   ]
  },
  {
   "cell_type": "markdown",
   "metadata": {},
   "source": [
    "2. Напишите запрос, чтобы определить у какого количества вакансий заполнено хотя бы одно из двух полей с зарплатой."
   ]
  },
  {
   "cell_type": "code",
   "execution_count": 5,
   "metadata": {},
   "outputs": [],
   "source": [
    "# текст запроса\n",
    "query_4_2 = f'''\n",
    "    select\n",
    "        count(*)\n",
    "    from\n",
    "        vacancies as v\n",
    "    where\n",
    "        v.salary_from is not null\n",
    "        or v.salary_to is not null\n",
    "'''\n",
    "df = pd.read_sql_query(query_4_2, connection)"
   ]
  },
  {
   "cell_type": "code",
   "execution_count": 6,
   "metadata": {},
   "outputs": [
    {
     "name": "stdout",
     "output_type": "stream",
     "text": [
      "Количество вакансий, где заполнено хотя бы одно из полей с зарплатой, составляет 24073.\n"
     ]
    }
   ],
   "source": [
    "print(f\"Количество вакансий, где заполнено хотя бы одно из полей с зарплатой, составляет {df.iloc[0, 0]}.\")"
   ]
  },
  {
   "cell_type": "markdown",
   "metadata": {},
   "source": [
    "3. Найдите средние значения для нижней и верхней границы зарплатной вилки. Округлите значения до целого."
   ]
  },
  {
   "cell_type": "code",
   "execution_count": 72,
   "metadata": {},
   "outputs": [],
   "source": [
    "# текст запроса\n",
    "query_4_3_1 = f'''\n",
    "    select\n",
    "        round(avg(salary_from))\n",
    "    from\n",
    "        vacancies\n",
    "'''\n",
    "query_4_3_2 = f'''\n",
    "    select\n",
    "        round(avg(salary_to))\n",
    "    from\n",
    "        vacancies\n",
    "'''\n",
    "\n",
    "mean_salary_from = int(pd.read_sql_query(query_4_3_1, connection).iloc[0, 0])\n",
    "mean_salary_to = int(pd.read_sql_query(query_4_3_2, connection).iloc[0, 0])"
   ]
  },
  {
   "cell_type": "code",
   "execution_count": 79,
   "metadata": {},
   "outputs": [
    {
     "name": "stdout",
     "output_type": "stream",
     "text": [
      "Среднее значение зарплаты:\n",
      "    • для нижней границы составляет 71 065 ₽;\n",
      "    • для верхней границы составляет 110 537 ₽.\n"
     ]
    }
   ],
   "source": [
    "print(\"Среднее значение зарплаты:\")\n",
    "print(f\"    \\u2022 для нижней границы составляет {mean_salary_from:,} \\u20BD;\".replace(\",\", \" \"))\n",
    "print(f\"    \\u2022 для верхней границы составляет {mean_salary_to:,} \\u20BD.\".replace(\",\", \" \"))"
   ]
  },
  {
   "cell_type": "markdown",
   "metadata": {},
   "source": [
    "4. Напишите запрос, который выведет количество вакансий для каждого сочетания типа рабочего графика (schedule) и типа трудоустройства (employment), используемого в вакансиях. Результат отсортируйте по убыванию количества.\n"
   ]
  },
  {
   "cell_type": "code",
   "execution_count": 6,
   "metadata": {},
   "outputs": [],
   "source": [
    "query_4_4 = f'''\n",
    "    select\n",
    "        schedule,\n",
    "        employment,\n",
    "        count(*)\n",
    "    from\n",
    "        vacancies\n",
    "    group by\n",
    "        schedule,\n",
    "        employment\n",
    "    order by\n",
    "        3 DESC\n",
    "'''\n",
    "df = pd.read_sql_query(query_4_4, connection)"
   ]
  },
  {
   "cell_type": "code",
   "execution_count": 7,
   "metadata": {},
   "outputs": [
    {
     "data": {
      "text/html": [
       "<div>\n",
       "<style scoped>\n",
       "    .dataframe tbody tr th:only-of-type {\n",
       "        vertical-align: middle;\n",
       "    }\n",
       "\n",
       "    .dataframe tbody tr th {\n",
       "        vertical-align: top;\n",
       "    }\n",
       "\n",
       "    .dataframe thead th {\n",
       "        text-align: right;\n",
       "    }\n",
       "</style>\n",
       "<table border=\"1\" class=\"dataframe\">\n",
       "  <thead>\n",
       "    <tr style=\"text-align: right;\">\n",
       "      <th></th>\n",
       "      <th>schedule</th>\n",
       "      <th>employment</th>\n",
       "      <th>count</th>\n",
       "    </tr>\n",
       "  </thead>\n",
       "  <tbody>\n",
       "    <tr>\n",
       "      <th>0</th>\n",
       "      <td>Полный день</td>\n",
       "      <td>Полная занятость</td>\n",
       "      <td>35367</td>\n",
       "    </tr>\n",
       "    <tr>\n",
       "      <th>1</th>\n",
       "      <td>Удаленная работа</td>\n",
       "      <td>Полная занятость</td>\n",
       "      <td>7802</td>\n",
       "    </tr>\n",
       "    <tr>\n",
       "      <th>2</th>\n",
       "      <td>Гибкий график</td>\n",
       "      <td>Полная занятость</td>\n",
       "      <td>1593</td>\n",
       "    </tr>\n",
       "    <tr>\n",
       "      <th>3</th>\n",
       "      <td>Удаленная работа</td>\n",
       "      <td>Частичная занятость</td>\n",
       "      <td>1312</td>\n",
       "    </tr>\n",
       "    <tr>\n",
       "      <th>4</th>\n",
       "      <td>Сменный график</td>\n",
       "      <td>Полная занятость</td>\n",
       "      <td>940</td>\n",
       "    </tr>\n",
       "    <tr>\n",
       "      <th>5</th>\n",
       "      <td>Полный день</td>\n",
       "      <td>Стажировка</td>\n",
       "      <td>569</td>\n",
       "    </tr>\n",
       "    <tr>\n",
       "      <th>6</th>\n",
       "      <td>Вахтовый метод</td>\n",
       "      <td>Полная занятость</td>\n",
       "      <td>367</td>\n",
       "    </tr>\n",
       "    <tr>\n",
       "      <th>7</th>\n",
       "      <td>Полный день</td>\n",
       "      <td>Частичная занятость</td>\n",
       "      <td>347</td>\n",
       "    </tr>\n",
       "    <tr>\n",
       "      <th>8</th>\n",
       "      <td>Гибкий график</td>\n",
       "      <td>Частичная занятость</td>\n",
       "      <td>312</td>\n",
       "    </tr>\n",
       "    <tr>\n",
       "      <th>9</th>\n",
       "      <td>Полный день</td>\n",
       "      <td>Проектная работа</td>\n",
       "      <td>141</td>\n",
       "    </tr>\n",
       "    <tr>\n",
       "      <th>10</th>\n",
       "      <td>Удаленная работа</td>\n",
       "      <td>Проектная работа</td>\n",
       "      <td>133</td>\n",
       "    </tr>\n",
       "    <tr>\n",
       "      <th>11</th>\n",
       "      <td>Гибкий график</td>\n",
       "      <td>Стажировка</td>\n",
       "      <td>116</td>\n",
       "    </tr>\n",
       "    <tr>\n",
       "      <th>12</th>\n",
       "      <td>Сменный график</td>\n",
       "      <td>Частичная занятость</td>\n",
       "      <td>101</td>\n",
       "    </tr>\n",
       "    <tr>\n",
       "      <th>13</th>\n",
       "      <td>Удаленная работа</td>\n",
       "      <td>Стажировка</td>\n",
       "      <td>64</td>\n",
       "    </tr>\n",
       "    <tr>\n",
       "      <th>14</th>\n",
       "      <td>Гибкий график</td>\n",
       "      <td>Проектная работа</td>\n",
       "      <td>18</td>\n",
       "    </tr>\n",
       "    <tr>\n",
       "      <th>15</th>\n",
       "      <td>Сменный график</td>\n",
       "      <td>Стажировка</td>\n",
       "      <td>12</td>\n",
       "    </tr>\n",
       "    <tr>\n",
       "      <th>16</th>\n",
       "      <td>Вахтовый метод</td>\n",
       "      <td>Проектная работа</td>\n",
       "      <td>2</td>\n",
       "    </tr>\n",
       "    <tr>\n",
       "      <th>17</th>\n",
       "      <td>Сменный график</td>\n",
       "      <td>Проектная работа</td>\n",
       "      <td>1</td>\n",
       "    </tr>\n",
       "  </tbody>\n",
       "</table>\n",
       "</div>"
      ],
      "text/plain": [
       "            schedule           employment  count\n",
       "0        Полный день     Полная занятость  35367\n",
       "1   Удаленная работа     Полная занятость   7802\n",
       "2      Гибкий график     Полная занятость   1593\n",
       "3   Удаленная работа  Частичная занятость   1312\n",
       "4     Сменный график     Полная занятость    940\n",
       "5        Полный день           Стажировка    569\n",
       "6     Вахтовый метод     Полная занятость    367\n",
       "7        Полный день  Частичная занятость    347\n",
       "8      Гибкий график  Частичная занятость    312\n",
       "9        Полный день     Проектная работа    141\n",
       "10  Удаленная работа     Проектная работа    133\n",
       "11     Гибкий график           Стажировка    116\n",
       "12    Сменный график  Частичная занятость    101\n",
       "13  Удаленная работа           Стажировка     64\n",
       "14     Гибкий график     Проектная работа     18\n",
       "15    Сменный график           Стажировка     12\n",
       "16    Вахтовый метод     Проектная работа      2\n",
       "17    Сменный график     Проектная работа      1"
      ]
     },
     "execution_count": 7,
     "metadata": {},
     "output_type": "execute_result"
    }
   ],
   "source": [
    "df"
   ]
  },
  {
   "cell_type": "code",
   "execution_count": 15,
   "metadata": {},
   "outputs": [
    {
     "name": "stdout",
     "output_type": "stream",
     "text": [
      "На втором месте по популярности находится <Удаленная работа — Полная занятость>\n"
     ]
    }
   ],
   "source": [
    "print(f\"На втором месте по популярности находится <{df.iloc[1, 0]} \\u2014 {df.iloc[1, 1]}>\")"
   ]
  },
  {
   "cell_type": "markdown",
   "metadata": {},
   "source": [
    "5. Напишите запрос, выводящий значения поля Требуемый опыт работы (experience) в порядке возрастания количества вакансий, в которых указан данный вариант опыта. "
   ]
  },
  {
   "cell_type": "code",
   "execution_count": 20,
   "metadata": {},
   "outputs": [],
   "source": [
    "query_4_5 = f'''\n",
    "    select\n",
    "        experience,\n",
    "        count(*)\n",
    "    from\n",
    "        vacancies\n",
    "    group by\n",
    "        experience\n",
    "    order by\n",
    "        2\n",
    "'''\n",
    "df = pd.read_sql_query(query_4_5, connection)"
   ]
  },
  {
   "cell_type": "code",
   "execution_count": 21,
   "metadata": {},
   "outputs": [
    {
     "data": {
      "text/html": [
       "<div>\n",
       "<style scoped>\n",
       "    .dataframe tbody tr th:only-of-type {\n",
       "        vertical-align: middle;\n",
       "    }\n",
       "\n",
       "    .dataframe tbody tr th {\n",
       "        vertical-align: top;\n",
       "    }\n",
       "\n",
       "    .dataframe thead th {\n",
       "        text-align: right;\n",
       "    }\n",
       "</style>\n",
       "<table border=\"1\" class=\"dataframe\">\n",
       "  <thead>\n",
       "    <tr style=\"text-align: right;\">\n",
       "      <th></th>\n",
       "      <th>experience</th>\n",
       "      <th>count</th>\n",
       "    </tr>\n",
       "  </thead>\n",
       "  <tbody>\n",
       "    <tr>\n",
       "      <th>0</th>\n",
       "      <td>Более 6 лет</td>\n",
       "      <td>1337</td>\n",
       "    </tr>\n",
       "    <tr>\n",
       "      <th>1</th>\n",
       "      <td>Нет опыта</td>\n",
       "      <td>7197</td>\n",
       "    </tr>\n",
       "    <tr>\n",
       "      <th>2</th>\n",
       "      <td>От 3 до 6 лет</td>\n",
       "      <td>14511</td>\n",
       "    </tr>\n",
       "    <tr>\n",
       "      <th>3</th>\n",
       "      <td>От 1 года до 3 лет</td>\n",
       "      <td>26152</td>\n",
       "    </tr>\n",
       "  </tbody>\n",
       "</table>\n",
       "</div>"
      ],
      "text/plain": [
       "           experience  count\n",
       "0         Более 6 лет   1337\n",
       "1           Нет опыта   7197\n",
       "2       От 3 до 6 лет  14511\n",
       "3  От 1 года до 3 лет  26152"
      ]
     },
     "execution_count": 21,
     "metadata": {},
     "output_type": "execute_result"
    }
   ],
   "source": [
    "df"
   ]
  },
  {
   "cell_type": "markdown",
   "metadata": {},
   "source": [
    "## (5) Анализ работодателей\n",
    "---"
   ]
  },
  {
   "cell_type": "markdown",
   "metadata": {},
   "source": [
    "1. Напишите запрос, который позволит узнать, какие работодатели находятся на первом и пятом месте по количеству вакансий."
   ]
  },
  {
   "cell_type": "code",
   "execution_count": 23,
   "metadata": {},
   "outputs": [],
   "source": [
    "query_5_1 = f'''\n",
    "    select\n",
    "        e.name,\n",
    "        count(*)\n",
    "    from\n",
    "        employers as e\n",
    "        join vacancies as v on e.id = v.employer_id\n",
    "    group by\n",
    "        e.id,\n",
    "        e.name\n",
    "    order by\n",
    "        2 DESC\n",
    "'''\n",
    "df = pd.read_sql_query(query_5_1, connection)"
   ]
  },
  {
   "cell_type": "code",
   "execution_count": 26,
   "metadata": {},
   "outputs": [
    {
     "name": "stdout",
     "output_type": "stream",
     "text": [
      "На первом и пятом месте по количеству вакансий находятся Яндекс и Газпром нефть.\n"
     ]
    }
   ],
   "source": [
    "print(f\"На первом и пятом месте по количеству вакансий находятся {df['name'].iloc[0]} и {df['name'].iloc[4]}.\")"
   ]
  },
  {
   "cell_type": "markdown",
   "metadata": {},
   "source": [
    "2. Напишите запрос, который для каждого региона выведет количество работодателей и вакансий в нём.\n",
    "Среди регионов, в которых нет вакансий, найдите тот, в котором наибольшее количество работодателей.\n"
   ]
  },
  {
   "cell_type": "code",
   "execution_count": 18,
   "metadata": {},
   "outputs": [],
   "source": [
    "query_5_2 = f'''\n",
    "    with areas_vacancies_cnt as (\n",
    "        select\n",
    "            a.id,\n",
    "            a.name as name,\n",
    "            count(v.id) as vacancies_cnt\n",
    "        from \n",
    "            areas as a\n",
    "            left join vacancies as v on a.id = v.area_id\n",
    "        group by\n",
    "            a.id,\n",
    "            a.name\n",
    "    )\n",
    "    select\n",
    "        av.name,\n",
    "        av.vacancies_cnt,\n",
    "        count(e.id) as employers_cnt\n",
    "    from\n",
    "        areas_vacancies_cnt as av\n",
    "        left join employers as e on e.area = av.id\n",
    "    group by\n",
    "        av.id,\n",
    "        av.name,\n",
    "        av.vacancies_cnt\n",
    "    having\n",
    "        vacancies_cnt = 0\n",
    "    order by\n",
    "        3 desc\n",
    "    limit\n",
    "        1\n",
    "\n",
    "'''\n",
    "df = pd.read_sql_query(query_5_2, connection)"
   ]
  },
  {
   "cell_type": "code",
   "execution_count": 19,
   "metadata": {},
   "outputs": [
    {
     "data": {
      "text/html": [
       "<div>\n",
       "<style scoped>\n",
       "    .dataframe tbody tr th:only-of-type {\n",
       "        vertical-align: middle;\n",
       "    }\n",
       "\n",
       "    .dataframe tbody tr th {\n",
       "        vertical-align: top;\n",
       "    }\n",
       "\n",
       "    .dataframe thead th {\n",
       "        text-align: right;\n",
       "    }\n",
       "</style>\n",
       "<table border=\"1\" class=\"dataframe\">\n",
       "  <thead>\n",
       "    <tr style=\"text-align: right;\">\n",
       "      <th></th>\n",
       "      <th>name</th>\n",
       "      <th>vacancies_cnt</th>\n",
       "      <th>employers_cnt</th>\n",
       "    </tr>\n",
       "  </thead>\n",
       "  <tbody>\n",
       "    <tr>\n",
       "      <th>0</th>\n",
       "      <td>Россия</td>\n",
       "      <td>0</td>\n",
       "      <td>410</td>\n",
       "    </tr>\n",
       "  </tbody>\n",
       "</table>\n",
       "</div>"
      ],
      "text/plain": [
       "     name  vacancies_cnt  employers_cnt\n",
       "0  Россия              0            410"
      ]
     },
     "execution_count": 19,
     "metadata": {},
     "output_type": "execute_result"
    }
   ],
   "source": [
    "df"
   ]
  },
  {
   "cell_type": "markdown",
   "metadata": {},
   "source": [
    "3. Для каждого работодателя посчитайте количество регионов, в которых он публикует свои вакансии. Отсортируйте результат по убыванию количества.\n"
   ]
  },
  {
   "cell_type": "code",
   "execution_count": 27,
   "metadata": {},
   "outputs": [],
   "source": [
    "query_5_3 = f'''\n",
    "    select\n",
    "        e.name as employer_name,\n",
    "        count(distinct v.area_id) as areas_cnt\n",
    "    from\n",
    "        employers as e\n",
    "        join vacancies as v on e.id = v.employer_id\n",
    "    group by\n",
    "        e.id,\n",
    "        e.name\n",
    "    order by\n",
    "        2 DESC\n",
    "'''\n",
    "df = pd.read_sql_query(query_5_3, connection)"
   ]
  },
  {
   "cell_type": "code",
   "execution_count": 28,
   "metadata": {},
   "outputs": [
    {
     "data": {
      "text/html": [
       "<div>\n",
       "<style scoped>\n",
       "    .dataframe tbody tr th:only-of-type {\n",
       "        vertical-align: middle;\n",
       "    }\n",
       "\n",
       "    .dataframe tbody tr th {\n",
       "        vertical-align: top;\n",
       "    }\n",
       "\n",
       "    .dataframe thead th {\n",
       "        text-align: right;\n",
       "    }\n",
       "</style>\n",
       "<table border=\"1\" class=\"dataframe\">\n",
       "  <thead>\n",
       "    <tr style=\"text-align: right;\">\n",
       "      <th></th>\n",
       "      <th>employer_name</th>\n",
       "      <th>areas_cnt</th>\n",
       "    </tr>\n",
       "  </thead>\n",
       "  <tbody>\n",
       "    <tr>\n",
       "      <th>0</th>\n",
       "      <td>Яндекс</td>\n",
       "      <td>181</td>\n",
       "    </tr>\n",
       "    <tr>\n",
       "      <th>1</th>\n",
       "      <td>Ростелеком</td>\n",
       "      <td>152</td>\n",
       "    </tr>\n",
       "    <tr>\n",
       "      <th>2</th>\n",
       "      <td>Спецремонт</td>\n",
       "      <td>116</td>\n",
       "    </tr>\n",
       "    <tr>\n",
       "      <th>3</th>\n",
       "      <td>Поляков Денис Иванович</td>\n",
       "      <td>88</td>\n",
       "    </tr>\n",
       "    <tr>\n",
       "      <th>4</th>\n",
       "      <td>ООО ЕФИН</td>\n",
       "      <td>71</td>\n",
       "    </tr>\n",
       "    <tr>\n",
       "      <th>...</th>\n",
       "      <td>...</td>\n",
       "      <td>...</td>\n",
       "    </tr>\n",
       "    <tr>\n",
       "      <th>14901</th>\n",
       "      <td>НПП Авиатрон</td>\n",
       "      <td>1</td>\n",
       "    </tr>\n",
       "    <tr>\n",
       "      <th>14902</th>\n",
       "      <td>Центр дистанционных торгов</td>\n",
       "      <td>1</td>\n",
       "    </tr>\n",
       "    <tr>\n",
       "      <th>14903</th>\n",
       "      <td>Городские Телекоммуникационные Системы</td>\n",
       "      <td>1</td>\n",
       "    </tr>\n",
       "    <tr>\n",
       "      <th>14904</th>\n",
       "      <td>Введенский, Отель</td>\n",
       "      <td>1</td>\n",
       "    </tr>\n",
       "    <tr>\n",
       "      <th>14905</th>\n",
       "      <td>Группа Компаний Автоимпорт</td>\n",
       "      <td>1</td>\n",
       "    </tr>\n",
       "  </tbody>\n",
       "</table>\n",
       "<p>14906 rows × 2 columns</p>\n",
       "</div>"
      ],
      "text/plain": [
       "                                employer_name  areas_cnt\n",
       "0                                      Яндекс        181\n",
       "1                                  Ростелеком        152\n",
       "2                                  Спецремонт        116\n",
       "3                      Поляков Денис Иванович         88\n",
       "4                                   ООО ЕФИН          71\n",
       "...                                       ...        ...\n",
       "14901                            НПП Авиатрон          1\n",
       "14902              Центр дистанционных торгов          1\n",
       "14903  Городские Телекоммуникационные Системы          1\n",
       "14904                       Введенский, Отель          1\n",
       "14905              Группа Компаний Автоимпорт          1\n",
       "\n",
       "[14906 rows x 2 columns]"
      ]
     },
     "execution_count": 28,
     "metadata": {},
     "output_type": "execute_result"
    }
   ],
   "source": [
    "df"
   ]
  },
  {
   "cell_type": "markdown",
   "metadata": {},
   "source": [
    "4. Напишите запрос для подсчёта количества работодателей, у которых не указана сфера деятельности. "
   ]
  },
  {
   "cell_type": "code",
   "execution_count": 7,
   "metadata": {},
   "outputs": [],
   "source": [
    "query_5_4 = f'''\n",
    "    select \n",
    "        count(distinct e.id)\n",
    "    from \n",
    "        employers e\n",
    "        left join employers_industries ei on e.id = ei.employer_id\n",
    "    where \n",
    "        ei.employer_id IS NULL\n",
    "'''\n",
    "df = pd.read_sql_query(query_5_4, connection)"
   ]
  },
  {
   "cell_type": "code",
   "execution_count": 8,
   "metadata": {},
   "outputs": [
    {
     "name": "stdout",
     "output_type": "stream",
     "text": [
      "Количество работодателей, у которых не указана сфера деятельности, составляет 8419.\n"
     ]
    }
   ],
   "source": [
    "print(f\"Количество работодателей, у которых не указана сфера деятельности, составляет {df.iloc[0, 0]}.\")"
   ]
  },
  {
   "cell_type": "markdown",
   "metadata": {},
   "source": [
    "5. Напишите запрос, чтобы узнать название компании, находящейся на третьем месте в алфавитном списке (по названию) компаний, у которых указано четыре сферы деятельности."
   ]
  },
  {
   "cell_type": "code",
   "execution_count": 71,
   "metadata": {},
   "outputs": [],
   "source": [
    "query_5_5 = f'''\n",
    "    select\n",
    "        e.name, \n",
    "        count(distinct ei.industry_id)\n",
    "    from \n",
    "        employers e\n",
    "        left join employers_industries ei on e.id = ei.employer_id\n",
    "    group by\n",
    "        e.id\n",
    "    having\n",
    "        count(distinct ei.industry_id) = 4\n",
    "    order by\n",
    "        1\n",
    "    limit\n",
    "        3 \n",
    "    \n",
    "'''\n",
    "df = pd.read_sql_query(query_5_5, connection)"
   ]
  },
  {
   "cell_type": "code",
   "execution_count": 75,
   "metadata": {},
   "outputs": [
    {
     "name": "stdout",
     "output_type": "stream",
     "text": [
      "Компания, находящаяся на третьем месте в алфавитном списке (по названию) компаний,\n",
      "у которых указано четыре сферы деятельности, является <2ГИС>\n"
     ]
    }
   ],
   "source": [
    "print(\"Компания, находящаяся на третьем месте в алфавитном списке (по названию) компаний,\\n\" \n",
    "      f\"у которых указано четыре сферы деятельности, является <{df.iloc[2, 0]}>\")"
   ]
  },
  {
   "cell_type": "markdown",
   "metadata": {},
   "source": [
    "6. С помощью запроса выясните, у какого количества работодателей в качестве сферы деятельности указана Разработка программного обеспечения.\n"
   ]
  },
  {
   "cell_type": "code",
   "execution_count": 15,
   "metadata": {},
   "outputs": [],
   "source": [
    "source_industry = \"Разработка программного обеспечения\"\n",
    "query_5_6 = f'''\n",
    "    select\n",
    "        count(distinct e.id) as количество_работодателей\n",
    "    from\n",
    "        employers e\n",
    "        join employers_industries ei on e.id = ei.employer_id\n",
    "        join industries i on ei.industry_id = i.id\n",
    "    where\n",
    "        i.name = '{source_industry}';\n",
    "'''\n",
    "df = pd.read_sql_query(query_5_6, connection)"
   ]
  },
  {
   "cell_type": "code",
   "execution_count": 17,
   "metadata": {},
   "outputs": [
    {
     "name": "stdout",
     "output_type": "stream",
     "text": [
      "Количество работодателей, занимающихся разработкой программного обеспечения, составляет 3553.\n"
     ]
    }
   ],
   "source": [
    "print(f\"Количество работодателей, занимающихся разработкой программного обеспечения, составляет {df.iloc[0,0]}.\")"
   ]
  },
  {
   "cell_type": "markdown",
   "metadata": {},
   "source": [
    "7. Для компании «Яндекс» выведите список регионов-миллионников, в которых представлены вакансии компании, вместе с количеством вакансий в этих регионах. Также добавьте строку Total с общим количеством вакансий компании. Результат отсортируйте по возрастанию количества.\n",
    "\n",
    "Список городов-милионников надо взять [отсюда](https://ru.wikipedia.org/wiki/%D0%93%D0%BE%D1%80%D0%BE%D0%B4%D0%B0-%D0%BC%D0%B8%D0%BB%D0%BB%D0%B8%D0%BE%D0%BD%D0%B5%D1%80%D1%8B_%D0%A0%D0%BE%D1%81%D1%81%D0%B8%D0%B8). \n",
    "\n",
    "Если возникнут трудности с этим задание посмотрите материалы модуля  PYTHON-17. Как получать данные из веб-источников и API. "
   ]
  },
  {
   "cell_type": "code",
   "execution_count": 35,
   "metadata": {},
   "outputs": [],
   "source": [
    "url = \"https://ru.wikipedia.org/wiki/Города-миллионеры_России\"\n",
    "response = requests.get(url)\n",
    "soup = BeautifulSoup(response.text, \"html.parser\")\n",
    "# Ищем всё с тегом table на листе.\n",
    "table = soup.find_all(\"table\")\n",
    "# Опытным путем выяснилось, что искомая таблица имеет индекс 1.\n",
    "rows = table[1].find_all(\"tr\")[1:]\n",
    "cities = [row.find_all(\"td\")[1].text.strip() for row in rows]"
   ]
  },
  {
   "cell_type": "code",
   "execution_count": 45,
   "metadata": {},
   "outputs": [],
   "source": [
    "# Плейсхолдеры для экранирования значений списка городов-миллионников (cities) в SQL-запросе.\n",
    "placeholders = ', '.join(['%s'] * len(cities))\n",
    "query_5_7 = f'''\n",
    "    select\n",
    "        name,\n",
    "        cnt\n",
    "    -- Подзапросы используются для сортировки (чтобы строка итогов была внизу),\n",
    "    -- а остальная таблица была отсортирована по возрастанию количества вакансий\n",
    "    -- как в примере в условии задания на платформе.\n",
    "    from (  \n",
    "        select\n",
    "            a.name,\n",
    "            count(v.id) as cnt,\n",
    "            1 as order_col -- технический столбец для сортировки\n",
    "        from\n",
    "            areas as a\n",
    "            join vacancies as v on a.id = v.area_id\n",
    "            join employers as e on e.id = v.employer_id\n",
    "        where\n",
    "            a.name in ({placeholders}) and\n",
    "            e.name = 'Яндекс'\n",
    "        group by\n",
    "            a.id,\n",
    "            a.name\n",
    "        union all -- формирование строки итогов\n",
    "        select\n",
    "            'Total' as name,\n",
    "            count(v.id) as cnt,\n",
    "            2 as order_col -- технический столбец для сортировки\n",
    "        from\n",
    "            areas as a\n",
    "            join vacancies as v on a.id = v.area_id\n",
    "            join employers as e on e.id = v.employer_id\n",
    "        where\n",
    "            a.name in ({placeholders}) and\n",
    "            e.name = 'Яндекс'\n",
    "    ) sub -- сортировка таблицы целиком\n",
    "    order by\n",
    "        order_col,\n",
    "        cnt;\n",
    "'''\n",
    "df = pd.read_sql_query(query_5_7, connection, params=cities*2)"
   ]
  },
  {
   "cell_type": "code",
   "execution_count": 46,
   "metadata": {},
   "outputs": [
    {
     "data": {
      "text/html": [
       "<div>\n",
       "<style scoped>\n",
       "    .dataframe tbody tr th:only-of-type {\n",
       "        vertical-align: middle;\n",
       "    }\n",
       "\n",
       "    .dataframe tbody tr th {\n",
       "        vertical-align: top;\n",
       "    }\n",
       "\n",
       "    .dataframe thead th {\n",
       "        text-align: right;\n",
       "    }\n",
       "</style>\n",
       "<table border=\"1\" class=\"dataframe\">\n",
       "  <thead>\n",
       "    <tr style=\"text-align: right;\">\n",
       "      <th></th>\n",
       "      <th>name</th>\n",
       "      <th>cnt</th>\n",
       "    </tr>\n",
       "  </thead>\n",
       "  <tbody>\n",
       "    <tr>\n",
       "      <th>0</th>\n",
       "      <td>Омск</td>\n",
       "      <td>21</td>\n",
       "    </tr>\n",
       "    <tr>\n",
       "      <th>1</th>\n",
       "      <td>Челябинск</td>\n",
       "      <td>22</td>\n",
       "    </tr>\n",
       "    <tr>\n",
       "      <th>2</th>\n",
       "      <td>Красноярск</td>\n",
       "      <td>23</td>\n",
       "    </tr>\n",
       "    <tr>\n",
       "      <th>3</th>\n",
       "      <td>Волгоград</td>\n",
       "      <td>24</td>\n",
       "    </tr>\n",
       "    <tr>\n",
       "      <th>4</th>\n",
       "      <td>Пермь</td>\n",
       "      <td>25</td>\n",
       "    </tr>\n",
       "    <tr>\n",
       "      <th>5</th>\n",
       "      <td>Казань</td>\n",
       "      <td>25</td>\n",
       "    </tr>\n",
       "    <tr>\n",
       "      <th>6</th>\n",
       "      <td>Ростов-на-Дону</td>\n",
       "      <td>25</td>\n",
       "    </tr>\n",
       "    <tr>\n",
       "      <th>7</th>\n",
       "      <td>Самара</td>\n",
       "      <td>26</td>\n",
       "    </tr>\n",
       "    <tr>\n",
       "      <th>8</th>\n",
       "      <td>Уфа</td>\n",
       "      <td>26</td>\n",
       "    </tr>\n",
       "    <tr>\n",
       "      <th>9</th>\n",
       "      <td>Краснодар</td>\n",
       "      <td>30</td>\n",
       "    </tr>\n",
       "    <tr>\n",
       "      <th>10</th>\n",
       "      <td>Воронеж</td>\n",
       "      <td>32</td>\n",
       "    </tr>\n",
       "    <tr>\n",
       "      <th>11</th>\n",
       "      <td>Новосибирск</td>\n",
       "      <td>35</td>\n",
       "    </tr>\n",
       "    <tr>\n",
       "      <th>12</th>\n",
       "      <td>Нижний Новгород</td>\n",
       "      <td>36</td>\n",
       "    </tr>\n",
       "    <tr>\n",
       "      <th>13</th>\n",
       "      <td>Екатеринбург</td>\n",
       "      <td>39</td>\n",
       "    </tr>\n",
       "    <tr>\n",
       "      <th>14</th>\n",
       "      <td>Санкт-Петербург</td>\n",
       "      <td>42</td>\n",
       "    </tr>\n",
       "    <tr>\n",
       "      <th>15</th>\n",
       "      <td>Москва</td>\n",
       "      <td>54</td>\n",
       "    </tr>\n",
       "    <tr>\n",
       "      <th>16</th>\n",
       "      <td>Total</td>\n",
       "      <td>485</td>\n",
       "    </tr>\n",
       "  </tbody>\n",
       "</table>\n",
       "</div>"
      ],
      "text/plain": [
       "               name  cnt\n",
       "0              Омск   21\n",
       "1         Челябинск   22\n",
       "2        Красноярск   23\n",
       "3         Волгоград   24\n",
       "4             Пермь   25\n",
       "5            Казань   25\n",
       "6    Ростов-на-Дону   25\n",
       "7            Самара   26\n",
       "8               Уфа   26\n",
       "9         Краснодар   30\n",
       "10          Воронеж   32\n",
       "11      Новосибирск   35\n",
       "12  Нижний Новгород   36\n",
       "13     Екатеринбург   39\n",
       "14  Санкт-Петербург   42\n",
       "15           Москва   54\n",
       "16            Total  485"
      ]
     },
     "execution_count": 46,
     "metadata": {},
     "output_type": "execute_result"
    }
   ],
   "source": [
    "df"
   ]
  },
  {
   "cell_type": "markdown",
   "metadata": {},
   "source": [
    "## (6) Предметный анализ\n",
    "\n",
    "---"
   ]
  },
  {
   "cell_type": "markdown",
   "metadata": {},
   "source": [
    "1. Сколько вакансий имеет отношение к данным?\n",
    "\n",
    "Считаем, что вакансия имеет отношение к данным, если в её названии содержатся слова 'data' или 'данн'.\n",
    "\n",
    "*Подсказка: Обратите внимание, что названия вакансий могут быть написаны в любом регистре.* \n"
   ]
  },
  {
   "cell_type": "code",
   "execution_count": 9,
   "metadata": {},
   "outputs": [],
   "source": [
    "query_6_1 = f'''\n",
    "    select\n",
    "        count(distinct v.id) as cnt\n",
    "    from\n",
    "        vacancies as v\n",
    "    where\n",
    "        lower(v.name) like '%data%'\n",
    "        or lower(v.name) like '%данн%' \n",
    "'''\n",
    "df = pd.read_sql_query(query_6_1, connection)"
   ]
  },
  {
   "cell_type": "code",
   "execution_count": 10,
   "metadata": {},
   "outputs": [
    {
     "name": "stdout",
     "output_type": "stream",
     "text": [
      "В базе содержится 1771 вакансия, имеющая отношение к данным.\n"
     ]
    }
   ],
   "source": [
    "print(f\"В базе содержится {df.iloc[0, 0]} вакансия, имеющая отношение к данным.\")"
   ]
  },
  {
   "cell_type": "markdown",
   "metadata": {},
   "source": [
    "2. Сколько есть подходящих вакансий для начинающего дата-сайентиста? \n",
    "Будем считать вакансиями для дата-сайентистов такие, в названии которых есть хотя бы одно из следующих сочетаний:\n",
    "* 'data scientist'\n",
    "* 'data science'\n",
    "* 'исследователь данных'\n",
    "* 'ML' (здесь не нужно брать вакансии по HTML)\n",
    "* 'machine learning'\n",
    "* 'машинн%обучен%'\n",
    "\n",
    "** В следующих заданиях мы продолжим работать с вакансиями по этому условию.*\n",
    "\n",
    "Считаем вакансиями для специалистов уровня Junior следующие:\n",
    "* в названии есть слово 'junior' *или*\n",
    "* требуемый опыт — Нет опыта *или*\n",
    "* тип трудоустройства — Стажировка.\n",
    " "
   ]
  },
  {
   "cell_type": "code",
   "execution_count": 27,
   "metadata": {},
   "outputs": [],
   "source": [
    "query_6_2 = f'''\n",
    "    select\n",
    "        count(distinct v.id) as cnt\n",
    "    from\n",
    "        vacancies as v\n",
    "    where\n",
    "        (\n",
    "            lower(v.name) like '%data scientist%'\n",
    "            or lower(v.name) like '%data science%'\n",
    "            or lower(v.name) like '%исследователь данных%'\n",
    "            or lower(v.name) like '%machine learning%'\n",
    "            or lower(v.name) like '%машинн%обучен%'\n",
    "            or (v.name like '%ML%' and v.name not like '%HTML%') \n",
    "        ) \n",
    "        and (\n",
    "            lower(v.name) like '%junior%' \n",
    "            or lower(v.experience) like '%нет опыта%'\n",
    "            or lower(v.employment) like '%стажировка%' \n",
    "        )\n",
    "'''\n",
    "df = pd.read_sql_query(query_6_2, connection)"
   ]
  },
  {
   "cell_type": "code",
   "execution_count": 29,
   "metadata": {},
   "outputs": [
    {
     "name": "stdout",
     "output_type": "stream",
     "text": [
      "В базе содержится 51 вакансия для начинающего дата-сайентиста.\n"
     ]
    }
   ],
   "source": [
    "print(f\"В базе содержится {df.iloc[0, 0]} вакансия для начинающего дата-сайентиста.\")"
   ]
  },
  {
   "cell_type": "markdown",
   "metadata": {},
   "source": [
    "3. Сколько есть вакансий для DS, в которых в качестве ключевого навыка указан SQL или postgres?\n",
    "\n",
    "** Критерии для отнесения вакансии к DS указаны в предыдущем задании.*"
   ]
  },
  {
   "cell_type": "code",
   "execution_count": 4,
   "metadata": {},
   "outputs": [],
   "source": [
    "query_6_3 = f'''\n",
    "    select\n",
    "        count(distinct v.id) as cnt\n",
    "    from\n",
    "        vacancies as v\n",
    "    where\n",
    "        (\n",
    "            lower(v.name) like '%data scientist%'\n",
    "            or lower(v.name) like '%data science%'\n",
    "            or lower(v.name) like '%исследователь данных%'\n",
    "            or lower(v.name) like '%machine learning%'\n",
    "            or lower(v.name) like '%машинн%обучен%'\n",
    "            or (v.name like '%ML%' and v.name not like '%HTML%') \n",
    "        ) \n",
    "        and (\n",
    "            lower(v.key_skills) like '%sql%' \n",
    "            or lower(v.key_skills) like '%postgres%' \n",
    "        )\n",
    "'''\n",
    "df = pd.read_sql_query(query_6_3, connection)"
   ]
  },
  {
   "cell_type": "code",
   "execution_count": 6,
   "metadata": {},
   "outputs": [
    {
     "name": "stdout",
     "output_type": "stream",
     "text": [
      "В базе содержится 201 вакансия для дата-сайентиста, где в качестве ключевого навыка указан SQL или postgres.\n"
     ]
    }
   ],
   "source": [
    "print(f\"В базе содержится {df.iloc[0, 0]} вакансия для дата-сайентиста, где в качестве ключевого навыка указан SQL или postgres.\")"
   ]
  },
  {
   "cell_type": "markdown",
   "metadata": {},
   "source": [
    "4. Проверьте, насколько популярен Python в требованиях работодателей к DS.Для этого вычислите количество вакансий, в которых в качестве ключевого навыка указан Python.\n",
    "\n",
    "** Это можно сделать помощью запроса, аналогичного предыдущему.*"
   ]
  },
  {
   "cell_type": "code",
   "execution_count": 7,
   "metadata": {},
   "outputs": [],
   "source": [
    "query_6_4 = f'''\n",
    "    select\n",
    "        count(distinct v.id) as cnt\n",
    "    from\n",
    "        vacancies as v\n",
    "    where\n",
    "        (\n",
    "            lower(v.name) like '%data scientist%'\n",
    "            or lower(v.name) like '%data science%'\n",
    "            or lower(v.name) like '%исследователь данных%'\n",
    "            or lower(v.name) like '%machine learning%'\n",
    "            or lower(v.name) like '%машинн%обучен%'\n",
    "            or (v.name like '%ML%' and v.name not like '%HTML%') \n",
    "        ) \n",
    "        and lower(v.key_skills) like '%python%'  \n",
    "'''\n",
    "df = pd.read_sql_query(query_6_4, connection)"
   ]
  },
  {
   "cell_type": "code",
   "execution_count": 8,
   "metadata": {},
   "outputs": [
    {
     "name": "stdout",
     "output_type": "stream",
     "text": [
      "В базе содержится 351 вакансия для дата-сайентиста, где в качестве ключевого навыка указан Python.\n"
     ]
    }
   ],
   "source": [
    "print(f\"В базе содержится {df.iloc[0, 0]} вакансия для дата-сайентиста, где в качестве ключевого навыка указан Python.\")"
   ]
  },
  {
   "cell_type": "markdown",
   "metadata": {},
   "source": [
    "5. Сколько ключевых навыков в среднем указывают в вакансиях для DS?\n",
    "Ответ округлите до двух знаков после точки-разделителя."
   ]
  },
  {
   "cell_type": "code",
   "execution_count": 15,
   "metadata": {},
   "outputs": [],
   "source": [
    "query_6_5 = f'''\n",
    "    select\n",
    "        round(avg(cardinality), 2) as avg_cnt\n",
    "    from (\n",
    "        select\n",
    "            cardinality(string_to_array(v.key_skills, '\\t')) as cardinality\n",
    "        from\n",
    "            vacancies as v\n",
    "        where\n",
    "            (\n",
    "                lower(v.name) like '%data scientist%'\n",
    "                or lower(v.name) like '%data science%'\n",
    "                or lower(v.name) like '%исследователь данных%'\n",
    "                or lower(v.name) like '%machine learning%'\n",
    "                or lower(v.name) like '%машинн%обучен%'\n",
    "                or (v.name like '%ML%' and v.name not like '%HTML%') \n",
    "            ) \n",
    "    )   as subquery;  \n",
    "'''\n",
    "df = pd.read_sql_query(query_6_5, connection)"
   ]
  },
  {
   "cell_type": "code",
   "execution_count": 17,
   "metadata": {},
   "outputs": [
    {
     "name": "stdout",
     "output_type": "stream",
     "text": [
      "В вакансиях для DS в среднем указывают 6.41 ключевых навыка.\n"
     ]
    }
   ],
   "source": [
    "print(f\"В вакансиях для DS в среднем указывают {df.iloc[0, 0]} ключевых навыка.\")"
   ]
  },
  {
   "cell_type": "markdown",
   "metadata": {},
   "source": [
    "6. Напишите запрос, позволяющий вычислить, какую зарплату для DS в **среднем** указывают для каждого типа требуемого опыта (уникальное значение из поля *experience*). \n",
    "\n",
    "При решении задачи примите во внимание следующее:\n",
    "1. Рассматриваем только вакансии, у которых заполнено хотя бы одно из двух полей с зарплатой.\n",
    "2. Если заполнены оба поля с зарплатой, то считаем зарплату по каждой вакансии как сумму двух полей, делённую на 2. Если заполнено только одно из полей, то его и считаем зарплатой по вакансии.\n",
    "3. Если в расчётах участвует null, в результате он тоже даст null (посмотрите, что возвращает запрос select 1 + null). Чтобы избежать этой ситуацию, мы воспользуемся функцией [coalesce](https://postgrespro.ru/docs/postgresql/9.5/functions-conditional#functions-coalesce-nvl-ifnull), которая заменит null на значение, которое мы передадим. Например, посмотрите, что возвращает запрос `select 1 + coalesce(null, 0)`\n",
    "\n",
    "Выясните, на какую зарплату в среднем может рассчитывать дата-сайентист с опытом работы от 3 до 6 лет. Результат округлите до целого числа. "
   ]
  }
 ],
 "metadata": {
  "kernelspec": {
   "display_name": "Python 3",
   "language": "python",
   "name": "python3"
  },
  "language_info": {
   "codemirror_mode": {
    "name": "ipython",
    "version": 3
   },
   "file_extension": ".py",
   "mimetype": "text/x-python",
   "name": "python",
   "nbconvert_exporter": "python",
   "pygments_lexer": "ipython3",
   "version": "3.10.12"
  }
 },
 "nbformat": 4,
 "nbformat_minor": 2
}
