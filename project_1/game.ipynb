{
 "cells": [
  {
   "cell_type": "markdown",
   "metadata": {},
   "source": [
    "# Угадай число"
   ]
  },
  {
   "cell_type": "markdown",
   "metadata": {},
   "source": [
    "Игра. Угадывает рандомное число не больше чем за 20 попыток."
   ]
  },
  {
   "cell_type": "markdown",
   "metadata": {},
   "source": [
    "## Функция угадывания (`guess_number`)"
   ]
  },
  {
   "cell_type": "markdown",
   "metadata": {},
   "source": [
    "(находится в модуле [game_v3.py](https://github.com/Stanislav-DS/sf_data_science/blob/main/project_1/game_v3.py))\n",
    "\n",
    "В исходном файле используется оператор присваивания `:=` - морж (Python 3.8), здесь код адаптирован под версию интерпретатора Python 3.7.13, использующимся в Google Colab, и оператор `:=` заменен на инструкцию присваивания (assignment statement)."
   ]
  },
  {
   "cell_type": "code",
   "execution_count": 17,
   "metadata": {},
   "outputs": [],
   "source": [
    "def guess_number(number: int = 1) -> int:\n",
    "    \"\"\"Угадывает число не более чем за 20 попыток.\n",
    "\n",
    "    Args:\n",
    "        number (int, optional): Загаданное число. Defaults to 1.\n",
    "\n",
    "    Returns:\n",
    "        int: Количество попыток\n",
    "    \"\"\"\n",
    "\n",
    "    # количество попыток\n",
    "    count = 0\n",
    "    # нижняя и верхняя границы \"диапазона угадывания\"\n",
    "    # (lower bound and upper bound)\n",
    "    l_bound, u_bound = 1, 101\n",
    "\n",
    "    while True:\n",
    "        count += 1\n",
    "        answer = l_bound + (u_bound - l_bound)//2\n",
    "        if answer == number:\n",
    "            return count\n",
    "        l_bound, u_bound = ((answer, u_bound) if answer < number else\n",
    "                            (l_bound, answer))"
   ]
  },
  {
   "cell_type": "markdown",
   "metadata": {},
   "source": [
    "### Описание работы функции `guess_number`"
   ]
  },
  {
   "cell_type": "markdown",
   "metadata": {},
   "source": [
    "Перед началом \"цикла угадывания числа\" присваиваются значения переменной счетчика попыток (`count`) и переменным границ \"диапазона угадывания\" (`l_bound`, `u_bound`).\n",
    "\n",
    "На каждой итерации цикла проверяется соотношения середины \"диапазона угадывания\" и искомого числа. Если они равны, функция возвращает количество попыток, иначе середина \"диапазона угадывания\" становится одной из его границ."
   ]
  },
  {
   "cell_type": "markdown",
   "metadata": {},
   "source": [
    "## Функция оценки (`score_game`)"
   ]
  },
  {
   "cell_type": "markdown",
   "metadata": {},
   "source": [
    "(находится в модуле [game_v3.py](https://github.com/Stanislav-DS/sf_data_science/blob/main/project_1/game_v3.py))"
   ]
  },
  {
   "cell_type": "code",
   "execution_count": 18,
   "metadata": {},
   "outputs": [],
   "source": [
    "from numpy import random, mean\n",
    "\n",
    "\n",
    "def score_game(random_predict) -> int:\n",
    "    \"\"\"Среднее количество попыток, за которое функция\n",
    "    угадывает число от 1 до 100. Определяется за 1000 вызовов функции.\n",
    "\n",
    "    Args:\n",
    "        random_predict (function): функция, которая угадывает число.\n",
    "\n",
    "    Returns:\n",
    "        int: среднее количество попыток\n",
    "    \"\"\"\n",
    "\n",
    "    random.seed()\n",
    "    random_array = random.randint(1, 101, size=1000)\n",
    "    score = [random_predict(number) for number in random_array]\n",
    "    score = mean(score)\n",
    "    score = int(round(score, 0))\n",
    "    print(f\"Ваш алгоритм угадывает число в среднем за {score} попыток\")\n",
    "    return score"
   ]
  },
  {
   "cell_type": "markdown",
   "metadata": {},
   "source": [
    "### Описание работы функции `score_game`"
   ]
  },
  {
   "cell_type": "markdown",
   "metadata": {},
   "source": [
    "Функция получает в качестве аргумента функцию угадывания числа. \n",
    "\n",
    "1. Генерируется массив 1000 случайных чисел в диапазоне от 1 до 100. \n",
    "\n",
    "1. Путем вызова тестируемой функции, формируется список, состоящий из возвращаемых ею значений количества попыток угадывания для каждого из случайных чисел. \n",
    "\n",
    "1. При помощи `mean` вычисляется среднее значения из списка, сформированного в п. 2.\n",
    "\n",
    "1. Результат округляется до целого числа и преобразуется к типу `int`."
   ]
  },
  {
   "cell_type": "markdown",
   "metadata": {},
   "source": [
    "# Вывод результата"
   ]
  },
  {
   "cell_type": "code",
   "execution_count": 19,
   "metadata": {},
   "outputs": [
    {
     "name": "stdout",
     "output_type": "stream",
     "text": [
      "Ваш алгоритм угадывает число в среднем за 6 попыток\n"
     ]
    },
    {
     "data": {
      "text/plain": [
       "6"
      ]
     },
     "execution_count": 19,
     "metadata": {},
     "output_type": "execute_result"
    }
   ],
   "source": [
    "score_game(guess_number)"
   ]
  }
 ],
 "metadata": {
  "kernelspec": {
   "display_name": "Python 3.10.4 64-bit",
   "language": "python",
   "name": "python3"
  },
  "language_info": {
   "codemirror_mode": {
    "name": "ipython",
    "version": 3
   },
   "file_extension": ".py",
   "mimetype": "text/x-python",
   "name": "python",
   "nbconvert_exporter": "python",
   "pygments_lexer": "ipython3",
   "version": "3.10.4"
  },
  "orig_nbformat": 4,
  "vscode": {
   "interpreter": {
    "hash": "e7370f93d1d0cde622a1f8e1c04877d8463912d04d973331ad4851f04de6915a"
   }
  }
 },
 "nbformat": 4,
 "nbformat_minor": 2
}
