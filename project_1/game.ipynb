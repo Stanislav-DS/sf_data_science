{
 "cells": [
  {
   "cell_type": "markdown",
   "metadata": {},
   "source": [
    "# Угадай число"
   ]
  },
  {
   "cell_type": "markdown",
   "metadata": {},
   "source": [
    "Игра, угадывает рандомное число не больше чем за 20 попыток."
   ]
  },
  {
   "cell_type": "markdown",
   "metadata": {},
   "source": [
    "Во всех функциях проекта используется библиотека <code>numpy</code>"
   ]
  },
  {
   "cell_type": "code",
   "execution_count": null,
   "metadata": {},
   "outputs": [],
   "source": [
    "import numpy as np"
   ]
  },
  {
   "cell_type": "markdown",
   "metadata": {},
   "source": [
    "## Функция угадывания "
   ]
  },
  {
   "cell_type": "markdown",
   "metadata": {},
   "source": [
    "(взята из файла [game_v3.py](https://github.com/Stanislav-DS/sf_data_science/blob/main/project_1/game_v3.py))\n",
    "\n",
    "В исходном файле используется оператор присваивания `:=` - морж (Python 3.8), здесь код адаптирован под версию интерпретатора Python 3.7.13, использующимся в Google Colab, и оператор `:=` заменен на инструкцию присваивания (assignment statement)."
   ]
  },
  {
   "cell_type": "code",
   "execution_count": null,
   "metadata": {},
   "outputs": [],
   "source": [
    "def guess_number(number:int=1) -> int:\n",
    "    \"\"\"Угадывает число не более чем за 20 попыток.\n",
    "\n",
    "    Args:\n",
    "        number (int, optional): Загаданное число. Defaults to 1.\n",
    "\n",
    "    Returns:\n",
    "        int: Количество попыток\n",
    "    \"\"\"\n",
    "    \n",
    "    # количество попыток\n",
    "    count = 0\n",
    "    # нижняя и верхняя границы \"диапазона угадывания\" \n",
    "    # (lower bound and upper bound)\n",
    "    l_bound, u_bound = 1, 101\n",
    "    \n",
    "    while True:\n",
    "        count += 1\n",
    "        answer = l_bound + (u_bound - l_bound)//2\n",
    "        if answer == number:\n",
    "            return count\n",
    "        l_bound, u_bound = ((answer, u_bound) if answer < number else \n",
    "                            (l_bound, answer))\n",
    "         \n",
    "        count += 1\n",
    "        answer = np.random.randint(l_bound, u_bound)\n",
    "        if answer == number:\n",
    "            return count\n",
    "        l_bound, u_bound = ((answer, u_bound) if answer < number else \n",
    "                            (l_bound, answer))"
   ]
  },
  {
   "cell_type": "markdown",
   "metadata": {},
   "source": [
    "### Описание работы функции"
   ]
  },
  {
   "cell_type": "markdown",
   "metadata": {},
   "source": [
    "Перед началом \"цикла угадывания числа\" задаются переменная счетчика попыток (`count`) и переменные границ \"диапазона угадывания\" (`l_bound`, `u_bound`).\n",
    "\n",
    "На каждой итерации цикла делается по две попытки, каждая из которых может иметь успешный результат (искомое число будет угадано):\n",
    "1. Проверятся соотношения середины \"диапазона угадывания\" и искомого числа. Если они равны, функция возвращает количество попыток, иначе середина \"диапазона угадывания\" становится одной из его границ.\n",
    "2. Проверяется соотношение рандомного числа из \"диапазона угадывания\" и искомого числа. Если они равны, функция возвращает количество попыток, иначе указанное рандомное число становится одной из границ \"диапазона угадывания\"."
   ]
  },
  {
   "cell_type": "markdown",
   "metadata": {},
   "source": []
  }
 ],
 "metadata": {
  "kernelspec": {
   "display_name": "Python 3.10.4 64-bit",
   "language": "python",
   "name": "python3"
  },
  "language_info": {
   "codemirror_mode": {
    "name": "ipython",
    "version": 3
   },
   "file_extension": ".py",
   "mimetype": "text/x-python",
   "name": "python",
   "nbconvert_exporter": "python",
   "pygments_lexer": "ipython3",
   "version": "3.10.4"
  },
  "orig_nbformat": 4,
  "vscode": {
   "interpreter": {
    "hash": "e7370f93d1d0cde622a1f8e1c04877d8463912d04d973331ad4851f04de6915a"
   }
  }
 },
 "nbformat": 4,
 "nbformat_minor": 2
}
