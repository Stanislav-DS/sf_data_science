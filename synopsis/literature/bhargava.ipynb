{
 "cells": [
  {
   "cell_type": "markdown",
   "metadata": {},
   "source": [
    "# Адитья Бхаргава. Грокаем алгоритмы\n",
    "---\n",
    "Краткий конспект и решения упражнений\n"
   ]
  },
  {
   "cell_type": "markdown",
   "metadata": {},
   "source": [
    "## Глава 1.  Знакомство с алгоритмами"
   ]
  },
  {
   "cell_type": "markdown",
   "metadata": {},
   "source": [
    "**Бинарный поиск** - алгоритм, который получает отсортированный список значений и осуществляет поиск по нему, каждый раз разделяя его на два. Возвращает позицию искомого значения."
   ]
  },
  {
   "cell_type": "code",
   "execution_count": 2,
   "metadata": {},
   "outputs": [
    {
     "name": "stdout",
     "output_type": "stream",
     "text": [
      "1\n",
      "None\n"
     ]
    }
   ],
   "source": [
    "def binary_search(lst: list, item: int) -> int:\n",
    "    low = 0\n",
    "    high = len(lst) - 1\n",
    "\n",
    "    while low <= high:\n",
    "        mid = low + high\n",
    "        guess = lst[mid]\n",
    "        if guess == item:\n",
    "            return mid\n",
    "        if guess > item:\n",
    "            high = mid - 1\n",
    "        else:\n",
    "            low = mid + 1\n",
    "\n",
    "\n",
    "my_list = [1, 3, 5, 7, 9]\n",
    "print(binary_search(my_list, 3))\n",
    "print(binary_search(my_list, -1))"
   ]
  },
  {
   "cell_type": "markdown",
   "metadata": {},
   "source": [
    "### Упражнения"
   ]
  },
  {
   "cell_type": "markdown",
   "metadata": {},
   "source": [
    "\n",
    "> 1.1 Имеется отсортированный список из 128 имен, и вы ищете в нем значение методом бинарного поиска. Какой максимальное количество провеор для этого может потребоваться?"
   ]
  },
  {
   "cell_type": "code",
   "execution_count": 5,
   "metadata": {},
   "outputs": [
    {
     "name": "stdout",
     "output_type": "stream",
     "text": [
      "7.0\n"
     ]
    }
   ],
   "source": [
    "import math\n",
    "\n",
    "print(math.log2(128))"
   ]
  },
  {
   "cell_type": "markdown",
   "metadata": {},
   "source": [
    "> 1.2 Предположим размер списка увеличился вдвое. Как измениться максимальное число проверок."
   ]
  },
  {
   "cell_type": "code",
   "execution_count": 6,
   "metadata": {},
   "outputs": [
    {
     "name": "stdout",
     "output_type": "stream",
     "text": [
      "8.0\n"
     ]
    }
   ],
   "source": [
    "print(math.log2(128*2))"
   ]
  },
  {
   "cell_type": "markdown",
   "metadata": {},
   "source": [
    "### Скорость работы алгоритмов\n",
    "\n",
    "* $O(log_n)$ *логарифмическое время* (пример: бинарный поиск);\n",
    "* $O(n)$ *линейной время* (пример: простой поиск);\n",
    "* $O(n * log_n)$ (эффективные алгоритмы сортировки - пример: быстрая сортировка);\n",
    "* $O(n^2)$ (медленные алгоритмы сортировки - пример: сортировка выбором);\n",
    "* $O(n!)$ *факториальное время* (пример: очень медленные алгоритмы - задача о коммивояжоре)"
   ]
  },
  {
   "cell_type": "markdown",
   "metadata": {},
   "source": [
    "### Шпаргалка\n",
    "\n",
    "* Бинарный поиск работает намного быстрее линейного;\n",
    "* Время выполнения $O(log_n)$ быстрее $O(n)$, а с увеличением размера списка, в котором ищется значение, оно становится намного быстрее.\n",
    "* Скорость алгоритмов не измеряется в секундах.\n",
    "* Время выполнения алгоритма описывается ростом количества операций.\n",
    "* Время выполнения алгоритмов выражается как \"О-большое\"."
   ]
  },
  {
   "cell_type": "markdown",
   "metadata": {},
   "source": [
    "## Глава 2. Сортировка выбором\n",
    "---"
   ]
  },
  {
   "cell_type": "markdown",
   "metadata": {},
   "source": [
    "При использовании связанного списка элементы могут размещаться где угодно в памяти (не обязательно в соседних ячейках). В каждом элементе хранится адрес следующего элемента списка. Таким образом, набор произвольных адресов памяти объединяется в одну цепочку."
   ]
  },
  {
   "cell_type": "markdown",
   "metadata": {},
   "source": [
    "Связаные списки олично подходят в тех ситуациях, когда данные должны читаться последовательно. Массивы (в отличие от списков) прекрасно подходят для чтения элементов в произвольных позициях, потому что обращение к любому элементу в массиве происходит мнгновенно, т.к. заранее известно его местонахождение в памяти. "
   ]
  },
  {
   "cell_type": "markdown",
   "metadata": {},
   "source": [
    "Для оптимизации программы могут быть использованы гибридные структуры данных (массив связанных списков)."
   ]
  },
  {
   "cell_type": "markdown",
   "metadata": {},
   "source": [
    "При сортировке выбором **скорость работы алгоритма** составит $O(n*\\frac{1}{2}*n)$, т.к. при каждом проходе по списку количество элементов уменьшается на один. Однако константа $\\frac{1}{2}$ в нотации записи скорости работы алгоритма игнорируется, поэтому обычно просто записывают:\n",
    "\n",
    "$O(n^2)$"
   ]
  },
  {
   "cell_type": "markdown",
   "metadata": {},
   "source": [
    "### Пример кода сортировки выбором"
   ]
  },
  {
   "cell_type": "code",
   "execution_count": 1,
   "metadata": {},
   "outputs": [
    {
     "name": "stdout",
     "output_type": "stream",
     "text": [
      "[2, 3, 5, 6, 10]\n"
     ]
    }
   ],
   "source": [
    "def findSmallest(arr):\n",
    "    smallest = arr[0]\n",
    "    smallest_index = 0\n",
    "    for i in range(1, len(arr)):\n",
    "        if arr[i] < smallest:\n",
    "            smallest = arr[i]\n",
    "            smallest_index = i\n",
    "    return smallest_index\n",
    "\n",
    "def selectionSort(arr):\n",
    "    newArr=[]\n",
    "    for i in range(len(arr)):\n",
    "        smallest = findSmallest(arr)\n",
    "        newArr.append(arr.pop(smallest))\n",
    "    return newArr\n",
    "\n",
    "print(selectionSort([5, 3, 6, 2, 10]))"
   ]
  },
  {
   "cell_type": "markdown",
   "metadata": {},
   "source": [
    "### Шпаргалка"
   ]
  },
  {
   "cell_type": "markdown",
   "metadata": {},
   "source": [
    "* Память компьютера напоминает огромный шкаф с ящиками.\n",
    "* Если вам потребуется сохранить набор элементовб воспользуйтесь массивом или списком.\n",
    "* В массиве все элементы хранятся в памяти рядом друг с другом.\n",
    "* В списке элементы распределяются в произвольных местах памяти, при этом в одном элементе хранится адрес следующего элемента.\n",
    "* Массивы обеспечивают быстро чтение.\n",
    "* Списки обеспечивают быструю вставку и выполнение.\n",
    "* Все элементы массива должны быть однотипными (тольк целые числа, только вещественные числа и т.д.)."
   ]
  }
 ],
 "metadata": {
  "kernelspec": {
   "display_name": "Python 3",
   "language": "python",
   "name": "python3"
  },
  "language_info": {
   "codemirror_mode": {
    "name": "ipython",
    "version": 3
   },
   "file_extension": ".py",
   "mimetype": "text/x-python",
   "name": "python",
   "nbconvert_exporter": "python",
   "pygments_lexer": "ipython3",
   "version": "3.10.12"
  },
  "orig_nbformat": 4
 },
 "nbformat": 4,
 "nbformat_minor": 2
}
