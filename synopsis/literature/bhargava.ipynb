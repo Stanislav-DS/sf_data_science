{
 "cells": [
  {
   "cell_type": "markdown",
   "metadata": {},
   "source": [
    "# Адитья Бхаргава. Грокаем алгоритмы\n",
    "---\n",
    "Краткий конспект и решения упражнений\n"
   ]
  },
  {
   "cell_type": "markdown",
   "metadata": {},
   "source": [
    "## Глава 1.  Знакомство с алгоритмами"
   ]
  },
  {
   "cell_type": "markdown",
   "metadata": {},
   "source": [
    "**Бинарный поиск** - алгоритм, который получает отсортированный список значений и осуществляет поиск по нему, каждый раз разделяя его на два. Возвращает позицию искомого значения."
   ]
  },
  {
   "cell_type": "code",
   "execution_count": 2,
   "metadata": {},
   "outputs": [
    {
     "name": "stdout",
     "output_type": "stream",
     "text": [
      "1\n",
      "None\n"
     ]
    }
   ],
   "source": [
    "def binary_search(lst: list, item: int) -> int:\n",
    "    low = 0\n",
    "    high = len(lst) - 1\n",
    "\n",
    "    while low <= high:\n",
    "        mid = low + high\n",
    "        guess = lst[mid]\n",
    "        if guess == item:\n",
    "            return mid\n",
    "        if guess > item:\n",
    "            high = mid - 1\n",
    "        else:\n",
    "            low = mid + 1\n",
    "\n",
    "\n",
    "my_list = [1, 3, 5, 7, 9]\n",
    "print(binary_search(my_list, 3))\n",
    "print(binary_search(my_list, -1))"
   ]
  },
  {
   "cell_type": "markdown",
   "metadata": {},
   "source": [
    "### Упражнения"
   ]
  },
  {
   "cell_type": "markdown",
   "metadata": {},
   "source": [
    "\n",
    "> 1.1 Имеется отсортированный список из 128 имен, и вы ищете в нем значение методом бинарного поиска. Какой максимальное количество провеор для этого может потребоваться?"
   ]
  },
  {
   "cell_type": "code",
   "execution_count": 5,
   "metadata": {},
   "outputs": [
    {
     "name": "stdout",
     "output_type": "stream",
     "text": [
      "7.0\n"
     ]
    }
   ],
   "source": [
    "import math\n",
    "\n",
    "print(math.log2(128))"
   ]
  },
  {
   "cell_type": "markdown",
   "metadata": {},
   "source": [
    "> 1.2 Предположим размер списка увеличился вдвое. Как измениться максимальное число проверок."
   ]
  },
  {
   "cell_type": "code",
   "execution_count": 6,
   "metadata": {},
   "outputs": [
    {
     "name": "stdout",
     "output_type": "stream",
     "text": [
      "8.0\n"
     ]
    }
   ],
   "source": [
    "print(math.log2(128*2))"
   ]
  },
  {
   "cell_type": "markdown",
   "metadata": {},
   "source": [
    "### Скорость работы алгоритмов\n",
    "\n",
    "* $O(log_n)$ *логарифмическое время* (пример: бинарный поиск);\n",
    "* $O(n)$ *линейной время* (пример: простой поиск);\n",
    "* $O(n * log_n)$ (эффективные алгоритмы сортировки - пример: быстрая сортировка);\n",
    "* $O(n^2)$ (медленные алгоритмы сортировки - пример: сортировка выбором);\n",
    "* $O(n!)$ *факториальное время* (пример: очень медленные алгоритмы - задача о коммивояжоре)"
   ]
  },
  {
   "cell_type": "markdown",
   "metadata": {},
   "source": [
    "### Шпаргалка\n",
    "\n",
    "* Бинарный поиск работает намного быстрее линейного;\n",
    "* Время выполнения $O(log_n)$ быстрее $O(n)$, а с увеличением размера списка, в котором ищется значение, оно становится намного быстрее.\n",
    "* Скорость алгоритмов не измеряется в секундах.\n",
    "* Время выполнения алгоритма описывается ростом количества операций.\n",
    "* Время выполнения алгоритмов выражается как \"О-большое\"."
   ]
  },
  {
   "cell_type": "markdown",
   "metadata": {},
   "source": [
    "## Глава 2. Сортировка выбором\n",
    "---"
   ]
  }
 ],
 "metadata": {
  "kernelspec": {
   "display_name": "Python 3",
   "language": "python",
   "name": "python3"
  },
  "language_info": {
   "codemirror_mode": {
    "name": "ipython",
    "version": 3
   },
   "file_extension": ".py",
   "mimetype": "text/x-python",
   "name": "python",
   "nbconvert_exporter": "python",
   "pygments_lexer": "ipython3",
   "version": "3.10.6"
  },
  "orig_nbformat": 4
 },
 "nbformat": 4,
 "nbformat_minor": 2
}
