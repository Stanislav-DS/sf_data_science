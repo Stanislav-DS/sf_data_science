{
 "cells": [
  {
   "cell_type": "markdown",
   "metadata": {},
   "source": [
    "# PYTHON-09 Библиотека numpy"
   ]
  },
  {
   "cell_type": "markdown",
   "metadata": {},
   "source": [
    "## Модуль `collections`"
   ]
  },
  {
   "cell_type": "markdown",
   "metadata": {},
   "source": [
    "### <font color=\"lightgreen\">Counter</font>"
   ]
  },
  {
   "cell_type": "markdown",
   "metadata": {},
   "source": [
    "Подсчет количества вхождений каждого уникального значения в `iterable`, возвращает объект `Counter` похожий на словарь."
   ]
  },
  {
   "cell_type": "markdown",
   "metadata": {},
   "source": [
    "```python\n",
    "from collections import Counter\n",
    "```\n",
    "\n",
    "Создать пустой `Counter`:\n",
    "\n",
    "```python\n",
    "c = Counter()\n",
    "```\n",
    "\n",
    "Изменение значения отсутсвующего ключа не приводит к ошибке:\n",
    "\n",
    "```python\n",
    "c['red'] += 1\n",
    "```\n",
    "\n",
    "Для подсчета количества вхождений каждого значения в `iterable` достаточно передать его `Counter` в качестве аргумента:\n",
    "\n",
    "```python\n",
    "c = Counter(iterable)\n",
    "```\n",
    "\n",
    "При обращении к объекту `Counter` по несуществующему ключу возвращает 0, а не исключение KeyError как словарь.\n",
    "\n",
    "Для получения всех значений используется метод объекта `Counter` - `values()`\n",
    "\n",
    "```python\n",
    "с.values()\n",
    "```\n",
    "\n",
    "Метод `values()` возвращает объект `dict_values`, который похож на список\n",
    "\n",
    "__Из справки VS Code__\n",
    "> `Counter(__iterable: None = ..., /) -> None`\n",
    "Create a new, empty Counter object. And if given, count elements from an input iterable. Or, initialize the count from another mapping of elements to their counts.\n",
    "```python\n",
    ">>> c = Counter()                           # a new, empty counter\n",
    ">>> c = Counter('gallahad')                 # a new counter from an iterable\n",
    ">>> c = Counter({'a': 4, 'b': 2})           # a new counter from a mapping\n",
    ">>> c = Counter(a=4, b=2)                   # a new counter from keyword args\n",
    "```"
   ]
  },
  {
   "cell_type": "code",
   "execution_count": 4,
   "metadata": {},
   "outputs": [
    {
     "name": "stdout",
     "output_type": "stream",
     "text": [
      "Counter({'a': 3}) dict_values([3])\n"
     ]
    }
   ],
   "source": [
    "from collections import Counter\n",
    "\n",
    "test = ['a', 'a', 'a']\n",
    "c = Counter(test)\n",
    "print(c, c.values())"
   ]
  },
  {
   "cell_type": "markdown",
   "metadata": {},
   "source": [
    "### Операции с `Counter`"
   ]
  },
  {
   "cell_type": "markdown",
   "metadata": {},
   "source": [
    "* Сложение<br>\n",
    "Объекты `Counter` можно складывать. Результатом выражения будет новый объект `Counter`, в котором значения всех совпадающих ключей будут просуммированы, а несовпадающие ключи будут добавлены с имеющимися значениями.\n",
    "\n",
    "* Вычитание\n",
    "    * Метод `subtract` меняет объект `Counter` на месте, вычитая из значений его ключей, значения совпадающих ключей аргумента. Отсутствующие в изменяемом объекте ключи, будут добавлены в него с отрицательными значениями (как будто они имели в изменямом объекте значение `0`)\n",
    "    * Выражения, где объекты `Counter` являются операндами оператора `-` (минус), возвращают новый объект в котором имеются только те ключи первого операнда, разность значений которых со значениями совпадающих ключей второго операнда является положительной."
   ]
  },
  {
   "cell_type": "code",
   "execution_count": 23,
   "metadata": {},
   "outputs": [
    {
     "name": "stdout",
     "output_type": "stream",
     "text": [
      "counter_moscow = Counter({'black': 4, 'yellow': 3, 'white': 2, 'honey': 1, 'her': 1})\n",
      "counter_spb = Counter({'white': 3, 'red': 2, 'black': 2, 'yellow': 2, 'honey': 1})\n",
      "counter_moscow + counter_spb = Counter({'black': 6, 'white': 5, 'yellow': 5, 'honey': 2, 'red': 2, 'her': 1})\n",
      "counter_moscow - counter_spb = Counter({'black': 2, 'yellow': 1, 'her': 1})\n",
      "After subtract Counter({'black': 2, 'yellow': 1, 'her': 1, 'honey': 0, 'white': -1, 'red': -2})\n",
      "[*counter_spb.elements()] = ['red', 'red', 'black', 'black', 'white', 'white', 'white', 'yellow', 'yellow', 'honey']\n",
      "counter_spb.most_common() = [('white', 3), ('red', 2), ('black', 2), ('yellow', 2), ('honey', 1)]\n",
      "counter_spb.clear() = None\n"
     ]
    }
   ],
   "source": [
    "cars_moscow = ['black', 'black', 'white', 'black', 'black', 'white', 'yellow', 'yellow', 'yellow', 'honey', 'her']\n",
    "cars_spb = ['red', 'black', 'black', 'white', 'white', 'yellow', 'yellow', 'red', 'white', 'honey']\n",
    "\n",
    "counter_moscow = Counter(cars_moscow)\n",
    "counter_spb = Counter(cars_spb)\n",
    " \n",
    "print(f\"{counter_moscow = }\")\n",
    "print(f\"{counter_spb = }\")\n",
    "print(f\"{counter_moscow + counter_spb = }\")\n",
    "print(f\"{counter_moscow - counter_spb = }\")\n",
    "counter_moscow.subtract(counter_spb)\n",
    "print(f\"After subtract {counter_moscow}\")\n",
    "print(f\"{[*counter_spb.elements()] = }\")\n",
    "print(f\"{counter_spb.most_common() = }\")\n",
    "print(f\"{counter_spb.clear() = }\")"
   ]
  },
  {
   "cell_type": "markdown",
   "metadata": {},
   "source": [
    "#### Переменная"
   ]
  },
  {
   "cell_type": "code",
   "execution_count": 30,
   "metadata": {},
   "outputs": [],
   "source": [
    "clients = [\n",
    "    953421196, 953421161, 953421142, 953421186, 953421181, 953421144, \n",
    "    953421190, 953421184, 953421141, 953421193, 953421129, 953421158, \n",
    "    953421130, 953421177, 953421181, 953421136, 953421160, 953421184, \n",
    "    953421146, 953421175, 953421110, 953421139, 953421100, 953421116, \n",
    "    953421130, 953421179, 953421181, 953421136, 953421174, 953421167, \n",
    "    953421132, 953421195, 953421145, 953421108, 953421143, 953421133, \n",
    "    953421180, 953421149, 953421135, 953421195, 953421143, 953421131, \n",
    "    953421157, 953421189, 953421128, 953421132, 953421127, 953421151, \n",
    "    953421197, 953421160, 953421112, 953421155, 953421182, 953421168, \n",
    "    953421131, 953421156, 953421113, 953421102, 953421113, 953421192, \n",
    "    953421142, 953421105, 953421165, 953421175, 953421102, 953421195, \n",
    "    953421154, 953421165, 953421141, 953421166, 953421126, 953421143, \n",
    "    953421165, 953421150, 953421187, 953421129, 953421176, 953421169, \n",
    "    953421109, 953421177, 953421109, 953421150, 953421136, 953421140, \n",
    "    953421189, 953421198, 953421186, 953421159, 953421184, 953421182, \n",
    "    953421133, 953421103, 953421186, 953421132, 953421121, 953421107, \n",
    "    953421138, 953421190, 953421113, 953421161, 953421154, 953421161, \n",
    "    953421107, 953421113, 953421180, 953421191, 953421178, 953421116, \n",
    "    953421102, 953421167, 953421191, 953421187, 953421182, 953421118, \n",
    "    953421122, 953421157, 953421195, 953421141, 953421116, 953421176, \n",
    "    953421194, 953421163, 953421116, 953421197, 953421189, 953421177, \n",
    "    953421133, 953421138, 953421101, 953421116, 953421128, 953421104, \n",
    "    953421165, 953421113, 953421135, 953421150, 953421165, 953421154, \n",
    "    953421165, 953421161, 953421188, 953421177, 953421189, 953421128, \n",
    "    953421116, 953421177, 953421147, 953421152, 953421175, 953421151, \n",
    "    953421183, 953421195, 953421142, 953421132, 953421148, 953421112, \n",
    "    953421111, 953421121, 953421125, 953421171, 953421169, 953421127, \n",
    "    953421191, 953421194, 953421114, 953421112, 953421142, 953421144, \n",
    "    953421176, 953421120, 953421134, 953421183, 953421140, 953421144, \n",
    "    953421172, 953421189, 953421143, 953421188, 953421176, 953421142, \n",
    "    953421117, 953421140, 953421155, 953421158, 953421131, 953421187, \n",
    "    953421156, 953421120, 953421118, 953421184, 953421171, 953421186, \n",
    "    953421115, 953421101, 953421124, 953421151, 953421153, 953421141, \n",
    "    953421156, 953421144, 953421135, 953421109, 953421177, 953421144, \n",
    "    953421109, 953421148, 953421144, 953421111, 953421161, 953421133, \n",
    "    953421144, 953421118, 953421137, 953421182, 953421111, 953421178, \n",
    "    953421100, 953421160, 953421175, 953421171, 953421149, 953421156, \n",
    "    953421187, 953421198, 953421117, 953421100, 953421167, 953421118, \n",
    "    953421136, 953421101, 953421163, 953421133, 953421133, 953421136, \n",
    "    953421116, 953421141, 953421163, 953421152, 953421193, 953421197, \n",
    "    953421142, 953421172, 953421152, 953421190, 953421193, 953421102, \n",
    "    953421149, 953421117, 953421160, 953421161, 953421147, 953421170, \n",
    "    953421161, 953421147, 953421172, 953421174, 953421168, 953421121, \n",
    "    953421190, 953421162, 953421173, 953421110, 953421111, 953421154, \n",
    "    953421157, 953421161, 953421179, 953421191, 953421155, 953421139, \n",
    "    953421180, 953421189, 953421155, 953421109, 953421169, 953421174, \n",
    "    953421192, 953421104, 953421116, 953421112, 953421151, 953421169, \n",
    "    953421149, 953421176, 953421102, 953421136, 953421146, 953421152, \n",
    "    953421146, 953421152, 953421116, 953421108, 953421183, 953421128, \n",
    "    953421150, 953421158, 953421194, 953421136, 953421104, 953421139\n",
    "]"
   ]
  },
  {
   "cell_type": "markdown",
   "metadata": {},
   "source": [
    "### Задания 2.3-2.5"
   ]
  },
  {
   "cell_type": "code",
   "execution_count": 35,
   "metadata": {},
   "outputs": [
    {
     "name": "stdout",
     "output_type": "stream",
     "text": [
      "[(953421116, 9), (953421161, 8), (953421144, 7), (953421136, 7), (953421142, 6), (953421177, 6), (953421133, 6), (953421189, 6), (953421165, 6), (953421141, 5), (953421195, 5), (953421113, 5), (953421102, 5), (953421176, 5), (953421109, 5), (953421152, 5), (953421186, 4), (953421190, 4), (953421184, 4), (953421160, 4), (953421175, 4), (953421132, 4), (953421143, 4), (953421149, 4), (953421128, 4), (953421151, 4), (953421112, 4), (953421155, 4), (953421182, 4), (953421156, 4), (953421154, 4), (953421150, 4), (953421187, 4), (953421169, 4), (953421191, 4), (953421118, 4), (953421111, 4), (953421181, 3), (953421193, 3), (953421158, 3), (953421146, 3), (953421139, 3), (953421100, 3), (953421174, 3), (953421167, 3), (953421180, 3), (953421135, 3), (953421131, 3), (953421157, 3), (953421197, 3), (953421140, 3), (953421121, 3), (953421194, 3), (953421163, 3), (953421101, 3), (953421104, 3), (953421147, 3), (953421183, 3), (953421171, 3), (953421172, 3), (953421117, 3), (953421129, 2), (953421130, 2), (953421110, 2), (953421179, 2), (953421108, 2), (953421127, 2), (953421168, 2), (953421192, 2), (953421198, 2), (953421107, 2), (953421138, 2), (953421178, 2), (953421188, 2), (953421148, 2), (953421120, 2), (953421196, 1), (953421145, 1), (953421105, 1), (953421166, 1), (953421126, 1), (953421159, 1), (953421103, 1), (953421122, 1), (953421125, 1), (953421114, 1), (953421134, 1), (953421115, 1), (953421124, 1), (953421153, 1), (953421137, 1), (953421170, 1), (953421162, 1), (953421173, 1)]\n",
      "5\n",
      "94\n"
     ]
    }
   ],
   "source": [
    "c = Counter(clients)\n",
    "print(c.most_common())\n",
    "print(c[953421102])\n",
    "print(len(c))"
   ]
  },
  {
   "cell_type": "markdown",
   "metadata": {},
   "source": [
    "### <font color=\"lightgreen\">DEFAULTDICT</font>"
   ]
  },
  {
   "cell_type": "markdown",
   "metadata": {},
   "source": [
    "При использовании объекта `defaultdict`, в отличии от словаря, можно заранее задать тип данных, который будет автоматически создаваться, при обращении к объекту `defaultdict` по несуществующему ключу"
   ]
  },
  {
   "cell_type": "code",
   "execution_count": 3,
   "metadata": {},
   "outputs": [
    {
     "name": "stdout",
     "output_type": "stream",
     "text": [
      "defaultdict(<class 'list'>, {'test': [1]})\n"
     ]
    }
   ],
   "source": [
    "from collections import defaultdict\n",
    "c = defaultdict(list)\n",
    "c['test'].append(1)\n",
    "print(c)"
   ]
  },
  {
   "cell_type": "markdown",
   "metadata": {},
   "source": [
    "### <font color=\"lightgreen\">OrderedDict</font>"
   ]
  },
  {
   "cell_type": "markdown",
   "metadata": {},
   "source": [
    "Сохраняет порядок ключей, в котором они были добавлены. Работает в том числе и на более старших версиях чем версии Python 3.7, когда порядок ключей в словаре стал языковой гарантией."
   ]
  },
  {
   "cell_type": "code",
   "execution_count": 4,
   "metadata": {},
   "outputs": [
    {
     "name": "stdout",
     "output_type": "stream",
     "text": [
      "OrderedDict([('e', 5), ('b', 4), ('c', 3), ('d', 2), ('a', 1)])\n"
     ]
    }
   ],
   "source": [
    "from collections import OrderedDict\n",
    "\n",
    "test = [('e', 5), ('b', 4), ('c', 3), ('d', 2), ('a', 1)]\n",
    "\n",
    "ordered_test = OrderedDict(test)\n",
    "print(ordered_test)"
   ]
  },
  {
   "cell_type": "markdown",
   "metadata": {},
   "source": [
    "### <font color=\"lightgreen\">Deque</font>"
   ]
  },
  {
   "cell_type": "markdown",
   "metadata": {},
   "source": [
    "FIFO (от англ. First In — First Out, «первым пришёл — первым ушёл»)\n",
    "\n",
    "LIFO (Last In — First Out, «последним пришёл — первым ушёл»).\n",
    "\n",
    "`deque` (читается как «дек», англ. double-ended queue — двухконцевая очередь)"
   ]
  },
  {
   "cell_type": "markdown",
   "metadata": {},
   "source": [
    "Методы `deque`:\n",
    "\n",
    "*  `append` <br> добавить элемент в конец дека;\n",
    "*  `appendleft` <br> добавить элемент в начало дека;\n",
    "*  `pop` <br>удалить и вернуть элемент из конца дека;\n",
    "*  `popleft` <br> удалить и вернуть элемент из начала дека;\n",
    "*  `extend` <br> добавить итерируемый объект в конец дека;\n",
    "*  `extendleft` <br> добавить итерируемый объект в начало дека; \n",
    "*  `maxlen` <br> возвращает максимальную длину дека (или `None`);\n",
    "*  `reverse` <br> изменить порядок очереди на обратный;\n",
    "*  `rotate`<br> перенести `n` элементов с конца в начало (при вызове с отрицательным аргументом, элементы переносятся из начала в конец)\n",
    "*  `index` <br> возращает индекс первого встретившегося в последовательности элемента, переданного в качестве аргумента;\n",
    "*  `count` <br> подсчитывает количество элементов равных значению, переданного при вызове.\n",
    "*  `clear` <br> очистить\n",
    "\n",
    "Объект `deque` поддерживает обращение по нижнему индексу.\n",
    "\n",
    "Чтобы удалить элемент по нижнему индексу, необходимо воспользоваться инструкцией `del`\n",
    "\n",
    "Именованный параметр `maxlen` задает максимальную длину дека. При добавлении новых элементов, старые будут удаляться."
   ]
  },
  {
   "cell_type": "markdown",
   "metadata": {},
   "source": [
    "### ЗАДАНИЕ 3.2"
   ]
  },
  {
   "cell_type": "code",
   "execution_count": 2,
   "metadata": {},
   "outputs": [
    {
     "name": "stdout",
     "output_type": "stream",
     "text": [
      "OrderedDict([('2010', -12.1), ('2016', -11.2), ('2003', -9.5), ('2004', -8.2), ('2014', -6.9), ('2019', -6.5), ('2013', -6.1), ('2006', -5.9), ('2011', -5.8), ('2012', -4.9), ('2000', -4.4), ('2002', -4.4), ('2017', -3.9), ('2009', -3.5), ('2018', -2.9), ('2015', -2.7), ('2001', -2.5), ('2007', -2.4), ('2008', -1.7), ('2005', -1.6), ('2020', 1.5)])\n"
     ]
    }
   ],
   "source": [
    "# Напечатайте словарь из температур, отсортированный по уменьшению температуры\n",
    "from collections import OrderedDict\n",
    "temps = [('2000', -4.4), ('2001', -2.5), ('2002', -4.4), ('2003', -9.5),\n",
    "        ('2004', -8.2), ('2005', -1.6), ('2006', -5.9), ('2007', -2.4),\n",
    "        ('2008', -1.7), ('2009', -3.5), ('2010', -12.1), ('2011', -5.8),\n",
    "        ('2012', -4.9), ('2013', -6.1), ('2014', -6.9), ('2015', -2.7),\n",
    "        ('2016', -11.2), ('2017', -3.9), ('2018', -2.9), ('2019', -6.5),\n",
    "        ('2020', 1.5)]\n",
    "\n",
    "temps.sort(reverse=True, key=lambda x: x[1])\n",
    "print(OrderedDict(temps))"
   ]
  },
  {
   "cell_type": "markdown",
   "metadata": {},
   "source": [
    "### Задания 3.5 - 3.7"
   ]
  },
  {
   "cell_type": "code",
   "execution_count": 8,
   "metadata": {},
   "outputs": [
    {
     "name": "stdout",
     "output_type": "stream",
     "text": [
      "6\n",
      "8\n",
      "3\n"
     ]
    }
   ],
   "source": [
    "from collections import deque\n",
    "users = [6, 18, 4, 7, 8, 8, 5, 18, 12, 17, 13, 15, 6, 7, 9, 17, 18, 8, 4, 11, 10, 8, 2, 10, 6, 10, 10, 9]\n",
    "users = deque(users)\n",
    "print(users.popleft())\n",
    "users.rotate(-5)\n",
    "print(users[-1])\n",
    "print(users.count(users.pop()))"
   ]
  },
  {
   "cell_type": "markdown",
   "metadata": {},
   "source": [
    "## Модуль Collections. Закрепление знаний"
   ]
  },
  {
   "cell_type": "markdown",
   "metadata": {},
   "source": [
    "### ЗАДАНИЕ 4.3"
   ]
  },
  {
   "cell_type": "markdown",
   "metadata": {},
   "source": [
    "Напишите функцию brackets(line), которая определяет, является ли последовательность из круглых скобок правильной."
   ]
  },
  {
   "cell_type": "markdown",
   "metadata": {},
   "source": [
    "#### Решение без стека"
   ]
  },
  {
   "cell_type": "code",
   "execution_count": 29,
   "metadata": {},
   "outputs": [
    {
     "name": "stdout",
     "output_type": "stream",
     "text": [
      "True\n"
     ]
    }
   ],
   "source": [
    "def brackets(line: str = \"\") -> bool:\n",
    "    if len(line) % 2 != 0:\n",
    "        return False\n",
    "    num_brackets = 0\n",
    "    for s in line:\n",
    "        if s == '(':\n",
    "            num_brackets += 1\n",
    "        else:\n",
    "            num_brackets -= 1\n",
    "        if num_brackets < 0:\n",
    "            return False\n",
    "    return num_brackets == 0\n",
    "\n",
    "print(brackets(\"(())\"))"
   ]
  },
  {
   "cell_type": "markdown",
   "metadata": {},
   "source": [
    "#### Решение со стеком (как просили в задании)"
   ]
  },
  {
   "cell_type": "code",
   "execution_count": 36,
   "metadata": {},
   "outputs": [
    {
     "name": "stdout",
     "output_type": "stream",
     "text": [
      "True\n"
     ]
    }
   ],
   "source": [
    "from collections import deque\n",
    "\n",
    "def brackets(line: str = \"\") -> bool:\n",
    "    brackets_deq = deque()\n",
    "    for s in line:\n",
    "        if s == '(':\n",
    "            brackets_deq.append(1)\n",
    "        elif not brackets_deq:\n",
    "            return False\n",
    "        else:    \n",
    "            brackets_deq.pop()\n",
    "    return not brackets_deq\n",
    "\n",
    "print(brackets(\"(((())))\"))"
   ]
  },
  {
   "cell_type": "markdown",
   "metadata": {},
   "source": [
    "#### Задания 4.4-4.7"
   ]
  },
  {
   "cell_type": "markdown",
   "metadata": {},
   "source": [
    "В переменных `center`, `south` и `north` хранятся списки из перечней купленных позиций в трёх торговых точках, расположенных в разных районах города.\n",
    "Вначале избавьтесь от излишней вложенности: в каждой переменной (`center`, `south`, `north`) должен храниться объединённый список купленных товаров без разбиения по чекам.\n",
    "\n",
    "Пример: `[['Milk', 'Bread'], ['Meat']] -> ['Milk', 'Bread', 'Meat']`\n",
    "\n",
    "После этого определите, в каком магазине было куплено больше всего товаров."
   ]
  },
  {
   "cell_type": "code",
   "execution_count": 17,
   "metadata": {},
   "outputs": [],
   "source": [
    "north = [['Milk', 'Milk', 'Beer'], ['Chocolate', 'Bread', 'Chips'], ['Cola', 'Cola', 'Yoghurt', 'Soap', 'Beer', 'Chips', 'Milk'], ['Soap', 'Soap', 'Cola', 'Cola', 'Chips'], ['Milk', 'Beer', 'Meat', 'Ketchup', 'Cola', 'Cola', 'Chips', 'Chips', 'Cola', 'Cola'], ['Beer', 'Bread', 'Bread', 'Beer', 'Beer', 'Beer', 'Bread', 'Cheese'], ['Yoghurt', 'Beer', 'Chips', 'Milk', 'Soap', 'Cola', 'Cola', 'Cola', 'Beer', 'Cola', 'Cola', 'Cola', 'Beer', 'Ketchup', 'Beer', 'Beer', 'Beer', 'Soap'], ['Milk', 'Cola', 'Cola', 'Beer', 'Beer', 'Bread', 'Bread', 'Soap', 'Cola', 'Cola', 'Beer', 'Meat', 'Bread', 'Chips'], ['Beer', 'Beer', 'Beer', 'Chips', 'Milk', 'Cola', 'Chocolate', 'Beer', 'Chocolate', 'Beer', 'Beer', 'Cola', 'Meat', 'Yoghurt', 'Beer'], ['Bread'], ['Chocolate', 'Beer', 'Meat', 'Yoghurt'], ['Cola', 'Beer', 'Beer', 'Beer', 'Chocolate', 'Beer', 'Soap', 'Beer', 'Chips', 'Soap', 'Chocolate', 'Bread', 'Chips', 'Cola', 'Bread', 'Beer', 'Cola', 'Bread'], ['Chips', 'Cola', 'Beer', 'Chips', 'Cola', 'Cola', 'Beer', 'Soap', 'Yoghurt', 'Yoghurt', 'Cola', 'Bread', 'Beer', 'Chocolate', 'Chips', 'Bread', 'Beer', 'Bread'], ['Cola', 'Chocolate'], ['Chocolate', 'Cola', 'Meat', 'Cola', 'Ketchup', 'Cola', 'Chocolate', 'Bread', 'Chocolate', 'Chocolate', 'Meat'], ['Bread', 'Milk', 'Chips', 'Ketchup', 'Cola', 'Cola', 'Cola', 'Beer', 'Beer', 'Soap', 'Beer', 'Cola'], ['Yoghurt', 'Milk', 'Soap', 'Bread', 'Cola', 'Cola', 'Milk', 'Bread', 'Chips', 'Cheese', 'Milk', 'Yoghurt', 'Bread', 'Yoghurt'], ['Cola', 'Ketchup'], ['Cola', 'Yoghurt', 'Bread', 'Cola', 'Cola', 'Chips', 'Yoghurt', 'Milk', 'Beer', 'Chips', 'Bread', 'Beer', 'Beer', 'Cola', 'Bread', 'Beer', 'Beer', 'Cheese'], ['Beer', 'Cheese', 'Ketchup', 'Beer'], ['Beer', 'Beer', 'Beer'], ['Soap', 'Beer', 'Beer', 'Chocolate', 'Cola', 'Chocolate', 'Bread', 'Beer', 'Milk', 'Bread', 'Beer', 'Chocolate', 'Bread', 'Cola', 'Cola', 'Cheese', 'Beer', 'Cola', 'Soap', 'Yoghurt'], ['Beer', 'Chocolate'], ['Cola', 'Beer'], ['Yoghurt', 'Beer', 'Yoghurt', 'Yoghurt', 'Chips', 'Meat', 'Beer', 'Chocolate', 'Cola', 'Cola', 'Chips', 'Bread'], ['Cola', 'Cola', 'Cola', 'Cola', 'Cola', 'Bread', 'Chips', 'Soap', 'Cola', 'Chocolate', 'Beer', 'Beer'], ['Beer', 'Cola', 'Cola', 'Bread', 'Soap', 'Beer', 'Meat', 'Beer', 'Beer', 'Beer', 'Cola', 'Chips', 'Beer', 'Cola', 'Cola', 'Bread', 'Cheese', 'Beer'], ['Cola', 'Cola', 'Ketchup', 'Beer', 'Yoghurt', 'Bread'], ['Chips', 'Yoghurt', 'Cola', 'Cola', 'Cola', 'Chocolate', 'Chips', 'Bread', 'Chocolate', 'Yoghurt', 'Chocolate', 'Milk', 'Bread', 'Bread', 'Soap', 'Milk', 'Soap', 'Cola', 'Bread', 'Beer'], ['Beer', 'Beer', 'Ketchup', 'Cola', 'Beer', 'Bread', 'Beer', 'Cola', 'Beer', 'Chocolate'], ['Beer', 'Chocolate', 'Cola', 'Beer', 'Yoghurt', 'Milk', 'Bread', 'Cheese', 'Yoghurt', 'Beer', 'Cola', 'Yoghurt', 'Cola', 'Soap', 'Beer', 'Bread', 'Meat', 'Bread', 'Cola'], ['Beer', 'Cola', 'Chips', 'Cola'], ['Cola', 'Cola', 'Beer', 'Cheese'], ['Bread', 'Soap', 'Ketchup', 'Chocolate', 'Beer', 'Cola', 'Chocolate', 'Cola', 'Cola', 'Yoghurt', 'Beer', 'Bread', 'Cola', 'Ketchup', 'Beer'], ['Bread'], ['Bread', 'Beer', 'Yoghurt', 'Yoghurt', 'Bread', 'Milk', 'Soap', 'Meat', 'Bread', 'Beer', 'Cola', 'Milk', 'Milk', 'Bread', 'Beer', 'Cola', 'Ketchup', 'Cola'], ['Bread', 'Beer', 'Bread', 'Yoghurt', 'Beer', 'Bread', 'Cola', 'Cola', 'Cola', 'Beer', 'Bread', 'Milk', 'Chips', 'Cola', 'Beer', 'Bread', 'Soap', 'Bread', 'Yoghurt', 'Bread'], ['Yoghurt', 'Beer', 'Cola', 'Beer', 'Beer', 'Beer'], ['Chips', 'Chocolate', 'Soap', 'Chocolate', 'Cola', 'Bread', 'Beer', 'Cola', 'Beer', 'Ketchup', 'Chocolate', 'Ketchup', 'Ketchup', 'Cheese', 'Chips', 'Beer', 'Chips', 'Chocolate'], ['Bread', 'Cola', 'Cola', 'Beer', 'Bread', 'Bread', 'Beer', 'Chocolate', 'Bread', 'Cola', 'Milk', 'Chips', 'Meat', 'Beer', 'Beer', 'Soap', 'Bread'], ['Beer', 'Beer', 'Bread', 'Chips', 'Beer', 'Bread', 'Bread', 'Chips', 'Beer'], ['Yoghurt', 'Bread', 'Cola', 'Bread', 'Cola', 'Bread', 'Meat', 'Cola', 'Bread', 'Beer', 'Soap', 'Chips'], ['Bread', 'Beer'], ['Milk', 'Beer', 'Meat', 'Cola', 'Beer', 'Cola', 'Cola'], ['Beer', 'Chips', 'Yoghurt', 'Beer', 'Cola', 'Beer', 'Cola', 'Cola', 'Soap', 'Cola'], ['Bread', 'Cola', 'Cola', 'Meat'], ['Cola', 'Chocolate', 'Meat', 'Beer', 'Cola', 'Bread', 'Chips', 'Beer', 'Chips', 'Chips', 'Cola'], ['Bread', 'Cola', 'Cola', 'Cola', 'Beer', 'Cola', 'Yoghurt', 'Beer', 'Chips', 'Cola', 'Chocolate', 'Chips', 'Cola', 'Cola', 'Cola', 'Cola', 'Bread', 'Cola'], ['Cola', 'Soap', 'Cola'], ['Soap', 'Chips', 'Cola', 'Beer', 'Bread', 'Soap', 'Cheese', 'Bread', 'Beer', 'Chocolate']]\n",
    "center = [['Meat', 'Beer', 'Soap', 'Beer', 'Cheese', 'Cola', 'Milk', 'Soap', 'Cola', 'Meat', 'Bread', 'Chocolate', 'Chips'], ['Soap', 'Beer', 'Chips', 'Bread', 'Beer', 'Beer', 'Beer', 'Cheese', 'Cheese', 'Beer', 'Chips', 'Chocolate', 'Chips', 'Cheese', 'Bread', 'Cola', 'Cola', 'Beer'], ['Cola', 'Soap', 'Bread', 'Milk', 'Beer', 'Meat', 'Bread', 'Bread'], ['Ketchup', 'Beer', 'Ketchup', 'Chocolate', 'Milk', 'Milk', 'Bread', 'Beer'], ['Beer', 'Beer', 'Meat', 'Ketchup', 'Soap', 'Bread', 'Cola', 'Beer'], ['Meat', 'Bread', 'Milk', 'Cheese', 'Soap', 'Beer', 'Milk', 'Cheese', 'Cola', 'Beer', 'Chips', 'Bread', 'Ketchup', 'Chocolate', 'Bread', 'Milk'], ['Yoghurt'], ['Beer', 'Milk', 'Chips', 'Soap', 'Chips', 'Milk', 'Beer', 'Chips', 'Bread', 'Meat', 'Milk'], ['Yoghurt', 'Beer', 'Cola', 'Cola', 'Beer', 'Soap', 'Cheese', 'Soap', 'Bread', 'Cola', 'Yoghurt', 'Ketchup', 'Beer', 'Milk'], ['Milk', 'Cola', 'Bread', 'Cola', 'Bread', 'Beer', 'Beer', 'Beer'], ['Yoghurt', 'Cola'], ['Bread', 'Yoghurt', 'Chips', 'Ketchup', 'Meat', 'Bread', 'Beer', 'Yoghurt', 'Cola', 'Cola'], ['Chips', 'Chocolate', 'Chips', 'Meat', 'Bread', 'Cheese', 'Bread', 'Yoghurt'], ['Ketchup', 'Soap', 'Chocolate', 'Bread'], ['Chips', 'Beer', 'Chips', 'Cola', 'Cheese', 'Soap', 'Ketchup', 'Meat', 'Cola', 'Chips', 'Beer', 'Chocolate', 'Beer', 'Milk', 'Bread', 'Ketchup', 'Chips', 'Cheese', 'Ketchup'], ['Beer', 'Milk', 'Soap', 'Chips', 'Soap', 'Bread', 'Bread', 'Milk', 'Beer'], ['Cola', 'Chips', 'Meat', 'Cola', 'Beer', 'Chocolate', 'Bread', 'Bread', 'Chips', 'Soap', 'Chocolate', 'Chips', 'Beer'], ['Meat', 'Cola', 'Chips', 'Bread', 'Chips', 'Chocolate', 'Bread', 'Meat', 'Bread', 'Yoghurt', 'Cheese', 'Bread', 'Chips', 'Cola'], ['Chips', 'Cheese', 'Bread', 'Beer', 'Bread', 'Chips', 'Chocolate', 'Bread', 'Cola', 'Cola', 'Chocolate', 'Chocolate', 'Bread', 'Meat', 'Chips'], ['Bread', 'Milk', 'Bread', 'Cheese', 'Bread', 'Cheese', 'Ketchup', 'Beer', 'Cheese', 'Cola', 'Milk', 'Milk', 'Bread', 'Beer', 'Bread', 'Chips'], ['Yoghurt'], ['Bread', 'Bread', 'Chips', 'Cheese', 'Bread', 'Beer', 'Cola', 'Ketchup', 'Bread', 'Chips', 'Chocolate', 'Meat', 'Milk', 'Beer', 'Milk', 'Cheese', 'Bread', 'Meat', 'Bread', 'Cola'], ['Bread', 'Meat', 'Meat', 'Milk', 'Chips', 'Soap', 'Yoghurt', 'Chips', 'Beer', 'Yoghurt'], ['Bread', 'Soap', 'Bread', 'Cola', 'Bread'], ['Cola', 'Bread', 'Meat', 'Cola', 'Meat', 'Chocolate', 'Chips', 'Meat', 'Chips'], ['Chips', 'Cheese', 'Cheese', 'Meat'], ['Chips', 'Meat', 'Soap', 'Cheese', 'Bread', 'Cola', 'Bread', 'Beer', 'Meat', 'Cola', 'Bread', 'Cola', 'Ketchup', 'Bread'], ['Chips', 'Cheese', 'Milk', 'Meat', 'Milk', 'Beer', 'Chocolate', 'Ketchup', 'Cola', 'Cheese', 'Beer'], ['Beer', 'Ketchup', 'Yoghurt', 'Ketchup', 'Chocolate', 'Bread', 'Beer', 'Ketchup', 'Chocolate', 'Cola', 'Chocolate', 'Ketchup', 'Cola', 'Meat', 'Chips', 'Soap', 'Meat'], ['Meat', 'Milk'], ['Cola', 'Beer', 'Yoghurt', 'Beer', 'Bread', 'Cola'], ['Chips', 'Meat', 'Cheese', 'Ketchup', 'Chips', 'Bread', 'Bread', 'Chips', 'Chips', 'Bread', 'Milk', 'Ketchup', 'Cola', 'Cola', 'Beer'], ['Beer', 'Bread', 'Cheese', 'Bread', 'Cola', 'Cheese', 'Cheese', 'Beer', 'Milk', 'Bread', 'Chocolate', 'Cheese', 'Beer', 'Bread', 'Beer', 'Cola', 'Yoghurt', 'Beer', 'Beer', 'Chips'], ['Bread', 'Chips', 'Bread', 'Cola', 'Chips', 'Chocolate', 'Cheese', 'Beer', 'Chips', 'Milk', 'Milk', 'Beer', 'Cola', 'Meat', 'Cola', 'Bread', 'Cola', 'Chocolate', 'Chocolate', 'Cola'], ['Soap', 'Yoghurt', 'Chips', 'Beer', 'Chips', 'Milk', 'Cheese', 'Meat', 'Beer', 'Bread', 'Ketchup', 'Bread', 'Bread', 'Cheese', 'Milk', 'Beer', 'Beer', 'Soap', 'Bread'], ['Cola', 'Bread', 'Cheese', 'Ketchup', 'Beer', 'Chips', 'Meat', 'Chocolate', 'Chips', 'Cola', 'Beer', 'Beer', 'Cola'], ['Ketchup', 'Beer', 'Chocolate', 'Bread', 'Yoghurt', 'Beer', 'Cheese'], ['Bread', 'Chocolate', 'Bread', 'Milk'], ['Meat', 'Yoghurt', 'Bread', 'Yoghurt', 'Cola', 'Ketchup'], ['Ketchup', 'Bread', 'Bread', 'Chocolate', 'Chocolate', 'Chocolate', 'Bread', 'Bread', 'Beer', 'Chocolate', 'Bread', 'Milk'], ['Bread', 'Cheese', 'Soap', 'Soap', 'Chips', 'Chips'], ['Ketchup', 'Chocolate', 'Chips', 'Milk', 'Soap', 'Soap', 'Ketchup', 'Bread', 'Ketchup', 'Cola', 'Cheese', 'Beer', 'Ketchup', 'Bread'], ['Bread', 'Milk', 'Beer', 'Yoghurt', 'Meat', 'Ketchup', 'Meat', 'Meat', 'Bread', 'Milk', 'Cheese', 'Beer', 'Yoghurt', 'Milk', 'Bread', 'Cola'], ['Chips', 'Cola', 'Milk', 'Chocolate', 'Beer', 'Beer', 'Chips', 'Bread', 'Beer', 'Beer', 'Bread', 'Beer', 'Ketchup', 'Milk', 'Yoghurt', 'Ketchup', 'Cola', 'Ketchup', 'Chips', 'Meat'], ['Beer', 'Bread', 'Soap', 'Cheese', 'Meat', 'Soap'], ['Beer', 'Meat', 'Beer', 'Yoghurt', 'Soap', 'Chips', 'Meat', 'Cheese', 'Milk', 'Bread', 'Meat', 'Beer', 'Milk'], ['Chips', 'Meat', 'Bread'], ['Chocolate', 'Soap', 'Bread', 'Chips', 'Chips', 'Yoghurt', 'Chips', 'Cola', 'Cola', 'Cola', 'Beer', 'Milk', 'Milk', 'Bread', 'Bread', 'Meat'], ['Meat', 'Chocolate', 'Chips', 'Chips', 'Yoghurt', 'Yoghurt', 'Beer', 'Cola', 'Cheese', 'Milk', 'Beer'], ['Meat', 'Chocolate', 'Yoghurt', 'Cola', 'Cheese', 'Meat', 'Bread', 'Beer', 'Meat', 'Beer', 'Yoghurt', 'Cola', 'Bread']]\n",
    "south = [['Cola', 'Meat', 'Cheese', 'Yoghurt', 'Beer', 'Milk', 'Milk', 'Meat', 'Cola', 'Cola', 'Cheese', 'Beer', 'Yoghurt', 'Beer', 'Bread', 'Bread', 'Milk', 'Cheese', 'Chocolate'], ['Soap', 'Milk', 'Cola'], ['Milk', 'Bread', 'Yoghurt', 'Meat', 'Meat'], ['Bread', 'Milk', 'Beer'], ['Beer'], ['Chocolate', 'Meat', 'Chocolate', 'Cola', 'Cola', 'Cola', 'Cola', 'Yoghurt', 'Bread', 'Meat', 'Soap', 'Soap', 'Milk', 'Milk', 'Cola'], ['Beer', 'Beer', 'Meat', 'Chips', 'Bread', 'Bread', 'Bread', 'Bread', 'Milk', 'Cola', 'Chocolate', 'Bread', 'Beer', 'Chips', 'Bread', 'Bread', 'Yoghurt'], ['Chips', 'Milk', 'Soap'], ['Meat', 'Beer', 'Milk', 'Chocolate', 'Bread', 'Yoghurt'], ['Chips', 'Meat', 'Chocolate', 'Bread', 'Cola', 'Cola', 'Chocolate', 'Meat', 'Yoghurt', 'Milk'], ['Bread', 'Soap', 'Bread', 'Meat', 'Beer', 'Yoghurt', 'Milk', 'Cola', 'Bread', 'Ketchup'], ['Meat', 'Milk'], ['Meat', 'Beer', 'Yoghurt'], ['Cola', 'Bread', 'Cola', 'Chocolate', 'Chips', 'Meat', 'Cheese'], ['Milk', 'Milk', 'Cheese', 'Meat'], ['Chips', 'Yoghurt', 'Cheese', 'Soap', 'Ketchup', 'Cheese', 'Soap', 'Beer', 'Ketchup', 'Ketchup', 'Milk', 'Bread', 'Bread', 'Beer'], ['Meat'], ['Ketchup', 'Bread', 'Beer', 'Milk', 'Bread', 'Meat', 'Ketchup', 'Cheese'], ['Meat', 'Chips', 'Bread', 'Meat', 'Milk', 'Soap', 'Chocolate', 'Meat', 'Chocolate', 'Chocolate', 'Bread', 'Cheese', 'Soap', 'Cola', 'Yoghurt'], ['Cheese', 'Milk', 'Bread', 'Milk', 'Chips', 'Chips', 'Meat', 'Beer', 'Chocolate', 'Chocolate'], ['Ketchup', 'Beer', 'Cheese', 'Cola'], ['Chocolate', 'Cheese', 'Bread'], ['Milk', 'Yoghurt', 'Ketchup', 'Beer', 'Meat', 'Chips', 'Yoghurt', 'Meat', 'Bread', 'Chips'], ['Yoghurt', 'Milk', 'Ketchup', 'Yoghurt', 'Beer', 'Cheese', 'Bread', 'Bread', 'Ketchup', 'Bread', 'Bread', 'Yoghurt', 'Meat'], ['Soap', 'Meat', 'Bread', 'Beer', 'Milk'], ['Beer', 'Cola', 'Beer', 'Meat', 'Meat', 'Cheese', 'Meat', 'Chocolate', 'Bread', 'Ketchup', 'Milk', 'Soap'], ['Cheese', 'Chocolate', 'Milk', 'Chocolate', 'Cola', 'Bread', 'Chips', 'Cheese', 'Soap', 'Ketchup', 'Cheese', 'Chips', 'Cheese', 'Cola', 'Chocolate', 'Beer'], ['Bread', 'Bread', 'Cola', 'Ketchup', 'Cola', 'Bread', 'Meat', 'Yoghurt', 'Milk', 'Beer', 'Beer', 'Cheese', 'Meat', 'Bread', 'Cheese', 'Meat', 'Chocolate'], ['Chocolate', 'Soap', 'Chips', 'Beer', 'Bread', 'Yoghurt', 'Chips', 'Chocolate', 'Beer', 'Cheese', 'Cola', 'Milk', 'Chips', 'Milk', 'Ketchup', 'Cola', 'Meat', 'Beer', 'Cheese', 'Yoghurt'], ['Soap'], ['Meat', 'Beer', 'Milk', 'Bread', 'Beer', 'Cheese', 'Chocolate', 'Beer', 'Beer', 'Milk', 'Beer', 'Bread', 'Meat', 'Beer', 'Chocolate', 'Beer', 'Soap', 'Chips', 'Cola'], ['Cola', 'Beer', 'Meat', 'Chips', 'Soap', 'Cola', 'Bread', 'Cola', 'Bread', 'Chips', 'Ketchup', 'Ketchup', 'Beer', 'Ketchup', 'Cola', 'Milk', 'Cheese'], ['Cheese', 'Milk', 'Chips', 'Bread', 'Yoghurt', 'Soap', 'Beer', 'Chips', 'Ketchup', 'Chips', 'Beer', 'Yoghurt', 'Cola', 'Cheese', 'Chocolate', 'Beer'], ['Meat', 'Bread', 'Meat', 'Bread'], ['Cola', 'Beer', 'Yoghurt'], ['Beer', 'Bread', 'Beer', 'Meat', 'Bread', 'Milk', 'Soap', 'Milk', 'Chocolate', 'Meat', 'Meat', 'Meat', 'Chips', 'Chocolate', 'Meat'], ['Beer', 'Cola', 'Chocolate', 'Bread', 'Cheese', 'Cheese'], ['Milk', 'Chips', 'Cola', 'Milk', 'Bread', 'Bread', 'Beer', 'Milk', 'Cola', 'Chocolate', 'Chocolate', 'Meat', 'Cola', 'Cola', 'Beer', 'Cola', 'Chocolate', 'Bread', 'Bread', 'Cola'], ['Chocolate', 'Chocolate', 'Beer', 'Beer', 'Bread', 'Yoghurt', 'Meat', 'Cola', 'Yoghurt'], ['Ketchup', 'Cola', 'Ketchup', 'Yoghurt', 'Chips', 'Soap', 'Soap', 'Chocolate', 'Chocolate', 'Bread', 'Beer', 'Meat'], ['Bread', 'Meat', 'Soap', 'Cola', 'Bread', 'Cola', 'Yoghurt', 'Meat', 'Bread', 'Cola', 'Cola', 'Ketchup', 'Beer', 'Bread', 'Milk', 'Yoghurt', 'Meat'], ['Chocolate', 'Yoghurt', 'Bread'], ['Meat', 'Bread', 'Bread', 'Bread'], ['Beer', 'Milk', 'Cola', 'Ketchup', 'Cola', 'Cheese', 'Meat', 'Chocolate'], ['Soap', 'Beer', 'Chocolate', 'Chocolate', 'Cola', 'Cola', 'Yoghurt', 'Ketchup', 'Milk'], ['Meat', 'Yoghurt', 'Bread', 'Ketchup', 'Ketchup', 'Milk', 'Meat'], ['Ketchup', 'Soap', 'Chips', 'Ketchup', 'Bread', 'Chocolate', 'Milk', 'Bread', 'Bread', 'Ketchup', 'Cola', 'Meat', 'Milk', 'Bread', 'Cola'], ['Meat', 'Beer', 'Yoghurt', 'Chips', 'Beer', 'Meat', 'Cola', 'Beer', 'Meat', 'Ketchup', 'Milk', 'Cola', 'Yoghurt', 'Beer', 'Meat', 'Bread', 'Bread'], ['Meat', 'Soap', 'Cheese', 'Ketchup', 'Cola', 'Cola', 'Bread', 'Chips', 'Meat', 'Cola', 'Bread', 'Beer', 'Beer', 'Beer'], ['Meat', 'Yoghurt', 'Bread', 'Milk', 'Beer', 'Beer']]"
   ]
  },
  {
   "cell_type": "code",
   "execution_count": 88,
   "metadata": {},
   "outputs": [
    {
     "name": "stdout",
     "output_type": "stream",
     "text": [
      "The store with the biggest sales is center\n",
      "Number of sales of the most rare product in the north store is 10\n",
      "The product that was saled in the center store more often than in the north store is Bread\n",
      "The product that was bought in one store more often than in the other two combined is Cola {'north': 121, 'center': 60, 'south': 55}\n",
      "Most popular products:\n",
      "Counter({'Beer': 257, 'Bread': 240, 'Cola': 236, 'Chips': 128, 'Meat': 121, 'Milk': 111, 'Chocolate': 107, 'Yoghurt': 90, 'Soap': 80, 'Cheese': 79, 'Ketchup': 77})\n"
     ]
    }
   ],
   "source": [
    "from collections import Counter, defaultdict\n",
    "\n",
    "all_stores = {\n",
    "    'north': Counter([grocery for check in north for grocery in check]),\n",
    "    'center':Counter([grocery for check in center for grocery in check]),\n",
    "    'south': Counter([grocery for check in south for grocery in check])\n",
    "}\n",
    "\n",
    "# 4.4 В каком магазине было куплено больше всего товаров.\n",
    "all_shops_num_sales = {\n",
    "    shop: sum(number.values()) for shop, number in all_stores.items()\n",
    "    }\n",
    "print(\"The store with the biggest sales is\", \n",
    "      max(all_shops_num_sales, key=all_shops_num_sales.get))\n",
    "\n",
    "# 4.5 Сколько раз покупали самый редкий товар в магазине north? \n",
    "# Запишите ответ в числовой форме.\n",
    "print(\"Number of sales of the rarest product in the north store is\", \n",
    "      min(all_stores['north'].values()))\n",
    "\n",
    "# 4.6 Выберите товар, который в магазине center покупали чаще, чем в магазине north:\n",
    "search_product = ['Beer', 'Cola', 'Bread', 'Yoghurt']\n",
    "for product in search_product:\n",
    "    if all_stores['center'][product] > all_stores['north'][product]:\n",
    "        print(\"The product that was saled in the center \"\n",
    "              \"store more often than in the north store is\", product)\n",
    "\n",
    "# 4.7 Есть ли такой товар, который в одном из магазинов покупали чаще, \n",
    "# чем в двух других вместе взятых? \n",
    "# Если да, выберите магазин с настолько популярным товаром:\n",
    "all_products = defaultdict(dict)\n",
    "for store, products in all_stores.items():\n",
    "    for product, number in products.items():\n",
    "        all_products[product][store] = number\n",
    "\n",
    "for product, stores in all_products.items():\n",
    "    if max(stores.values()) > (sum(stores.values()) - max(stores.values())):\n",
    "        print(\"The product that was bought in one store more often\"\n",
    "              \" than in the other two combined is\", product, stores)\n",
    "\n",
    "# 4.8 Определите суммарное число продаж каждого товара во всех магазинах, \n",
    "# сложив все объекты-счётчики. \n",
    "# Сколько раз был куплен второй по популярности товар? \n",
    "# Запишите ответ в числовой форме.\n",
    "sum_products = Counter()\n",
    "sum_products = sum(all_stores.values(), sum_products)\n",
    "print(\"Most popular products:\")\n",
    "print(sum_products)\n",
    "\n"
   ]
  }
 ],
 "metadata": {
  "kernelspec": {
   "display_name": "Python 3.10.4 64-bit",
   "language": "python",
   "name": "python3"
  },
  "language_info": {
   "codemirror_mode": {
    "name": "ipython",
    "version": 3
   },
   "file_extension": ".py",
   "mimetype": "text/x-python",
   "name": "python",
   "nbconvert_exporter": "python",
   "pygments_lexer": "ipython3",
   "version": "3.10.4"
  },
  "orig_nbformat": 4,
  "vscode": {
   "interpreter": {
    "hash": "e7370f93d1d0cde622a1f8e1c04877d8463912d04d973331ad4851f04de6915a"
   }
  }
 },
 "nbformat": 4,
 "nbformat_minor": 2
}
