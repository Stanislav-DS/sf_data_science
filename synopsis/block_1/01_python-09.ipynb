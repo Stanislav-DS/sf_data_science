{
 "cells": [
  {
   "cell_type": "markdown",
   "metadata": {},
   "source": [
    "# PYTHON-09 Библиотека numpy"
   ]
  },
  {
   "cell_type": "markdown",
   "metadata": {},
   "source": [
    "## Модуль `collections`"
   ]
  },
  {
   "cell_type": "markdown",
   "metadata": {},
   "source": [
    "### Counter"
   ]
  },
  {
   "cell_type": "markdown",
   "metadata": {},
   "source": [
    "Подсчет количества вхождений каждого уникального значения в `iterable`, возвращает объект `Counter` похожий на словарь."
   ]
  },
  {
   "cell_type": "markdown",
   "metadata": {},
   "source": [
    "Импорт модуля `Counter`\n",
    "\n",
    "```python\n",
    "from collections import Counter\n",
    "```\n",
    "\n",
    "Создать пустой `Counter`:\n",
    "\n",
    "```python\n",
    "c = Counter()\n",
    "```\n",
    "\n",
    "Изменение значения отсутсвующего ключа не приводит к ошибке:\n",
    "\n",
    "```python\n",
    "c['red'] += 1\n",
    "```\n",
    "\n",
    "Для подсчета количества вхождений каждого значения в `iterable` достаточно передать его `Counter` в качестве аргумента:\n",
    "\n",
    "```python\n",
    "c = Counter(iterable)\n",
    "```\n",
    "\n",
    "При обращении к объекту `Counter` по несуществующему ключу возвращает 0, а не исключение KeyError как словарь.\n",
    "\n",
    "Для получения всех значений используется метод объекта `Counter` - `values()`\n",
    "\n",
    "```python\n",
    "с.values()\n",
    "```\n",
    "\n",
    "Метод `values()` возвращает объект `dict_values`, который похож на список\n",
    "\n",
    "__Из справки VS Code__\n",
    "> `Counter(__iterable: None = ..., /) -> None`\n",
    "Create a new, empty Counter object. And if given, count elements from an input iterable. Or, initialize the count from another mapping of elements to their counts.\n",
    "```python\n",
    ">>> c = Counter()                           # a new, empty counter\n",
    ">>> c = Counter('gallahad')                 # a new counter from an iterable\n",
    ">>> c = Counter({'a': 4, 'b': 2})           # a new counter from a mapping\n",
    ">>> c = Counter(a=4, b=2)                   # a new counter from keyword args\n",
    "```"
   ]
  },
  {
   "cell_type": "code",
   "execution_count": 4,
   "metadata": {},
   "outputs": [
    {
     "name": "stdout",
     "output_type": "stream",
     "text": [
      "Counter({'a': 3}) dict_values([3])\n"
     ]
    }
   ],
   "source": [
    "from collections import Counter\n",
    "\n",
    "test = ['a', 'a', 'a']\n",
    "c = Counter(test)\n",
    "print(c, c.values())"
   ]
  },
  {
   "cell_type": "markdown",
   "metadata": {},
   "source": [
    "### Операции с `Counter`"
   ]
  },
  {
   "cell_type": "markdown",
   "metadata": {},
   "source": [
    "* Сложение<br>\n",
    "Объекты `Counter` можно складывать. Результатом выражения будет новый объект `Counter`, в котором значения всех совпадающих ключей будут просуммированы, а несовпадающие ключи будут добавлены с имеющимися значениями.\n",
    "\n",
    "* Вычитание\n",
    "    * Метод `subtract` меняет объект `Counter` на месте, вычитая из значений его ключей, значения совпадающих ключей аргумента. Отсутствующие в изменяемом объекте ключи, будут добавлены в него с отрицательными значениями (как будто они имели в изменямом объекте значение `0`)\n",
    "    * Выражения, где объекты `Counter` являются операндами оператора `-` (минус), возвращают новый объект в котором имеются только те ключи первого операнда, разность значений которых со значениями совпадающих ключей второго операнда является положительной."
   ]
  },
  {
   "cell_type": "code",
   "execution_count": 23,
   "metadata": {},
   "outputs": [
    {
     "name": "stdout",
     "output_type": "stream",
     "text": [
      "counter_moscow = Counter({'black': 4, 'yellow': 3, 'white': 2, 'honey': 1, 'her': 1})\n",
      "counter_spb = Counter({'white': 3, 'red': 2, 'black': 2, 'yellow': 2, 'honey': 1})\n",
      "counter_moscow + counter_spb = Counter({'black': 6, 'white': 5, 'yellow': 5, 'honey': 2, 'red': 2, 'her': 1})\n",
      "counter_moscow - counter_spb = Counter({'black': 2, 'yellow': 1, 'her': 1})\n",
      "After subtract Counter({'black': 2, 'yellow': 1, 'her': 1, 'honey': 0, 'white': -1, 'red': -2})\n",
      "[*counter_spb.elements()] = ['red', 'red', 'black', 'black', 'white', 'white', 'white', 'yellow', 'yellow', 'honey']\n",
      "counter_spb.most_common() = [('white', 3), ('red', 2), ('black', 2), ('yellow', 2), ('honey', 1)]\n",
      "counter_spb.clear() = None\n"
     ]
    }
   ],
   "source": [
    "cars_moscow = ['black', 'black', 'white', 'black', 'black', 'white', 'yellow', 'yellow', 'yellow', 'honey', 'her']\n",
    "cars_spb = ['red', 'black', 'black', 'white', 'white', 'yellow', 'yellow', 'red', 'white', 'honey']\n",
    "\n",
    "counter_moscow = Counter(cars_moscow)\n",
    "counter_spb = Counter(cars_spb)\n",
    " \n",
    "print(f\"{counter_moscow = }\")\n",
    "print(f\"{counter_spb = }\")\n",
    "print(f\"{counter_moscow + counter_spb = }\")\n",
    "print(f\"{counter_moscow - counter_spb = }\")\n",
    "counter_moscow.subtract(counter_spb)\n",
    "print(f\"After subtract {counter_moscow}\")\n",
    "print(f\"{[*counter_spb.elements()] = }\")\n",
    "print(f\"{counter_spb.most_common() = }\")\n",
    "print(f\"{counter_spb.clear() = }\")"
   ]
  },
  {
   "cell_type": "markdown",
   "metadata": {},
   "source": [
    "#### Переменная"
   ]
  },
  {
   "cell_type": "code",
   "execution_count": 30,
   "metadata": {},
   "outputs": [],
   "source": [
    "clients = [\n",
    "    953421196, 953421161, 953421142, 953421186, 953421181, 953421144, \n",
    "    953421190, 953421184, 953421141, 953421193, 953421129, 953421158, \n",
    "    953421130, 953421177, 953421181, 953421136, 953421160, 953421184, \n",
    "    953421146, 953421175, 953421110, 953421139, 953421100, 953421116, \n",
    "    953421130, 953421179, 953421181, 953421136, 953421174, 953421167, \n",
    "    953421132, 953421195, 953421145, 953421108, 953421143, 953421133, \n",
    "    953421180, 953421149, 953421135, 953421195, 953421143, 953421131, \n",
    "    953421157, 953421189, 953421128, 953421132, 953421127, 953421151, \n",
    "    953421197, 953421160, 953421112, 953421155, 953421182, 953421168, \n",
    "    953421131, 953421156, 953421113, 953421102, 953421113, 953421192, \n",
    "    953421142, 953421105, 953421165, 953421175, 953421102, 953421195, \n",
    "    953421154, 953421165, 953421141, 953421166, 953421126, 953421143, \n",
    "    953421165, 953421150, 953421187, 953421129, 953421176, 953421169, \n",
    "    953421109, 953421177, 953421109, 953421150, 953421136, 953421140, \n",
    "    953421189, 953421198, 953421186, 953421159, 953421184, 953421182, \n",
    "    953421133, 953421103, 953421186, 953421132, 953421121, 953421107, \n",
    "    953421138, 953421190, 953421113, 953421161, 953421154, 953421161, \n",
    "    953421107, 953421113, 953421180, 953421191, 953421178, 953421116, \n",
    "    953421102, 953421167, 953421191, 953421187, 953421182, 953421118, \n",
    "    953421122, 953421157, 953421195, 953421141, 953421116, 953421176, \n",
    "    953421194, 953421163, 953421116, 953421197, 953421189, 953421177, \n",
    "    953421133, 953421138, 953421101, 953421116, 953421128, 953421104, \n",
    "    953421165, 953421113, 953421135, 953421150, 953421165, 953421154, \n",
    "    953421165, 953421161, 953421188, 953421177, 953421189, 953421128, \n",
    "    953421116, 953421177, 953421147, 953421152, 953421175, 953421151, \n",
    "    953421183, 953421195, 953421142, 953421132, 953421148, 953421112, \n",
    "    953421111, 953421121, 953421125, 953421171, 953421169, 953421127, \n",
    "    953421191, 953421194, 953421114, 953421112, 953421142, 953421144, \n",
    "    953421176, 953421120, 953421134, 953421183, 953421140, 953421144, \n",
    "    953421172, 953421189, 953421143, 953421188, 953421176, 953421142, \n",
    "    953421117, 953421140, 953421155, 953421158, 953421131, 953421187, \n",
    "    953421156, 953421120, 953421118, 953421184, 953421171, 953421186, \n",
    "    953421115, 953421101, 953421124, 953421151, 953421153, 953421141, \n",
    "    953421156, 953421144, 953421135, 953421109, 953421177, 953421144, \n",
    "    953421109, 953421148, 953421144, 953421111, 953421161, 953421133, \n",
    "    953421144, 953421118, 953421137, 953421182, 953421111, 953421178, \n",
    "    953421100, 953421160, 953421175, 953421171, 953421149, 953421156, \n",
    "    953421187, 953421198, 953421117, 953421100, 953421167, 953421118, \n",
    "    953421136, 953421101, 953421163, 953421133, 953421133, 953421136, \n",
    "    953421116, 953421141, 953421163, 953421152, 953421193, 953421197, \n",
    "    953421142, 953421172, 953421152, 953421190, 953421193, 953421102, \n",
    "    953421149, 953421117, 953421160, 953421161, 953421147, 953421170, \n",
    "    953421161, 953421147, 953421172, 953421174, 953421168, 953421121, \n",
    "    953421190, 953421162, 953421173, 953421110, 953421111, 953421154, \n",
    "    953421157, 953421161, 953421179, 953421191, 953421155, 953421139, \n",
    "    953421180, 953421189, 953421155, 953421109, 953421169, 953421174, \n",
    "    953421192, 953421104, 953421116, 953421112, 953421151, 953421169, \n",
    "    953421149, 953421176, 953421102, 953421136, 953421146, 953421152, \n",
    "    953421146, 953421152, 953421116, 953421108, 953421183, 953421128, \n",
    "    953421150, 953421158, 953421194, 953421136, 953421104, 953421139\n",
    "]"
   ]
  },
  {
   "cell_type": "markdown",
   "metadata": {},
   "source": [
    "### Задания 2.3-2.5"
   ]
  },
  {
   "cell_type": "code",
   "execution_count": 35,
   "metadata": {},
   "outputs": [
    {
     "name": "stdout",
     "output_type": "stream",
     "text": [
      "[(953421116, 9), (953421161, 8), (953421144, 7), (953421136, 7), (953421142, 6), (953421177, 6), (953421133, 6), (953421189, 6), (953421165, 6), (953421141, 5), (953421195, 5), (953421113, 5), (953421102, 5), (953421176, 5), (953421109, 5), (953421152, 5), (953421186, 4), (953421190, 4), (953421184, 4), (953421160, 4), (953421175, 4), (953421132, 4), (953421143, 4), (953421149, 4), (953421128, 4), (953421151, 4), (953421112, 4), (953421155, 4), (953421182, 4), (953421156, 4), (953421154, 4), (953421150, 4), (953421187, 4), (953421169, 4), (953421191, 4), (953421118, 4), (953421111, 4), (953421181, 3), (953421193, 3), (953421158, 3), (953421146, 3), (953421139, 3), (953421100, 3), (953421174, 3), (953421167, 3), (953421180, 3), (953421135, 3), (953421131, 3), (953421157, 3), (953421197, 3), (953421140, 3), (953421121, 3), (953421194, 3), (953421163, 3), (953421101, 3), (953421104, 3), (953421147, 3), (953421183, 3), (953421171, 3), (953421172, 3), (953421117, 3), (953421129, 2), (953421130, 2), (953421110, 2), (953421179, 2), (953421108, 2), (953421127, 2), (953421168, 2), (953421192, 2), (953421198, 2), (953421107, 2), (953421138, 2), (953421178, 2), (953421188, 2), (953421148, 2), (953421120, 2), (953421196, 1), (953421145, 1), (953421105, 1), (953421166, 1), (953421126, 1), (953421159, 1), (953421103, 1), (953421122, 1), (953421125, 1), (953421114, 1), (953421134, 1), (953421115, 1), (953421124, 1), (953421153, 1), (953421137, 1), (953421170, 1), (953421162, 1), (953421173, 1)]\n",
      "5\n",
      "94\n"
     ]
    }
   ],
   "source": [
    "c = Counter(clients)\n",
    "print(c.most_common())\n",
    "print(c[953421102])\n",
    "print(len(c))"
   ]
  },
  {
   "cell_type": "markdown",
   "metadata": {},
   "source": [
    "### `deafaultdict`"
   ]
  },
  {
   "cell_type": "markdown",
   "metadata": {},
   "source": [
    "При использовании объекта `defaultdict`, в отличии от словаря, можно заранее задать тип данных, который будет автоматически создаваться, при обращении к объекту `defaultdict` по несуществующему ключу"
   ]
  },
  {
   "cell_type": "code",
   "execution_count": 3,
   "metadata": {},
   "outputs": [
    {
     "name": "stdout",
     "output_type": "stream",
     "text": [
      "defaultdict(<class 'list'>, {'test': [1]})\n"
     ]
    }
   ],
   "source": [
    "from collections import defaultdict\n",
    "c = defaultdict(list)\n",
    "c['test'].append(1)\n",
    "print(c)"
   ]
  },
  {
   "cell_type": "markdown",
   "metadata": {},
   "source": [
    "### `OrderedDict`"
   ]
  },
  {
   "cell_type": "markdown",
   "metadata": {},
   "source": [
    "Сохраняет порядок ключей, в котором они были добавлены. Работает в том числе и на более старших версиях чем версии Python 3.7, когда порядок ключей в словаре стал языковой гарантией."
   ]
  },
  {
   "cell_type": "code",
   "execution_count": 4,
   "metadata": {},
   "outputs": [
    {
     "name": "stdout",
     "output_type": "stream",
     "text": [
      "OrderedDict([('e', 5), ('b', 4), ('c', 3), ('d', 2), ('a', 1)])\n"
     ]
    }
   ],
   "source": [
    "from collections import OrderedDict\n",
    "\n",
    "test = [('e', 5), ('b', 4), ('c', 3), ('d', 2), ('a', 1)]\n",
    "\n",
    "ordered_test = OrderedDict(test)\n",
    "print(ordered_test)"
   ]
  },
  {
   "cell_type": "markdown",
   "metadata": {},
   "source": [
    "### `deque`"
   ]
  },
  {
   "cell_type": "markdown",
   "metadata": {},
   "source": [
    "FIFO (от англ. First In — First Out, «первым пришёл — первым ушёл»)\n",
    "\n",
    "LIFO (Last In — First Out, «последним пришёл — первым ушёл»).\n",
    "\n",
    "`deque` (читается как «дек», англ. double-ended queue — двухконцевая очередь)"
   ]
  },
  {
   "cell_type": "markdown",
   "metadata": {},
   "source": [
    "Методы `deque`:\n",
    "\n",
    "*  `append` <br> добавить элемент в конец дека;\n",
    "*  `appendleft` <br> добавить элемент в начало дека;\n",
    "*  `pop` <br>удалить и вернуть элемент из конца дека;\n",
    "*  `popleft` <br> удалить и вернуть элемент из начала дека;\n",
    "*  `extend` <br> добавить итерируемый объект в конец дека;\n",
    "*  `extendleft` <br> добавить итерируемый объект в начало дека; \n",
    "*  `maxlen` <br> возвращает максимальную длину дека (или `None`);\n",
    "*  `reverse` <br> изменить порядок очереди на обратный;\n",
    "*  `rotate`<br> перенести `n` элементов с конца в начало (при вызове с отрицательным аргументом, элементы переносятся из начала в конец)\n",
    "*  `index` <br> возращает индекс первого встретившегося в последовательности элемента, переданного в качестве аргумента;\n",
    "*  `count` <br> подсчитывает количество элементов равных значению, переданного при вызове.\n",
    "*  `clear` <br> очистить\n",
    "\n",
    "Объект `deque` поддерживает обращение по нижнему индексу.\n",
    "\n",
    "Чтобы удалить элемент по нижнему индексу, необходимо воспользоваться инструкцией `del`\n",
    "\n",
    "Именованный параметр `maxlen` задает максимальную длину дека. При добавлении новых элементов, старые будут удаляться."
   ]
  },
  {
   "cell_type": "markdown",
   "metadata": {},
   "source": [
    "### ЗАДАНИЕ 3.2"
   ]
  },
  {
   "cell_type": "code",
   "execution_count": 2,
   "metadata": {},
   "outputs": [
    {
     "name": "stdout",
     "output_type": "stream",
     "text": [
      "OrderedDict([('2010', -12.1), ('2016', -11.2), ('2003', -9.5), ('2004', -8.2), ('2014', -6.9), ('2019', -6.5), ('2013', -6.1), ('2006', -5.9), ('2011', -5.8), ('2012', -4.9), ('2000', -4.4), ('2002', -4.4), ('2017', -3.9), ('2009', -3.5), ('2018', -2.9), ('2015', -2.7), ('2001', -2.5), ('2007', -2.4), ('2008', -1.7), ('2005', -1.6), ('2020', 1.5)])\n"
     ]
    }
   ],
   "source": [
    "# Напечатайте словарь из температур, отсортированный по уменьшению температуры\n",
    "from collections import OrderedDict\n",
    "temps = [('2000', -4.4), ('2001', -2.5), ('2002', -4.4), ('2003', -9.5),\n",
    "        ('2004', -8.2), ('2005', -1.6), ('2006', -5.9), ('2007', -2.4),\n",
    "        ('2008', -1.7), ('2009', -3.5), ('2010', -12.1), ('2011', -5.8),\n",
    "        ('2012', -4.9), ('2013', -6.1), ('2014', -6.9), ('2015', -2.7),\n",
    "        ('2016', -11.2), ('2017', -3.9), ('2018', -2.9), ('2019', -6.5),\n",
    "        ('2020', 1.5)]\n",
    "\n",
    "temps.sort(reverse=True, key=lambda x: x[1])\n",
    "print(OrderedDict(temps))"
   ]
  },
  {
   "cell_type": "markdown",
   "metadata": {},
   "source": [
    "### Задания 3.5 - 3.7"
   ]
  },
  {
   "cell_type": "code",
   "execution_count": 58,
   "metadata": {},
   "outputs": [
    {
     "name": "stdout",
     "output_type": "stream",
     "text": [
      "6\n",
      "8\n",
      "3\n"
     ]
    }
   ],
   "source": [
    "from collections import deque\n",
    "users = [6, 18, 4, 7, 8, 8, 5, 18, 12, 17, 13, 15, 6, 7, 9, 17, 18, 8, 4, 11, 10, 8, 2, 10, 6, 10, 10, 9]\n",
    "users = deque(users)\n",
    "print(users.popleft())\n",
    "users.rotate(-5)\n",
    "print(users[-1])\n",
    "print(users.count(users.pop()))"
   ]
  },
  {
   "cell_type": "markdown",
   "metadata": {},
   "source": [
    "### Модуль Collections. Закрепление знаний"
   ]
  },
  {
   "cell_type": "markdown",
   "metadata": {},
   "source": [
    "#### ЗАДАНИЕ 4.3"
   ]
  },
  {
   "cell_type": "markdown",
   "metadata": {},
   "source": [
    "Напишите функцию brackets(line), которая определяет, является ли последовательность из круглых скобок правильной."
   ]
  },
  {
   "cell_type": "markdown",
   "metadata": {},
   "source": [
    "##### Решение без стека"
   ]
  },
  {
   "cell_type": "code",
   "execution_count": 29,
   "metadata": {},
   "outputs": [
    {
     "name": "stdout",
     "output_type": "stream",
     "text": [
      "True\n"
     ]
    }
   ],
   "source": [
    "def brackets(line: str = \"\") -> bool:\n",
    "    if len(line) % 2 != 0:\n",
    "        return False\n",
    "    num_brackets = 0\n",
    "    for s in line:\n",
    "        if s == '(':\n",
    "            num_brackets += 1\n",
    "        else:\n",
    "            num_brackets -= 1\n",
    "        if num_brackets < 0:\n",
    "            return False\n",
    "    return num_brackets == 0\n",
    "\n",
    "print(brackets(\"(())\"))"
   ]
  },
  {
   "cell_type": "markdown",
   "metadata": {},
   "source": [
    "##### Решение со стеком (как просили в задании)"
   ]
  },
  {
   "cell_type": "code",
   "execution_count": 36,
   "metadata": {},
   "outputs": [
    {
     "name": "stdout",
     "output_type": "stream",
     "text": [
      "True\n"
     ]
    }
   ],
   "source": [
    "from collections import deque\n",
    "\n",
    "def brackets(line: str = \"\") -> bool:\n",
    "    brackets_deq = deque()\n",
    "    for s in line:\n",
    "        if s == '(':\n",
    "            brackets_deq.append(1)\n",
    "        elif not brackets_deq:\n",
    "            return False\n",
    "        else:    \n",
    "            brackets_deq.pop()\n",
    "    return not brackets_deq\n",
    "\n",
    "print(brackets(\"(((())))\"))"
   ]
  },
  {
   "cell_type": "markdown",
   "metadata": {},
   "source": [
    "#### Задания 4.4-4.8"
   ]
  },
  {
   "cell_type": "markdown",
   "metadata": {},
   "source": [
    "В переменных `center`, `south` и `north` хранятся списки из перечней купленных позиций в трёх торговых точках, расположенных в разных районах города.\n",
    "Вначале избавьтесь от излишней вложенности: в каждой переменной (`center`, `south`, `north`) должен храниться объединённый список купленных товаров без разбиения по чекам.\n",
    "\n",
    "Пример: `[['Milk', 'Bread'], ['Meat']] -> ['Milk', 'Bread', 'Meat']`\n",
    "\n",
    "После этого определите, в каком магазине было куплено больше всего товаров."
   ]
  },
  {
   "cell_type": "code",
   "execution_count": 17,
   "metadata": {},
   "outputs": [],
   "source": [
    "north = [['Milk', 'Milk', 'Beer'], ['Chocolate', 'Bread', 'Chips'], ['Cola', 'Cola', 'Yoghurt', 'Soap', 'Beer', 'Chips', 'Milk'], ['Soap', 'Soap', 'Cola', 'Cola', 'Chips'], ['Milk', 'Beer', 'Meat', 'Ketchup', 'Cola', 'Cola', 'Chips', 'Chips', 'Cola', 'Cola'], ['Beer', 'Bread', 'Bread', 'Beer', 'Beer', 'Beer', 'Bread', 'Cheese'], ['Yoghurt', 'Beer', 'Chips', 'Milk', 'Soap', 'Cola', 'Cola', 'Cola', 'Beer', 'Cola', 'Cola', 'Cola', 'Beer', 'Ketchup', 'Beer', 'Beer', 'Beer', 'Soap'], ['Milk', 'Cola', 'Cola', 'Beer', 'Beer', 'Bread', 'Bread', 'Soap', 'Cola', 'Cola', 'Beer', 'Meat', 'Bread', 'Chips'], ['Beer', 'Beer', 'Beer', 'Chips', 'Milk', 'Cola', 'Chocolate', 'Beer', 'Chocolate', 'Beer', 'Beer', 'Cola', 'Meat', 'Yoghurt', 'Beer'], ['Bread'], ['Chocolate', 'Beer', 'Meat', 'Yoghurt'], ['Cola', 'Beer', 'Beer', 'Beer', 'Chocolate', 'Beer', 'Soap', 'Beer', 'Chips', 'Soap', 'Chocolate', 'Bread', 'Chips', 'Cola', 'Bread', 'Beer', 'Cola', 'Bread'], ['Chips', 'Cola', 'Beer', 'Chips', 'Cola', 'Cola', 'Beer', 'Soap', 'Yoghurt', 'Yoghurt', 'Cola', 'Bread', 'Beer', 'Chocolate', 'Chips', 'Bread', 'Beer', 'Bread'], ['Cola', 'Chocolate'], ['Chocolate', 'Cola', 'Meat', 'Cola', 'Ketchup', 'Cola', 'Chocolate', 'Bread', 'Chocolate', 'Chocolate', 'Meat'], ['Bread', 'Milk', 'Chips', 'Ketchup', 'Cola', 'Cola', 'Cola', 'Beer', 'Beer', 'Soap', 'Beer', 'Cola'], ['Yoghurt', 'Milk', 'Soap', 'Bread', 'Cola', 'Cola', 'Milk', 'Bread', 'Chips', 'Cheese', 'Milk', 'Yoghurt', 'Bread', 'Yoghurt'], ['Cola', 'Ketchup'], ['Cola', 'Yoghurt', 'Bread', 'Cola', 'Cola', 'Chips', 'Yoghurt', 'Milk', 'Beer', 'Chips', 'Bread', 'Beer', 'Beer', 'Cola', 'Bread', 'Beer', 'Beer', 'Cheese'], ['Beer', 'Cheese', 'Ketchup', 'Beer'], ['Beer', 'Beer', 'Beer'], ['Soap', 'Beer', 'Beer', 'Chocolate', 'Cola', 'Chocolate', 'Bread', 'Beer', 'Milk', 'Bread', 'Beer', 'Chocolate', 'Bread', 'Cola', 'Cola', 'Cheese', 'Beer', 'Cola', 'Soap', 'Yoghurt'], ['Beer', 'Chocolate'], ['Cola', 'Beer'], ['Yoghurt', 'Beer', 'Yoghurt', 'Yoghurt', 'Chips', 'Meat', 'Beer', 'Chocolate', 'Cola', 'Cola', 'Chips', 'Bread'], ['Cola', 'Cola', 'Cola', 'Cola', 'Cola', 'Bread', 'Chips', 'Soap', 'Cola', 'Chocolate', 'Beer', 'Beer'], ['Beer', 'Cola', 'Cola', 'Bread', 'Soap', 'Beer', 'Meat', 'Beer', 'Beer', 'Beer', 'Cola', 'Chips', 'Beer', 'Cola', 'Cola', 'Bread', 'Cheese', 'Beer'], ['Cola', 'Cola', 'Ketchup', 'Beer', 'Yoghurt', 'Bread'], ['Chips', 'Yoghurt', 'Cola', 'Cola', 'Cola', 'Chocolate', 'Chips', 'Bread', 'Chocolate', 'Yoghurt', 'Chocolate', 'Milk', 'Bread', 'Bread', 'Soap', 'Milk', 'Soap', 'Cola', 'Bread', 'Beer'], ['Beer', 'Beer', 'Ketchup', 'Cola', 'Beer', 'Bread', 'Beer', 'Cola', 'Beer', 'Chocolate'], ['Beer', 'Chocolate', 'Cola', 'Beer', 'Yoghurt', 'Milk', 'Bread', 'Cheese', 'Yoghurt', 'Beer', 'Cola', 'Yoghurt', 'Cola', 'Soap', 'Beer', 'Bread', 'Meat', 'Bread', 'Cola'], ['Beer', 'Cola', 'Chips', 'Cola'], ['Cola', 'Cola', 'Beer', 'Cheese'], ['Bread', 'Soap', 'Ketchup', 'Chocolate', 'Beer', 'Cola', 'Chocolate', 'Cola', 'Cola', 'Yoghurt', 'Beer', 'Bread', 'Cola', 'Ketchup', 'Beer'], ['Bread'], ['Bread', 'Beer', 'Yoghurt', 'Yoghurt', 'Bread', 'Milk', 'Soap', 'Meat', 'Bread', 'Beer', 'Cola', 'Milk', 'Milk', 'Bread', 'Beer', 'Cola', 'Ketchup', 'Cola'], ['Bread', 'Beer', 'Bread', 'Yoghurt', 'Beer', 'Bread', 'Cola', 'Cola', 'Cola', 'Beer', 'Bread', 'Milk', 'Chips', 'Cola', 'Beer', 'Bread', 'Soap', 'Bread', 'Yoghurt', 'Bread'], ['Yoghurt', 'Beer', 'Cola', 'Beer', 'Beer', 'Beer'], ['Chips', 'Chocolate', 'Soap', 'Chocolate', 'Cola', 'Bread', 'Beer', 'Cola', 'Beer', 'Ketchup', 'Chocolate', 'Ketchup', 'Ketchup', 'Cheese', 'Chips', 'Beer', 'Chips', 'Chocolate'], ['Bread', 'Cola', 'Cola', 'Beer', 'Bread', 'Bread', 'Beer', 'Chocolate', 'Bread', 'Cola', 'Milk', 'Chips', 'Meat', 'Beer', 'Beer', 'Soap', 'Bread'], ['Beer', 'Beer', 'Bread', 'Chips', 'Beer', 'Bread', 'Bread', 'Chips', 'Beer'], ['Yoghurt', 'Bread', 'Cola', 'Bread', 'Cola', 'Bread', 'Meat', 'Cola', 'Bread', 'Beer', 'Soap', 'Chips'], ['Bread', 'Beer'], ['Milk', 'Beer', 'Meat', 'Cola', 'Beer', 'Cola', 'Cola'], ['Beer', 'Chips', 'Yoghurt', 'Beer', 'Cola', 'Beer', 'Cola', 'Cola', 'Soap', 'Cola'], ['Bread', 'Cola', 'Cola', 'Meat'], ['Cola', 'Chocolate', 'Meat', 'Beer', 'Cola', 'Bread', 'Chips', 'Beer', 'Chips', 'Chips', 'Cola'], ['Bread', 'Cola', 'Cola', 'Cola', 'Beer', 'Cola', 'Yoghurt', 'Beer', 'Chips', 'Cola', 'Chocolate', 'Chips', 'Cola', 'Cola', 'Cola', 'Cola', 'Bread', 'Cola'], ['Cola', 'Soap', 'Cola'], ['Soap', 'Chips', 'Cola', 'Beer', 'Bread', 'Soap', 'Cheese', 'Bread', 'Beer', 'Chocolate']]\n",
    "center = [['Meat', 'Beer', 'Soap', 'Beer', 'Cheese', 'Cola', 'Milk', 'Soap', 'Cola', 'Meat', 'Bread', 'Chocolate', 'Chips'], ['Soap', 'Beer', 'Chips', 'Bread', 'Beer', 'Beer', 'Beer', 'Cheese', 'Cheese', 'Beer', 'Chips', 'Chocolate', 'Chips', 'Cheese', 'Bread', 'Cola', 'Cola', 'Beer'], ['Cola', 'Soap', 'Bread', 'Milk', 'Beer', 'Meat', 'Bread', 'Bread'], ['Ketchup', 'Beer', 'Ketchup', 'Chocolate', 'Milk', 'Milk', 'Bread', 'Beer'], ['Beer', 'Beer', 'Meat', 'Ketchup', 'Soap', 'Bread', 'Cola', 'Beer'], ['Meat', 'Bread', 'Milk', 'Cheese', 'Soap', 'Beer', 'Milk', 'Cheese', 'Cola', 'Beer', 'Chips', 'Bread', 'Ketchup', 'Chocolate', 'Bread', 'Milk'], ['Yoghurt'], ['Beer', 'Milk', 'Chips', 'Soap', 'Chips', 'Milk', 'Beer', 'Chips', 'Bread', 'Meat', 'Milk'], ['Yoghurt', 'Beer', 'Cola', 'Cola', 'Beer', 'Soap', 'Cheese', 'Soap', 'Bread', 'Cola', 'Yoghurt', 'Ketchup', 'Beer', 'Milk'], ['Milk', 'Cola', 'Bread', 'Cola', 'Bread', 'Beer', 'Beer', 'Beer'], ['Yoghurt', 'Cola'], ['Bread', 'Yoghurt', 'Chips', 'Ketchup', 'Meat', 'Bread', 'Beer', 'Yoghurt', 'Cola', 'Cola'], ['Chips', 'Chocolate', 'Chips', 'Meat', 'Bread', 'Cheese', 'Bread', 'Yoghurt'], ['Ketchup', 'Soap', 'Chocolate', 'Bread'], ['Chips', 'Beer', 'Chips', 'Cola', 'Cheese', 'Soap', 'Ketchup', 'Meat', 'Cola', 'Chips', 'Beer', 'Chocolate', 'Beer', 'Milk', 'Bread', 'Ketchup', 'Chips', 'Cheese', 'Ketchup'], ['Beer', 'Milk', 'Soap', 'Chips', 'Soap', 'Bread', 'Bread', 'Milk', 'Beer'], ['Cola', 'Chips', 'Meat', 'Cola', 'Beer', 'Chocolate', 'Bread', 'Bread', 'Chips', 'Soap', 'Chocolate', 'Chips', 'Beer'], ['Meat', 'Cola', 'Chips', 'Bread', 'Chips', 'Chocolate', 'Bread', 'Meat', 'Bread', 'Yoghurt', 'Cheese', 'Bread', 'Chips', 'Cola'], ['Chips', 'Cheese', 'Bread', 'Beer', 'Bread', 'Chips', 'Chocolate', 'Bread', 'Cola', 'Cola', 'Chocolate', 'Chocolate', 'Bread', 'Meat', 'Chips'], ['Bread', 'Milk', 'Bread', 'Cheese', 'Bread', 'Cheese', 'Ketchup', 'Beer', 'Cheese', 'Cola', 'Milk', 'Milk', 'Bread', 'Beer', 'Bread', 'Chips'], ['Yoghurt'], ['Bread', 'Bread', 'Chips', 'Cheese', 'Bread', 'Beer', 'Cola', 'Ketchup', 'Bread', 'Chips', 'Chocolate', 'Meat', 'Milk', 'Beer', 'Milk', 'Cheese', 'Bread', 'Meat', 'Bread', 'Cola'], ['Bread', 'Meat', 'Meat', 'Milk', 'Chips', 'Soap', 'Yoghurt', 'Chips', 'Beer', 'Yoghurt'], ['Bread', 'Soap', 'Bread', 'Cola', 'Bread'], ['Cola', 'Bread', 'Meat', 'Cola', 'Meat', 'Chocolate', 'Chips', 'Meat', 'Chips'], ['Chips', 'Cheese', 'Cheese', 'Meat'], ['Chips', 'Meat', 'Soap', 'Cheese', 'Bread', 'Cola', 'Bread', 'Beer', 'Meat', 'Cola', 'Bread', 'Cola', 'Ketchup', 'Bread'], ['Chips', 'Cheese', 'Milk', 'Meat', 'Milk', 'Beer', 'Chocolate', 'Ketchup', 'Cola', 'Cheese', 'Beer'], ['Beer', 'Ketchup', 'Yoghurt', 'Ketchup', 'Chocolate', 'Bread', 'Beer', 'Ketchup', 'Chocolate', 'Cola', 'Chocolate', 'Ketchup', 'Cola', 'Meat', 'Chips', 'Soap', 'Meat'], ['Meat', 'Milk'], ['Cola', 'Beer', 'Yoghurt', 'Beer', 'Bread', 'Cola'], ['Chips', 'Meat', 'Cheese', 'Ketchup', 'Chips', 'Bread', 'Bread', 'Chips', 'Chips', 'Bread', 'Milk', 'Ketchup', 'Cola', 'Cola', 'Beer'], ['Beer', 'Bread', 'Cheese', 'Bread', 'Cola', 'Cheese', 'Cheese', 'Beer', 'Milk', 'Bread', 'Chocolate', 'Cheese', 'Beer', 'Bread', 'Beer', 'Cola', 'Yoghurt', 'Beer', 'Beer', 'Chips'], ['Bread', 'Chips', 'Bread', 'Cola', 'Chips', 'Chocolate', 'Cheese', 'Beer', 'Chips', 'Milk', 'Milk', 'Beer', 'Cola', 'Meat', 'Cola', 'Bread', 'Cola', 'Chocolate', 'Chocolate', 'Cola'], ['Soap', 'Yoghurt', 'Chips', 'Beer', 'Chips', 'Milk', 'Cheese', 'Meat', 'Beer', 'Bread', 'Ketchup', 'Bread', 'Bread', 'Cheese', 'Milk', 'Beer', 'Beer', 'Soap', 'Bread'], ['Cola', 'Bread', 'Cheese', 'Ketchup', 'Beer', 'Chips', 'Meat', 'Chocolate', 'Chips', 'Cola', 'Beer', 'Beer', 'Cola'], ['Ketchup', 'Beer', 'Chocolate', 'Bread', 'Yoghurt', 'Beer', 'Cheese'], ['Bread', 'Chocolate', 'Bread', 'Milk'], ['Meat', 'Yoghurt', 'Bread', 'Yoghurt', 'Cola', 'Ketchup'], ['Ketchup', 'Bread', 'Bread', 'Chocolate', 'Chocolate', 'Chocolate', 'Bread', 'Bread', 'Beer', 'Chocolate', 'Bread', 'Milk'], ['Bread', 'Cheese', 'Soap', 'Soap', 'Chips', 'Chips'], ['Ketchup', 'Chocolate', 'Chips', 'Milk', 'Soap', 'Soap', 'Ketchup', 'Bread', 'Ketchup', 'Cola', 'Cheese', 'Beer', 'Ketchup', 'Bread'], ['Bread', 'Milk', 'Beer', 'Yoghurt', 'Meat', 'Ketchup', 'Meat', 'Meat', 'Bread', 'Milk', 'Cheese', 'Beer', 'Yoghurt', 'Milk', 'Bread', 'Cola'], ['Chips', 'Cola', 'Milk', 'Chocolate', 'Beer', 'Beer', 'Chips', 'Bread', 'Beer', 'Beer', 'Bread', 'Beer', 'Ketchup', 'Milk', 'Yoghurt', 'Ketchup', 'Cola', 'Ketchup', 'Chips', 'Meat'], ['Beer', 'Bread', 'Soap', 'Cheese', 'Meat', 'Soap'], ['Beer', 'Meat', 'Beer', 'Yoghurt', 'Soap', 'Chips', 'Meat', 'Cheese', 'Milk', 'Bread', 'Meat', 'Beer', 'Milk'], ['Chips', 'Meat', 'Bread'], ['Chocolate', 'Soap', 'Bread', 'Chips', 'Chips', 'Yoghurt', 'Chips', 'Cola', 'Cola', 'Cola', 'Beer', 'Milk', 'Milk', 'Bread', 'Bread', 'Meat'], ['Meat', 'Chocolate', 'Chips', 'Chips', 'Yoghurt', 'Yoghurt', 'Beer', 'Cola', 'Cheese', 'Milk', 'Beer'], ['Meat', 'Chocolate', 'Yoghurt', 'Cola', 'Cheese', 'Meat', 'Bread', 'Beer', 'Meat', 'Beer', 'Yoghurt', 'Cola', 'Bread']]\n",
    "south = [['Cola', 'Meat', 'Cheese', 'Yoghurt', 'Beer', 'Milk', 'Milk', 'Meat', 'Cola', 'Cola', 'Cheese', 'Beer', 'Yoghurt', 'Beer', 'Bread', 'Bread', 'Milk', 'Cheese', 'Chocolate'], ['Soap', 'Milk', 'Cola'], ['Milk', 'Bread', 'Yoghurt', 'Meat', 'Meat'], ['Bread', 'Milk', 'Beer'], ['Beer'], ['Chocolate', 'Meat', 'Chocolate', 'Cola', 'Cola', 'Cola', 'Cola', 'Yoghurt', 'Bread', 'Meat', 'Soap', 'Soap', 'Milk', 'Milk', 'Cola'], ['Beer', 'Beer', 'Meat', 'Chips', 'Bread', 'Bread', 'Bread', 'Bread', 'Milk', 'Cola', 'Chocolate', 'Bread', 'Beer', 'Chips', 'Bread', 'Bread', 'Yoghurt'], ['Chips', 'Milk', 'Soap'], ['Meat', 'Beer', 'Milk', 'Chocolate', 'Bread', 'Yoghurt'], ['Chips', 'Meat', 'Chocolate', 'Bread', 'Cola', 'Cola', 'Chocolate', 'Meat', 'Yoghurt', 'Milk'], ['Bread', 'Soap', 'Bread', 'Meat', 'Beer', 'Yoghurt', 'Milk', 'Cola', 'Bread', 'Ketchup'], ['Meat', 'Milk'], ['Meat', 'Beer', 'Yoghurt'], ['Cola', 'Bread', 'Cola', 'Chocolate', 'Chips', 'Meat', 'Cheese'], ['Milk', 'Milk', 'Cheese', 'Meat'], ['Chips', 'Yoghurt', 'Cheese', 'Soap', 'Ketchup', 'Cheese', 'Soap', 'Beer', 'Ketchup', 'Ketchup', 'Milk', 'Bread', 'Bread', 'Beer'], ['Meat'], ['Ketchup', 'Bread', 'Beer', 'Milk', 'Bread', 'Meat', 'Ketchup', 'Cheese'], ['Meat', 'Chips', 'Bread', 'Meat', 'Milk', 'Soap', 'Chocolate', 'Meat', 'Chocolate', 'Chocolate', 'Bread', 'Cheese', 'Soap', 'Cola', 'Yoghurt'], ['Cheese', 'Milk', 'Bread', 'Milk', 'Chips', 'Chips', 'Meat', 'Beer', 'Chocolate', 'Chocolate'], ['Ketchup', 'Beer', 'Cheese', 'Cola'], ['Chocolate', 'Cheese', 'Bread'], ['Milk', 'Yoghurt', 'Ketchup', 'Beer', 'Meat', 'Chips', 'Yoghurt', 'Meat', 'Bread', 'Chips'], ['Yoghurt', 'Milk', 'Ketchup', 'Yoghurt', 'Beer', 'Cheese', 'Bread', 'Bread', 'Ketchup', 'Bread', 'Bread', 'Yoghurt', 'Meat'], ['Soap', 'Meat', 'Bread', 'Beer', 'Milk'], ['Beer', 'Cola', 'Beer', 'Meat', 'Meat', 'Cheese', 'Meat', 'Chocolate', 'Bread', 'Ketchup', 'Milk', 'Soap'], ['Cheese', 'Chocolate', 'Milk', 'Chocolate', 'Cola', 'Bread', 'Chips', 'Cheese', 'Soap', 'Ketchup', 'Cheese', 'Chips', 'Cheese', 'Cola', 'Chocolate', 'Beer'], ['Bread', 'Bread', 'Cola', 'Ketchup', 'Cola', 'Bread', 'Meat', 'Yoghurt', 'Milk', 'Beer', 'Beer', 'Cheese', 'Meat', 'Bread', 'Cheese', 'Meat', 'Chocolate'], ['Chocolate', 'Soap', 'Chips', 'Beer', 'Bread', 'Yoghurt', 'Chips', 'Chocolate', 'Beer', 'Cheese', 'Cola', 'Milk', 'Chips', 'Milk', 'Ketchup', 'Cola', 'Meat', 'Beer', 'Cheese', 'Yoghurt'], ['Soap'], ['Meat', 'Beer', 'Milk', 'Bread', 'Beer', 'Cheese', 'Chocolate', 'Beer', 'Beer', 'Milk', 'Beer', 'Bread', 'Meat', 'Beer', 'Chocolate', 'Beer', 'Soap', 'Chips', 'Cola'], ['Cola', 'Beer', 'Meat', 'Chips', 'Soap', 'Cola', 'Bread', 'Cola', 'Bread', 'Chips', 'Ketchup', 'Ketchup', 'Beer', 'Ketchup', 'Cola', 'Milk', 'Cheese'], ['Cheese', 'Milk', 'Chips', 'Bread', 'Yoghurt', 'Soap', 'Beer', 'Chips', 'Ketchup', 'Chips', 'Beer', 'Yoghurt', 'Cola', 'Cheese', 'Chocolate', 'Beer'], ['Meat', 'Bread', 'Meat', 'Bread'], ['Cola', 'Beer', 'Yoghurt'], ['Beer', 'Bread', 'Beer', 'Meat', 'Bread', 'Milk', 'Soap', 'Milk', 'Chocolate', 'Meat', 'Meat', 'Meat', 'Chips', 'Chocolate', 'Meat'], ['Beer', 'Cola', 'Chocolate', 'Bread', 'Cheese', 'Cheese'], ['Milk', 'Chips', 'Cola', 'Milk', 'Bread', 'Bread', 'Beer', 'Milk', 'Cola', 'Chocolate', 'Chocolate', 'Meat', 'Cola', 'Cola', 'Beer', 'Cola', 'Chocolate', 'Bread', 'Bread', 'Cola'], ['Chocolate', 'Chocolate', 'Beer', 'Beer', 'Bread', 'Yoghurt', 'Meat', 'Cola', 'Yoghurt'], ['Ketchup', 'Cola', 'Ketchup', 'Yoghurt', 'Chips', 'Soap', 'Soap', 'Chocolate', 'Chocolate', 'Bread', 'Beer', 'Meat'], ['Bread', 'Meat', 'Soap', 'Cola', 'Bread', 'Cola', 'Yoghurt', 'Meat', 'Bread', 'Cola', 'Cola', 'Ketchup', 'Beer', 'Bread', 'Milk', 'Yoghurt', 'Meat'], ['Chocolate', 'Yoghurt', 'Bread'], ['Meat', 'Bread', 'Bread', 'Bread'], ['Beer', 'Milk', 'Cola', 'Ketchup', 'Cola', 'Cheese', 'Meat', 'Chocolate'], ['Soap', 'Beer', 'Chocolate', 'Chocolate', 'Cola', 'Cola', 'Yoghurt', 'Ketchup', 'Milk'], ['Meat', 'Yoghurt', 'Bread', 'Ketchup', 'Ketchup', 'Milk', 'Meat'], ['Ketchup', 'Soap', 'Chips', 'Ketchup', 'Bread', 'Chocolate', 'Milk', 'Bread', 'Bread', 'Ketchup', 'Cola', 'Meat', 'Milk', 'Bread', 'Cola'], ['Meat', 'Beer', 'Yoghurt', 'Chips', 'Beer', 'Meat', 'Cola', 'Beer', 'Meat', 'Ketchup', 'Milk', 'Cola', 'Yoghurt', 'Beer', 'Meat', 'Bread', 'Bread'], ['Meat', 'Soap', 'Cheese', 'Ketchup', 'Cola', 'Cola', 'Bread', 'Chips', 'Meat', 'Cola', 'Bread', 'Beer', 'Beer', 'Beer'], ['Meat', 'Yoghurt', 'Bread', 'Milk', 'Beer', 'Beer']]"
   ]
  },
  {
   "cell_type": "code",
   "execution_count": 89,
   "metadata": {},
   "outputs": [
    {
     "name": "stdout",
     "output_type": "stream",
     "text": [
      "The store with the biggest sales is center\n",
      "Number of sales of the rarest product in the north store is 10\n",
      "The product that was saled in the center store more often than in the north store is Bread\n",
      "The product that was bought in one store more often than in the other two combined is Cola {'north': 121, 'center': 60, 'south': 55}\n",
      "Most popular products:\n",
      "Counter({'Beer': 257, 'Bread': 240, 'Cola': 236, 'Chips': 128, 'Meat': 121, 'Milk': 111, 'Chocolate': 107, 'Yoghurt': 90, 'Soap': 80, 'Cheese': 79, 'Ketchup': 77})\n"
     ]
    }
   ],
   "source": [
    "\"\"\"Tasks 4.4-4.7 from PYTHON-09\"\"\"\n",
    "\n",
    "from collections import Counter, defaultdict\n",
    "\n",
    "all_stores = {\n",
    "    'north': Counter([grocery for check in north for grocery in check]),\n",
    "    'center':Counter([grocery for check in center for grocery in check]),\n",
    "    'south': Counter([grocery for check in south for grocery in check])\n",
    "}\n",
    "\n",
    "# 4.4 В каком магазине было куплено больше всего товаров.\n",
    "all_shops_num_sales = {\n",
    "    shop: sum(number.values()) for shop, number in all_stores.items()\n",
    "    }\n",
    "print(\"The store with the biggest sales is\",\n",
    "      max(all_shops_num_sales, key=all_shops_num_sales.get))\n",
    "\n",
    "# 4.5 Сколько раз покупали самый редкий товар в магазине north?\n",
    "# Запишите ответ в числовой форме.\n",
    "print(\"Number of sales of the rarest product in the north store is\",\n",
    "      min(all_stores['north'].values()))\n",
    "\n",
    "# 4.6 Выберите товар, который в магазине center покупали чаще,\n",
    "# чем в магазине north:\n",
    "search_product = ['Beer', 'Cola', 'Bread', 'Yoghurt']\n",
    "for product in search_product:\n",
    "    if all_stores['center'][product] > all_stores['north'][product]:\n",
    "        print(\"The product that was saled in the center \"\n",
    "              \"store more often than in the north store is\", product)\n",
    "\n",
    "# 4.7 Есть ли такой товар, который в одном из магазинов покупали чаще,\n",
    "# чем в двух других вместе взятых?\n",
    "# Если да, выберите магазин с настолько популярным товаром:\n",
    "all_products = defaultdict(dict)\n",
    "for store, products in all_stores.items():\n",
    "    for product, number in products.items():\n",
    "        all_products[product][store] = number\n",
    "\n",
    "for product, stores in all_products.items():\n",
    "    if max(stores.values()) > (sum(stores.values()) - max(stores.values())):\n",
    "        print(\"The product that was bought in one store more often\"\n",
    "              \" than in the other two combined is\", product, stores)\n",
    "\n",
    "# 4.8 Определите суммарное число продаж каждого товара во всех магазинах,\n",
    "# сложив все объекты-счётчики.\n",
    "# Сколько раз был куплен второй по популярности товар?\n",
    "# Запишите ответ в числовой форме.\n",
    "sum_products = Counter()\n",
    "sum_products = sum(all_stores.values(), sum_products)\n",
    "print(\"Most popular products:\")\n",
    "print(sum_products)\n"
   ]
  },
  {
   "cell_type": "markdown",
   "metadata": {},
   "source": [
    "#### Задание 4.9"
   ]
  },
  {
   "cell_type": "markdown",
   "metadata": {},
   "source": [
    "Дан список кортежей ratings с рейтингами кафе. Кортеж состоит из названия\n",
    "и рейтинга кафе.\n",
    "\n",
    "Необходимо отсортировать список кортежей по убыванию рейтинга. Если рейтинги\n",
    "совпадают, то отсортировать кафе дополнительно по названию в алфавитном\n",
    "порядке.\n",
    "\n",
    "Получите словарь cafes с упорядоченными ключами из отсортированного списка, \n",
    "где ключи — названия кафе, а значения — их рейтинг."
   ]
  },
  {
   "cell_type": "code",
   "execution_count": 2,
   "metadata": {},
   "outputs": [],
   "source": [
    "ratings = [('Old York', 3.3), ('New Age', 4.6), ('Old Gold', 3.3), ('General Foods', 4.8),\n",
    "           ('Belissimo', 4.5), ('CakeAndCoffee', 4.2), ('CakeOClock', 4.2), ('CakeTime', 4.1),\n",
    "           ('WokToWork', 4.9), ('WokAndRice', 4.9), ('Old Wine Cellar', 3.3), ('Nice Cakes', 3.9)]"
   ]
  },
  {
   "cell_type": "code",
   "execution_count": 3,
   "metadata": {},
   "outputs": [
    {
     "name": "stdout",
     "output_type": "stream",
     "text": [
      "OrderedDict([('WokAndRice', 4.9), ('WokToWork', 4.9), ('General Foods', 4.8), ('New Age', 4.6), ('Belissimo', 4.5), ('CakeAndCoffee', 4.2), ('CakeOClock', 4.2), ('CakeTime', 4.1), ('Nice Cakes', 3.9), ('Old Gold', 3.3), ('Old Wine Cellar', 3.3), ('Old York', 3.3)])\n"
     ]
    }
   ],
   "source": [
    "\"\"\"Task 4.9 from PYTHON-09\"\"\"\n",
    "\n",
    "from collections import OrderedDict\n",
    "\n",
    "ratings.sort(key=lambda x: (-x[1], x[0]))\n",
    "cafes = OrderedDict(ratings)\n",
    "\n",
    "print(cafes)\n"
   ]
  },
  {
   "cell_type": "markdown",
   "metadata": {},
   "source": [
    "#### Задание 4.10"
   ]
  },
  {
   "cell_type": "markdown",
   "metadata": {},
   "source": [
    "Напишите функцию task_manager, которая принимает список задач <br>для нескольких серверов. Каждый элемент списка состоит из кортежа (<номер задачи>, <название <br>сервера>, <высокий приоритет задачи>).\n",
    "\n",
    "Функция должна создавать словарь и заполнять его задачами <br>по следующему принципу: название сервера — ключ, по которому хранится очередь задач для конкретного <br>сервера. Если поступает задача без высокого приоритета <br>(последний элемент кортежа — False), добавить номер задачи в конец очереди. Если приоритет <br>высокий, добавить номер в начало.\n",
    "\n",
    "Для словаря используйте defaultdict, для очереди — deque.\n",
    "\n",
    "Функция возвращает полученный словарь с задачами."
   ]
  },
  {
   "cell_type": "code",
   "execution_count": 4,
   "metadata": {},
   "outputs": [],
   "source": [
    "tasks = [(36871, 'office', False),\n",
    "(40690, 'office', False),\n",
    "(35364, 'voltage', False),\n",
    "(41667, 'voltage', True),\n",
    "(33850, 'office', False)]"
   ]
  },
  {
   "cell_type": "code",
   "execution_count": 5,
   "metadata": {},
   "outputs": [
    {
     "name": "stdout",
     "output_type": "stream",
     "text": [
      "defaultdict(<class 'collections.deque'>, {'office': deque([36871, 40690, 33850]), 'voltage': deque([41667, 35364])})\n"
     ]
    }
   ],
   "source": [
    "from collections import defaultdict, deque\n",
    "\n",
    "def task_manager(task_list: list) -> defaultdict:\n",
    "    \"\"\"Function returns queues for each server.\n",
    "\n",
    "    Args:\n",
    "        task_list (list): includes corteges\n",
    "                        (<number of task>,\n",
    "                        <name of server>,\n",
    "                        <task prioity: False or True>)\n",
    "\n",
    "    Returns:\n",
    "        defaultdict: key - name of server,\n",
    "                     value - deque of server's queue\n",
    "    \"\"\"\n",
    "    \n",
    "    result = defaultdict(deque)\n",
    "    for task in task_list:\n",
    "        if task[2]:\n",
    "            result[task[1]].appendleft(task[0])\n",
    "        else:\n",
    "            result[task[1]].append(task[0])\n",
    "    return result\n",
    "\n",
    "print(task_manager(tasks))"
   ]
  },
  {
   "cell_type": "markdown",
   "metadata": {},
   "source": [
    "## Модуль `numpy`"
   ]
  },
  {
   "cell_type": "markdown",
   "metadata": {},
   "source": [
    "### Типы данных"
   ]
  },
  {
   "cell_type": "markdown",
   "metadata": {},
   "source": [
    "Общепринятое сокращение `np`\n",
    "\n",
    "```python\n",
    "import numpy as np\n",
    "```"
   ]
  },
  {
   "cell_type": "markdown",
   "metadata": {},
   "source": [
    "Цифра в конце идентификатора функции означает сколько бит памяти будет выделено <br>для хранения переменной (по умолчанинию 64 бита)\n",
    ", и, соответственно, какой доступен<br> диапазон значений для переменной \n",
    "```python\n",
    "a = np.int8(100)\n",
    "```\n",
    "\n",
    "Функция `iinfo` показывает диапазон значений для конкретной переменной или для типа\n",
    "\n",
    "```python\n",
    "np.iinfo(np.int8)\n",
    "np.iinfo(a)\n",
    "```\n",
    "\n",
    "Беззнаковые целочисленные типы данных (unsigned)\n",
    "```python\n",
    "b = np.uint8(124)\n",
    "```"
   ]
  },
  {
   "cell_type": "markdown",
   "metadata": {},
   "source": [
    "Числа с плавающей точкой (метод `float16`, `float32`, `float64`, `float128`)\n",
    "\n",
    "Функция `finfo` показывает точность и диапазон значений для каждого типа\n",
    "\n",
    "\n",
    "`np.finfo(np.float16)`\n",
    "\n",
    "`# finfo(resolution=0.001, min=-6.55040e+04, max=6.55040e+04, dtype=float16)`\n",
    "\n",
    "`np.finfo(np.float32)`\n",
    "\n",
    "`# finfo(resolution=1e-06, min=-3.4028235e+38, max=3.4028235e+38, dtype=float32)`\n",
    "\n",
    "`np.finfo(np.float64)`\n",
    "\n",
    "`# finfo(resolution=1e-15, min=-1.7976931348623157e+308, max=1.7976931348623157e+308, dtype=float64)`\n",
    "\n",
    "`np.finfo(np.float128)`\n",
    "\n",
    "`# finfo(resolution=1e-18, min=-1.189731495357231765e+4932, max=1.189731495357231765e+4932, dtype=float128)`\n",
    "\n",
    "\n",
    "Функция `sctypeDict` выводит все доступные типы. (словарь, в котором более 100 ключей)\n",
    "\n",
    "```python\n",
    "print(*sorted(map(str, set(np.sctypeDict.values()))), sep='\\n')\n",
    "```\n",
    "Имеются также типы для работы с датой и временем, строковый тип (`str_`) и булевый тип (`bool_`)"
   ]
  },
  {
   "cell_type": "code",
   "execution_count": 112,
   "metadata": {},
   "outputs": [
    {
     "name": "stdout",
     "output_type": "stream",
     "text": [
      "<class 'numpy.bool_'>\n",
      "<class 'numpy.bytes_'>\n",
      "<class 'numpy.complex128'>\n",
      "<class 'numpy.complex256'>\n",
      "<class 'numpy.complex64'>\n",
      "<class 'numpy.datetime64'>\n",
      "<class 'numpy.float128'>\n",
      "<class 'numpy.float16'>\n",
      "<class 'numpy.float32'>\n",
      "<class 'numpy.float64'>\n",
      "<class 'numpy.int16'>\n",
      "<class 'numpy.int32'>\n",
      "<class 'numpy.int64'>\n",
      "<class 'numpy.int8'>\n",
      "<class 'numpy.longlong'>\n",
      "<class 'numpy.object_'>\n",
      "<class 'numpy.str_'>\n",
      "<class 'numpy.timedelta64'>\n",
      "<class 'numpy.uint16'>\n",
      "<class 'numpy.uint32'>\n",
      "<class 'numpy.uint64'>\n",
      "<class 'numpy.uint8'>\n",
      "<class 'numpy.ulonglong'>\n",
      "<class 'numpy.void'>\n"
     ]
    }
   ],
   "source": [
    "print(*sorted(map(str, set(np.sctypeDict.values()))), sep='\\n')"
   ]
  },
  {
   "cell_type": "markdown",
   "metadata": {},
   "source": [
    "### Приведение типов"
   ]
  },
  {
   "cell_type": "markdown",
   "metadata": {},
   "source": [
    "1. В инструкции присваивания надо указывать нужный тип данных `numpy`.\n",
    "2. Арифметические операции сохраняют тип данных `numpy`.\n",
    "3. Если арифметическая операция проводится с двумя разными `numpy` типами, <br>результат сохраняется с более \"старшим\" типом (т.е. тем, на который выделено больше памяти)\n",
    "4. Если присваиваемое переменной значение превосходит доступный диапазон, то никаких ошибок <br>не вызывается, в качестве результата в переменную запишется остаток от деления <br>на максимальное доступное значение. \n",
    "5. При возникновении переполнения в результате арифметической операции <br>выводится предупреждение."
   ]
  },
  {
   "cell_type": "markdown",
   "metadata": {},
   "source": [
    "### Массивы"
   ]
  },
  {
   "cell_type": "markdown",
   "metadata": {},
   "source": [
    "`import numpy as np` - `np` - общепринятие сокращение\n",
    "\n",
    "`np.array` - создать массив\n",
    "\n",
    "`np.array(object, dtype=None, *, copy=True, order='K', subok=False, ndmin=0, like=None)`\n",
    "\n",
    "Именнованный параметр `dtype` задает тип данных для создаваемого массива.\n",
    "\n",
    "`np.nan` - несуществующее число (аналог `None`)\n",
    "\n",
    "#### Получение элемента по нижнему индексу\n",
    "\n",
    "`<array>[ось0, ось1, ...]`\n",
    "\n",
    "В любой из осей можно использовать срез. Если значение опущено возвращаются все элементы. \n",
    "\n",
    "Вместо пропущенных осей можно использовать `...`\n",
    "\n",
    "также поддерживается индексация при помощи массивов целых чисел и булевых переменных.\n",
    "\n",
    "#### Атрибуты массива:\n",
    "\n",
    "- `.dtype` - тип данных, которые хранятся в массиве.\n",
    "\n",
    "- `.ndim` - размерность (количество осей индексации) массива. \n",
    "\n",
    "- `.size` - общее количество элементов в массиве.\n",
    "\n",
    "- `.shape` - кортеж, в котором содержатся длины каждой из размерностей массива (__можно менять форму массива!!!__).\n",
    "\n",
    "- `.itemsize` - число байт, которое занимает каждый из элементов массива.\n",
    "\n",
    "\n",
    "`np.zeros(shape, dtype=float, order='C', *, like=None)` - создать массив нужной формы из нулей, можно указать тип данных.\n",
    "\n",
    "`np.arange([start,] stop[, step,], dtype=None, *, like=None)` - создать массив из диапазона.\n",
    "\n",
    "\n",
    "#### Функция `np.linspace` - создать массив из диапазона чисел с заданным количеством элементов.\n",
    "\n",
    "`np.linspace(start: _ArrayLikeFloat_co, stop: _ArrayLikeFloat_co, num: SupportsIndex = ..., endpoint: bool = ..., retstep: Literal[False] = ..., dtype: None = ..., axis: SupportsIndex = ...) -> NDArray[floating]`\n",
    "\n",
    "- `start` - начальное значение последовательности\n",
    "\n",
    "- `stop` - конечное значение последовательности (может включаться в нее или не включаться)\n",
    "\n",
    "- `num` - (опционально) количество элементов последовательности (по умолчанию `50`)\n",
    "\n",
    "- `endpoint` - (опционально) по умолчанию `True`, указывает надо ли включать `stop` в последовательность.\n",
    "\n",
    "- `retstep` - (опционально) если `True` - функция возвращает (последовательность, шаг)\n",
    "\n",
    "- `dtype` - (опционально) тип возврашаемого массива. Если не задан выводится из значений `start` и `stop`, но всегда `float`\n",
    "\n",
    "- `axis` - (опционально) Ось в возвращаемом массиве для хранения сгенерированных чисел. <br>Актуально только в том случае, если `start` или `stop` являются массивоподобными.<br> По умолчанию (0) выборки будут располагаться вдоль новой оси, вставленной<br> в начале. Используйте -1, чтобы получить ось в конце.\n",
    "\n",
    "\n",
    "#### Метод `.reshape` \n",
    "\n",
    "Возвращает копию массива нужной формы\n",
    "\n",
    "`<array>.reshape(shape: _ShapeLike, /, *, order: _OrderACF = ...) -> ndarray[Any, dtype[float128]]`\n",
    "\n",
    "- `order = 'C'` - (по умолчанию) массив заполняется по строкам\n",
    "\n",
    "- `order = 'F'` - массив заполняется по столбцам\n",
    "\n",
    "#### Метод `.transpose`\n",
    "\n",
    "Транспонировать массив (поменять местами строки и столбцы)\n",
    "\n",
    "`<array>.transpose(axes: _ShapeLike | None, /) -> NDArray[float128]`\n",
    "\n",
    "#### Функция `isnan`\n",
    "\n",
    "Возвращает массив булевых переменных, который получается в результате соспоставления <br>\n",
    "каждого элемента исходного массива с `nan`\n",
    "\n",
    "### Функция `sqrt`\n",
    "\n",
    "`np.sqrt(__x1: _ScalarLike_co, /, out: None = ..., *, where: _ArrayLikeBool_co | None = ..., casting: _CastingKind = ..., order: _OrderKACF = ..., dtype: DTypeLike = ..., subok: bool = ..., signature: str | _2Tuple[str | None] = ..., extobj: list = ...) -> Any`\n",
    "\n",
    "Извлечь корень из каждого элемента массива.\n",
    "\n"
   ]
  },
  {
   "cell_type": "markdown",
   "metadata": {},
   "source": [
    "### Векторы"
   ]
  },
  {
   "cell_type": "markdown",
   "metadata": {},
   "source": [
    "__Вектор__ - одномерный массив"
   ]
  },
  {
   "cell_type": "markdown",
   "metadata": {},
   "source": [
    "При применении арифметических или логических операций между <br> \n",
    "одномерными массивами `numpy`, эта операция будет применена к каждой<br>\n",
    "паре элементов массивов.<br>\n",
    "Если их длина отличается, будет вызвано исключение `ValueError`\n",
    "\n",
    "При применении арифметической операции между одномерным массивом и числом,<br>\n",
    "эта операция будет произведена между каждым его элементом и числов.\n",
    "\n",
    "#### `np.linalg` \n",
    "\n",
    "Модуль `numpy`, содержащий функции линейной алгебры\n",
    "\n",
    "__Длина вектора `x`__ - это квадратный корень из суммы квадратов его координат\n",
    "\n",
    "`length_x = np.sqrt(np.sum(x ** 2))`\n",
    "\n",
    "__Расстояние между векторами `x` и `y`__ - квадратный корень из суммы квадратов<br>\n",
    "разностей соответствующих координат.\n",
    "\n",
    "`distance = np.sqrt(np.sum((x - y) ** 2))`\n",
    "\n",
    "#### Функция `np.linalg.norm()`\n",
    "\n",
    "`np.linalg.norm()` - возвращает длину вектора \n",
    "\n",
    "`np.linalg.norm(x - y)` - возвращает расстояние между векторами `x` и `y`\n"
   ]
  },
  {
   "cell_type": "markdown",
   "metadata": {},
   "source": [
    "__Скалярное произведение двух векторов `x`, `y`__\n",
    "\n",
    "`np.sum(x * y)`\n",
    "\n",
    "`np.dot(x, y)` - если скалярное произведение равно `0`, то вектора перпендикулярны друг другу."
   ]
  },
  {
   "cell_type": "markdown",
   "metadata": {},
   "source": [
    "### Статистические функции `numpy`"
   ]
  },
  {
   "cell_type": "markdown",
   "metadata": {},
   "source": [
    "[Ссылка на стат. функции `numpy`](https://pyprog.pro/statistics_functions/statistics_function.html)"
   ]
  },
  {
   "cell_type": "markdown",
   "metadata": {},
   "source": [
    "`np.mean` - вычислить среднее\n",
    "\n",
    "`np.min` - получить мимнимум\n",
    "\n",
    "`np.max` - получить максимум"
   ]
  },
  {
   "cell_type": "markdown",
   "metadata": {},
   "source": [
    "### Случайные числа"
   ]
  },
  {
   "cell_type": "markdown",
   "metadata": {},
   "source": [
    "Для генерации псевдослучайных чисел используются функции модуля `random`"
   ]
  },
  {
   "cell_type": "markdown",
   "metadata": {},
   "source": [
    "`rand()` \n",
    "\n",
    "генерация числа от 0 до 1 (1 не включая)\n",
    "\n",
    "В качестве аргументов можно указать форму (размерности) массива в виде<br>\n",
    "аргументов через запятую. Тогда функция вернет массив случайных чисел."
   ]
  },
  {
   "cell_type": "markdown",
   "metadata": {},
   "source": [
    "`sample((<форма массива>))`\n",
    "\n",
    "Создает массив случайных чисел нужной размерности.<br>\n",
    "В качестве аргумента принимает кортеж."
   ]
  },
  {
   "cell_type": "markdown",
   "metadata": {},
   "source": [
    "`uniform(low=0.0, high=1.0, size=None)` \n",
    "\n",
    "Возвращает случайное число из заданного диапазона.<br>\n",
    "Может создавать массивы нужного размера<br>\n",
    "(размеры передаются как кортеж для параметра `size`)"
   ]
  },
  {
   "cell_type": "markdown",
   "metadata": {},
   "source": [
    "`randint(low, high=None, size=None, dtype=int)`\n",
    "\n",
    "Возвращает целое случайное число.<br>\n",
    "Если `high` не задано, число возрващает от `0` до `low - 1`<br>\n",
    "Остальные аргументы стандартные."
   ]
  },
  {
   "cell_type": "markdown",
   "metadata": {},
   "source": [
    "`shuffle()`\n",
    "\n",
    "Перемешивает массив на месте"
   ]
  },
  {
   "cell_type": "markdown",
   "metadata": {},
   "source": [
    "`permutation()`\n",
    "\n",
    "Возвращает копию перемешанного массива (или любой<br>\n",
    "последовательности, которую преобразовывает в массив).<br>\n",
    "Если в качестве аргумента указано целое число `n`,<br>\n",
    "возвращает перемешанную последовательность от 0 до `n - 1`."
   ]
  },
  {
   "cell_type": "markdown",
   "metadata": {},
   "source": [
    "`choice(a, size=None, replace=True)`\n",
    "\n",
    "Получить случайный набор объектов из массива.\n",
    "\n",
    "- `a` — одномерный массив или число для генерации `arange(a)`;\n",
    "- `size` — желаемая форма массива (число для получения<br>\n",
    "одномерного массива, кортеж — для многомерного; если<br>\n",
    "параметр не задан, возвращается один объект);\n",
    "- `replace` — параметр, задающий, могут ли элементы повторяться<br>\n",
    "(по умолчанию могут)."
   ]
  },
  {
   "cell_type": "markdown",
   "metadata": {},
   "source": [
    "`seed()`\n",
    "\n",
    "Получить одинаковые (воспроизводимые) последовательности случайных чисел.<br>\n",
    "аргумент может быть от $0$ до $2^{32} - 1$"
   ]
  },
  {
   "cell_type": "markdown",
   "metadata": {},
   "source": [
    "## Закрепление знаний"
   ]
  },
  {
   "cell_type": "markdown",
   "metadata": {},
   "source": [
    "### Задание 10.6"
   ]
  },
  {
   "cell_type": "markdown",
   "metadata": {},
   "source": [
    "Напишите функцию get_chess, которая принимает на вход длину стороны квадрата a и возвращает двумерный массив формы (a, a), заполненный 0 и 1 в шахматном порядке. В левом верхнем углу всегда должен быть ноль."
   ]
  },
  {
   "cell_type": "code",
   "execution_count": 31,
   "metadata": {},
   "outputs": [
    {
     "name": "stdout",
     "output_type": "stream",
     "text": [
      "<class 'numpy.ndarray'>\n",
      "[[0 1 0 1 0 1 0 1 0]\n",
      " [1 0 1 0 1 0 1 0 1]\n",
      " [0 1 0 1 0 1 0 1 0]\n",
      " [1 0 1 0 1 0 1 0 1]\n",
      " [0 1 0 1 0 1 0 1 0]\n",
      " [1 0 1 0 1 0 1 0 1]\n",
      " [0 1 0 1 0 1 0 1 0]\n",
      " [1 0 1 0 1 0 1 0 1]\n",
      " [0 1 0 1 0 1 0 1 0]]\n"
     ]
    }
   ],
   "source": [
    "import numpy as np\n",
    "\n",
    "def get_chess(side: int) -> np.ndarray:\n",
    "    \"\"\"Gets the length of the side of the chessboard and returns the whole board\n",
    "    filled with 0 and 1 (starting from 0)\n",
    "    \n",
    "    Args:\n",
    "        side (int): side of chessboard\n",
    "\n",
    "    Returns:\n",
    "        np.ndarray: chessboard\n",
    "    \"\"\"\n",
    "    \n",
    "    chessboard = np.zeros((side, side), dtype=np.int8)\n",
    "    chessboard[::2, 1::2] = 1\n",
    "    chessboard[1::2, ::2] = 1\n",
    "    print(type(chessboard))\n",
    "    return chessboard\n",
    "\n",
    "\n",
    "print(get_chess(9))"
   ]
  },
  {
   "cell_type": "markdown",
   "metadata": {},
   "source": [
    "### Задание 10.7"
   ]
  },
  {
   "cell_type": "markdown",
   "metadata": {},
   "source": [
    "Вы разрабатываете приложение для прослушивания музыки. Конечно же, там будет<br> \n",
    "доступна функция перемешивания плейлиста. Пользователю может настолько понравиться<br>\n",
    "перемешанная версия плейлиста, что он захочет сохранить его копию. Однако вы <br>\n",
    "не хотите хранить в памяти новую версию плейлиста, а просто хотите сохранять тот `seed`,<br>\n",
    "с которым он был сгенерирован.\n",
    "\n",
    "Для этого напишите функцию `shuffle_seed(<array>)`,  которая принимает на вход массив<br>\n",
    "из чисел, генерирует случайное число для `seed` в диапазоне от $0$ до $2^{32} - 1$ (включительно)<br>\n",
    "и возвращает кортеж: перемешанный с данным `seed` массив (исходный массив должен оставаться <br>\n",
    "без изменений), а также `seed`, с которым этот массив был получен.\n",
    "\n",
    "Пример:\n",
    "\n",
    "```python\n",
    "array = [1, 2, 3, 4, 5]\n",
    "shuffle_seed(array)\n",
    "# (array([1, 3, 2, 4, 5]), 2332342819)\n",
    "shuffle_seed(array)\n",
    "# (array([4, 5, 2, 3, 1]), 4155165971)\n",
    "```"
   ]
  },
  {
   "cell_type": "code",
   "execution_count": 24,
   "metadata": {},
   "outputs": [
    {
     "data": {
      "text/plain": [
       "(array([2, 3, 1, 5, 4]), 2239938729)"
      ]
     },
     "execution_count": 24,
     "metadata": {},
     "output_type": "execute_result"
    }
   ],
   "source": [
    "import numpy as np\n",
    "\n",
    "def shuffle_seed(playlist: np.ndarray) -> tuple:\n",
    "    \"\"\"Generates and returns a random integer and shuffled\n",
    "    playlist by this integer as seed.\n",
    "\n",
    "    Args:\n",
    "        playlist (np.ndarray): playist for shuffle\n",
    "    Returns:\n",
    "        tuple: playlist(np.ndarray), num_for_seed(np.uint32) \n",
    "        \n",
    "    \"\"\"\n",
    "\n",
    "    num_for_seed = np.random.randint(0, np.iinfo(np.uint32).max, dtype=np.uint32)\n",
    "    np.random.seed(num_for_seed)\n",
    "    return np.random.permutation(playlist), num_for_seed\n",
    "    \n",
    "    \n",
    "array = [1, 2, 3, 4, 5]\n",
    "shuffle_seed(array)"
   ]
  },
  {
   "cell_type": "markdown",
   "metadata": {},
   "source": [
    "### Задание 10.8"
   ]
  },
  {
   "cell_type": "markdown",
   "metadata": {},
   "source": [
    "Напишите функцию `min_max_dist`, которая принимает на вход неограниченное<br>\n",
    "число векторов через запятую. Гарантируется, что все векторы, которые<br>\n",
    "передаются, одинаковой длины.\n",
    "\n",
    "Функция возвращает минимальное и максимальное расстояние между векторами<br>\n",
    "в виде кортежа.\n",
    "\n",
    "Пример:\n",
    "```python\n",
    "vec1 = np.array([1,2,3])\n",
    "vec2 = np.array([4,5,6])\n",
    "vec3 = np.array([7, 8, 9])\n",
    " \n",
    "min_max_dist(vec1, vec2, vec3)\n",
    "# (5.196152422706632, 10.392304845413264)\n",
    "```"
   ]
  },
  {
   "cell_type": "code",
   "execution_count": 32,
   "metadata": {},
   "outputs": [
    {
     "data": {
      "text/plain": [
       "(5.196152422706632, 10.392304845413264)"
      ]
     },
     "execution_count": 32,
     "metadata": {},
     "output_type": "execute_result"
    }
   ],
   "source": [
    "\n",
    "import numpy as np\n",
    "\n",
    "def min_max_dist(*args) -> tuple:\n",
    "    \"\"\"Takes any number of vectors with the same length\n",
    "    and returns min and max distance between this vectors.\n",
    "\n",
    "    Returns:\n",
    "        tuple: min distance, max distance\n",
    "        \n",
    "    \"\"\"\n",
    "\n",
    "    args = [np.array(arg) for arg in args]\n",
    "    dist =[np.linalg.norm(vec1 - vec2)\n",
    "        for i, vec1 in enumerate(args[:-1]) for vec2 in args[i+1:]]\n",
    "    return np.min(dist), np.max(dist)\n",
    "\n",
    "vec1 = np.array([1,2,3])\n",
    "vec2 = np.array([4,5,6])\n",
    "vec3 = np.array([7, 8, 9])\n",
    "\n",
    "min_max_dist(vec1, vec2, vec3)\n"
   ]
  },
  {
   "cell_type": "markdown",
   "metadata": {},
   "source": [
    "### Задание 10.9"
   ]
  },
  {
   "cell_type": "markdown",
   "metadata": {},
   "source": [
    "Напишите функцию `any_normal`, которая принимает на вход неограниченное<br>\n",
    "число векторов через запятую. Гарантируется, что все векторы, которые<br>\n",
    "передаются, одинаковой длины.\n",
    "\n",
    "Функция возвращает `True`, если есть хотя бы одна пара перпендикулярных<br>\n",
    "векторов. Иначе возвращает `False`.\n",
    "\n",
    "Пример:\n",
    "\n",
    "```python\n",
    "vec1 = np.array([2, 1])\n",
    "vec2 = np.array([-1, 2])\n",
    "vec3 = np.array([3,4])\n",
    "print(any_normal(vec1, vec2, vec3))\n",
    "# True\n",
    "```"
   ]
  },
  {
   "cell_type": "code",
   "execution_count": 36,
   "metadata": {},
   "outputs": [
    {
     "name": "stdout",
     "output_type": "stream",
     "text": [
      "True\n"
     ]
    }
   ],
   "source": [
    "import numpy as np\n",
    "\n",
    "def any_normal(*args) -> bool:\n",
    "    \"\"\"Takes any number of vectors with the same length\n",
    "    and returns True, if at least two of them are perpendicular,\n",
    "    returns False otherwise.\n",
    "\n",
    "    Returns:\n",
    "        bool: True if two of vectors are perpendicular.\n",
    "    \"\"\"\n",
    "\n",
    "    args = [np.array(arg) for arg in args]\n",
    "    for i, vec1 in enumerate(args[:-1]):\n",
    "        for vec2 in args[i+1:]:\n",
    "            if np.dot(vec1, vec2) == 0:\n",
    "                return True\n",
    "    return False\n",
    "\n",
    "vec1 = np.array([2, 1])\n",
    "vec2 = np.array([-1, 2])\n",
    "vec3 = np.array([3,4])\n",
    "print(any_normal(vec1, vec2, vec3))\n"
   ]
  },
  {
   "cell_type": "markdown",
   "metadata": {},
   "source": [
    "### Задание 10.10"
   ]
  },
  {
   "cell_type": "markdown",
   "metadata": {},
   "source": [
    "Напишите функцию get_loto(num), генерирующую трёхмерный массив случайных целых чисел от 1 до 100 (включительно). Это поля для игры в лото.\n",
    "\n",
    "Трёхмерный массив должен состоять из таблиц чисел формы 5х5, то есть итоговая форма — (num, 5, 5).\n",
    "\n",
    "Функция возвращает полученный массив.\n",
    "\n",
    "Пример:\n",
    "\n",
    "```python\n",
    "get_loto(3)\n",
    "```\n",
    "\n",
    "Результат:\n",
    "\n",
    "```python\n",
    "array([[[ 35,  66,  38,  11,  32],\n",
    "       [ 32,   7,  37,  83,  42],\n",
    "       [ 89,  37,  19,  51,  89],\n",
    "       [ 70, 100,  83,   5,  11],\n",
    "       [ 20,  13,  60,  26,  41]],\n",
    " \n",
    "      [[ 23,  49,  76,  44,  43],\n",
    "       [ 59,  63,  99,  92,   2],\n",
    "       [ 83,   4,  25,  73,  19],\n",
    "       [ 10,  18,  40,  11,  21],\n",
    "       [ 58,  45,  73,  93,  61]],\n",
    " \n",
    "      [[100,  88,  70,  34,  51],\n",
    "       [  5,  35,  36,  85,  88],\n",
    "       [ 72,  23,  87,  30,  40],\n",
    "       [ 29,  21,  51,  73,  81],\n",
    "       [ 91,  19,  87,  60,  27]]])\n",
    "```"
   ]
  }
 ],
 "metadata": {
  "kernelspec": {
   "display_name": "Python 3.10.4 64-bit",
   "language": "python",
   "name": "python3"
  },
  "language_info": {
   "codemirror_mode": {
    "name": "ipython",
    "version": 3
   },
   "file_extension": ".py",
   "mimetype": "text/x-python",
   "name": "python",
   "nbconvert_exporter": "python",
   "pygments_lexer": "ipython3",
   "version": "3.10.4"
  },
  "orig_nbformat": 4,
  "vscode": {
   "interpreter": {
    "hash": "e7370f93d1d0cde622a1f8e1c04877d8463912d04d973331ad4851f04de6915a"
   }
  }
 },
 "nbformat": 4,
 "nbformat_minor": 2
}
