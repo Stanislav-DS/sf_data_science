{
 "cells": [
  {
   "attachments": {},
   "cell_type": "markdown",
   "metadata": {},
   "source": [
    "# Принципы ООП в Python и отладка кода."
   ]
  },
  {
   "attachments": {},
   "cell_type": "markdown",
   "metadata": {},
   "source": [
    "Основу ООП составляют два понятия — классы и объекты.\n",
    "\n",
    "Когда мы говорим о классе, мы имеем в виду то, какими свойствами и поведением будет обладать объект (например, ходить на двух ногах, говорить).\n",
    "\n",
    "А объект — это экземпляр с собственным состоянием этих свойств (то, что будет отличать одного человека от другого), любой предмет, существо, явление. Иными словами, это всё, что называется именем существительным, о чём можно сказать «это что-то» или «это кто-то». Объекты класса обладают свойствами и поведением (методами)."
   ]
  },
  {
   "attachments": {},
   "cell_type": "markdown",
   "metadata": {},
   "source": [
    "1. __Наследование__. Этот принцип базируется на том, что новый класс описывается на основе уже существующего (родительского), то есть не только перенимает все свойства родительского класса, но ещё и получает новые.\n",
    "\n",
    "2. __АБСТРАКЦИЯ__ - означает выделение главных, наиболее значимых характеристик предмета и, наоборот, отбрасывание второстепенных, незначительных. \n",
    "\n",
    "3. __ИНКАПСУЛЯЦИЯ__ - это свойство системы, позволяющее объединить данные и методы, работающие с ними, в классе и скрыть детали реализации от пользователя. Инкапсуляция также означает ограничение доступа к данным и возможностям их изменения.\n",
    "\n",
    "4. __ПОЛИМОРФИЗМ__ это свойство системы, позволяющее иметь множество реализаций одного интерфейса. \n",
    "\n"
   ]
  },
  {
   "attachments": {},
   "cell_type": "markdown",
   "metadata": {},
   "source": [
    "## Атрибуты иметоды"
   ]
  },
  {
   "attachments": {},
   "cell_type": "markdown",
   "metadata": {},
   "source": [
    "Мы создали объект по пустому классу. Давайте добавим ему данные. Сделаем класс для отчётов по продажам `SalesReport`. Пусть у нас в компании есть менеджеры по продажам, которые заключают сделки, и мы хотим посчитать для них метрики общего объёма продаж."
   ]
  },
  {
   "cell_type": "code",
   "execution_count": 1,
   "metadata": {},
   "outputs": [
    {
     "name": "stdout",
     "output_type": "stream",
     "text": [
      "Total amount: 10\n",
      "Total amount: 20\n"
     ]
    }
   ],
   "source": [
    "# По-прежнему пока создаём пустой класс  \n",
    "class SalesReport():  \n",
    "    pass  \n",
    "  \n",
    "# Создаём первый отчёт по продажам   \n",
    "report = SalesReport()  \n",
    "  \n",
    "# Мы добавим новый атрибут объекту.  \n",
    "# Для этого через точку напишем имя атрибута и дальше как с обычной переменной  \n",
    "report.amount = 10  \n",
    "  \n",
    "# То же самое делаем для второго отчёта.  \n",
    "report_2 = SalesReport()  \n",
    "report_2.amount = 20  \n",
    "  \n",
    "# Создадим вспомогательную функцию, она будет печатать общую сумму из отчёта  \n",
    "def print_report(report):  \n",
    "    print(\"Total amount:\", report.amount)  \n",
    "      \n",
    "print_report(report) # => Total amount: 10  \n",
    "print_report(report_2) # => Total amount: 20 "
   ]
  },
  {
   "attachments": {},
   "cell_type": "markdown",
   "metadata": {},
   "source": [
    "Для разных отчётов вывелись разные значения, хотя объекты создавались из одного класса. Функция `print_report` делает операцию над отчётом. Так как классы увязывают данные и действия над ними, положим `print_report` внутрь класса."
   ]
  },
  {
   "cell_type": "code",
   "execution_count": 2,
   "metadata": {},
   "outputs": [
    {
     "name": "stdout",
     "output_type": "stream",
     "text": [
      "Total amount: 10\n",
      "Total amount: 20\n"
     ]
    }
   ],
   "source": [
    "class SalesReport():  \n",
    "    # Наш новый метод внутри класса.  \n",
    "    # Мы определяем его похожим образом с обычными функциями,  \n",
    "    #   но только помещаем внутрь класса и первым аргументом передаём self  \n",
    "    def print_report(self):  \n",
    "        print(\"Total amount:\", self.amount)  \n",
    "          \n",
    "          \n",
    "# Дальше мы применяем report так же, как и в примере выше   \n",
    "report = SalesReport()  \n",
    "report.amount = 10  \n",
    "  \n",
    "report_2 = SalesReport()  \n",
    "report_2.amount = 20  \n",
    "  \n",
    "# Используем наши новые методы  \n",
    "report.print_report() # => Total amount: 10  \n",
    "report_2.print_report() # => Total amount: 20 "
   ]
  },
  {
   "attachments": {},
   "cell_type": "markdown",
   "metadata": {},
   "source": [
    "Методы в целом похожи на обычные функции, но их ключевое отличие — __доступ к самому объекту__.\n",
    "\n",
    "В методе мы первым аргументом получаем `self` — в нашем случае это отчёт, что позволяет использовать атрибуты объекта внутри метода, как мы сделали с `amount`. `Self` передаётся автоматически. При вызове метода мы не передавали никакие аргументы.\n",
    "\n",
    "Давайте для примера определим ещё пару методов:"
   ]
  },
  {
   "cell_type": "code",
   "execution_count": 3,
   "metadata": {},
   "outputs": [
    {
     "name": "stdout",
     "output_type": "stream",
     "text": [
      "Total sales: 40000\n"
     ]
    }
   ],
   "source": [
    "class SalesReport():  \n",
    "    # Позволим добавлять много разных сделок   \n",
    "    def add_deal(self, amount):   \n",
    "        # На первой сделке создадим список для хранения всех сделок   \n",
    "        if not hasattr(self, 'deals'):  \n",
    "            self.deals = []  \n",
    "        # Добавим текущую сделку  \n",
    "        self.deals.append(amount)  \n",
    "          \n",
    "    # Посчитаем сумму всех сделок      \n",
    "    def total_amount(self):  \n",
    "        return sum(self.deals)  \n",
    "      \n",
    "    def print_report(self):  \n",
    "        print(\"Total sales:\", self.total_amount())\n",
    "        \n",
    "\n",
    "# Используем наши новые возможности  \n",
    "# Добавим две сделки и распечатаем отчёт  \n",
    "report = SalesReport()  \n",
    "report.add_deal(10_000)  \n",
    "report.add_deal(30_000)  \n",
    "report.print_report() # => Total sales: 40000 "
   ]
  },
  {
   "attachments": {},
   "cell_type": "markdown",
   "metadata": {},
   "source": [
    "Атрибут `deals`, определённый в одном методе, становится доступен сразу во всех методах класса. Через `self` становятся доступны и остальные методы, например `print_report` использует метод `total_amount`. Это позволяет компактно упаковывать логику внутри класса: внешнее использование становится гораздо лаконичнее."
   ]
  },
  {
   "attachments": {},
   "cell_type": "markdown",
   "metadata": {},
   "source": [
    "### 4.1\n",
    "\n",
    "Допишите определение класса DepartmentReport, который выводит отчёт по отделам компании. У него должны быть определены:\n",
    "\n",
    "атрибут revenues — список, где мы храним значения выручки отделов;\n",
    "метод add_revenue, который добавляет выручку одного отдела;\n",
    "метод average_revenue, который возвращает среднюю выручку по всем отделам.\n",
    "В случае правильного описания класса код, приведённый ниже, должен выдать следующий результат:\n",
    "\n",
    "\n",
    "```python\n",
    "report = DepartmentReport()\n",
    "report.add_revenue(1_000_000)\n",
    "report.add_revenue(400_000)\n",
    "print(report.revenues)\n",
    "# [1000000, 400000]\n",
    "print(report.average_revenue())\n",
    "# 700000.0\n",
    "```\n"
   ]
  },
  {
   "cell_type": "code",
   "execution_count": 8,
   "metadata": {},
   "outputs": [],
   "source": [
    "# Введите свое решение ниже\n",
    "from statistics import mean\n",
    "\n",
    "class DepartmentReport():\n",
    "    def add_revenue(self, amount):\n",
    "        if not hasattr(self, 'revenues'):\n",
    "            self.revenues = []\n",
    "        self.revenues.append(amount)\n",
    "\n",
    "    def average_revenue(self):\n",
    "        return mean(self.revenues)"
   ]
  },
  {
   "attachments": {},
   "cell_type": "markdown",
   "metadata": {},
   "source": [
    "### Метод `__init__`"
   ]
  },
  {
   "attachments": {},
   "cell_type": "markdown",
   "metadata": {},
   "source": [
    "Мы определили несколько методов в классе `SalesReport`. С ним есть пара проблем. \n",
    "\n",
    "Если мы вызовем `total_amount` до `add_deal`, то список сделок ещё не будет создан, и мы получим ошибку. Также проверка на наличие списка в методе `add_deal` не кажется оптимальным решением, потому что создать список нужно один раз, а проверять его наличие мы вынуждены на каждой сделке.\n",
    "\n",
    "Обе проблемы решились бы, если задавать атрибутам исходное значение. Для этого у классов есть метод инициализации `__init__`. Если мы определим метод с таким именем, код в нём вызовется при создании объекта."
   ]
  },
  {
   "cell_type": "code",
   "execution_count": 9,
   "metadata": {},
   "outputs": [
    {
     "name": "stdout",
     "output_type": "stream",
     "text": [
      "[]\n"
     ]
    },
    {
     "data": {
      "text/plain": [
       "0"
      ]
     },
     "execution_count": 9,
     "metadata": {},
     "output_type": "execute_result"
    }
   ],
   "source": [
    "class SalesReport():  \n",
    "    def __init__(self):  \n",
    "        self.deals = []  \n",
    "          \n",
    "    def add_deal(self, amount):   \n",
    "        self.deals.append(amount)  \n",
    "          \n",
    "    def total_amount(self):  \n",
    "        return sum(self.deals)  \n",
    "      \n",
    "    def print_report(self):  \n",
    "        print(\"Total sales:\", self.total_amount())  \n",
    "   \n",
    "report = SalesReport()  \n",
    "print(report.deals)  \n",
    "# => []  \n",
    "report.total_amount()  \n",
    "# => 0  "
   ]
  },
  {
   "attachments": {},
   "cell_type": "markdown",
   "metadata": {},
   "source": [
    "`__init__` — это технический метод, поэтому его имя начинается и заканчивается двумя подчёркиваниями. Он получает первым аргументом сам объект, в нём могут выполняться любые операции. Оставшиеся аргументы он получает из вызова при создании: если мы напишем `report = SalesReport(\"Info\", 20)`, то вторым и третьим аргументом в `__init__` передадутся `\"Info\"` и `20`."
   ]
  },
  {
   "cell_type": "code",
   "execution_count": null,
   "metadata": {},
   "outputs": [],
   "source": [
    "class SalesReport():  \n",
    "    # Будем принимать в __init__ ещё и имя менеджера  \n",
    "    def __init__(self, manager_name):  \n",
    "        self.deals = []  \n",
    "        self.manager_name = manager_name  \n",
    "          \n",
    "    def add_deal(self, amount):   \n",
    "        self.deals.append(amount)  \n",
    "          \n",
    "    def total_amount(self):  \n",
    "        return sum(self.deals)  \n",
    "      \n",
    "    def print_report(self):  \n",
    "        # И добавлять это имя в отчёт  \n",
    "        print(\"Manager:\", self.manager_name)  \n",
    "        print(\"Total sales:\", self.total_amount())  \n",
    "          \n",
    "   \n",
    "report = SalesReport(\"Ivan Taranov\")  \n",
    "report.add_deal(10_000)  \n",
    "report.add_deal(30_000)  \n",
    "report.print_report()  \n",
    "# =>   \n",
    "# Manager: Ivan Taranov  \n",
    "# Total sales: 40000"
   ]
  },
  {
   "attachments": {},
   "cell_type": "markdown",
   "metadata": {},
   "source": [
    "Кроме `__init__` у классов можно определить ряд технических методов, которые также называют магическими. Дело в том, что они не вызываются напрямую, но позволяют реализовать операции сложения `object_1` + `object_2` или сравнения `object_1` > `object_2`. \n",
    "\n",
    "Они используются реже `__init__`, так что мы оставим их за скобками модуля. При желании полный список можно найти в [документации](https://docs.python.org/3/reference/datamodel.html#special-method-names)."
   ]
  },
  {
   "attachments": {},
   "cell_type": "markdown",
   "metadata": {},
   "source": [
    "### 4.2\n",
    "\n",
    "Улучшите класс `DepartmentReport`. Класс при инициализации должен принимать переменную `company_name` и инициализировать её значением атрибут `company`, а также инициализировать атрибут `revenues` пустым списком. Метод `average_revenue` должен возвращать строку `\"Average department revenue for (company_name): (average_revenue)\"`.\n",
    "\n",
    "В случае правильного описания класса код, приведённый ниже, должен выдать следующий результат:\n",
    "\n",
    "```python\n",
    "report = DepartmentReport(\"Danon\")\n",
    "report.add_revenue(1_000_000)\n",
    "report.add_revenue(400_000)\n",
    "\n",
    "print(report.average_revenue())\n",
    "# Average department revenue for Danon: 700000\n",
    "```\n",
    "\n",
    "Подсказка числовое значение округлите до целого библиотечной функцией `round`\n"
   ]
  },
  {
   "cell_type": "code",
   "execution_count": 15,
   "metadata": {},
   "outputs": [
    {
     "name": "stdout",
     "output_type": "stream",
     "text": [
      "Average department revenue for Danon: 700000\n"
     ]
    }
   ],
   "source": [
    "from statistics import mean\n",
    "\n",
    "class DepartmentReport():\n",
    "    def __init__(self, company_name) -> None:\n",
    "        self.company = company_name\n",
    "        self.revenues = []\n",
    "        \n",
    "    def add_revenue(self, amount):\n",
    "        self.revenues.append(amount)\n",
    "\n",
    "    def average_revenue(self):\n",
    "        average = round(mean(self.revenues))\n",
    "        return f\"Average department revenue for {self.company}: {average}\""
   ]
  },
  {
   "attachments": {},
   "cell_type": "markdown",
   "metadata": {},
   "source": [
    "### Резюме по атрибутам и методам"
   ]
  },
  {
   "attachments": {},
   "cell_type": "markdown",
   "metadata": {},
   "source": [
    "* __атрибут__ объекта — это просто его переменная;\n",
    "* __метод__ объекта — это его функция;\n",
    "* метод объекта автоматически получает первым аргументом сам объект под именем `self`;\n",
    "* __класс__ описывает объект через его атрибуты и методы;\n",
    "* мы можем создавать множество экземпляров одного класса, и значения их атрибутов независимы друг от друга;\n",
    "* если определить метод __init__, то он будет выполняться при создании объекта;\n",
    "* всё это позволяет компактно увязывать данные и логику внутри объекта.\n",
    "Чтобы продемонстрировать, что мы имеем в виду под компактностью, давайте добавим ещё метрик в отчёт. \n",
    "\n",
    "Допустим, теперь мы хотим получать средний размер сделки и список клиентов, из которого исключены повторения (в случае, если компания заключала несколько сделок с одним и тем же клиентом).\n",
    "\n",
    " \n",
    "```python\n",
    "class SalesReport():  \n",
    "    def __init__(self, employee_name):  \n",
    "        self.deals = []  \n",
    "        self.employee_name = employee_name  \n",
    "      \n",
    "    def add_deal(self, company, amount):   \n",
    "        self.deals.append({'company': company, 'amount': amount})  \n",
    "          \n",
    "    def total_amount(self):  \n",
    "        return sum([deal['amount'] for deal in self.deals])  \n",
    "      \n",
    "    def average_deal(self):  \n",
    "        return self.total_amount()/len(self.deals)  \n",
    "      \n",
    "    def all_companies(self):  \n",
    "        return list(set([deal['company'] for deal in self.deals]))  \n",
    "      \n",
    "    def print_report(self):  \n",
    "        print(\"Employee: \", self.employee_name)  \n",
    "        print(\"Total sales:\", self.total_amount())  \n",
    "        print(\"Average sales:\", self.average_deal())  \n",
    "        print(\"Companies:\", self.all_companies())  \n",
    "      \n",
    "      \n",
    "report = SalesReport(\"Ivan Semenov\")  \n",
    "  \n",
    "report.add_deal(\"PepsiCo\", 120_000)  \n",
    "report.add_deal(\"SkyEng\", 250_000)  \n",
    "report.add_deal(\"PepsiCo\", 20_000)  \n",
    "  \n",
    "report.print_report()  \n",
    "# => Employee:  Ivan Semenov  \n",
    "# Total sales: 390000  \n",
    "# Average sales: 130000.0  \n",
    "# Companies: ['PepsiCo', 'SkyEng']\n",
    "```\n",
    "Мы расширили отчёт, но внешний код использования классов не увеличился. Отчёт, который мы вывели, достаточно простой, но можно автоматически генерировать презентацию с данными и графиками в PDF, при этом внешний интерфейс не менялся бы. Мы просто передаём данные на вход и на выходе получаем отчёт."
   ]
  },
  {
   "attachments": {},
   "cell_type": "markdown",
   "metadata": {},
   "source": [
    "## Практические примеры"
   ]
  },
  {
   "attachments": {},
   "cell_type": "markdown",
   "metadata": {},
   "source": [
    "Мы научились определять классы и создавать объекты. Основная их задача — объединять данные и действия над ними. Эти же задачи можно решать обычными функциями и коллекциями (словарями/списками).\n",
    "\n",
    "Разница в том, что для ряда задач ООП является более подходящим инструментом и позволяет решать их проще. Рассмотрим ещё несколько примеров — это поможет вам развить интуицию и понять, в каких ситуациях стоит рассматривать переход от простых функций к классам."
   ]
  },
  {
   "attachments": {},
   "cell_type": "markdown",
   "metadata": {},
   "source": [
    "### Отслеживание состояния"
   ]
  },
  {
   "attachments": {},
   "cell_type": "markdown",
   "metadata": {},
   "source": [
    "Одно из классических предписаний для классов — у каждого из множества объектов есть некоторые меняющиеся состояния. \n",
    "\n",
    "Вернёмся к примеру: есть база клиентов с основной информацией; в реальном времени нам приходит информация о покупках. Запустим промокампанию, чтобы поощрить старых клиентов, которые сделали у нас много заказов, и выдать им скидку:"
   ]
  },
  {
   "cell_type": "code",
   "execution_count": 1,
   "metadata": {},
   "outputs": [
    {
     "name": "stdout",
     "output_type": "stream",
     "text": [
      "Order price for max@gmail.com is 100\n",
      "Order price for lova@yandex.ru is 180.0\n",
      "Order price for german@sberbank.ru is 500\n",
      "Order price for german@sberbank.ru is 450.0\n"
     ]
    }
   ],
   "source": [
    "class Client():  \n",
    "    # Базовые данные  \n",
    "    def __init__(self, email, order_num, registration_year):  \n",
    "        self.email = email  \n",
    "        self.order_num = order_num  \n",
    "        self.registration_year = registration_year  \n",
    "        self.discount = 0  \n",
    "          \n",
    "    # Оформление заказа  \n",
    "    def make_order(self, price):  \n",
    "        self.update_discount()  \n",
    "        self.order_num += 1  \n",
    "        # Здесь было бы оформление заказа, но мы просто выведем его цену  \n",
    "        discounted_price = price * (1 - self.discount)   \n",
    "        print(f\"Order price for {self.email} is {discounted_price}\")  \n",
    "              \n",
    "    # Назначение скидки  \n",
    "    def update_discount(self):   \n",
    "        if self.registration_year < 2018 and self.order_num >= 5:  \n",
    "            self.discount = 0.1   \n",
    "              \n",
    "  \n",
    "# Применение  \n",
    "          \n",
    "# Сделаем подобие базы  \n",
    "client_db = [   \n",
    "    Client(\"max@gmail.com\", 2, 2019),  \n",
    "    Client(\"lova@yandex.ru\", 10, 2015),  \n",
    "    Client(\"german@sberbank.ru\", 4, 2017)  \n",
    "]  \n",
    "  \n",
    "  \n",
    "# Сгенерируем заказы  \n",
    "client_db[0].make_order(100)  \n",
    "# => Order price for max@gmail.com is 100  \n",
    "  \n",
    "client_db[1].make_order(200)  \n",
    "# => Order price for lova@yandex.ru is 180.0  \n",
    "  \n",
    "client_db[2].make_order(500)  \n",
    "# => Order price for german@sberbank.ru is 500  \n",
    "  \n",
    "client_db[2].make_order(500)  \n",
    "# => Order price for german@sberbank.ru is 450.0 "
   ]
  },
  {
   "attachments": {},
   "cell_type": "markdown",
   "metadata": {},
   "source": [
    "Два важных момента:\n",
    "\n",
    "* У нас получился простой интерфейс. С функциями нам пришлось бы передавать много параметров или делать вложенный словарь.\n",
    "* В классах хорошо реализуется скрытая логика и естественное сохранение состояний. В примере на втором и четвёртом заказах автоматически появилась скидка."
   ]
  },
  {
   "attachments": {},
   "cell_type": "markdown",
   "metadata": {},
   "source": [
    "### Комбинация операций"
   ]
  },
  {
   "attachments": {},
   "cell_type": "markdown",
   "metadata": {},
   "source": [
    "Классы могут пригодиться, если вы регулярно делаете над данными одну и ту же последовательность разноплановых функций. Вы можете упаковать их в класс и в дальнейшем сразу получать результат по загруженным данным.\n",
    "\n",
    "У нас есть численные данные из разных источников. Если они в виде строк, то нужно привести их к числам, а пропуски — заполнить значениями. Сделаем доступ к медиане, среднему значению и стандартному отклонению:"
   ]
  },
  {
   "cell_type": "code",
   "execution_count": null,
   "metadata": {},
   "outputs": [],
   "source": [
    "import statistics  \n",
    "  \n",
    "class DataFrame():  \n",
    "    def __init__(self, column, fill_value=0):  \n",
    "        # Инициализируем атрибуты  \n",
    "        self.column = column  \n",
    "        self.fill_value = fill_value  \n",
    "        # Заполним пропуски  \n",
    "        self.fill_missed()  \n",
    "        # Конвертируем все элементы в числа  \n",
    "        self.to_float()  \n",
    "          \n",
    "    def fill_missed(self):  \n",
    "        for i, value in enumerate(self.column):  \n",
    "            if value is None or value == '':  \n",
    "                self.column[i] = self.fill_value  \n",
    "                  \n",
    "    def to_float(self):  \n",
    "        self.column = [float(value) for value in self.column]  \n",
    "      \n",
    "    def median(self):  \n",
    "        return statistics.median(self.column)  \n",
    "      \n",
    "    def mean(self):  \n",
    "        return statistics.mean(self.column)  \n",
    "      \n",
    "    def deviation(self):  \n",
    "        return statistics.stdev(self.column)  \n",
    "      \n",
    "  \n",
    "      \n",
    "# Воспользуемся классом  \n",
    "df = DataFrame([\"1\", 17, 4, None, 8])  \n",
    "  \n",
    "print(df.column)  \n",
    "# => [1.0, 17.0, 4.0, 0.0, 8.0]  \n",
    "print(df.deviation())  \n",
    "# => 6.89  \n",
    "print(df.median())  \n",
    "# => 4.0  "
   ]
  },
  {
   "attachments": {},
   "cell_type": "markdown",
   "metadata": {},
   "source": [
    "Мы получили очень лаконичный интерфейс для использования класса. В `__init__` мы использовали значение по умолчанию для `fill_value`, а методы позволяют нам определять необязательные параметры."
   ]
  },
  {
   "attachments": {},
   "cell_type": "markdown",
   "metadata": {},
   "source": [
    "### Класс-обертка"
   ]
  },
  {
   "attachments": {},
   "cell_type": "markdown",
   "metadata": {},
   "source": [
    "Классы можно использовать тогда, когда у вас есть процесс, который требует сложной конфигурации, повторяющейся из раза в раз. Можно написать класс-обёртку, который сведёт этот процесс к одному-двум методам.\n",
    "\n",
    "Представим, вы делаете обработку данных и в конце каждого дня сохраняете результат в архив. Вы хотите, чтобы данные каждого дня лежали в отдельном файле для этого дня, при этом можно было бы получить данные за произвольный день. \n",
    "\n",
    "Перед запуском кода создайте папку с названием `archive` там же, где находится ноутбук:"
   ]
  },
  {
   "cell_type": "code",
   "execution_count": 2,
   "metadata": {},
   "outputs": [
    {
     "name": "stdout",
     "output_type": "stream",
     "text": [
      "{'perfomance': [10, 20, 10], 'clients': {'Romashka': 10, 'Vector': 34}}\n"
     ]
    }
   ],
   "source": [
    "import pickle  \n",
    "from datetime import datetime  \n",
    "from os import path  \n",
    "  \n",
    "class Dumper():  \n",
    "    def __init__(self, archive_dir=\"archive/\"):  \n",
    "        self.archive_dir = archive_dir  \n",
    "          \n",
    "    def dump(self, data):  \n",
    "        # Библиотека pickle позволяет доставать и класть объекты в файл  \n",
    "        with open(self.get_file_name(), 'wb') as file:  \n",
    "            pickle.dump(data, file)  \n",
    "              \n",
    "    def load_for_day(self, day):  \n",
    "        file_name = path.join(self.archive_dir, day + \".pkl\")   \n",
    "        with open(file_name, 'rb') as file:  \n",
    "            sets = pickle.load(file)  \n",
    "        return sets  \n",
    "          \n",
    "    # возвращает корректное имя для файла   \n",
    "    def get_file_name(self):   \n",
    "        today = datetime.now().strftime(\"%y-%m-%d\")   \n",
    "        return path.join(self.archive_dir, today + \".pkl\")  \n",
    "      \n",
    "      \n",
    "# Пример использования  \n",
    "  \n",
    "data = {  \n",
    "    'perfomance': [10, 20, 10],  \n",
    "    'clients': {\"Romashka\": 10, \"Vector\": 34}  \n",
    "}  \n",
    "  \n",
    "  \n",
    "dumper = Dumper()  \n",
    "  \n",
    "# Сохраним данные  \n",
    "dumper.dump(data)  \n",
    "  \n",
    "# Восстановим для сегодняшней даты  \n",
    "file_name = datetime.now().strftime(\"%y-%m-%d\")\n",
    "restored_data = dumper.load_for_day(file_name)\n",
    "print(restored_data)  \n",
    "# => {'perfomance': [10, 20, 10], 'clients': {'Romashka': 10, 'Vector': 34}}  "
   ]
  },
  {
   "attachments": {},
   "cell_type": "markdown",
   "metadata": {},
   "source": [
    "### Импорт и организация кода"
   ]
  },
  {
   "attachments": {},
   "cell_type": "markdown",
   "metadata": {},
   "source": [
    "Классы, как и библиотечные функции, можно импортировать в другие программы. Для этого нужно положить класс в отдельный файл в корне проекта и использовать ключевое слово `import`. \n",
    "\n",
    "Например, если мы положим `Dumper` в файл `dumper.py` в корне проекта, то его можно импортировать командой:\n",
    "\n",
    "```python\n",
    "from dumper import Dumper  \n",
    "```\n",
    "\n",
    "Пишем `from <имя файла без .py> import <имя класса>`. Имя файла должно начинаться с буквы и не совпадать с именами библиотечных модулей. Если файлов с классами много, их можно складывать в папки, предварительно положив туда пустой файл `__init__.py` — это требование `Python`.\n",
    "\n",
    "Сгруппируем классы из примеров в папке `helpers`. Структура файлов:\n",
    "\n",
    "```\n",
    "helpers\n",
    "-- __init__.py\n",
    "-- dumper.py\n",
    "-- data_frame.py\n",
    "-- client.py\n",
    "```\n",
    "\n",
    "Импортируем, соединяя все шаги через точку с помощью того же синтаксиса, что использовался для импорта библиотечных функций.\n",
    "\n",
    "```python\n",
    "from helpers.dumper import Dumper  \n",
    "from helpers.data_frame import DataFrame  \n",
    "from helpers.client import Client\n",
    "```"
   ]
  },
  {
   "attachments": {},
   "cell_type": "markdown",
   "metadata": {},
   "source": [
    "###"
   ]
  }
 ],
 "metadata": {
  "kernelspec": {
   "display_name": "Python 3",
   "language": "python",
   "name": "python3"
  },
  "language_info": {
   "codemirror_mode": {
    "name": "ipython",
    "version": 3
   },
   "file_extension": ".py",
   "mimetype": "text/x-python",
   "name": "python",
   "nbconvert_exporter": "python",
   "pygments_lexer": "ipython3",
   "version": "3.10.6"
  },
  "orig_nbformat": 4,
  "vscode": {
   "interpreter": {
    "hash": "916dbcbb3f70747c44a77c7bcd40155683ae19c65e1c03b4aa3499c5328201f1"
   }
  }
 },
 "nbformat": 4,
 "nbformat_minor": 2
}
