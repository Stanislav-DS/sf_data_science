{
 "cells": [
  {
   "cell_type": "markdown",
   "metadata": {},
   "source": [
    "![](data\\linux_book.png)"
   ]
  },
  {
   "cell_type": "markdown",
   "metadata": {},
   "source": [
    "cd \n",
    "\n",
    "    \n",
    " \n"
   ]
  },
  {
   "cell_type": "markdown",
   "metadata": {},
   "source": [
    "mkdir - создать директорию\n",
    "\n",
    " -p --parents\n",
    "\n",
    "    создать вложенную структуру директорий"
   ]
  },
  {
   "cell_type": "markdown",
   "metadata": {},
   "source": [
    "rm -rf \n",
    "    удалить всё по указанному пути (включая вложенные директории)"
   ]
  },
  {
   "cell_type": "markdown",
   "metadata": {},
   "source": [
    "[обратная связь](https://docs.google.com/forms/d/e/1FAIpQLSedlT-CEqunWB6E0gD0WareNKO5pAkudk-e0vo3mtKkt5dwEg/viewform?pli=1)"
   ]
  }
 ],
 "metadata": {
  "language_info": {
   "name": "python"
  },
  "orig_nbformat": 4
 },
 "nbformat": 4,
 "nbformat_minor": 2
}
