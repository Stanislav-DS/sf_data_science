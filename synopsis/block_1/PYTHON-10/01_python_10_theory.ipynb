{
 "cells": [
  {
   "cell_type": "markdown",
   "metadata": {},
   "source": [
    "# Введение в `pandas`"
   ]
  },
  {
   "cell_type": "markdown",
   "metadata": {},
   "source": [
    "## `Series`"
   ]
  },
  {
   "cell_type": "markdown",
   "metadata": {},
   "source": [
    "Создание `Series`:\n",
    "\n",
    "1.   Передача параметров функции.\n",
    "\n",
    "```python\n",
    "import pandas as pd\n",
    "\n",
    "identifier = pd.Series(\n",
    "    data = [value1, value2, ...],\n",
    "    index = [index1, index2, ...],\n",
    "    name = 'identifier'\n",
    "\n",
    ")\n",
    "```\n",
    "\n",
    "(если значения для параметра `index` не передавать, <br>\n",
    "ему будут присвоены порядковые номера элементов)\n",
    "\n",
    "2. Передача словаря.\n",
    "\n",
    "```python\n",
    "identifier = pd.Series(\n",
    "    {index1: value1, index2: value2, ...}\n",
    "    name = 'identifier'\n",
    ")\n",
    "```"
   ]
  },
  {
   "cell_type": "markdown",
   "metadata": {},
   "source": [
    "Доступ к данным `Series`\n",
    "\n",
    "[`loc`](https://pandas.pydata.org/pandas-docs/stable/reference/api/pandas.Series.loc.html), [`iloc`](https://pandas.pydata.org/pandas-docs/stable/reference/api/pandas.Series.iloc.html)\n",
    "\n",
    "1. `identifier.loc[index2]`\n",
    "2. `identifier.loc[[index2, index3]]`\n",
    "3. `identifier.iloc[2]`\n",
    "4. `identifier.iloc[1:4]`\n",
    "\n",
    "(атрибут `loc` и `iloc` в данном случае можно опустить)\n",
    "\n"
   ]
  },
  {
   "cell_type": "markdown",
   "metadata": {},
   "source": [
    "## `DataFrame`"
   ]
  },
  {
   "cell_type": "markdown",
   "metadata": {},
   "source": [
    "Создание `DataFrame`\n",
    "\n",
    "1. Из Словаря.\n",
    "\n",
    "```python\n",
    "\n",
    "identifier = pd.DataFrame({\n",
    "    name_of_col0: [col0_val0, col0_val1],\n",
    "    name_of_col1: [col1_val0, col1_val1]\n",
    "})\n",
    "\n",
    "```\n",
    "\n",
    "2. Вызов функции `DataFrame` с соответствующими аргументами.\n",
    "\n",
    "```python\n",
    "identifier = pd.DataFrame(\n",
    "    data = [\n",
    "        [col0_val0, col1_val0],\n",
    "        [col0_val1, col1_val1]\n",
    "        ],\n",
    "    columns = [name_of_col0, name_of_col1],\n",
    "    index = [index_row0, index_row1]\n",
    ")\n",
    "```\n"
   ]
  },
  {
   "cell_type": "markdown",
   "metadata": {},
   "source": [
    "`axis` - доступ к строкам и столбцам таблицы при вызове функций:\n",
    "\n",
    "* `axis=0` - выполнение операции по строкам для каждого столбца;\n",
    "* `axis=1` - выполнение операции по столбцам для каждой строки. "
   ]
  },
  {
   "cell_type": "markdown",
   "metadata": {},
   "source": [
    "Доступ к данным `DataFrame`\n",
    "\n",
    "1. Получить данные столбца (будет возвращён объект `Series`):\n",
    "   *  `identifier.name_of_col` (если имя столбца не содержит пробелов);\n",
    "   *  `identifier['name_of_col']`.\n",
    "2. Получить данные ячейки:\n",
    "   *  `identifier.loc[index_row0, name_of_col1]`;\n",
    "   *  `identifier.loc[index_row0, [name_of_col0, name_of_col1]]`;\n",
    "   *  `identifier.loc[[index_row0, index_row3, ...], [name_of_col0, name_of_col1]]`;\n",
    "   *  `identifier.iloc[start_row:stop_row, start_col:stop_col]`.\n"
   ]
  },
  {
   "cell_type": "markdown",
   "metadata": {},
   "source": [
    "### Запись в `csv`-файл\n",
    "\n",
    "`to_csv()` [документация](https://pandas.pydata.org/pandas-docs/stable/reference/api/pandas.DataFrame.to_csv.html)\n",
    "\n",
    "* `path_or_buf` — путь до файла, в который будет записан DataFrame<br>\n",
    "(например, `data/my_data.csv`);\n",
    "* `sep` — разделитель данных в выходном файле (по умолчанию `','`);\n",
    "* `decimal` — разделитель чисел на целую и дробную части в выходном файле<br>\n",
    "(по умолчанию `'.'`);\n",
    "* `columns` — список столбцов, которые нужно записать в файл<br>\n",
    "(по умолчанию записываются все столбцы);\n",
    "* `index` — параметр, определяющий, требуется ли создавать дополнительный столбец<br>\n",
    "с индексами строк в файле (по умолчанию `True`).\n"
   ]
  },
  {
   "cell_type": "markdown",
   "metadata": {},
   "source": [
    "### Чтение `csv`-файла\n",
    "\n",
    "`read_csv()` [документация](https://pandas.pydata.org/docs/reference/api/pandas.read_csv.html)\n",
    "\n",
    "* `filepath_or_buffer` — путь (или ссылка) до файла, который мы читаем;\n",
    "* `sep` — разделитель данных (по умолчанию `','`);\n",
    "* `decimal` — разделитель чисел на целую и дробную часть в выходном файле<br>\n",
    "(по умолчанию `'.'`);\n",
    "* `names` — список с названиями столбцов для чтения;\n",
    "* `skiprows` — количество строк в файле, которые нужно пропустить<br>\n",
    "(например, файл может содержать служебную информацию, которая нам не нужна)."
   ]
  },
  {
   "cell_type": "markdown",
   "metadata": {},
   "source": [
    "### Запись в файлы других форматов\n",
    "\n",
    "*  [`to_excel()`](https://pandas.pydata.org/pandas-docs/stable/reference/api/pandas.DataFrame.to_excel.html) — запись `DataFrame` в формат Excel-таблицы (.xslx);\n",
    "*  [`to_json()`](https://pandas.pydata.org/pandas-docs/stable/reference/api/pandas.DataFrame.to_json.html) — запись `DataFrame` в формат JSON (.json);\n",
    "*  [`to_xml()`](https://pandas.pydata.org/docs/reference/api/pandas.DataFrame.to_xml.html) — запись `DataFrame` в формат XML-документа (.xml);\n",
    "*  [`to_sql()`](https://pandas.pydata.org/pandas-docs/stable/reference/api/pandas.DataFrame.to_sql.html) — запись `DataFrame` в базу данных SQL<br>\n",
    "(для реализации этого метода необходимо установить соединение с базой данных)."
   ]
  },
  {
   "cell_type": "markdown",
   "metadata": {},
   "source": [
    "### Чтение из файлов других форматов\n",
    "\n",
    "*  [`read_excel()`](https://pandas.pydata.org/pandas-docs/stable/reference/api/pandas.read_excel.html) — чтение из формата Excel-таблицы(.xslx) в `DataFrame`;\n",
    "*  [`read_json()`](https://pandas.pydata.org/pandas-docs/stable/reference/api/pandas.io.json.read_json.html) — чтение из формата JSON (.json) в `DataFrame`;\n",
    "*  [`read_xml()`](https://pandas.pydata.org/pandas-docs/stable/reference/api/pandas.read_html.html) — чтение из формата XML-документа (.xml) в `DataFrame`;\n",
    "*  [`read_sql()`](https://pandas.pydata.org/pandas-docs/stable/reference/api/pandas.read_sql.html) — чтение из базы данных SQL в `DataFrame`<br>\n",
    "(также необходимо установить соединение с базой данных)."
   ]
  },
  {
   "cell_type": "markdown",
   "metadata": {},
   "source": [
    "### Основные функции при работе с таблицей"
   ]
  },
  {
   "cell_type": "markdown",
   "metadata": {},
   "source": [
    "__Вывод первых и последних строк:__\n",
    "*  [`head()`](https://pandas.pydata.org/pandas-docs/stable/reference/api/pandas.DataFrame.head.html) - вывод `n` первых строк таблицы;\n",
    "*  [`tail()`](https://pandas.pydata.org/pandas-docs/stable/reference/api/pandas.DataFrame.tail.html) - вывод `n` последних строк таблицы. \n",
    "\n",
    "По умолчанию `n = 5`"
   ]
  },
  {
   "cell_type": "markdown",
   "metadata": {},
   "source": [
    "__Размерность таблицы__\n",
    "\n",
    "`shape` - атрибут возвращает кортеж из количества строк и столбцов таблицы."
   ]
  },
  {
   "cell_type": "markdown",
   "metadata": {},
   "source": [
    "__Информация о столбцах таблицы__\n",
    "\n",
    "[`info()`](https://pandas.pydata.org/pandas-docs/stable/reference/api/pandas.DataFrame.info.html) - метод возвращает детальную информацию о столбцах таблицы:\n",
    "* информацию об индексах;\n",
    "* информацию об общем количестве столбцов;\n",
    "* таблицу, в которой содержится информация об именах столбцов (`Column`), количестве непустых<br>\n",
    "значений (`Non-Null Count`) в каждом столбце и типе данных столбца (`Dtype`), количестве столбцов,<br>\n",
    "в которых используется определённый тип данных;\n",
    "* количество оперативной памяти в мегабайтах, которое тратится на хранение данных."
   ]
  },
  {
   "cell_type": "markdown",
   "metadata": {},
   "source": [
    "__Изменение типа данных столбца таблицы__\n",
    "\n",
    "`astype()`\n",
    "\n",
    "`df_identifier['column_name'] = df_identifier['column_name'].astype('new_data_type')`\n",
    "\n",
    "[Обзор типов данных `pandas`](https://dfedorov.spb.ru/pandas/Обзор%20типов%20данных%20pandas.html)"
   ]
  },
  {
   "cell_type": "markdown",
   "metadata": {},
   "source": [
    "## Статистические методы"
   ]
  },
  {
   "cell_type": "markdown",
   "metadata": {},
   "source": [
    "__Получение описательной статистики__\n",
    "\n",
    "[`describe()`](https://pandas.pydata.org/pandas-docs/stable/reference/api/pandas.DataFrame.describe.html)\n",
    "\n",
    "По умолчанию метод работает с числовыми (`int64` и `float64`) столбцами и показывает<br>\n",
    "число непустых значений (`count`), среднее (`mean`), стандартное отклонение (`std`),<br>\n",
    "минимальное значение (`min`),  квартили уровней 0.25, 0.5 (медиана) и 0.75 (25%, 50%, 75%)<br>\n",
    "и максимальное значение (`max`) для каждого столбца исходной таблицы.\n",
    "\n",
    "Статистические параметры:\n",
    "*  [стандартное отклонение](https://ru.wikipedia.org/wiki/Среднеквадратическое_отклонение);\n",
    "*  [квартили](https://rus.toptipfinance.com/quartile).\n",
    "\n",
    "`df_identidier.describe(include='data_type')` \n",
    "\n",
    "получить описательную информацию по определенному типу данных в таблице.\n",
    "\n",
    "Например, для типа данных `'object'`:\n",
    "*  количество непустых строк (`count`);\n",
    "*  количество уникальных значений (`unique`);\n",
    "*  самое частое значение — мода —  (`top`);\n",
    "*  частота — объём использования — этого значения (`freq`) для каждого столбца типа object<br>\n",
    "исходной таблицы."
   ]
  },
  {
   "cell_type": "markdown",
   "metadata": {},
   "source": [
    "__Получение частоты уникальных значенией в столбце__\n",
    "\n",
    "[`value_counts()`](https://pandas.pydata.org/pandas-docs/stable/reference/api/pandas.Series.value_counts.html)\n",
    "\n",
    "Данный метод возвращает объект Series, в котором в качестве индексов выступают<br>\n",
    "уникальные категории столбца, а значениями — соответствующая им частота. \n",
    "\n",
    "*  `normalize=True` - При установке значения этого параметра на True результат будет<br>\n",
    "представляться в виде доли (относительной частоты).\n",
    "\n"
   ]
  },
  {
   "cell_type": "markdown",
   "metadata": {},
   "source": [
    "__Агрегигурющие методы__\n",
    "\n",
    "*  `count()` количество непустых значений;\n",
    "*  `mean()` среднее значение;\n",
    "*  `min()`\tминимальное значение;\n",
    "*  `max()`\tмаксимальное значение;\n",
    "*  `deviance()` дисперсия;\n",
    "*  `std()` стандартное отклонение;\n",
    "*  `sum()` сумма;\n",
    "*  `quantile(x)` квантиль уровня x;\n",
    "*  `nunique()` число уникальных значений.\n",
    "\n",
    "Если один из этих методов применить ко всему DataFrame, то в результате его работы<br>\n",
    "будет получен объект типа `Series`, в котором в качестве индексов будут выступать<br>\n",
    "наименования столбцов, а в качестве значений — статистический показатель. В случае<br>\n",
    "применения метода к отдельному столбцу результатом вычислений станет число.\n",
    "\n",
    "В каждый метод можно передать некоторые параметры, среди которых:\n",
    "\n",
    "*  `axis`  — определяет, подсчитывать параметр по строкам или по столбцам;\n",
    "*  `numeric_only` — определяет, вычислять параметры только по числовым столбцам/строкам<br>\n",
    "или нет (`True`/`False`).\n"
   ]
  },
  {
   "cell_type": "markdown",
   "metadata": {},
   "source": [
    "__Модальное значение__\n",
    "\n",
    "- самое распространенное значение в столбце.\n",
    "\n",
    "`mode()` - метод возвращает серию модальных значений."
   ]
  },
  {
   "cell_type": "markdown",
   "metadata": {},
   "source": [
    "## Знакомство с данными \"Недвижимость\"\n",
    "\n",
    "Данные представляют собой таблицу, в которой содержится 23 столбца:\n",
    "\n",
    "1. `index` — номер строки\n",
    "1. `Suburb` — наименование пригорода\n",
    "1. `Address` — адрес\n",
    "1. `Rooms` — количество комнат в помещении\n",
    "1. `Type` — тип здания<br>\n",
    "(h — дом, коттедж, вилла, терраса; u — блочный, дуплексный дом; t — таунхаус)\n",
    "1. `Price` — цена помещения\n",
    "1. `Method` — метод продажи \n",
    "1. `SellerG` — риэлторская компания\n",
    "1. `Date` — дата продажи (в формате день/месяц/год)\n",
    "1. `Distance` — расстояния до объекта от центра Мельбурна \n",
    "1. `Postcode` — почтовый индекс\n",
    "1. `Bedroom` — количество спален\n",
    "1. `Bathroom` — количество ванных комнат\n",
    "1. `Car` — количество парковочных мест\n",
    "1. `Landsize` — площадь прилегающей территории\n",
    "1. `BuildingArea` — площадь здания\n",
    "1. `YearBuilt` — год постройки\n",
    "1. `CouncilArea` — региональное управление\n",
    "1. `Lattitude` — географическая широта\n",
    "1. `Longitude` — географическая долгота\n",
    "1. `Regionname` — наименование района Мельбурна\n",
    "1. `Propertycount` — количество объектов недвижимости в районе\n",
    "1. `Coordinates` — широта и долгота, объединённые в кортеж"
   ]
  },
  {
   "cell_type": "code",
   "execution_count": 46,
   "metadata": {},
   "outputs": [
    {
     "data": {
      "text/html": [
       "<div>\n",
       "<style scoped>\n",
       "    .dataframe tbody tr th:only-of-type {\n",
       "        vertical-align: middle;\n",
       "    }\n",
       "\n",
       "    .dataframe tbody tr th {\n",
       "        vertical-align: top;\n",
       "    }\n",
       "\n",
       "    .dataframe thead th {\n",
       "        text-align: right;\n",
       "    }\n",
       "</style>\n",
       "<table border=\"1\" class=\"dataframe\">\n",
       "  <thead>\n",
       "    <tr style=\"text-align: right;\">\n",
       "      <th></th>\n",
       "      <th>index</th>\n",
       "      <th>Rooms</th>\n",
       "      <th>Price</th>\n",
       "      <th>Distance</th>\n",
       "      <th>Postcode</th>\n",
       "      <th>Bedroom</th>\n",
       "      <th>Bathroom</th>\n",
       "      <th>Car</th>\n",
       "      <th>Landsize</th>\n",
       "      <th>BuildingArea</th>\n",
       "      <th>YearBuilt</th>\n",
       "      <th>Lattitude</th>\n",
       "      <th>Longtitude</th>\n",
       "      <th>Propertycount</th>\n",
       "    </tr>\n",
       "  </thead>\n",
       "  <tbody>\n",
       "    <tr>\n",
       "      <th>count</th>\n",
       "      <td>13580.000000</td>\n",
       "      <td>13580.000000</td>\n",
       "      <td>1.358000e+04</td>\n",
       "      <td>13580.000000</td>\n",
       "      <td>13580.000000</td>\n",
       "      <td>13580.000000</td>\n",
       "      <td>13580.000000</td>\n",
       "      <td>13580.000000</td>\n",
       "      <td>13580.000000</td>\n",
       "      <td>13580.000000</td>\n",
       "      <td>13580.000000</td>\n",
       "      <td>13580.000000</td>\n",
       "      <td>13580.000000</td>\n",
       "      <td>13580.000000</td>\n",
       "    </tr>\n",
       "    <tr>\n",
       "      <th>mean</th>\n",
       "      <td>6789.500000</td>\n",
       "      <td>2.937997</td>\n",
       "      <td>1.075684e+06</td>\n",
       "      <td>10.137776</td>\n",
       "      <td>3105.301915</td>\n",
       "      <td>2.914728</td>\n",
       "      <td>1.534242</td>\n",
       "      <td>1.611856</td>\n",
       "      <td>558.416127</td>\n",
       "      <td>139.633972</td>\n",
       "      <td>1966.788218</td>\n",
       "      <td>-37.809203</td>\n",
       "      <td>144.995216</td>\n",
       "      <td>7454.417378</td>\n",
       "    </tr>\n",
       "    <tr>\n",
       "      <th>std</th>\n",
       "      <td>3920.352663</td>\n",
       "      <td>0.955748</td>\n",
       "      <td>6.393107e+05</td>\n",
       "      <td>5.868725</td>\n",
       "      <td>90.676964</td>\n",
       "      <td>0.965921</td>\n",
       "      <td>0.691712</td>\n",
       "      <td>0.960793</td>\n",
       "      <td>3990.669241</td>\n",
       "      <td>392.217403</td>\n",
       "      <td>29.088642</td>\n",
       "      <td>0.079260</td>\n",
       "      <td>0.103916</td>\n",
       "      <td>4378.581772</td>\n",
       "    </tr>\n",
       "    <tr>\n",
       "      <th>min</th>\n",
       "      <td>0.000000</td>\n",
       "      <td>1.000000</td>\n",
       "      <td>8.500000e+04</td>\n",
       "      <td>0.000000</td>\n",
       "      <td>3000.000000</td>\n",
       "      <td>0.000000</td>\n",
       "      <td>0.000000</td>\n",
       "      <td>0.000000</td>\n",
       "      <td>0.000000</td>\n",
       "      <td>0.000000</td>\n",
       "      <td>1196.000000</td>\n",
       "      <td>-38.182550</td>\n",
       "      <td>144.431810</td>\n",
       "      <td>249.000000</td>\n",
       "    </tr>\n",
       "    <tr>\n",
       "      <th>25%</th>\n",
       "      <td>3394.750000</td>\n",
       "      <td>2.000000</td>\n",
       "      <td>6.500000e+05</td>\n",
       "      <td>6.100000</td>\n",
       "      <td>3044.000000</td>\n",
       "      <td>2.000000</td>\n",
       "      <td>1.000000</td>\n",
       "      <td>1.000000</td>\n",
       "      <td>177.000000</td>\n",
       "      <td>122.000000</td>\n",
       "      <td>1960.000000</td>\n",
       "      <td>-37.856822</td>\n",
       "      <td>144.929600</td>\n",
       "      <td>4380.000000</td>\n",
       "    </tr>\n",
       "    <tr>\n",
       "      <th>50%</th>\n",
       "      <td>6789.500000</td>\n",
       "      <td>3.000000</td>\n",
       "      <td>9.030000e+05</td>\n",
       "      <td>9.200000</td>\n",
       "      <td>3084.000000</td>\n",
       "      <td>3.000000</td>\n",
       "      <td>1.000000</td>\n",
       "      <td>2.000000</td>\n",
       "      <td>440.000000</td>\n",
       "      <td>126.000000</td>\n",
       "      <td>1970.000000</td>\n",
       "      <td>-37.802355</td>\n",
       "      <td>145.000100</td>\n",
       "      <td>6555.000000</td>\n",
       "    </tr>\n",
       "    <tr>\n",
       "      <th>75%</th>\n",
       "      <td>10184.250000</td>\n",
       "      <td>3.000000</td>\n",
       "      <td>1.330000e+06</td>\n",
       "      <td>13.000000</td>\n",
       "      <td>3148.000000</td>\n",
       "      <td>3.000000</td>\n",
       "      <td>2.000000</td>\n",
       "      <td>2.000000</td>\n",
       "      <td>651.000000</td>\n",
       "      <td>129.940000</td>\n",
       "      <td>1975.000000</td>\n",
       "      <td>-37.756400</td>\n",
       "      <td>145.058305</td>\n",
       "      <td>10331.000000</td>\n",
       "    </tr>\n",
       "    <tr>\n",
       "      <th>max</th>\n",
       "      <td>13579.000000</td>\n",
       "      <td>10.000000</td>\n",
       "      <td>9.000000e+06</td>\n",
       "      <td>48.100000</td>\n",
       "      <td>3977.000000</td>\n",
       "      <td>20.000000</td>\n",
       "      <td>8.000000</td>\n",
       "      <td>10.000000</td>\n",
       "      <td>433014.000000</td>\n",
       "      <td>44515.000000</td>\n",
       "      <td>2018.000000</td>\n",
       "      <td>-37.408530</td>\n",
       "      <td>145.526350</td>\n",
       "      <td>21650.000000</td>\n",
       "    </tr>\n",
       "  </tbody>\n",
       "</table>\n",
       "</div>"
      ],
      "text/plain": [
       "              index         Rooms         Price      Distance      Postcode  \\\n",
       "count  13580.000000  13580.000000  1.358000e+04  13580.000000  13580.000000   \n",
       "mean    6789.500000      2.937997  1.075684e+06     10.137776   3105.301915   \n",
       "std     3920.352663      0.955748  6.393107e+05      5.868725     90.676964   \n",
       "min        0.000000      1.000000  8.500000e+04      0.000000   3000.000000   \n",
       "25%     3394.750000      2.000000  6.500000e+05      6.100000   3044.000000   \n",
       "50%     6789.500000      3.000000  9.030000e+05      9.200000   3084.000000   \n",
       "75%    10184.250000      3.000000  1.330000e+06     13.000000   3148.000000   \n",
       "max    13579.000000     10.000000  9.000000e+06     48.100000   3977.000000   \n",
       "\n",
       "            Bedroom      Bathroom           Car       Landsize  BuildingArea  \\\n",
       "count  13580.000000  13580.000000  13580.000000   13580.000000  13580.000000   \n",
       "mean       2.914728      1.534242      1.611856     558.416127    139.633972   \n",
       "std        0.965921      0.691712      0.960793    3990.669241    392.217403   \n",
       "min        0.000000      0.000000      0.000000       0.000000      0.000000   \n",
       "25%        2.000000      1.000000      1.000000     177.000000    122.000000   \n",
       "50%        3.000000      1.000000      2.000000     440.000000    126.000000   \n",
       "75%        3.000000      2.000000      2.000000     651.000000    129.940000   \n",
       "max       20.000000      8.000000     10.000000  433014.000000  44515.000000   \n",
       "\n",
       "          YearBuilt     Lattitude    Longtitude  Propertycount  \n",
       "count  13580.000000  13580.000000  13580.000000   13580.000000  \n",
       "mean    1966.788218    -37.809203    144.995216    7454.417378  \n",
       "std       29.088642      0.079260      0.103916    4378.581772  \n",
       "min     1196.000000    -38.182550    144.431810     249.000000  \n",
       "25%     1960.000000    -37.856822    144.929600    4380.000000  \n",
       "50%     1970.000000    -37.802355    145.000100    6555.000000  \n",
       "75%     1975.000000    -37.756400    145.058305   10331.000000  \n",
       "max     2018.000000    -37.408530    145.526350   21650.000000  "
      ]
     },
     "metadata": {},
     "output_type": "display_data"
    },
    {
     "data": {
      "text/plain": [
       "Type\n",
       "h    0.695803\n",
       "u    0.222165\n",
       "t    0.082032\n",
       "dtype: float64"
      ]
     },
     "metadata": {},
     "output_type": "display_data"
    },
    {
     "data": {
      "text/plain": [
       "['Suburb',\n",
       " 'Address',\n",
       " 'Type',\n",
       " 'Method',\n",
       " 'SellerG',\n",
       " 'Date',\n",
       " 'CouncilArea',\n",
       " 'Regionname',\n",
       " 'Coordinates']"
      ]
     },
     "metadata": {},
     "output_type": "display_data"
    },
    {
     "data": {
      "text/plain": [
       "'The max number of Propertycount is 21650'"
      ]
     },
     "metadata": {},
     "output_type": "display_data"
    },
    {
     "data": {
      "text/plain": [
       "'The std of distance is 5.868724943071711'"
      ]
     },
     "metadata": {},
     "output_type": "display_data"
    },
    {
     "data": {
      "text/plain": [
       "9.764079662364537"
      ]
     },
     "metadata": {},
     "output_type": "display_data"
    },
    {
     "data": {
      "text/plain": [
       "0    3\n",
       "Name: Bedroom, dtype: int64"
      ]
     },
     "execution_count": 46,
     "metadata": {},
     "output_type": "execute_result"
    }
   ],
   "source": [
    "from dis import dis\n",
    "import pandas as pd\n",
    "\n",
    "melb_data = pd.read_csv('data/melb_data.csv', sep=',')\n",
    "melb_data['Car'] = melb_data['Car'].astype('int64')\n",
    "melb_data['Bedroom'] = melb_data['Bedroom'].astype('int64')\n",
    "melb_data['Bathroom'] = melb_data['Bathroom'].astype('int64')\n",
    "melb_data['Propertycount'] = melb_data['Propertycount'].astype('int64')\n",
    "melb_data['YearBuilt'] = melb_data['YearBuilt'].astype('int64')\n",
    "# display(melb_data.info())\n",
    "display(melb_data.describe())\n",
    "display(melb_data.value_counts('Type', normalize=True))\n",
    "\n",
    "# Задание 7.1\n",
    "display([col \n",
    "    for col in melb_data.columns \n",
    "    if col not in melb_data.std(numeric_only=True)\n",
    "    ])\n",
    "\n",
    "# Задание 7.2\n",
    "display(f\"The max number of Propertycount is {melb_data['Propertycount'].max()}\")\n",
    "\n",
    "# Задание 7.3\n",
    "display(f\"The std of distance is {melb_data['Distance'].std()}\")\n",
    "\n",
    "# 7.4\n",
    "median_area = melb_data['BuildingArea'].quantile()\n",
    "mean_area = melb_data['BuildingArea'].mean()\n",
    "display(100 - median_area/(mean_area/100))\n",
    "\n",
    "#7.6\n",
    "melb_data['Bedroom'].mode()"
   ]
  },
  {
   "cell_type": "code",
   "execution_count": null,
   "metadata": {},
   "outputs": [],
   "source": []
  },
  {
   "cell_type": "code",
   "execution_count": 20,
   "metadata": {},
   "outputs": [
    {
     "data": {
      "text/plain": [
       "0.8394658654400363"
      ]
     },
     "execution_count": 20,
     "metadata": {},
     "output_type": "execute_result"
    }
   ],
   "source": [
    "data = pd.DataFrame([[0,1], [1, 0], [1, 1]], columns=['А', 'B'])\n",
    "data.shape\n",
    "9.030000e+05 / 1.075684e+06"
   ]
  }
 ],
 "metadata": {
  "kernelspec": {
   "display_name": "Python 3.10.6 64-bit",
   "language": "python",
   "name": "python3"
  },
  "language_info": {
   "codemirror_mode": {
    "name": "ipython",
    "version": 3
   },
   "file_extension": ".py",
   "mimetype": "text/x-python",
   "name": "python",
   "nbconvert_exporter": "python",
   "pygments_lexer": "ipython3",
   "version": "3.10.6"
  },
  "orig_nbformat": 4,
  "vscode": {
   "interpreter": {
    "hash": "e7370f93d1d0cde622a1f8e1c04877d8463912d04d973331ad4851f04de6915a"
   }
  }
 },
 "nbformat": 4,
 "nbformat_minor": 2
}
