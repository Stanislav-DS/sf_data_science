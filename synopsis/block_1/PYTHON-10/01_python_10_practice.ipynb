{
 "cells": [
  {
   "cell_type": "markdown",
   "metadata": {},
   "source": [
    "# Задание 2.4\n",
    "\n",
    "В аптеку поступают партии лекарств. Их названия находятся в списке names,<br>\n",
    "количество единиц товара находится в списке `counts`.\n",
    "\n",
    "Например:\n",
    "\n",
    "```python\n",
    "names=['chlorhexidine', 'cyntomycin', 'afobazol']\n",
    "counts=[15, 18, 7]\n",
    "```\n",
    "\n",
    "Напишите функцию `create_medications(names, counts)`, создающую<br>\n",
    "`Series medications`, индексами которого являются названия лекарств `names`,<br>\n",
    "а значениями — их количество в партии `counts`.\n",
    "\n",
    "Также напишите функцию `get_percent(medications, name)`, которая возвращает<br>\n",
    "долю товара с именем `name` от общего количества товаров в партии в процентах."
   ]
  },
  {
   "cell_type": "code",
   "execution_count": 7,
   "metadata": {},
   "outputs": [
    {
     "name": "stdout",
     "output_type": "stream",
     "text": [
      "37.5\n"
     ]
    }
   ],
   "source": [
    "import pandas as pd\n",
    "\n",
    "def create_medications(names: list, counts: list) -> pd.Series:\n",
    "    \"\"\"Create pandas.Series with data of medications.\"\"\"\n",
    "    \n",
    "    return pd.Series(\n",
    "        data = counts,\n",
    "        index = names,\n",
    "        name = 'medications'\n",
    "    )\n",
    "    \n",
    "\n",
    "def get_percent(medications: pd.Series, name: str) -> int:\n",
    "    \"\"\"Returns the share of the drug as a percentage of the total amount.\"\"\"\n",
    "    \n",
    "    return medications[name]/(sum(medications)/100)\n",
    "    \n",
    "if __name__ == '__main__':\n",
    "    names=['chlorhexidine', 'cyntomycin', 'afobazol']\n",
    "    counts=[15, 18, 7]\n",
    "    medications = create_medications(names, counts)\n",
    "    print(get_percent(medications, \"chlorhexidine\")) #37.5\n"
   ]
  },
  {
   "cell_type": "markdown",
   "metadata": {},
   "source": [
    "# Задание 3.5\n",
    "\n",
    "Вы работаете аналитиком в компании ScienceYou. Ваша задача — проанализировать чистую прибыль.\n",
    "\n",
    "Доходы (`incomes`), расходы (`expenses`) и годы (`years`), соответствующие им,<br>\n",
    "предоставлены вам в виде списков. \n",
    "\n",
    "Например:\n",
    "```python\n",
    "incomes = [478, 512, 196]\n",
    "expenses = [156, 130, 270]\n",
    "years = [2018, 2019, 2020]\n",
    "```\n",
    "Создайте функцию `create_companyDF(incomes, expenses, years)`, которая  возвращает<br>\n",
    "`DataFrame`, составленный из входных данных со столбцами `Incomes` и `Expenses`<br>\n",
    "и индексами, соответствующими годам рассматриваемого периода. Пример такого `DataFrame`<br>\n",
    "представлен ниже.\n",
    "\n",
    "\n",
    "||Incomes|Expenses|\n",
    "|-|-|-|\n",
    "|2018|478|156|\n",
    "|2019|512|130|\n",
    "|2020|196|270|\n",
    "\n",
    "Также напишите функцию `get_profit(df, year)`, которая возвращает разницу между доходом<br>\n",
    "и расходом, записанными в таблице `df`, за год `year`. Учтите, что если информация за запрашиваемый<br>\n",
    "год не указана в вашей таблице, вам необходимо вернуть `None`.\n",
    "\n",
    "Подсказка:\n",
    "\n",
    "Для проверки вхождения запрашиваемого года в перечень индексов таблицы вам поможет атрибут `df.index`,<br>\n",
    "который возвращает список индексов таблицы."
   ]
  },
  {
   "cell_type": "code",
   "execution_count": 13,
   "metadata": {},
   "outputs": [
    {
     "data": {
      "text/html": [
       "<div>\n",
       "<style scoped>\n",
       "    .dataframe tbody tr th:only-of-type {\n",
       "        vertical-align: middle;\n",
       "    }\n",
       "\n",
       "    .dataframe tbody tr th {\n",
       "        vertical-align: top;\n",
       "    }\n",
       "\n",
       "    .dataframe thead th {\n",
       "        text-align: right;\n",
       "    }\n",
       "</style>\n",
       "<table border=\"1\" class=\"dataframe\">\n",
       "  <thead>\n",
       "    <tr style=\"text-align: right;\">\n",
       "      <th></th>\n",
       "      <th>Incomes</th>\n",
       "      <th>Expenses</th>\n",
       "    </tr>\n",
       "  </thead>\n",
       "  <tbody>\n",
       "    <tr>\n",
       "      <th>2018</th>\n",
       "      <td>478</td>\n",
       "      <td>156</td>\n",
       "    </tr>\n",
       "    <tr>\n",
       "      <th>2019</th>\n",
       "      <td>512</td>\n",
       "      <td>130</td>\n",
       "    </tr>\n",
       "    <tr>\n",
       "      <th>2020</th>\n",
       "      <td>196</td>\n",
       "      <td>270</td>\n",
       "    </tr>\n",
       "  </tbody>\n",
       "</table>\n",
       "</div>"
      ],
      "text/plain": [
       "      Incomes  Expenses\n",
       "2018      478       156\n",
       "2019      512       130\n",
       "2020      196       270"
      ]
     },
     "metadata": {},
     "output_type": "display_data"
    }
   ],
   "source": [
    "import pandas as pd\n",
    "\n",
    "def create_companyDF(incomes: list, expenses: list, years: list) -> pd.DataFrame:\n",
    "    \"\"\"Returns DataFrame with incomes and expenses of company.\"\"\"\n",
    "    \n",
    "    return pd.DataFrame(\n",
    "        {\n",
    "            'Incomes': incomes,\n",
    "            'Expenses': expenses\n",
    "        }, \n",
    "        index=years                    \n",
    "    )\n",
    "\n",
    "\n",
    "def get_profit(df: pd.DataFrame, year: int) -> int:\n",
    "    \"\"\"Returns difference between incomes and expenses for the year.\n",
    "    If year not in DataFrame returns None.\"\"\"\n",
    "    \n",
    "    return (\n",
    "        None if year not in df.index else\n",
    "        df.loc[year, 'Incomes'] - df.loc[year, 'Expenses']\n",
    "    )\n",
    "    \n",
    "incomes = [478, 512, 196]\n",
    "expenses = [156, 130, 270]\n",
    "years = [2018, 2019, 2020]\n",
    "display(create_companyDF(incomes, expenses, years))\n",
    "get_profit(create_companyDF(incomes, expenses, years), 2017)"
   ]
  }
 ],
 "metadata": {
  "kernelspec": {
   "display_name": "Python 3.10.6 64-bit",
   "language": "python",
   "name": "python3"
  },
  "language_info": {
   "codemirror_mode": {
    "name": "ipython",
    "version": 3
   },
   "file_extension": ".py",
   "mimetype": "text/x-python",
   "name": "python",
   "nbconvert_exporter": "python",
   "pygments_lexer": "ipython3",
   "version": "3.10.6"
  },
  "orig_nbformat": 4,
  "vscode": {
   "interpreter": {
    "hash": "e7370f93d1d0cde622a1f8e1c04877d8463912d04d973331ad4851f04de6915a"
   }
  }
 },
 "nbformat": 4,
 "nbformat_minor": 2
}
