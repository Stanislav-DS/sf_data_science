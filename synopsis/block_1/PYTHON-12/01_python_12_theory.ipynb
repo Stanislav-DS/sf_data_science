{
 "cells": [
  {
   "cell_type": "markdown",
   "metadata": {},
   "source": [
    "# Преобразования данных о недвижимости\n",
    "\n",
    "В прошлом модуле мы совершили множество преобразований над нашей таблицей — давайте вспомним их:\n",
    "\n",
    "*  удалили столбцы `index` и `Coordinates`;\n",
    "*  создали признак средней площади одной комнаты `MeanRoomsSquare` и ввели коэффициент соотношения площади здания к площади участка — `AreaRatio`;\n",
    "* преобразовали признак даты продажи `Date` в формат `datetime` и создали на его основе следующие столбцы: номер месяц продажи (`MonthSale`), номер дня недели продажи (`WeekdaySale`), «признак-мигалку» выходного дня (`Weekend`);\n",
    "* заменили признак года постройки здания `YearBuilt` на его возраст `AgeBuilding`;\n",
    "извлекли из признака адреса объекта `Address` новый признак подтипа улицы `StreetType` и удалили столбец с адресом;\n",
    "уменьшили число уникальных наименований агентств по недвижимости (`SellerG`), а также число пригородов (`Suburb`);\n",
    "выделили категориальные признаки и преобразовали их в тип данных `сategory`;\n",
    "* заменили сокращённые названия категорий признака типа объекта `Type` на их полные названия (h — house, t —  townhouse, u — unit)."
   ]
  },
  {
   "cell_type": "markdown",
   "metadata": {},
   "source": [
    "# 1.1\n",
    "\n",
    "Преобразуйте столбец `Date` в формат `datetime` и выделите квартал (`quarter`) продажи объектов недвижимости. Найдите второй по популярности квартал продажи. В качестве ответа запишите число объектов, проданных в этом квартале."
   ]
  },
  {
   "cell_type": "code",
   "execution_count": 1,
   "metadata": {},
   "outputs": [
    {
     "name": "stdout",
     "output_type": "stream",
     "text": [
      "3    4873\n",
      "2    4359\n",
      "4    2329\n",
      "1    2019\n",
      "Name: Date, dtype: int64\n"
     ]
    }
   ],
   "source": [
    "import pandas as pd\n",
    "\n",
    "melb_df = pd.read_csv(\"data/melb_data_fe.csv\")\n",
    "melb_df['Date'] = pd.to_datetime(melb_df['Date'], dayfirst=True)\n",
    "print(melb_df.Date.dt.quarter.value_counts())"
   ]
  },
  {
   "cell_type": "markdown",
   "metadata": {},
   "source": [
    "# 1.2\n",
    "\n",
    "Преобразуйте все столбцы, в которых меньше 150 уникальных значений, в тип данных category, исключив из преобразования столбцы `Date`, `Rooms`, `Bedroom`, `Bathroom`, `Car`.\n",
    "В качестве ответа запишите результирующее количество столбцов, которые имеют тип данных `category`."
   ]
  },
  {
   "cell_type": "code",
   "execution_count": 2,
   "metadata": {},
   "outputs": [
    {
     "name": "stdout",
     "output_type": "stream",
     "text": [
      "<class 'pandas.core.frame.DataFrame'>\n",
      "RangeIndex: 13580 entries, 0 to 13579\n",
      "Data columns (total 26 columns):\n",
      " #   Column           Non-Null Count  Dtype         \n",
      "---  ------           --------------  -----         \n",
      " 0   Suburb           13580 non-null  category      \n",
      " 1   Rooms            13580 non-null  int64         \n",
      " 2   Type             13580 non-null  category      \n",
      " 3   Price            13580 non-null  float64       \n",
      " 4   Method           13580 non-null  category      \n",
      " 5   SellerG          13580 non-null  category      \n",
      " 6   Date             13580 non-null  datetime64[ns]\n",
      " 7   Distance         13580 non-null  float64       \n",
      " 8   Postcode         13580 non-null  int64         \n",
      " 9   Bedroom          13580 non-null  int64         \n",
      " 10  Bathroom         13580 non-null  int64         \n",
      " 11  Car              13580 non-null  int64         \n",
      " 12  Landsize         13580 non-null  float64       \n",
      " 13  BuildingArea     13580 non-null  float64       \n",
      " 14  CouncilArea      12211 non-null  category      \n",
      " 15  Lattitude        13580 non-null  float64       \n",
      " 16  Longtitude       13580 non-null  float64       \n",
      " 17  Regionname       13580 non-null  category      \n",
      " 18  Propertycount    13580 non-null  int64         \n",
      " 19  MeanRoomsSquare  13580 non-null  float64       \n",
      " 20  AreaRatio        13580 non-null  float64       \n",
      " 21  MonthSale        13580 non-null  category      \n",
      " 22  AgeBuilding      13580 non-null  int64         \n",
      " 23  WeekdaySale      13580 non-null  category      \n",
      " 24  StreetType       13580 non-null  category      \n",
      " 25  Weekend          13580 non-null  category      \n",
      "dtypes: category(10), datetime64[ns](1), float64(8), int64(7)\n",
      "memory usage: 1.8 MB\n"
     ]
    },
    {
     "data": {
      "text/plain": [
       "None"
      ]
     },
     "metadata": {},
     "output_type": "display_data"
    }
   ],
   "source": [
    "cols_to_exclude = ['Date', 'Rooms', 'Bedroom', 'Bathroom', 'Car']\n",
    "max_unique_count = 150 \n",
    "for col in melb_df.columns: \n",
    "    if (melb_df[col].nunique() < max_unique_count and \n",
    "        col not in cols_to_exclude): \n",
    "        melb_df[col] = melb_df[col].astype('category')\n",
    "        \n",
    "display(melb_df.info())"
   ]
  },
  {
   "cell_type": "markdown",
   "metadata": {},
   "source": [
    "# Сортировка\n",
    "\n",
    "`sort_values()` - метод\n",
    "\n",
    "Параметры:\n",
    "\n",
    "* `by` - имя столбца или список столбцов, по которым производится сортировка;\n",
    "\n",
    "*  `axis=0` ось по которой производится сортировка (по умолчанию по строкам = 0);\n",
    "\n",
    "* `ascending=True` - от меньшего к большему;\n",
    "\n",
    "* `ingnore_index=False` - сохраняет исходные индексы таблицы;\n",
    "\n",
    "* `inplace=False` - сортировать на месте (изменение исходной) или вернуть сортированную копию."
   ]
  },
  {
   "cell_type": "markdown",
   "metadata": {},
   "source": [
    "Комбинирование сортировки с фильтрацией\n",
    "\n",
    "Найдём информацию о таунхаусах (`Type`), проданных компанией (`SellerG`) `McGrath`, у которых коэффициент соотношения площадей здания и участка (`AreaRatio`) меньше -0.8 (у которых площадь участка существенно больше площади здания). Результат отсортируем по дате продажи (`Date`) в порядке возрастания, а после проведём сортировку по убыванию коэффициента соотношения площадей. Также обновим старые индексы на новые, установив параметр `ignore_index` на `True`. Для наглядности результата выберем из таблицы только столбцы `Data` и `AreaRatio`:\n",
    "\n"
   ]
  },
  {
   "cell_type": "code",
   "execution_count": 3,
   "metadata": {},
   "outputs": [
    {
     "data": {
      "text/html": [
       "<div>\n",
       "<style scoped>\n",
       "    .dataframe tbody tr th:only-of-type {\n",
       "        vertical-align: middle;\n",
       "    }\n",
       "\n",
       "    .dataframe tbody tr th {\n",
       "        vertical-align: top;\n",
       "    }\n",
       "\n",
       "    .dataframe thead th {\n",
       "        text-align: right;\n",
       "    }\n",
       "</style>\n",
       "<table border=\"1\" class=\"dataframe\">\n",
       "  <thead>\n",
       "    <tr style=\"text-align: right;\">\n",
       "      <th></th>\n",
       "      <th>Date</th>\n",
       "      <th>AreaRatio</th>\n",
       "    </tr>\n",
       "  </thead>\n",
       "  <tbody>\n",
       "    <tr>\n",
       "      <th>0</th>\n",
       "      <td>2016-07-26</td>\n",
       "      <td>-0.974922</td>\n",
       "    </tr>\n",
       "    <tr>\n",
       "      <th>1</th>\n",
       "      <td>2016-09-24</td>\n",
       "      <td>-0.971831</td>\n",
       "    </tr>\n",
       "    <tr>\n",
       "      <th>2</th>\n",
       "      <td>2016-11-27</td>\n",
       "      <td>-0.953608</td>\n",
       "    </tr>\n",
       "    <tr>\n",
       "      <th>3</th>\n",
       "      <td>2016-12-11</td>\n",
       "      <td>-0.945946</td>\n",
       "    </tr>\n",
       "    <tr>\n",
       "      <th>4</th>\n",
       "      <td>2017-08-04</td>\n",
       "      <td>-0.947368</td>\n",
       "    </tr>\n",
       "    <tr>\n",
       "      <th>5</th>\n",
       "      <td>2017-08-04</td>\n",
       "      <td>-0.970874</td>\n",
       "    </tr>\n",
       "  </tbody>\n",
       "</table>\n",
       "</div>"
      ],
      "text/plain": [
       "        Date  AreaRatio\n",
       "0 2016-07-26  -0.974922\n",
       "1 2016-09-24  -0.971831\n",
       "2 2016-11-27  -0.953608\n",
       "3 2016-12-11  -0.945946\n",
       "4 2017-08-04  -0.947368\n",
       "5 2017-08-04  -0.970874"
      ]
     },
     "execution_count": 3,
     "metadata": {},
     "output_type": "execute_result"
    }
   ],
   "source": [
    "mask1 = melb_df['AreaRatio'] < -0.8\n",
    "mask2 = melb_df['Type'] == 'townhouse'\n",
    "mask3 = melb_df['SellerG'] == 'McGrath'\n",
    "melb_df[mask1 & mask2 & mask3].sort_values(\n",
    "    by=['Date', 'AreaRatio'],\n",
    "    ascending=[True, False],\n",
    "    ignore_index=True\n",
    ").loc[:, ['Date', 'AreaRatio']]"
   ]
  },
  {
   "cell_type": "markdown",
   "metadata": {},
   "source": [
    "# 2.2\n",
    "\n",
    "Произведите сортировку столбца `AreaRatio` по убыванию. При этом индексы полученной таблицы замените на новые. Какое значение площади здания находится в строке `1558`? Ответ округлите до целого числа.\n",
    "\n"
   ]
  },
  {
   "cell_type": "code",
   "execution_count": 4,
   "metadata": {},
   "outputs": [
    {
     "data": {
      "text/plain": [
       "126.0"
      ]
     },
     "execution_count": 4,
     "metadata": {},
     "output_type": "execute_result"
    }
   ],
   "source": [
    "melb_df.sort_values(by='AreaRatio', ascending=False, ignore_index=True).loc[1558, 'BuildingArea']"
   ]
  },
  {
   "cell_type": "markdown",
   "metadata": {},
   "source": [
    "# 2.3\n",
    "\n",
    "Найдите таунхаусы (`Type`) с количеством жилых комнат (`Rooms`) больше 2. Отсортируйте полученную таблицу сначала по возрастанию числа комнат, а затем по убыванию средней площади комнат (`MeanRoomsSquare`). Индексы таблицы замените на новые. Какая цена будет у объекта в строке 18? Ответ запишите в виде целого числа."
   ]
  },
  {
   "cell_type": "code",
   "execution_count": 5,
   "metadata": {},
   "outputs": [
    {
     "data": {
      "text/plain": [
       "1300000.0"
      ]
     },
     "execution_count": 5,
     "metadata": {},
     "output_type": "execute_result"
    }
   ],
   "source": [
    "mask1 = melb_df.Type == 'townhouse'\n",
    "mask2 = melb_df.Rooms > 2\n",
    "melb_df[mask1 & mask2].sort_values(\n",
    "    by=['Rooms', 'MeanRoomsSquare'],\n",
    "    ascending=[True, False],\n",
    "    ignore_index=True\n",
    ").loc[18, 'Price']"
   ]
  },
  {
   "cell_type": "markdown",
   "metadata": {},
   "source": [
    "# Группировка\n",
    "\n",
    "Метод `groupby()`\n",
    "\n",
    "Параметры метода:\n",
    "\n",
    "* `by` — имя или список имён столбцов, по которым производится группировка.\n",
    "* `axis` — ось, по которой производится группировка (0 — строки, 1 — столбцы). По умолчанию группировка производится по строкам.\n",
    "* `as_index` — добавляется ли дополнительный индекс к таблице. По умолчанию установлен на `True`.\n",
    "\n",
    "возвращает объект `DataFrameGroupBy`, который хранит в себе информацию о том, какие строки относятся к определённой группе.\n",
    "\n",
    "к этому объекту можно применять агрегирующие методы (`mean`, `median`, `sum` и т. д.), чтобы рассчитывать показатели внутри каждой группы.\n",
    "\n"
   ]
  },
  {
   "cell_type": "code",
   "execution_count": 6,
   "metadata": {},
   "outputs": [
    {
     "data": {
      "text/plain": [
       "Regionname\n",
       "Western Victoria              29.8\n",
       "Eastern Victoria              25.2\n",
       "Northern Victoria             21.8\n",
       "South-Eastern Metropolitan    14.7\n",
       "Eastern Metropolitan           7.8\n",
       "Western Metropolitan           4.3\n",
       "Southern Metropolitan          0.7\n",
       "Northern Metropolitan          0.0\n",
       "Name: Distance, dtype: float64"
      ]
     },
     "execution_count": 6,
     "metadata": {},
     "output_type": "execute_result"
    }
   ],
   "source": [
    "# Пример: удаленность района от центра\n",
    "\n",
    "melb_df.groupby('Regionname')['Distance'].min().sort_values(ascending=False)"
   ]
  },
  {
   "cell_type": "markdown",
   "metadata": {},
   "source": [
    "Метод `agg()`\n",
    "\n",
    "используется для расчета нескольких агрегирующих методов."
   ]
  },
  {
   "cell_type": "code",
   "execution_count": 7,
   "metadata": {},
   "outputs": [
    {
     "data": {
      "text/html": [
       "<div>\n",
       "<style scoped>\n",
       "    .dataframe tbody tr th:only-of-type {\n",
       "        vertical-align: middle;\n",
       "    }\n",
       "\n",
       "    .dataframe tbody tr th {\n",
       "        vertical-align: top;\n",
       "    }\n",
       "\n",
       "    .dataframe thead th {\n",
       "        text-align: right;\n",
       "    }\n",
       "</style>\n",
       "<table border=\"1\" class=\"dataframe\">\n",
       "  <thead>\n",
       "    <tr style=\"text-align: right;\">\n",
       "      <th></th>\n",
       "      <th>count</th>\n",
       "      <th>mean</th>\n",
       "      <th>max</th>\n",
       "    </tr>\n",
       "    <tr>\n",
       "      <th>MonthSale</th>\n",
       "      <th></th>\n",
       "      <th></th>\n",
       "      <th></th>\n",
       "    </tr>\n",
       "  </thead>\n",
       "  <tbody>\n",
       "    <tr>\n",
       "      <th>8</th>\n",
       "      <td>1850</td>\n",
       "      <td>1.056371e+06</td>\n",
       "      <td>6500000.0</td>\n",
       "    </tr>\n",
       "    <tr>\n",
       "      <th>7</th>\n",
       "      <td>1835</td>\n",
       "      <td>9.314698e+05</td>\n",
       "      <td>9000000.0</td>\n",
       "    </tr>\n",
       "    <tr>\n",
       "      <th>5</th>\n",
       "      <td>1644</td>\n",
       "      <td>1.097807e+06</td>\n",
       "      <td>8000000.0</td>\n",
       "    </tr>\n",
       "    <tr>\n",
       "      <th>6</th>\n",
       "      <td>1469</td>\n",
       "      <td>1.068981e+06</td>\n",
       "      <td>7650000.0</td>\n",
       "    </tr>\n",
       "    <tr>\n",
       "      <th>3</th>\n",
       "      <td>1408</td>\n",
       "      <td>1.146762e+06</td>\n",
       "      <td>5600000.0</td>\n",
       "    </tr>\n",
       "    <tr>\n",
       "      <th>4</th>\n",
       "      <td>1246</td>\n",
       "      <td>1.050479e+06</td>\n",
       "      <td>5500000.0</td>\n",
       "    </tr>\n",
       "    <tr>\n",
       "      <th>9</th>\n",
       "      <td>1188</td>\n",
       "      <td>1.126349e+06</td>\n",
       "      <td>6400000.0</td>\n",
       "    </tr>\n",
       "    <tr>\n",
       "      <th>10</th>\n",
       "      <td>854</td>\n",
       "      <td>1.135970e+06</td>\n",
       "      <td>6250000.0</td>\n",
       "    </tr>\n",
       "    <tr>\n",
       "      <th>11</th>\n",
       "      <td>750</td>\n",
       "      <td>1.142503e+06</td>\n",
       "      <td>5050000.0</td>\n",
       "    </tr>\n",
       "    <tr>\n",
       "      <th>12</th>\n",
       "      <td>725</td>\n",
       "      <td>1.144737e+06</td>\n",
       "      <td>5700000.0</td>\n",
       "    </tr>\n",
       "    <tr>\n",
       "      <th>2</th>\n",
       "      <td>333</td>\n",
       "      <td>1.169051e+06</td>\n",
       "      <td>4735000.0</td>\n",
       "    </tr>\n",
       "    <tr>\n",
       "      <th>1</th>\n",
       "      <td>278</td>\n",
       "      <td>9.397921e+05</td>\n",
       "      <td>5200000.0</td>\n",
       "    </tr>\n",
       "  </tbody>\n",
       "</table>\n",
       "</div>"
      ],
      "text/plain": [
       "           count          mean        max\n",
       "MonthSale                                \n",
       "8           1850  1.056371e+06  6500000.0\n",
       "7           1835  9.314698e+05  9000000.0\n",
       "5           1644  1.097807e+06  8000000.0\n",
       "6           1469  1.068981e+06  7650000.0\n",
       "3           1408  1.146762e+06  5600000.0\n",
       "4           1246  1.050479e+06  5500000.0\n",
       "9           1188  1.126349e+06  6400000.0\n",
       "10           854  1.135970e+06  6250000.0\n",
       "11           750  1.142503e+06  5050000.0\n",
       "12           725  1.144737e+06  5700000.0\n",
       "2            333  1.169051e+06  4735000.0\n",
       "1            278  9.397921e+05  5200000.0"
      ]
     },
     "execution_count": 7,
     "metadata": {},
     "output_type": "execute_result"
    }
   ],
   "source": [
    "# пример использования метода agg\n",
    "\n",
    "melb_df.groupby('MonthSale')['Price'].agg(\n",
    "    ['count', 'mean', 'max']\n",
    ").sort_values(by='count', ascending=False)"
   ]
  },
  {
   "cell_type": "code",
   "execution_count": 8,
   "metadata": {},
   "outputs": [
    {
     "data": {
      "text/html": [
       "<div>\n",
       "<style scoped>\n",
       "    .dataframe tbody tr th:only-of-type {\n",
       "        vertical-align: middle;\n",
       "    }\n",
       "\n",
       "    .dataframe tbody tr th {\n",
       "        vertical-align: top;\n",
       "    }\n",
       "\n",
       "    .dataframe thead th {\n",
       "        text-align: right;\n",
       "    }\n",
       "</style>\n",
       "<table border=\"1\" class=\"dataframe\">\n",
       "  <thead>\n",
       "    <tr style=\"text-align: right;\">\n",
       "      <th></th>\n",
       "      <th>count</th>\n",
       "      <th>mean</th>\n",
       "      <th>std</th>\n",
       "      <th>min</th>\n",
       "      <th>25%</th>\n",
       "      <th>50%</th>\n",
       "      <th>75%</th>\n",
       "      <th>max</th>\n",
       "    </tr>\n",
       "    <tr>\n",
       "      <th>MonthSale</th>\n",
       "      <th></th>\n",
       "      <th></th>\n",
       "      <th></th>\n",
       "      <th></th>\n",
       "      <th></th>\n",
       "      <th></th>\n",
       "      <th></th>\n",
       "      <th></th>\n",
       "    </tr>\n",
       "  </thead>\n",
       "  <tbody>\n",
       "    <tr>\n",
       "      <th>1</th>\n",
       "      <td>278.0</td>\n",
       "      <td>9.397921e+05</td>\n",
       "      <td>577668.924214</td>\n",
       "      <td>170000.0</td>\n",
       "      <td>570500.0</td>\n",
       "      <td>795000.0</td>\n",
       "      <td>1111250.0</td>\n",
       "      <td>5200000.0</td>\n",
       "    </tr>\n",
       "    <tr>\n",
       "      <th>2</th>\n",
       "      <td>333.0</td>\n",
       "      <td>1.169051e+06</td>\n",
       "      <td>671564.357417</td>\n",
       "      <td>131000.0</td>\n",
       "      <td>710000.0</td>\n",
       "      <td>1020000.0</td>\n",
       "      <td>1478000.0</td>\n",
       "      <td>4735000.0</td>\n",
       "    </tr>\n",
       "    <tr>\n",
       "      <th>3</th>\n",
       "      <td>1408.0</td>\n",
       "      <td>1.146762e+06</td>\n",
       "      <td>709573.596867</td>\n",
       "      <td>85000.0</td>\n",
       "      <td>680000.0</td>\n",
       "      <td>945000.0</td>\n",
       "      <td>1400000.0</td>\n",
       "      <td>5600000.0</td>\n",
       "    </tr>\n",
       "    <tr>\n",
       "      <th>4</th>\n",
       "      <td>1246.0</td>\n",
       "      <td>1.050479e+06</td>\n",
       "      <td>591892.902979</td>\n",
       "      <td>145000.0</td>\n",
       "      <td>655000.0</td>\n",
       "      <td>905500.0</td>\n",
       "      <td>1298750.0</td>\n",
       "      <td>5500000.0</td>\n",
       "    </tr>\n",
       "    <tr>\n",
       "      <th>5</th>\n",
       "      <td>1644.0</td>\n",
       "      <td>1.097807e+06</td>\n",
       "      <td>668492.867996</td>\n",
       "      <td>145000.0</td>\n",
       "      <td>650000.0</td>\n",
       "      <td>905000.0</td>\n",
       "      <td>1371250.0</td>\n",
       "      <td>8000000.0</td>\n",
       "    </tr>\n",
       "    <tr>\n",
       "      <th>6</th>\n",
       "      <td>1469.0</td>\n",
       "      <td>1.068981e+06</td>\n",
       "      <td>606010.069052</td>\n",
       "      <td>222000.0</td>\n",
       "      <td>660000.0</td>\n",
       "      <td>900000.0</td>\n",
       "      <td>1325000.0</td>\n",
       "      <td>7650000.0</td>\n",
       "    </tr>\n",
       "    <tr>\n",
       "      <th>7</th>\n",
       "      <td>1835.0</td>\n",
       "      <td>9.314698e+05</td>\n",
       "      <td>537390.803161</td>\n",
       "      <td>190000.0</td>\n",
       "      <td>586750.0</td>\n",
       "      <td>800000.0</td>\n",
       "      <td>1150000.0</td>\n",
       "      <td>9000000.0</td>\n",
       "    </tr>\n",
       "    <tr>\n",
       "      <th>8</th>\n",
       "      <td>1850.0</td>\n",
       "      <td>1.056371e+06</td>\n",
       "      <td>619617.476541</td>\n",
       "      <td>160000.0</td>\n",
       "      <td>635000.0</td>\n",
       "      <td>892000.0</td>\n",
       "      <td>1310000.0</td>\n",
       "      <td>6500000.0</td>\n",
       "    </tr>\n",
       "    <tr>\n",
       "      <th>9</th>\n",
       "      <td>1188.0</td>\n",
       "      <td>1.126349e+06</td>\n",
       "      <td>608734.690742</td>\n",
       "      <td>170000.0</td>\n",
       "      <td>725000.0</td>\n",
       "      <td>980000.0</td>\n",
       "      <td>1360000.0</td>\n",
       "      <td>6400000.0</td>\n",
       "    </tr>\n",
       "    <tr>\n",
       "      <th>10</th>\n",
       "      <td>854.0</td>\n",
       "      <td>1.135970e+06</td>\n",
       "      <td>692950.251627</td>\n",
       "      <td>250000.0</td>\n",
       "      <td>652625.0</td>\n",
       "      <td>950000.0</td>\n",
       "      <td>1416500.0</td>\n",
       "      <td>6250000.0</td>\n",
       "    </tr>\n",
       "    <tr>\n",
       "      <th>11</th>\n",
       "      <td>750.0</td>\n",
       "      <td>1.142503e+06</td>\n",
       "      <td>703666.227892</td>\n",
       "      <td>240000.0</td>\n",
       "      <td>671750.0</td>\n",
       "      <td>950000.0</td>\n",
       "      <td>1399125.0</td>\n",
       "      <td>5050000.0</td>\n",
       "    </tr>\n",
       "    <tr>\n",
       "      <th>12</th>\n",
       "      <td>725.0</td>\n",
       "      <td>1.144737e+06</td>\n",
       "      <td>706549.007161</td>\n",
       "      <td>250000.0</td>\n",
       "      <td>667500.0</td>\n",
       "      <td>938000.0</td>\n",
       "      <td>1412000.0</td>\n",
       "      <td>5700000.0</td>\n",
       "    </tr>\n",
       "  </tbody>\n",
       "</table>\n",
       "</div>"
      ],
      "text/plain": [
       "            count          mean            std       min       25%        50%  \\\n",
       "MonthSale                                                                       \n",
       "1           278.0  9.397921e+05  577668.924214  170000.0  570500.0   795000.0   \n",
       "2           333.0  1.169051e+06  671564.357417  131000.0  710000.0  1020000.0   \n",
       "3          1408.0  1.146762e+06  709573.596867   85000.0  680000.0   945000.0   \n",
       "4          1246.0  1.050479e+06  591892.902979  145000.0  655000.0   905500.0   \n",
       "5          1644.0  1.097807e+06  668492.867996  145000.0  650000.0   905000.0   \n",
       "6          1469.0  1.068981e+06  606010.069052  222000.0  660000.0   900000.0   \n",
       "7          1835.0  9.314698e+05  537390.803161  190000.0  586750.0   800000.0   \n",
       "8          1850.0  1.056371e+06  619617.476541  160000.0  635000.0   892000.0   \n",
       "9          1188.0  1.126349e+06  608734.690742  170000.0  725000.0   980000.0   \n",
       "10          854.0  1.135970e+06  692950.251627  250000.0  652625.0   950000.0   \n",
       "11          750.0  1.142503e+06  703666.227892  240000.0  671750.0   950000.0   \n",
       "12          725.0  1.144737e+06  706549.007161  250000.0  667500.0   938000.0   \n",
       "\n",
       "                 75%        max  \n",
       "MonthSale                        \n",
       "1          1111250.0  5200000.0  \n",
       "2          1478000.0  4735000.0  \n",
       "3          1400000.0  5600000.0  \n",
       "4          1298750.0  5500000.0  \n",
       "5          1371250.0  8000000.0  \n",
       "6          1325000.0  7650000.0  \n",
       "7          1150000.0  9000000.0  \n",
       "8          1310000.0  6500000.0  \n",
       "9          1360000.0  6400000.0  \n",
       "10         1416500.0  6250000.0  \n",
       "11         1399125.0  5050000.0  \n",
       "12         1412000.0  5700000.0  "
      ]
     },
     "execution_count": 8,
     "metadata": {},
     "output_type": "execute_result"
    }
   ],
   "source": [
    "# полная информация обо всех статистических методах\n",
    "\n",
    "melb_df.groupby('MonthSale')['Price'].agg('describe')"
   ]
  },
  {
   "cell_type": "markdown",
   "metadata": {},
   "source": [
    "Метод `agg` с другими функциями. \n",
    "\n",
    "Передадим дополнительно встроенную функцию `set`, чтобы получить множество из агентств недвижимости, которые работают в каждом из регионов"
   ]
  },
  {
   "cell_type": "code",
   "execution_count": 9,
   "metadata": {},
   "outputs": [
    {
     "data": {
      "text/html": [
       "<div>\n",
       "<style scoped>\n",
       "    .dataframe tbody tr th:only-of-type {\n",
       "        vertical-align: middle;\n",
       "    }\n",
       "\n",
       "    .dataframe tbody tr th {\n",
       "        vertical-align: top;\n",
       "    }\n",
       "\n",
       "    .dataframe thead th {\n",
       "        text-align: right;\n",
       "    }\n",
       "</style>\n",
       "<table border=\"1\" class=\"dataframe\">\n",
       "  <thead>\n",
       "    <tr style=\"text-align: right;\">\n",
       "      <th></th>\n",
       "      <th>nunique</th>\n",
       "      <th>set</th>\n",
       "    </tr>\n",
       "    <tr>\n",
       "      <th>Regionname</th>\n",
       "      <th></th>\n",
       "      <th></th>\n",
       "    </tr>\n",
       "  </thead>\n",
       "  <tbody>\n",
       "    <tr>\n",
       "      <th>Eastern Metropolitan</th>\n",
       "      <td>26</td>\n",
       "      <td>{hockingstuart, Biggin, RT, Ray, HAR, Harcourt...</td>\n",
       "    </tr>\n",
       "    <tr>\n",
       "      <th>Eastern Victoria</th>\n",
       "      <td>11</td>\n",
       "      <td>{McGrath, HAR, hockingstuart, Fletchers, other...</td>\n",
       "    </tr>\n",
       "    <tr>\n",
       "      <th>Northern Metropolitan</th>\n",
       "      <td>40</td>\n",
       "      <td>{Nick, Greg, Biggin, hockingstuart, RT, Ray, H...</td>\n",
       "    </tr>\n",
       "    <tr>\n",
       "      <th>Northern Victoria</th>\n",
       "      <td>11</td>\n",
       "      <td>{YPA, McGrath, McDonald, Buckingham, HAR, hock...</td>\n",
       "    </tr>\n",
       "    <tr>\n",
       "      <th>South-Eastern Metropolitan</th>\n",
       "      <td>25</td>\n",
       "      <td>{hockingstuart, Greg, Biggin, O'Brien, Ray, HA...</td>\n",
       "    </tr>\n",
       "    <tr>\n",
       "      <th>Southern Metropolitan</th>\n",
       "      <td>38</td>\n",
       "      <td>{Nick, hockingstuart, Greg, Biggin, RT, O'Brie...</td>\n",
       "    </tr>\n",
       "    <tr>\n",
       "      <th>Western Metropolitan</th>\n",
       "      <td>34</td>\n",
       "      <td>{Greg, hockingstuart, Biggin, RT, O'Brien, HAR...</td>\n",
       "    </tr>\n",
       "    <tr>\n",
       "      <th>Western Victoria</th>\n",
       "      <td>6</td>\n",
       "      <td>{YPA, hockingstuart, Ray, other, HAR, Raine}</td>\n",
       "    </tr>\n",
       "  </tbody>\n",
       "</table>\n",
       "</div>"
      ],
      "text/plain": [
       "                            nunique  \\\n",
       "Regionname                            \n",
       "Eastern Metropolitan             26   \n",
       "Eastern Victoria                 11   \n",
       "Northern Metropolitan            40   \n",
       "Northern Victoria                11   \n",
       "South-Eastern Metropolitan       25   \n",
       "Southern Metropolitan            38   \n",
       "Western Metropolitan             34   \n",
       "Western Victoria                  6   \n",
       "\n",
       "                                                                          set  \n",
       "Regionname                                                                     \n",
       "Eastern Metropolitan        {hockingstuart, Biggin, RT, Ray, HAR, Harcourt...  \n",
       "Eastern Victoria            {McGrath, HAR, hockingstuart, Fletchers, other...  \n",
       "Northern Metropolitan       {Nick, Greg, Biggin, hockingstuart, RT, Ray, H...  \n",
       "Northern Victoria           {YPA, McGrath, McDonald, Buckingham, HAR, hock...  \n",
       "South-Eastern Metropolitan  {hockingstuart, Greg, Biggin, O'Brien, Ray, HA...  \n",
       "Southern Metropolitan       {Nick, hockingstuart, Greg, Biggin, RT, O'Brie...  \n",
       "Western Metropolitan        {Greg, hockingstuart, Biggin, RT, O'Brien, HAR...  \n",
       "Western Victoria                 {YPA, hockingstuart, Ray, other, HAR, Raine}  "
      ]
     },
     "execution_count": 9,
     "metadata": {},
     "output_type": "execute_result"
    }
   ],
   "source": [
    "melb_df.groupby('Regionname')['SellerG'].agg(\n",
    "    \t\t['nunique', set]\n",
    ")"
   ]
  },
  {
   "cell_type": "markdown",
   "metadata": {},
   "source": [
    "# 3.1\n",
    "\n",
    "Сгруппируйте данные по признаку количества комнат и найдите среднюю цену объектов недвижимости в каждой группе. В качестве ответа запишите количество комнат, для которых средняя цена наибольшая."
   ]
  },
  {
   "cell_type": "code",
   "execution_count": 28,
   "metadata": {},
   "outputs": [
    {
     "data": {
      "text/plain": [
       "7"
      ]
     },
     "execution_count": 28,
     "metadata": {},
     "output_type": "execute_result"
    }
   ],
   "source": [
    "melb_df.groupby(by='Rooms')['Price'].mean().sort_values(\n",
    "    ascending=False).index[0]"
   ]
  },
  {
   "cell_type": "markdown",
   "metadata": {},
   "source": [
    "# 3.2\n",
    "\n",
    "Какой регион имеет наименьшее стандартное отклонение по географической широте (`Lattitude`)?\n",
    "В качестве ответа запишите название этого региона."
   ]
  },
  {
   "cell_type": "code",
   "execution_count": 29,
   "metadata": {},
   "outputs": [
    {
     "data": {
      "text/plain": [
       "'Western Victoria'"
      ]
     },
     "execution_count": 29,
     "metadata": {},
     "output_type": "execute_result"
    }
   ],
   "source": [
    "melb_df.groupby(by='Regionname')['Lattitude'].std().sort_values().index[0]"
   ]
  },
  {
   "cell_type": "markdown",
   "metadata": {},
   "source": [
    "# 3.3\n",
    "\n",
    "Какая риелторская компания (`SellerG`) имеет наименьшую общую выручку за период с 1 мая по 1 сентября (включительно) 2017 года?\n",
    "Для ответа на этот вопрос рассчитайте сумму продаж (`Price`) каждой компании в заданный период.\n",
    "Не забудьте перевести даты в формат `datetime`."
   ]
  },
  {
   "cell_type": "code",
   "execution_count": 49,
   "metadata": {},
   "outputs": [
    {
     "data": {
      "text/plain": [
       "'LITTLE'"
      ]
     },
     "execution_count": 49,
     "metadata": {},
     "output_type": "execute_result"
    }
   ],
   "source": [
    "mask1 = melb_df['Date'] <= pd.to_datetime('2017-09-01') \n",
    "mask2 = melb_df['Date'] >= pd.to_datetime('2017-05-01')\n",
    "melb_df[mask1 & mask2].groupby(by='SellerG')['Price'].sum().sort_values().index[0]\n"
   ]
  }
 ],
 "metadata": {
  "kernelspec": {
   "display_name": "Python 3.10.6 64-bit",
   "language": "python",
   "name": "python3"
  },
  "language_info": {
   "codemirror_mode": {
    "name": "ipython",
    "version": 3
   },
   "file_extension": ".py",
   "mimetype": "text/x-python",
   "name": "python",
   "nbconvert_exporter": "python",
   "pygments_lexer": "ipython3",
   "version": "3.10.6"
  },
  "orig_nbformat": 4,
  "vscode": {
   "interpreter": {
    "hash": "e7370f93d1d0cde622a1f8e1c04877d8463912d04d973331ad4851f04de6915a"
   }
  }
 },
 "nbformat": 4,
 "nbformat_minor": 2
}
