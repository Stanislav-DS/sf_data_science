{
 "cells": [
  {
   "cell_type": "markdown",
   "metadata": {},
   "source": [
    "# Сложные объединения\n",
    "---"
   ]
  },
  {
   "cell_type": "markdown",
   "metadata": {},
   "source": [
    "Вы уже умеете присоединять строки друг к другу путём добавления столбцов «сбоку» — с помощью различных видов `JOIN`.\n",
    "\n",
    "А что если нам необходимо присоединить несколько результатов «снизу», так, чтобы получить общий результат в выводе?\n",
    "\n",
    "Ответу на этот вопрос и посвящён текущий модуль."
   ]
  },
  {
   "cell_type": "markdown",
   "metadata": {},
   "source": [
    "## Знакомство с данными\n",
    "---"
   ]
  },
  {
   "cell_type": "markdown",
   "metadata": {},
   "source": [
    "В данном блоке мы будем работать с данными о компании, организующей перевозки грузов.\n",
    "\n",
    "Интересующие нас данные хранятся в таблицах `city`, `customer`, `driver`, `shipment`, `truck`. Давайте внимательно их изучим.\n",
    "\n",
    "Ниже представлена *ER*-диаграмма (от англ. *entity-relation*, дословно — «сущность-связь»), которая отображает существующие связи между отдельными таблицами.\n",
    "\n",
    "![](data/dst3-u2-md4_1_1.jpg)"
   ]
  },
  {
   "cell_type": "markdown",
   "metadata": {},
   "source": [
    "Таблица `city` — это справочник городов. Структура справочника представлена ниже.\n",
    "\n",
    "| НАЗВАНИЕ ПОЛЯ | ТИП ДАННЫХ |                     ОПИСАНИЕ                    |\n",
    "|:-------------:|:----------:|:-----------------------------------------------:|\n",
    "| city_id       | integer    | уникальный идентификатор города, первичный ключ |\n",
    "| city_name     | text       | название города                                 |\n",
    "| state         | text       | штат, к которому относится город                |\n",
    "| population    | integer    | население города                                |\n",
    "| area          | numeric    | площадь города                                  |"
   ]
  },
  {
   "cell_type": "markdown",
   "metadata": {},
   "source": [
    "Таблица `customer` — это справочник клиентов. У компании, с данными которой мы работаем, только корпоративные клиенты, поэтому в таблице нет привычных данных о возрасте и поле. Справочник содержит следующие поля:\n",
    "\n",
    "|  НАЗВАНИЕ ПОЛЯ | ТИП ДАННЫХ |                      ОПИСАНИЕ                     |\n",
    "|:--------------:|:----------:|:-------------------------------------------------:|\n",
    "| cust_id        | integer    | уникальный идентификатор клиента, первичный ключ  |\n",
    "| cust_name      | text       | название клиента                                  |\n",
    "| annual_revenue | numeric    | ежегодная выручка                                 |\n",
    "| cust_type      | text       | тип пользователя                                  |\n",
    "| address        | text       | адрес                                             |\n",
    "| zip            | integer    | почтовый индекс                                   |\n",
    "| phone          | text       | телефон                                           |\n",
    "| city_id        | integer    | идентификатор города, внешний ключ к таблице city |"
   ]
  },
  {
   "cell_type": "markdown",
   "metadata": {},
   "source": [
    "Следующая таблица — `driver` — справочник водителей. Перечень сведений, содержащихся в таблице, представлен ниже.\n",
    "\n",
    "| НАЗВАНИЕ ПОЛЯ | ТИП ДАННЫХ |                          ОПИСАНИЕ                          |\n",
    "|:-------------:|:----------:|:----------------------------------------------------------:|\n",
    "| driver_id     | integer    | уникальный идентификатор водителя, первичный ключ          |\n",
    "| first_name    | text       | имя водителя                                               |\n",
    "| last_name     | text       | фамилия водителя                                           |\n",
    "| address       | text       | адрес водителя                                             |\n",
    "| zip_code      | integer    | почтовый индекс водителя                                   |\n",
    "| phone         | text       | телефон водителя                                           |\n",
    "| city_id       | integer    | идентификатор города водителя, внешний ключ к таблице city |"
   ]
  },
  {
   "cell_type": "markdown",
   "metadata": {},
   "source": [
    "В таблице `truck` хранится информация о грузовиках, на которых осуществляются перевозки. Данные о них представлены в следующем виде:\n",
    "\n",
    "| НАЗВАНИЕ ПОЛЯ | ТИП ДАННЫХ |                      ОПИСАНИЕ                      |\n",
    "|:-------------:|:----------:|:--------------------------------------------------:|\n",
    "| truck_id      | integer    | Уникальный идентификатор грузовика, первичный ключ |\n",
    "| make          | text       | Производитель грузовика                            |\n",
    "| model_year    | integer    | Дата выпуска грузовика                             |"
   ]
  },
  {
   "cell_type": "markdown",
   "metadata": {},
   "source": [
    "Последняя таблица в датасете, `shipment`, — таблица с данными непосредственно о доставках. Она описывает взаимодействие всех перечисленных сущностей, а потому содержит наибольшее количество ссылок на другие таблицы.\n",
    "\n",
    "| НАЗВАНИЕ ПОЛЯ | ТИП ДАННЫХ |                                        ОПИСАНИЕ                                       |\n",
    "|:-------------:|:----------:|:-------------------------------------------------------------------------------------:|\n",
    "| ship_id       | integer    | уникальный идентификатор доставки, первичный ключ                                     |\n",
    "| cust_id       | integer    | идентификатор клиента, которому отправлена доставка, внешний ключ к таблице customer  |\n",
    "| weight        | numeric    | вес посылки                                                                           |\n",
    "| truck_id      | integer    | идентификатор грузовика, на котором отправлена доставка, внешний ключ к таблице truck |\n",
    "| driver_id     | integer    | идентификатор водителя, который осуществлял доставку, внешний ключ к таблице driver   |\n",
    "| city_id       | integer    | идентификатор города в который совершена доставка, внешний ключ к таблице city        |\n",
    "| ship_date     | date       | дата доставки                                                                         |"
   ]
  },
  {
   "cell_type": "markdown",
   "metadata": {},
   "source": [
    "## Задание 1.1"
   ]
  },
  {
   "cell_type": "markdown",
   "metadata": {},
   "source": [
    "> Укажите название города с максимальным весом единичной доставки.\n",
    "\n",
    "\n",
    "```sql\n",
    "SELECT\n",
    "    city.city_name\n",
    "FROM\n",
    "    sql.shipment AS shipment\n",
    "    JOIN sql.city AS city ON shipment.city_id = city.city_id\n",
    "GROUP BY\n",
    "    city.city_id,\n",
    "    shipment.weight\n",
    "ORDER BY\n",
    "    shipment.weight DESC\n",
    "LIMIT\n",
    "    1\n",
    "```\n",
    "\n",
    "**Ответ:** Green Bay\n",
    "\n"
   ]
  },
  {
   "cell_type": "markdown",
   "metadata": {},
   "source": [
    "> Сколько различных производителей грузовиков перечислено в таблице `truck`?\n",
    "\n",
    "\n",
    "```sql\n",
    "SELECT\n",
    "    COUNT(DISTINCT truck.make)\n",
    "FROM\n",
    "    sql.truck AS truck\n",
    "```\n",
    "\n",
    "**Ответ:** 3"
   ]
  },
  {
   "cell_type": "markdown",
   "metadata": {},
   "source": [
    "> Как зовут водителя (`first_name`), который совершил наибольшее количество доставок одному клиенту?\n",
    "\n",
    "\n",
    "```sql\n",
    "SELECT\n",
    "    CONCAT(driver.first_name, ' ', driver.last_name)\n",
    "FROM\n",
    "    sql.shipment AS shipment\n",
    "    JOIN sql.driver AS driver ON shipment.driver_id = driver.driver_id\n",
    "GROUP BY\n",
    "    shipment.cust_id,\n",
    "    shipment.driver_id,\n",
    "    driver.first_name,\n",
    "    driver.last_name\n",
    "ORDER BY\n",
    "    COUNT(shipment.driver_id) DESC\n",
    "LIMIT\n",
    "    1\n",
    "```\n",
    "\n",
    "**Ответ:** Holger (Nohr)"
   ]
  },
  {
   "cell_type": "markdown",
   "metadata": {},
   "source": [
    "> Укажите даты первой и последней по времени доставок в таблице `shipment`.\n",
    ">\n",
    "> Ответ введите в формате ДД.ММ.ГГГГ.\n",
    "\n",
    "\n",
    "```sql\n",
    "SELECT\n",
    "    shipment.ship_date\n",
    "FROM\n",
    "    sql.shipment AS shipment\n",
    "ORDER BY\n",
    "    shipment.ship_date ASC\n",
    "LIMIT\n",
    "    1\n",
    "```\n",
    "\n",
    "Ответ: 08.01.2016 27.12.2017"
   ]
  },
  {
   "cell_type": "markdown",
   "metadata": {},
   "source": [
    "> Укажите имя клиента, получившего наибольшее количество доставок за 2017 год.\n",
    "\n",
    "\n",
    "```sql\n",
    "SELECT\n",
    "    customer.cust_name\n",
    "FROM\n",
    "    sql.shipment AS shipment\n",
    "    JOIN sql.customer AS customer ON shipment.cust_id = customer.cust_id\n",
    "GROUP BY\n",
    "    shipment.cust_id,\n",
    "    customer.cust_name\n",
    "ORDER BY\n",
    "    COUNT(shipment.cust_id) DESC\n",
    "LIMIT\n",
    "    1\n",
    "```\n",
    "\n",
    "**Ответ:** Autoware In"
   ]
  }
 ],
 "metadata": {
  "language_info": {
   "name": "python"
  },
  "orig_nbformat": 4
 },
 "nbformat": 4,
 "nbformat_minor": 2
}
