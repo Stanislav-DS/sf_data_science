{
 "cells": [
  {
   "cell_type": "markdown",
   "metadata": {},
   "source": [
    "# Сложные объединения\n",
    "---"
   ]
  },
  {
   "cell_type": "markdown",
   "metadata": {},
   "source": [
    "Вы уже умеете присоединять строки друг к другу путём добавления столбцов «сбоку» — с помощью различных видов `JOIN`.\n",
    "\n",
    "А что если нам необходимо присоединить несколько результатов «снизу», так, чтобы получить общий результат в выводе?\n",
    "\n",
    "Ответу на этот вопрос и посвящён текущий модуль."
   ]
  },
  {
   "cell_type": "markdown",
   "metadata": {},
   "source": [
    "## (1) Знакомство с данными\n",
    "---"
   ]
  },
  {
   "cell_type": "markdown",
   "metadata": {},
   "source": [
    "В данном блоке мы будем работать с данными о компании, организующей перевозки грузов.\n",
    "\n",
    "Интересующие нас данные хранятся в таблицах `city`, `customer`, `driver`, `shipment`, `truck`. Давайте внимательно их изучим.\n",
    "\n",
    "Ниже представлена *ER*-диаграмма (от англ. *entity-relation*, дословно — «сущность-связь»), которая отображает существующие связи между отдельными таблицами.\n",
    "\n",
    "![](data/dst3-u2-md4_1_1.jpg)"
   ]
  },
  {
   "cell_type": "markdown",
   "metadata": {},
   "source": [
    "Таблица `city` — это справочник городов. Структура справочника представлена ниже.\n",
    "\n",
    "| НАЗВАНИЕ ПОЛЯ | ТИП ДАННЫХ |                     ОПИСАНИЕ                    |\n",
    "|:-------------:|:----------:|:-----------------------------------------------:|\n",
    "| city_id       | integer    | уникальный идентификатор города, первичный ключ |\n",
    "| city_name     | text       | название города                                 |\n",
    "| state         | text       | штат, к которому относится город                |\n",
    "| population    | integer    | население города                                |\n",
    "| area          | numeric    | площадь города                                  |"
   ]
  },
  {
   "cell_type": "markdown",
   "metadata": {},
   "source": [
    "Таблица `customer` — это справочник клиентов. У компании, с данными которой мы работаем, только корпоративные клиенты, поэтому в таблице нет привычных данных о возрасте и поле. Справочник содержит следующие поля:\n",
    "\n",
    "|  НАЗВАНИЕ ПОЛЯ | ТИП ДАННЫХ |                      ОПИСАНИЕ                     |\n",
    "|:--------------:|:----------:|:-------------------------------------------------:|\n",
    "| cust_id        | integer    | уникальный идентификатор клиента, первичный ключ  |\n",
    "| cust_name      | text       | название клиента                                  |\n",
    "| annual_revenue | numeric    | ежегодная выручка                                 |\n",
    "| cust_type      | text       | тип пользователя                                  |\n",
    "| address        | text       | адрес                                             |\n",
    "| zip            | integer    | почтовый индекс                                   |\n",
    "| phone          | text       | телефон                                           |\n",
    "| city_id        | integer    | идентификатор города, внешний ключ к таблице city |"
   ]
  },
  {
   "cell_type": "markdown",
   "metadata": {},
   "source": [
    "Следующая таблица — `driver` — справочник водителей. Перечень сведений, содержащихся в таблице, представлен ниже.\n",
    "\n",
    "| НАЗВАНИЕ ПОЛЯ | ТИП ДАННЫХ |                          ОПИСАНИЕ                          |\n",
    "|:-------------:|:----------:|:----------------------------------------------------------:|\n",
    "| driver_id     | integer    | уникальный идентификатор водителя, первичный ключ          |\n",
    "| first_name    | text       | имя водителя                                               |\n",
    "| last_name     | text       | фамилия водителя                                           |\n",
    "| address       | text       | адрес водителя                                             |\n",
    "| zip_code      | integer    | почтовый индекс водителя                                   |\n",
    "| phone         | text       | телефон водителя                                           |\n",
    "| city_id       | integer    | идентификатор города водителя, внешний ключ к таблице city |"
   ]
  },
  {
   "cell_type": "markdown",
   "metadata": {},
   "source": [
    "В таблице `truck` хранится информация о грузовиках, на которых осуществляются перевозки. Данные о них представлены в следующем виде:\n",
    "\n",
    "| НАЗВАНИЕ ПОЛЯ | ТИП ДАННЫХ |                      ОПИСАНИЕ                      |\n",
    "|:-------------:|:----------:|:--------------------------------------------------:|\n",
    "| truck_id      | integer    | Уникальный идентификатор грузовика, первичный ключ |\n",
    "| make          | text       | Производитель грузовика                            |\n",
    "| model_year    | integer    | Дата выпуска грузовика                             |"
   ]
  },
  {
   "cell_type": "markdown",
   "metadata": {},
   "source": [
    "Последняя таблица в датасете, `shipment`, — таблица с данными непосредственно о доставках. Она описывает взаимодействие всех перечисленных сущностей, а потому содержит наибольшее количество ссылок на другие таблицы.\n",
    "\n",
    "| НАЗВАНИЕ ПОЛЯ | ТИП ДАННЫХ |                                        ОПИСАНИЕ                                       |\n",
    "|:-------------:|:----------:|:-------------------------------------------------------------------------------------:|\n",
    "| ship_id       | integer    | уникальный идентификатор доставки, первичный ключ                                     |\n",
    "| cust_id       | integer    | идентификатор клиента, которому отправлена доставка, внешний ключ к таблице customer  |\n",
    "| weight        | numeric    | вес посылки                                                                           |\n",
    "| truck_id      | integer    | идентификатор грузовика, на котором отправлена доставка, внешний ключ к таблице truck |\n",
    "| driver_id     | integer    | идентификатор водителя, который осуществлял доставку, внешний ключ к таблице driver   |\n",
    "| city_id       | integer    | идентификатор города в который совершена доставка, внешний ключ к таблице city        |\n",
    "| ship_date     | date       | дата доставки                                                                         |"
   ]
  },
  {
   "cell_type": "markdown",
   "metadata": {},
   "source": [
    "### Задание 1.1"
   ]
  },
  {
   "cell_type": "markdown",
   "metadata": {},
   "source": [
    "> Укажите название города с максимальным весом единичной доставки.\n",
    "\n",
    "\n",
    "```sql\n",
    "SELECT\n",
    "    city.city_name\n",
    "FROM\n",
    "    sql.shipment AS shipment\n",
    "    JOIN sql.city AS city ON shipment.city_id = city.city_id\n",
    "GROUP BY\n",
    "    city.city_id,\n",
    "    shipment.weight\n",
    "ORDER BY\n",
    "    shipment.weight DESC\n",
    "LIMIT\n",
    "    1\n",
    "```\n",
    "\n",
    "**Ответ:** Green Bay\n",
    "\n"
   ]
  },
  {
   "cell_type": "markdown",
   "metadata": {},
   "source": [
    "> Сколько различных производителей грузовиков перечислено в таблице `truck`?\n",
    "\n",
    "\n",
    "```sql\n",
    "SELECT\n",
    "    COUNT(DISTINCT truck.make)\n",
    "FROM\n",
    "    sql.truck AS truck\n",
    "```\n",
    "\n",
    "**Ответ:** 3"
   ]
  },
  {
   "cell_type": "markdown",
   "metadata": {},
   "source": [
    "> Как зовут водителя (`first_name`), который совершил наибольшее количество доставок одному клиенту?\n",
    "\n",
    "\n",
    "```sql\n",
    "SELECT\n",
    "    CONCAT(driver.first_name, ' ', driver.last_name)\n",
    "FROM\n",
    "    sql.shipment AS shipment\n",
    "    JOIN sql.driver AS driver ON shipment.driver_id = driver.driver_id\n",
    "GROUP BY\n",
    "    shipment.cust_id,\n",
    "    shipment.driver_id,\n",
    "    driver.first_name,\n",
    "    driver.last_name\n",
    "ORDER BY\n",
    "    COUNT(shipment.driver_id) DESC\n",
    "LIMIT\n",
    "    1\n",
    "```\n",
    "\n",
    "**Ответ:** Holger (Nohr)"
   ]
  },
  {
   "cell_type": "markdown",
   "metadata": {},
   "source": [
    "> Укажите даты первой и последней по времени доставок в таблице `shipment`.\n",
    ">\n",
    "> Ответ введите в формате ДД.ММ.ГГГГ.\n",
    "\n",
    "\n",
    "```sql\n",
    "SELECT\n",
    "    shipment.ship_date\n",
    "FROM\n",
    "    sql.shipment AS shipment\n",
    "ORDER BY\n",
    "    shipment.ship_date ASC\n",
    "LIMIT\n",
    "    1\n",
    "```\n",
    "\n",
    "Ответ: 08.01.2016 27.12.2017"
   ]
  },
  {
   "cell_type": "markdown",
   "metadata": {},
   "source": [
    "> Укажите имя клиента, получившего наибольшее количество доставок за 2017 год.\n",
    "\n",
    "\n",
    "```sql\n",
    "SELECT\n",
    "    customer.cust_name\n",
    "FROM\n",
    "    sql.shipment AS shipment\n",
    "    JOIN sql.customer AS customer ON shipment.cust_id = customer.cust_id\n",
    "GROUP BY\n",
    "    shipment.cust_id,\n",
    "    customer.cust_name\n",
    "ORDER BY\n",
    "    COUNT(shipment.cust_id) DESC\n",
    "LIMIT\n",
    "    1\n",
    "```\n",
    "\n",
    "**Ответ:** Autoware In"
   ]
  },
  {
   "cell_type": "markdown",
   "metadata": {},
   "source": [
    "## (2-6) UNION\n",
    "\n",
    "---"
   ]
  },
  {
   "cell_type": "markdown",
   "metadata": {},
   "source": [
    "Вернёмся к центральному вопросу модуля: как соединить несколько результатов, чтобы получить в выводе один общий?"
   ]
  },
  {
   "cell_type": "markdown",
   "metadata": {},
   "source": [
    "### (2) UNION. Принцип и условия работы.\n",
    "---"
   ]
  },
  {
   "cell_type": "markdown",
   "metadata": {},
   "source": [
    "Чтобы разобраться в этом вопросе, смоделируем ситуацию.\n",
    "\n",
    "Допустим, мы хотим собрать из справочников по книгам и фильмам один, так чтобы в нём содержались названия произведений, а также их описание — книга или фильм.\n",
    "\n",
    "Для этого напишем простой запрос:\n",
    "\n",
    "\n",
    "```sql\n",
    "SELECT\n",
    "    book_name object_name,\n",
    "    'книга' object_description\n",
    "FROM\n",
    "    public.books\n",
    "UNION\n",
    "ALL\n",
    "SELECT\n",
    "    movie_title,\n",
    "    'фильм'\n",
    "FROM\n",
    "    sql.kinopoisk\n",
    "```\n",
    "\n",
    "Визуально произведённое нами действие можно представить следующим образом:\n",
    "\n",
    "![](data/dst3-u2-md4_2_1.png)"
   ]
  },
  {
   "cell_type": "markdown",
   "metadata": {},
   "source": [
    "Общий принцип мы поняли, разберёмся в деталях:\n",
    "\n",
    "В запросе мы использовали оператор UNION ALL — он присоединяет любой результат запроса к другому «снизу» при условии, что у них **одинаковая структура**, а именно:\n",
    "\n",
    "* одинаковый тип данных;\n",
    "\n",
    "    ![](data/dst3-u2-md4_2_2.png)\n",
    "\n",
    "* одинаковое количество столбцов;\n",
    "\n",
    "    ![](data/dst3-u2-md4_2_3.png)\n",
    "\n",
    "* одинаковый порядок столбцов согласно типу данных.\n",
    "\n",
    "    ![](data/dst3-u2-md4_2_4.png)"
   ]
  },
  {
   "cell_type": "markdown",
   "metadata": {},
   "source": [
    "**Виды `UNION`**\n",
    "\n",
    "Оператор присоединения существует в двух вариантах:\n",
    "\n",
    "* `UNION` выводит только уникальные записи;\n",
    "* `UNION ALL` присоединяет все строки последующих таблиц к предыдущим, без ограничений по уникальности.\n",
    "\n",
    "**Важно!** `UNION` оставляет только уникальные значения, а потому требует дополнительных вычислительных мощностей и памяти (в данном случае можно провести аналогию с `DISTINCT`). Поэтому если вы уверены в отсутствии дубликатов в данных или они вам не важны, предпочтительнее использовать `UNION ALL`.\n"
   ]
  },
  {
   "cell_type": "markdown",
   "metadata": {},
   "source": [
    "**Синтаксис**\n",
    "\n",
    "\n",
    "```sql\n",
    "SELECT\n",
    "    n columns\n",
    "FROM\n",
    "    table_1\n",
    "UNION\n",
    "ALL\n",
    "SELECT\n",
    "    n columns\n",
    "FROM\n",
    "    table_2...\n",
    "UNION\n",
    "ALL\n",
    "SELECT\n",
    "    n columns\n",
    "FROM\n",
    "    table_n\n",
    "```"
   ]
  },
  {
   "cell_type": "markdown",
   "metadata": {},
   "source": [
    "Пришла пора испытать функцию `UNION ALL`  на практике.\n",
    "\n",
    "Обратимся к нашему датасету о транспортной компании и посмотрим, как сформировать справочник с ID всех таблиц и указанием объекта, к которому он относится.\n",
    "\n",
    "\n",
    "```sql\n",
    "SELECT\n",
    "         c.city_id object_name,  'id города' object_type /*выбираем колонку city_id и задаём ей алиас object_name, сами задаём объект 'id города' и название столбца object_type*/\n",
    "FROM \n",
    "         sql.city c /*из схемы sql и таблицы city, задаём алиас таблице — с*/\n",
    "UNION ALL /*оператор присоединения*/\n",
    "SELECT\n",
    "         d.driver_id other_name,  'id водителя' other_type /*выбираем колонку driver_id и задаём ей алиас other_name, сами задаём объект 'id водителя' и название столбца other_type*/\n",
    "FROM \n",
    "         sql.driver d  /*из схемы sql и таблицы driver, задаём алиас таблице — d*/\n",
    "UNION ALL /*оператор присоединения*/\n",
    "SELECT\n",
    "         s.ship_id,  'id доставки' /*выбираем колонку ship_id, сами задаём объект 'id доставки'*/\n",
    "FROM \n",
    "         sql.shipment s /*из схемы sql и таблицы shipment, задаём алиас таблице — s*/\n",
    "UNION ALL /*оператор присоединения*/\n",
    "SELECT\n",
    "         c.cust_id,  'id клиента' /*выбираем колонку cust_id, сами задаём объект 'id клиента'*/\n",
    "FROM \n",
    "         sql.customer c /*из схемы sql и таблицы customer, задаём алиас таблице — c*/\n",
    "UNION ALL /*оператор присоединения*/\n",
    "SELECT\n",
    "         t.truck_id,  'id грузовика' /*выбираем колонку truck_id, сами задаём объект 'id грузовика'*/\n",
    "FROM \n",
    "         sql.truck t /*из схемы sql и таблицы truck, задаём алиас таблице — t*/\n",
    "ORDER BY 1 /*сортировка по первому столбцу*/\n",
    "```"
   ]
  },
  {
   "cell_type": "markdown",
   "metadata": {},
   "source": [
    "**Обратите внимание!** Несмотря на исходные названия колонок *other_name* и *other_type* во втором подзапросе, в выводе мы получим названия, которые дали в первом блоке: *object_name* и *object_type*.\n",
    "\n",
    "Другая особенность — в применении сортировки `ORDER BY`: она всегда будет относиться к итоговому результату всего запроса с `UNION ALL`."
   ]
  },
  {
   "cell_type": "markdown",
   "metadata": {},
   "source": [
    "В случаях, когда необходимо применить команду `ORDER BY` или `LIMIT` не к итоговому результату, а к каждой части запроса, можно обернуть подзапросы в скобки.\n",
    "\n",
    "Чтобы посмотреть, как это работает, вернёмся к нашему примеру с общим справочником по фильмам и книгам.\n",
    "\n",
    "Мы уже знаем, что можно легко и непринуждённо применить операторы `ORDER BY` и `LIMIT` ко всему результату запроса.\n",
    "\n",
    "\n",
    "```sql\n",
    "SELECT\n",
    "    book_name object_name,\n",
    "    'книга' object_descritption\n",
    "FROM\n",
    "    public.books\n",
    "UNION\n",
    "ALL\n",
    "SELECT\n",
    "    movie_title,\n",
    "    'фильм'\n",
    "FROM\n",
    "    sql.kinopoisk\n",
    "ORDER BY\n",
    "    1\n",
    "LIMIT\n",
    "    1\n",
    "```"
   ]
  },
  {
   "cell_type": "markdown",
   "metadata": {},
   "source": [
    "Всё бы хорошо, только в таком случае отсортирован будет весь общий справочник, а в выводе останется одна строка с названием объекта, идущим первым по алфавиту.\n",
    "\n",
    "А если мы не хотим общую сортировку? Может, нам нужны строки с названием как фильма, так и книги, идущих первыми по алфавиту.\n",
    "\n",
    "Нет ничего проще — отсортируем каждую часть запроса по отдельности и объединим результаты!\n",
    "\n",
    "Просто добавим ORDER BY и LIMIT ещё и в первую часть запроса:\n",
    "\n",
    "\n",
    "```sql\n",
    "SELECT\n",
    "    book_name object_name,\n",
    "    'книга' object_descritption\n",
    "FROM\n",
    "    public.books\n",
    "ORDER BY\n",
    "    1\n",
    "LIMIT\n",
    "    1\n",
    "UNION\n",
    "ALL\n",
    "SELECT\n",
    "    movie_title,\n",
    "    'фильм'\n",
    "FROM\n",
    "    sql.kinopoisk\n",
    "ORDER BY\n",
    "    1\n",
    "LIMIT\n",
    "    1\n",
    "```\n",
    "\n",
    "\n",
    "Вместо результата получим сообщение о синтаксической ошибке: *\"...syntax error at or near \"UNION\"...\"* Очевидно, этот фокус не удался."
   ]
  },
  {
   "cell_type": "markdown",
   "metadata": {},
   "source": [
    "Не стоит огорчаться, ведь проблему можно решить одним (ну, почти) движением руки — просто добавив скобки вокруг каждой из частей запроса.\n",
    "\n",
    "```sql\n",
    "(\n",
    "    SELECT\n",
    "        book_name object_name,\n",
    "        'книга' object_descritption\n",
    "    FROM\n",
    "        public.books\n",
    "    ORDER BY\n",
    "        1\n",
    "    LIMIT\n",
    "        1\n",
    ")\n",
    "UNION\n",
    "ALL (\n",
    "    SELECT\n",
    "        movie_title,\n",
    "        'фильм'\n",
    "    FROM\n",
    "        sql.kinopoisk\n",
    "    ORDER BY\n",
    "        1\n",
    "    LIMIT\n",
    "        1\n",
    ")\n",
    "```"
   ]
  },
  {
   "cell_type": "markdown",
   "metadata": {},
   "source": [
    "#### Задание 2.1"
   ]
  },
  {
   "cell_type": "markdown",
   "metadata": {},
   "source": [
    "> Напишите запрос, который создает уникальный алфавитный справочник всех городов, штатов, имён водителей и производителей грузовиков. Результатом запроса должны быть два столбца: название и тип объекта (`city`, `state`, `driver`, `truck`). Отсортируйте список по названию объекта, а затем — по типу.\n",
    "\n",
    "\n",
    "```sql\n",
    "SELECT\n",
    "    DISTINCT city.city_name AS object_name,\n",
    "    'city' AS object_type\n",
    "FROM\n",
    "    sql.city AS city\n",
    "UNION\n",
    "ALL\n",
    "SELECT\n",
    "    DISTINCT city.state,\n",
    "    'state'\n",
    "FROM\n",
    "    sql.city AS city\n",
    "UNION\n",
    "ALL\n",
    "SELECT\n",
    "    DISTINCT driver.first_name,\n",
    "    'driver'\n",
    "FROM\n",
    "    sql.driver AS driver\n",
    "UNION\n",
    "ALL\n",
    "SELECT\n",
    "    DISTINCT truck.make,\n",
    "    'truck'\n",
    "FROM\n",
    "    sql.truck AS truck\n",
    "ORDER BY\n",
    "    object_name,\n",
    "    object_type\n",
    "```\n",
    "\n",
    "**Ошибка в формулировке:** не уникальный справочник, а справочник уникальных значений из таблиц:"
   ]
  },
  {
   "cell_type": "markdown",
   "metadata": {},
   "source": [
    "**Эталонное решение**\n",
    "\n",
    "\n",
    "```sql\n",
    "SELECT\n",
    "    c.city_name \"название\",\n",
    "    'city' \"тип объекта\"\n",
    "FROM\n",
    "    sql.city c\n",
    "UNION\n",
    "SELECT\n",
    "    c.state,\n",
    "    'state'\n",
    "FROM\n",
    "    sql.city c\n",
    "UNION\n",
    "SELECT\n",
    "    d.first_name,\n",
    "    'driver'\n",
    "FROM\n",
    "    sql.driver d\n",
    "UNION\n",
    "SELECT\n",
    "    t.make,\n",
    "    'truck'\n",
    "FROM\n",
    "    sql.truck t\n",
    "ORDER BY\n",
    "    1,\n",
    "    2\n",
    "```"
   ]
  },
  {
   "cell_type": "markdown",
   "metadata": {},
   "source": [
    "#### Задание 2.2"
   ]
  },
  {
   "cell_type": "markdown",
   "metadata": {},
   "source": [
    "> Напишите запрос, который соберёт имена всех упомянутых городов и штатов из таблицы `city`. Результатом запроса должен быть один столбец `object_name`, отсортированный в алфавитном порядке.\n",
    "\n",
    "\n",
    "```sql\n",
    "SELECT\n",
    "    city_name AS object_name\n",
    "FROM\n",
    "    sql.city\n",
    "UNION\n",
    "ALL\n",
    "SELECT\n",
    "    state\n",
    "FROM\n",
    "    sql.city\n",
    "ORDER BY\n",
    "    object_name\n",
    "```"
   ]
  },
  {
   "cell_type": "markdown",
   "metadata": {},
   "source": [
    "#### Задание 2.3"
   ]
  },
  {
   "cell_type": "markdown",
   "metadata": {},
   "source": [
    "> Выполнив предыдущий запрос, мы получили города с одинаковыми названиями, но находящиеся в разных штатах, а также большое количество дублирующихся названий штатов. Перепишите предыдущий запрос так, чтобы остались только уникальные названия городов и штатов. Результатом запроса должен быть один столбец `object_name`, отсортированный в алфавитном порядке.\n",
    "\n",
    "\n",
    "```sql\n",
    "SELECT\n",
    "    DISTINCT cities_states.object_name\n",
    "FROM\n",
    "    (\n",
    "        SELECT\n",
    "            city_name AS object_name\n",
    "        FROM\n",
    "            sql.city\n",
    "        UNION\n",
    "        ALL\n",
    "        SELECT\n",
    "            state\n",
    "        FROM\n",
    "            sql.city\n",
    "        ORDER BY\n",
    "            object_name\n",
    "    ) AS cities_states\n",
    "```"
   ]
  },
  {
   "cell_type": "markdown",
   "metadata": {},
   "source": [
    "**!!Эталонное решение!!**\n",
    "\n",
    "\n",
    "```sql\n",
    "SELECT\n",
    "    c.city_name object_name\n",
    "FROM\n",
    "    sql.city c\n",
    "UNION\n",
    "SELECT\n",
    "    c.state\n",
    "FROM\n",
    "    sql.city c\n",
    "ORDER BY\n",
    "    1\n",
    "```"
   ]
  },
  {
   "cell_type": "markdown",
   "metadata": {},
   "source": [
    "### (3) UINION и ограничение типов данных\n",
    "---"
   ]
  },
  {
   "cell_type": "markdown",
   "metadata": {},
   "source": [
    "**Почему так важен тип данных?**\n",
    "\n",
    "Как мы уже знаем, `UNION` может быть использован только в случае полного соответствия столбцов и их типов в объединяемых запросах.\n",
    "\n",
    "Допустим, мы хотим вывести список всех `id` городов и их названий в одном столбце.\n",
    "\n",
    "Давайте напишем запрос, который позволит получить нужный нам результат.\n",
    "\n",
    "\n",
    "```sql\n",
    "SELECT\n",
    "    c.city_id\n",
    "FROM\n",
    "    sql.city c\n",
    "UNION\n",
    "ALL\n",
    "SELECT\n",
    "    cc.city_name\n",
    "FROM\n",
    "    sql.city cc\n",
    "```\n",
    "\n",
    "Вместо результата вы получите сообщение об ошибке: *\"ERROR: UNION types integer and text cannot be matched\"*. Дело в том, что мы попытались объединить числовой и \n",
    "строковый типы в одной колонке, а это невозможно.\n",
    "\n",
    "Если мы всё же хотим выполнить поставленную задачу, придётся привести оба столбца к одному типу данных. Не каждый текст может быть приведён к числу, зато каждое число может быть представлено в текстовом формате.\n",
    "\n",
    "Забегая вперёд, скажем пару слов о типизации столбцов. Для типизации в `Postgres` составляется запрос по модели `column_name::column_type`.\n",
    "\n",
    "Таким образом, чтобы перевести `city_id` в текст, нам потребуется написать `city_id::text`.\n",
    "\n",
    "**Важно!** Любой тип данных может быть приведён к текстовому формату — эту возможность целесообразно использовать для соединения разнородных сущностей. Главное — помнить, что сортировка текста отличается от сортировки чисел и дат.\n"
   ]
  },
  {
   "cell_type": "markdown",
   "metadata": {},
   "source": [
    "Немного подправим запрос, чтобы получить желаемый результат.\n",
    "\n",
    "\n",
    "```sql\n",
    "SELECT\n",
    "    c.city_id :: text\n",
    "FROM\n",
    "    sql.city c\n",
    "UNION\n",
    "ALL\n",
    "SELECT\n",
    "    cc.city_name\n",
    "FROM\n",
    "    sql.city cc\n",
    "```"
   ]
  },
  {
   "cell_type": "markdown",
   "metadata": {},
   "source": [
    "#### Задание 3.1"
   ]
  },
  {
   "cell_type": "markdown",
   "metadata": {
    "vscode": {
     "languageId": "sql"
    }
   },
   "source": [
    "> Напишите запрос, который объединит в себе все почтовые индексы водителей и их телефоны в единый столбец-справочник `contact`. Также добавьте столбец с именем водителя `first_name` и столбец `contact_type` с типом контакта (`phone` или `zip` в зависимости от типа). Отсортируйте список по столбцу с контактными данными в порядке возрастания, а затем — по имени водителя.\n",
    "\n",
    "\n",
    "```sql\n",
    "SELECT\n",
    "    phone AS contact,\n",
    "    first_name,\n",
    "    'phone' AS contact_type\n",
    "FROM\n",
    "    sql.driver\n",
    "UNION\n",
    "ALL\n",
    "SELECT\n",
    "    zip_code :: text,\n",
    "    first_name,\n",
    "    'zip'\n",
    "FROM\n",
    "    sql.driver\n",
    "ORDER BY\n",
    "    contact,\n",
    "    first_name\n",
    "```"
   ]
  },
  {
   "cell_type": "markdown",
   "metadata": {},
   "source": [
    "**Эталонное решение**\n",
    "\n",
    "\n",
    "```sql\n",
    "SELECT\n",
    "    d.zip_code :: text contact,\n",
    "    d.first_name first_name,\n",
    "    'zip' contact_type\n",
    "FROM\n",
    "    sql.driver d\n",
    "UNION\n",
    "SELECT\n",
    "    dd.phone contact,\n",
    "    dd.first_name first_name,\n",
    "    'phone' contact_type\n",
    "FROM\n",
    "    sql.driver dd\n",
    "ORDER BY\n",
    "    1,\n",
    "    2\n",
    "```"
   ]
  },
  {
   "cell_type": "markdown",
   "metadata": {},
   "source": [
    "### (4) UNION ALL и промежуточные итоги\n",
    "---"
   ]
  },
  {
   "cell_type": "markdown",
   "metadata": {},
   "source": [
    "**Возможности UNION**\n",
    "\n",
    "Помимо соединения разнородных сущностей в единый справочник, `UNION ALL` часто используется для подведения промежуточных итогов и выведения результатов агрегатных функций.\n",
    "\n",
    "Кроме агрегатных функций, в запросах с `UNION` могут использоваться функции группировки и выборки.\n",
    "\n",
    "\n",
    "```sql\n",
    "SELECT\n",
    "    c.city_name,\n",
    "    c.population\n",
    "FROM\n",
    "    sql.city c\n",
    "UNION\n",
    "ALL\n",
    "SELECT\n",
    "    'total',\n",
    "    SUM(c.population)\n",
    "FROM\n",
    "    sql.city c\n",
    "ORDER BY\n",
    "    2 DESC\n",
    "```"
   ]
  },
  {
   "cell_type": "markdown",
   "metadata": {},
   "source": [
    "Визуально это действие можно представить так:\n",
    "\n",
    "![](data/dst3-u2-md4_4_1.png)\n",
    "\n",
    "Выполнив запрос в Metabase, вы заметите, что сначала выведен итоговый результат с суммой населения всех городов в таблице, а затем по каждому городу в отдельности."
   ]
  },
  {
   "cell_type": "markdown",
   "metadata": {},
   "source": [
    "#### Задание 4.1"
   ]
  },
  {
   "cell_type": "markdown",
   "metadata": {},
   "source": [
    "> Напишите запрос, который выводит общее число доставок `total_shipments`, а также количество доставок в каждый день. Необходимые столбцы: `date_period`, `cnt_shipment`. Не забывайте о единой типизации. Упорядочите по убыванию столбца `date_period`.\n",
    "\n",
    "\n",
    "```sql\n",
    "SELECT\n",
    "    dates_cnt.date_period :: text,\n",
    "    dates_cnt.cnt_shipment\n",
    "FROM\n",
    "    (\n",
    "        SELECT\n",
    "            ship_date AS date_period,\n",
    "            COUNT(ship_id) AS cnt_shipment\n",
    "        FROM\n",
    "            sql.shipment\n",
    "        GROUP BY\n",
    "            ship_date\n",
    "        ORDER BY\n",
    "            date_period DESC\n",
    "    ) AS dates_cnt\n",
    "UNION\n",
    "ALL\n",
    "SELECT\n",
    "    'total',\n",
    "    COUNT(ship_id)\n",
    "FROM\n",
    "    sql.shipment\n",
    "```"
   ]
  },
  {
   "cell_type": "markdown",
   "metadata": {},
   "source": [
    "**Эталонное решение**\n",
    "\n",
    "```sql\n",
    "SELECT\n",
    "    s.ship_date :: text date_period,\n",
    "    COUNT(*) cnt_shipment\n",
    "FROM\n",
    "    sql.shipment s\n",
    "GROUP BY\n",
    "    1\n",
    "UNION\n",
    "ALL\n",
    "SELECT\n",
    "    'total_shipments',\n",
    "    COUNT(*)\n",
    "FROM\n",
    "    sql.shipment s\n",
    "ORDER BY\n",
    "    1 desc\n",
    "```"
   ]
  },
  {
   "cell_type": "markdown",
   "metadata": {},
   "source": [
    "### (5) UNION и дополнительные условия\n",
    "---"
   ]
  },
  {
   "cell_type": "markdown",
   "metadata": {},
   "source": [
    "`UNION` также может быть использован для разделения существующей выборки по критерию «выполнение определённого условия».\n",
    "\n",
    "Например, с помощью `UNION` можно отобразить, у кого из водителей заполнен столбец с номером телефона.\n",
    "\n",
    "\n",
    "```sql\n",
    "SELECT\n",
    "    d.first_name,\n",
    "    d.last_name,\n",
    "    'телефон заполнен' phone_info\n",
    "FROM\n",
    "    sql.driver d\n",
    "WHERE\n",
    "    d.phone IS NOT NULL\n",
    "UNION\n",
    "SELECT\n",
    "    d.first_name,\n",
    "    d.last_name,\n",
    "    'телефон не заполнен' phone_info\n",
    "FROM\n",
    "    sql.driver d\n",
    "WHERE\n",
    "    d.phone IS NULL\n",
    "```"
   ]
  },
  {
   "cell_type": "markdown",
   "metadata": {},
   "source": [
    "#### Задание 5.1"
   ]
  },
  {
   "cell_type": "markdown",
   "metadata": {},
   "source": [
    "> Напишите запрос, который выведет все города и штаты, в которых они расположены, а также информацию о том, была ли осуществлена доставка в этот город:\n",
    ">\n",
    "> * если в город была осуществлена доставка, то выводим 'доставка осуществлялась';\n",
    "> * если нет — выводим 'доставка не осуществлялась'.\n",
    ">\n",
    "> Столбцы к выводу: `city_name`, `state`, `shipping_status`. Отсортируйте в алфавитном порядке по городу, а затем — по штату."
   ]
  },
  {
   "cell_type": "markdown",
   "metadata": {},
   "source": [
    "**Решение 1** (переусложненный)\n",
    "\n",
    "\n",
    "```sql\n",
    "SELECT\n",
    "    shipment_not_completed.city_name,\n",
    "    shipment_not_completed.state,\n",
    "    'доставка не осуществлялась' AS shipment_info\n",
    "FROM\n",
    "    (\n",
    "        SELECT\n",
    "            city.city_name,\n",
    "            city.state,\n",
    "            shipment.ship_id\n",
    "        FROM\n",
    "            sql.city AS city\n",
    "            LEFT JOIN sql.shipment AS shipment ON city.city_id = shipment.city_id\n",
    "        GROUP BY\n",
    "            city.city_id,\n",
    "            shipment.ship_id\n",
    "        HAVING\n",
    "            shipment.ship_id IS NULL\n",
    "    ) AS shipment_not_completed\n",
    "UNION\n",
    "ALL\n",
    "SELECT\n",
    "    city.city_name,\n",
    "    city.state,\n",
    "    'доставка осуществлялась'\n",
    "FROM\n",
    "    sql.city AS city\n",
    "    JOIN sql.shipment AS shipment ON city.city_id = shipment.city_id\n",
    "GROUP BY\n",
    "    city.city_id\n",
    "ORDER BY\n",
    "    city_name,\n",
    "    state\n",
    "```"
   ]
  },
  {
   "cell_type": "markdown",
   "metadata": {},
   "source": [
    "**Эталонное решение**\n",
    "\n",
    "\n",
    "```sql\n",
    "SELECT\n",
    "    c.city_name AS city_name,\n",
    "    c.state AS state,\n",
    "    'доставка осуществлялась' AS shipping_status\n",
    "FROM\n",
    "    sql.city c\n",
    "    LEFT JOIN sql.shipment s ON c.city_id = s.city_id\n",
    "WHERE\n",
    "    s.city_id IS NOT NULL\n",
    "UNION\n",
    "SELECT\n",
    "    c.city_name AS city_name,\n",
    "    c.state AS state,\n",
    "    'доставка не осуществлялась' AS shipping_status\n",
    "FROM\n",
    "    sql.city c\n",
    "    LEFT JOIN sql.shipment s ON c.city_id = s.city_id\n",
    "WHERE\n",
    "    s.city_id IS NULL\n",
    "ORDER BY\n",
    "    1,\n",
    "    2\n",
    "```"
   ]
  },
  {
   "cell_type": "markdown",
   "metadata": {},
   "source": [
    "**Решение 2** (оптимизированный эталон)\n",
    "\n",
    "```sql\n",
    "SELECT\n",
    "    city.city_name AS city_name,\n",
    "    city.state AS state,\n",
    "    'доставка осуществлялась' AS shipping_status\n",
    "FROM\n",
    "    sql.city AS city\n",
    "    JOIN sql.shipment AS shipment ON city.city_id = shipment.city_id\n",
    "UNION\n",
    "SELECT\n",
    "    city.city_name,\n",
    "    city.state,\n",
    "    'доставка не осуществлялась' AS shipping_status\n",
    "FROM\n",
    "    sql.city AS city\n",
    "    LEFT JOIN sql.shipment AS shipment ON city.city_id = shipment.city_id\n",
    "WHERE\n",
    "    shipment.city_id IS NULL\n",
    "ORDER BY\n",
    "    city_name,\n",
    "    state\n",
    "```\n"
   ]
  },
  {
   "cell_type": "markdown",
   "metadata": {},
   "source": [
    "**Решение 3** (вариант 1 исправленный)\n",
    "\n",
    "```sql\n",
    "SELECT\n",
    "    city.city_name,\n",
    "    city.state,\n",
    "    'доставка не осуществлялась' AS shipment_info\n",
    "FROM\n",
    "    sql.city AS city\n",
    "    LEFT JOIN sql.shipment AS shipment ON city.city_id = shipment.city_id\n",
    "WHERE\n",
    "    shipment.ship_id IS NULL\n",
    "UNION\n",
    "ALL\n",
    "SELECT\n",
    "    city.city_name,\n",
    "    city.state,\n",
    "    'доставка осуществлялась'\n",
    "FROM\n",
    "    sql.city AS city\n",
    "    JOIN sql.shipment AS shipment ON city.city_id = shipment.city_id\n",
    "GROUP BY\n",
    "    city.city_id\n",
    "ORDER BY\n",
    "    city_name,\n",
    "    state\n",
    "```"
   ]
  },
  {
   "cell_type": "markdown",
   "metadata": {},
   "source": [
    "#### Задание 5.2"
   ]
  },
  {
   "cell_type": "markdown",
   "metadata": {},
   "source": [
    "> Напишите запрос, который выводит два столбца: `city_name` и `shippings_fake`. Выведите города, куда совершались доставки. Пусть первый столбец содержит название города, а второй формируется так:\n",
    "> \n",
    "> * если в городе было более десяти доставок, вывести количество доставок в этот город как есть;\n",
    "> * иначе — вывести количество доставок, увеличенное на пять.\n",
    ">\n",
    "> Отсортируйте по убыванию получившегося «нечестного» количества доставок, а затем — по имени в алфавитном порядке."
   ]
  },
  {
   "cell_type": "markdown",
   "metadata": {},
   "source": [
    "**Решение** (моё решение совпадает с эталонным)\n",
    "\n",
    "```sql\n",
    "SELECT\n",
    "    city.city_name,\n",
    "    COUNT(shipment.ship_id) AS shippings_fake\n",
    "FROM\n",
    "    sql.city AS city\n",
    "    JOIN sql.shipment AS shipment ON city.city_id = shipment.city_id\n",
    "GROUP BY\n",
    "    city.city_id\n",
    "HAVING\n",
    "    COUNT(shipment.ship_id) > 10\n",
    "UNION\n",
    "ALL\n",
    "SELECT\n",
    "    city.city_name,\n",
    "    COUNT(shipment.ship_id) + 5 AS shippings_fake\n",
    "FROM\n",
    "    sql.city AS city\n",
    "    JOIN sql.shipment AS shipment ON city.city_id = shipment.city_id\n",
    "GROUP BY\n",
    "    city.city_id\n",
    "HAVING\n",
    "    COUNT(shipment.ship_id) <= 10\n",
    "ORDER BY\n",
    "    shippings_fake DESC,\n",
    "    city_name\n",
    "```"
   ]
  },
  {
   "cell_type": "markdown",
   "metadata": {},
   "source": [
    "### (6) UNION и ручная генерация\n",
    "---"
   ]
  },
  {
   "cell_type": "markdown",
   "metadata": {},
   "source": [
    "`UNION` можно использовать для создания справочников прямо в коде запроса. К примеру, если мы хотим вручную ввести какие-то значения и произвести с ними некоторые манипуляции или дополнить существующую выдачу своими значениями."
   ]
  },
  {
   "cell_type": "markdown",
   "metadata": {},
   "source": [
    "Составим запрос, который позволит вывести первые три буквы алфавита и их порядковые номера.\n",
    "\n",
    "\n",
    "```sql\n",
    "SELECT\n",
    "    'a' letter,\n",
    "    '1' ordinal_position\n",
    "UNION\n",
    "SELECT\n",
    "    'b',\n",
    "    '2'\n",
    "UNION\n",
    "SELECT\n",
    "    'c',\n",
    "    '3'\n",
    "```"
   ]
  },
  {
   "cell_type": "markdown",
   "metadata": {},
   "source": [
    "Существуют сложные алгоритмы сравнения текстовых значений, но главный смысл сводится к одному: сравнение производится на основе таблицы `unicode` и позиции элемента в ней с учётом определённых условий."
   ]
  },
  {
   "cell_type": "markdown",
   "metadata": {},
   "source": [
    "#### Задание 6.1"
   ]
  },
  {
   "cell_type": "markdown",
   "metadata": {},
   "source": [
    "> Напишите запрос, который выберет наибольшее из значений:\n",
    "> \n",
    "> * 1000000;\n",
    "> * 541;\n",
    "> * -500;\n",
    "> * 100.\n",
    "> \n",
    "> Столбец с результатом назовите `result`."
   ]
  },
  {
   "cell_type": "markdown",
   "metadata": {},
   "source": [
    "**Решение**\n",
    "\n",
    "\n",
    "```sql\n",
    "SELECT\n",
    "    1000000 AS result\n",
    "UNION\n",
    "ALL\n",
    "SELECT\n",
    "    541\n",
    "UNION\n",
    "ALL\n",
    "SELECT\n",
    "    -500\n",
    "UNION\n",
    "ALL\n",
    "SELECT\n",
    "    100\n",
    "ORDER BY\n",
    "    result DESC\n",
    "LIMIT\n",
    "    1\n",
    "```"
   ]
  },
  {
   "cell_type": "markdown",
   "metadata": {},
   "source": [
    "#### Задание 6.2"
   ]
  },
  {
   "cell_type": "markdown",
   "metadata": {},
   "source": [
    ">\n",
    "> Помним, что сортировка для числовых и строковых типов данных отличается. Построив запрос по аналогии с примером, приведите значения к текстовому типу данных, сравните и выберите наибольшее из них:\n",
    "> \n",
    "> * 1000000;\n",
    "> * 541;\n",
    "> * -500;\n",
    "> * 100.\n",
    "> \n",
    "> Столбец с ответом назовите `mycol`\n",
    ">"
   ]
  },
  {
   "cell_type": "markdown",
   "metadata": {},
   "source": [
    "**Решение**\n",
    "\n",
    "\n",
    "```sql\n",
    "SELECT\n",
    "    '1000000' AS val\n",
    "UNION    \n",
    "SELECT\n",
    "    '541'\n",
    "UNION    \n",
    "SELECT\n",
    "    '-500'\n",
    "UNION    \n",
    "SELECT\n",
    "    '100'\n",
    "ORDER BY\n",
    "    val DESC\n",
    "LIMIT\n",
    "    1\n",
    "```"
   ]
  },
  {
   "cell_type": "markdown",
   "metadata": {},
   "source": [
    "**Эталонное решение**\n",
    "\n",
    "\n",
    "```sql\n",
    "SELECT\n",
    "    '1000000' as mycol\n",
    "UNION\n",
    "ALL\n",
    "SELECT\n",
    "    '541'\n",
    "UNION\n",
    "ALL\n",
    "SELECT\n",
    "    '-500'\n",
    "UNION\n",
    "ALL\n",
    "SELECT\n",
    "    '100'\n",
    "ORDER BY\n",
    "    1 DESC\n",
    "LIMIT\n",
    "    1\n",
    "```"
   ]
  },
  {
   "cell_type": "markdown",
   "metadata": {},
   "source": [
    "#### Задание 6.3"
   ]
  },
  {
   "cell_type": "markdown",
   "metadata": {},
   "source": [
    "> Построив запрос по аналогии с примером, найдите самое большое значение из перечисленных операторов:\n",
    "> \n",
    "> * `+` ;\n",
    "> * `-` ;\n",
    "> * `=` ;\n",
    "> * `/` .\n",
    "> \n",
    "> Столбец с ответом назовите `result`."
   ]
  },
  {
   "cell_type": "markdown",
   "metadata": {},
   "source": [
    "**Решение**\n",
    "\n",
    "\n",
    "```sql\n",
    "SELECT\n",
    "    '+' AS result\n",
    "UNION\n",
    "ALL\n",
    "SELECT\n",
    "    '-'\n",
    "UNION\n",
    "ALL\n",
    "SELECT\n",
    "    '='\n",
    "UNION\n",
    "ALL\n",
    "SELECT\n",
    "    '/'\n",
    "ORDER BY\n",
    "    result DESC\n",
    "LIMIT\n",
    "    1\n",
    "```"
   ]
  }
 ],
 "metadata": {
  "kernelspec": {
   "display_name": "Python 3",
   "language": "python",
   "name": "python3"
  },
  "language_info": {
   "codemirror_mode": {
    "name": "ipython",
    "version": 3
   },
   "file_extension": ".py",
   "mimetype": "text/x-python",
   "name": "python",
   "nbconvert_exporter": "python",
   "pygments_lexer": "ipython3",
   "version": "3.10.12"
  },
  "orig_nbformat": 4
 },
 "nbformat": 4,
 "nbformat_minor": 2
}
