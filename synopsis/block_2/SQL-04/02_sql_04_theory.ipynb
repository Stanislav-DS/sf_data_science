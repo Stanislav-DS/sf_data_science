{
 "cells": [
  {
   "cell_type": "markdown",
   "metadata": {},
   "source": [
    "# Сложные объединения\n",
    "---"
   ]
  },
  {
   "cell_type": "markdown",
   "metadata": {},
   "source": [
    "Вы уже умеете присоединять строки друг к другу путём добавления столбцов «сбоку» — с помощью различных видов `JOIN`.\n",
    "\n",
    "А что если нам необходимо присоединить несколько результатов «снизу», так, чтобы получить общий результат в выводе?\n",
    "\n",
    "Ответу на этот вопрос и посвящён текущий модуль."
   ]
  },
  {
   "cell_type": "markdown",
   "metadata": {},
   "source": [
    "## (1) Знакомство с данными\n",
    "---"
   ]
  },
  {
   "cell_type": "markdown",
   "metadata": {},
   "source": [
    "В данном блоке мы будем работать с данными о компании, организующей перевозки грузов.\n",
    "\n",
    "Интересующие нас данные хранятся в таблицах `city`, `customer`, `driver`, `shipment`, `truck`. Давайте внимательно их изучим.\n",
    "\n",
    "Ниже представлена *ER*-диаграмма (от англ. *entity-relation*, дословно — «сущность-связь»), которая отображает существующие связи между отдельными таблицами.\n",
    "\n",
    "![](data/dst3-u2-md4_1_1.jpg)"
   ]
  },
  {
   "cell_type": "markdown",
   "metadata": {},
   "source": [
    "Таблица `city` — это справочник городов. Структура справочника представлена ниже.\n",
    "\n",
    "| НАЗВАНИЕ ПОЛЯ | ТИП ДАННЫХ |                    ОПИСАНИЕ                     |\n",
    "|:-------------:|:----------:|:-----------------------------------------------:|\n",
    "|    city_id    |  integer   | уникальный идентификатор города, первичный ключ |\n",
    "|   city_name   |    text    |                 название города                 |\n",
    "|     state     |    text    |        штат, к которому относится город         |\n",
    "|  population   |  integer   |                население города                 |\n",
    "|     area      |  numeric   |                 площадь города                  |"
   ]
  },
  {
   "cell_type": "markdown",
   "metadata": {},
   "source": [
    "Таблица `customer` — это справочник клиентов. У компании, с данными которой мы работаем, только корпоративные клиенты, поэтому в таблице нет привычных данных о возрасте и поле. Справочник содержит следующие поля:\n",
    "\n",
    "| НАЗВАНИЕ ПОЛЯ  | ТИП ДАННЫХ |                     ОПИСАНИЕ                      |\n",
    "|:--------------:|:----------:|:-------------------------------------------------:|\n",
    "|    cust_id     |  integer   | уникальный идентификатор клиента, первичный ключ  |\n",
    "|   cust_name    |    text    |                 название клиента                  |\n",
    "| annual_revenue |  numeric   |                 ежегодная выручка                 |\n",
    "|   cust_type    |    text    |                 тип пользователя                  |\n",
    "|    address     |    text    |                       адрес                       |\n",
    "|      zip       |  integer   |                  почтовый индекс                  |\n",
    "|     phone      |    text    |                      телефон                      |\n",
    "|    city_id     |  integer   | идентификатор города, внешний ключ к таблице city |"
   ]
  },
  {
   "cell_type": "markdown",
   "metadata": {},
   "source": [
    "Следующая таблица — `driver` — справочник водителей. Перечень сведений, содержащихся в таблице, представлен ниже.\n",
    "\n",
    "| НАЗВАНИЕ ПОЛЯ | ТИП ДАННЫХ |                          ОПИСАНИЕ                          |\n",
    "|:-------------:|:----------:|:----------------------------------------------------------:|\n",
    "|   driver_id   |  integer   |     уникальный идентификатор водителя, первичный ключ      |\n",
    "|  first_name   |    text    |                        имя водителя                        |\n",
    "|   last_name   |    text    |                      фамилия водителя                      |\n",
    "|    address    |    text    |                       адрес водителя                       |\n",
    "|   zip_code    |  integer   |                  почтовый индекс водителя                  |\n",
    "|     phone     |    text    |                      телефон водителя                      |\n",
    "|    city_id    |  integer   | идентификатор города водителя, внешний ключ к таблице city |"
   ]
  },
  {
   "cell_type": "markdown",
   "metadata": {},
   "source": [
    "В таблице `truck` хранится информация о грузовиках, на которых осуществляются перевозки. Данные о них представлены в следующем виде:\n",
    "\n",
    "| НАЗВАНИЕ ПОЛЯ | ТИП ДАННЫХ |                      ОПИСАНИЕ                      |\n",
    "|:-------------:|:----------:|:--------------------------------------------------:|\n",
    "|   truck_id    |  integer   | Уникальный идентификатор грузовика, первичный ключ |\n",
    "|     make      |    text    |              Производитель грузовика               |\n",
    "|  model_year   |  integer   |               Дата выпуска грузовика               |"
   ]
  },
  {
   "cell_type": "markdown",
   "metadata": {},
   "source": [
    "Последняя таблица в датасете, `shipment`, — таблица с данными непосредственно о доставках. Она описывает взаимодействие всех перечисленных сущностей, а потому содержит наибольшее количество ссылок на другие таблицы.\n",
    "\n",
    "| НАЗВАНИЕ ПОЛЯ | ТИП ДАННЫХ |                                       ОПИСАНИЕ                                        |\n",
    "|:-------------:|:----------:|:-------------------------------------------------------------------------------------:|\n",
    "|    ship_id    |  integer   |                   уникальный идентификатор доставки, первичный ключ                   |\n",
    "|    cust_id    |  integer   | идентификатор клиента, которому отправлена доставка, внешний ключ к таблице customer  |\n",
    "|    weight     |  numeric   |                                      вес посылки                                      |\n",
    "|   truck_id    |  integer   | идентификатор грузовика, на котором отправлена доставка, внешний ключ к таблице truck |\n",
    "|   driver_id   |  integer   |  идентификатор водителя, который осуществлял доставку, внешний ключ к таблице driver  |\n",
    "|    city_id    |  integer   |    идентификатор города в который совершена доставка, внешний ключ к таблице city     |\n",
    "|   ship_date   |    date    |                                     дата доставки                                     |"
   ]
  },
  {
   "cell_type": "markdown",
   "metadata": {},
   "source": [
    "### Задание 1.1"
   ]
  },
  {
   "cell_type": "markdown",
   "metadata": {},
   "source": [
    "> Укажите название города с максимальным весом единичной доставки.\n",
    "\n",
    "\n",
    "```sql\n",
    "   SELECT city.city_name\n",
    "     FROM SQL.shipment AS shipment\n",
    "     JOIN SQL.city AS city ON shipment.city_id = city.city_id\n",
    " GROUP BY city.city_id,\n",
    "          shipment.weight\n",
    " ORDER BY shipment.weight DESC\n",
    "    LIMIT 1\n",
    "```\n",
    "\n",
    "Вариант после повторения\n",
    "\n",
    "\n",
    "```sql\n",
    "   SELECT city.city_name\n",
    "     FROM SQL.shipment AS shipment\n",
    "     JOIN SQL.city AS city ON shipment.city_id = city.city_id\n",
    " ORDER BY shipment.weight DESC\n",
    "    LIMIT 1\n",
    "```\n",
    "\n",
    "**Ответ:** Green Bay\n",
    "\n"
   ]
  },
  {
   "cell_type": "markdown",
   "metadata": {},
   "source": [
    "> Сколько различных производителей грузовиков перечислено в таблице `truck`?\n",
    "\n",
    "\n",
    "```SQL\n",
    "   SELECT COUNT(DISTINCT truck.make)\n",
    "     FROM SQL.truck AS truck\n",
    "```\n",
    "\n",
    "**Ответ:** 3"
   ]
  },
  {
   "cell_type": "markdown",
   "metadata": {},
   "source": [
    "> Как зовут водителя (`first_name`), который совершил наибольшее количество доставок одному клиенту?\n",
    "\n",
    "\n",
    "```sql\n",
    "   SELECT concat (driver.first_name, ' ', driver.last_name)\n",
    "     FROM SQL.shipment AS shipment\n",
    "     JOIN SQL.driver AS driver ON shipment.driver_id = driver.driver_id\n",
    " GROUP BY shipment.cust_id,\n",
    "          shipment.driver_id,\n",
    "          driver.first_name,\n",
    "          driver.last_name\n",
    " ORDER BY COUNT(shipment.driver_id) DESC\n",
    "    LIMIT 1\n",
    "```\n",
    "\n",
    "**Ответ:** Holger (Nohr)"
   ]
  },
  {
   "cell_type": "markdown",
   "metadata": {},
   "source": [
    "> Укажите даты первой и последней по времени доставок в таблице `shipment`.\n",
    ">\n",
    "> Ответ введите в формате ДД.ММ.ГГГГ.\n",
    "\n",
    "\n",
    "```sql\n",
    "   SELECT shipment.ship_date\n",
    "     FROM SQL.shipment AS shipment\n",
    " ORDER BY shipment.ship_date ASC\n",
    "    LIMIT 1\n",
    "```\n",
    "\n",
    "Вариант после повторения\n",
    "\n",
    "```sql\n",
    "   SELECT concat (\n",
    "          to_char (MIN(shipment.ship_date), 'DD.MM.YYYY'),\n",
    "          ' ',\n",
    "          to_char (MAX(shipment.ship_date), 'DD.MM.YYYY')\n",
    "          ) AS shipments_period\n",
    "     FROM SQL.shipment AS shipment\n",
    "```\n",
    "\n",
    "Ответ: 08.01.2016 27.12.2017"
   ]
  },
  {
   "cell_type": "markdown",
   "metadata": {},
   "source": [
    "> Укажите имя клиента, получившего наибольшее количество доставок за 2017 год.\n",
    "\n",
    "\n",
    "```sql\n",
    "   SELECT customer.cust_name\n",
    "     FROM SQL.shipment AS shipment\n",
    "     JOIN SQL.customer AS customer ON shipment.cust_id = customer.cust_id\n",
    " GROUP BY shipment.cust_id,\n",
    "          customer.cust_name\n",
    " ORDER BY COUNT(shipment.cust_id) DESC\n",
    "    LIMIT 1\n",
    "```\n",
    "\n",
    "**Ответ:** Autoware In"
   ]
  },
  {
   "cell_type": "markdown",
   "metadata": {},
   "source": [
    "## (2-6) UNION\n",
    "\n",
    "---"
   ]
  },
  {
   "cell_type": "markdown",
   "metadata": {},
   "source": [
    "Вернёмся к центральному вопросу модуля: как соединить несколько результатов, чтобы получить в выводе один общий?"
   ]
  },
  {
   "cell_type": "markdown",
   "metadata": {},
   "source": [
    "### (2) UNION. Принцип и условия работы.\n",
    "---"
   ]
  },
  {
   "cell_type": "markdown",
   "metadata": {},
   "source": [
    "Чтобы разобраться в этом вопросе, смоделируем ситуацию.\n",
    "\n",
    "Допустим, мы хотим собрать из справочников по книгам и фильмам один, так чтобы в нём содержались названия произведений, а также их описание — книга или фильм.\n",
    "\n",
    "Для этого напишем простой запрос:\n",
    "\n",
    "\n",
    "```sql\n",
    "   SELECT book_name object_name,\n",
    "          'книга' object_description\n",
    "     FROM public.books\n",
    "UNION ALL\n",
    "   SELECT movie_title,\n",
    "          'фильм'\n",
    "     FROM SQL.kinopoisk\n",
    "```\n",
    "\n",
    "Визуально произведённое нами действие можно представить следующим образом:\n",
    "\n",
    "![](data/dst3-u2-md4_2_1.png)"
   ]
  },
  {
   "cell_type": "markdown",
   "metadata": {},
   "source": [
    "Общий принцип мы поняли, разберёмся в деталях:\n",
    "\n",
    "В запросе мы использовали оператор UNION ALL — он присоединяет любой результат запроса к другому «снизу» при условии, что у них **одинаковая структура**, а именно:\n",
    "\n",
    "* одинаковый тип данных;\n",
    "\n",
    "    ![](data/dst3-u2-md4_2_2.png)\n",
    "\n",
    "* одинаковое количество столбцов;\n",
    "\n",
    "    ![](data/dst3-u2-md4_2_3.png)\n",
    "\n",
    "* одинаковый порядок столбцов согласно типу данных.\n",
    "\n",
    "    ![](data/dst3-u2-md4_2_4.png)"
   ]
  },
  {
   "cell_type": "markdown",
   "metadata": {},
   "source": [
    "**Виды `UNION`**\n",
    "\n",
    "Оператор присоединения существует в двух вариантах:\n",
    "\n",
    "* `UNION` выводит только уникальные записи;\n",
    "* `UNION ALL` присоединяет все строки последующих таблиц к предыдущим, без ограничений по уникальности.\n",
    "\n",
    "**Важно!** `UNION` оставляет только уникальные значения, а потому требует дополнительных вычислительных мощностей и памяти (в данном случае можно провести аналогию с `DISTINCT`). Поэтому если вы уверены в отсутствии дубликатов в данных или они вам не важны, предпочтительнее использовать `UNION ALL`.\n"
   ]
  },
  {
   "cell_type": "markdown",
   "metadata": {},
   "source": [
    "**Синтаксис**\n",
    "\n",
    "\n",
    "```SQL\n",
    "   SELECT n columns\n",
    "     FROM table_1\n",
    "UNION ALL\n",
    "   SELECT n columns\n",
    "     FROM table_2 -- ... \n",
    "UNION ALL\n",
    "   SELECT n columns\n",
    "     FROM table_n\n",
    "```"
   ]
  },
  {
   "cell_type": "markdown",
   "metadata": {},
   "source": [
    "Пришла пора испытать функцию `UNION ALL`  на практике.\n",
    "\n",
    "Обратимся к нашему датасету о транспортной компании и посмотрим, как сформировать справочник с ID всех таблиц и указанием объекта, к которому он относится.\n",
    "\n",
    "\n",
    "```sql\n",
    "   SELECT c.city_id object_name,\n",
    "          'id города' object_type /*выбираем колонку city_id и задаём ей алиас object_name, сами задаём объект 'id города' и название столбца object_type*/\n",
    "     FROM SQL.city c /*из схемы sql и таблицы city, задаём алиас таблице — с*/\n",
    "UNION ALL\n",
    "/*оператор присоединения*/\n",
    "   SELECT d.driver_id other_name,\n",
    "          'id водителя' other_type /*выбираем колонку driver_id и задаём ей алиас other_name, сами задаём объект 'id водителя' и название столбца other_type*/\n",
    "     FROM SQL.driver d /*из схемы sql и таблицы driver, задаём алиас таблице — d*/\n",
    "UNION ALL\n",
    "/*оператор присоединения*/\n",
    "   SELECT s.ship_id,\n",
    "          'id доставки' /*выбираем колонку ship_id, сами задаём объект 'id доставки'*/\n",
    "     FROM SQL.shipment s /*из схемы sql и таблицы shipment, задаём алиас таблице — s*/\n",
    "UNION ALL\n",
    "/*оператор присоединения*/\n",
    "   SELECT c.cust_id,\n",
    "          'id клиента' /*выбираем колонку cust_id, сами задаём объект 'id клиента'*/\n",
    "     FROM SQL.customer c /*из схемы sql и таблицы customer, задаём алиас таблице — c*/\n",
    "UNION ALL\n",
    "/*оператор присоединения*/\n",
    "   SELECT t.truck_id,\n",
    "          'id грузовика' /*выбираем колонку truck_id, сами задаём объект 'id грузовика'*/\n",
    "     FROM SQL.truck t /*из схемы sql и таблицы truck, задаём алиас таблице — t*/\n",
    " ORDER BY 1 /*сортировка по первому столбцу*/\n",
    "```"
   ]
  },
  {
   "cell_type": "markdown",
   "metadata": {},
   "source": [
    "**Обратите внимание!** Несмотря на исходные названия колонок *other_name* и *other_type* во втором подзапросе, в выводе мы получим названия, которые дали в первом блоке: *object_name* и *object_type*.\n",
    "\n",
    "Другая особенность — в применении сортировки `ORDER BY`: она всегда будет относиться к итоговому результату всего запроса с `UNION ALL`."
   ]
  },
  {
   "cell_type": "markdown",
   "metadata": {},
   "source": [
    "В случаях, когда необходимо применить команду `ORDER BY` или `LIMIT` не к итоговому результату, а к каждой части запроса, можно обернуть подзапросы в скобки.\n",
    "\n",
    "Чтобы посмотреть, как это работает, вернёмся к нашему примеру с общим справочником по фильмам и книгам.\n",
    "\n",
    "Мы уже знаем, что можно легко и непринуждённо применить операторы `ORDER BY` и `LIMIT` ко всему результату запроса.\n",
    "\n",
    "\n",
    "```sql\n",
    "   SELECT book_name object_name,\n",
    "          'книга' object_descritption\n",
    "     FROM public.books\n",
    "UNION ALL\n",
    "   SELECT movie_title,\n",
    "          'фильм'\n",
    "     FROM SQL.kinopoisk\n",
    " ORDER BY 1\n",
    "    LIMIT 1\n",
    "```"
   ]
  },
  {
   "cell_type": "markdown",
   "metadata": {},
   "source": [
    "Всё бы хорошо, только в таком случае отсортирован будет весь общий справочник, а в выводе останется одна строка с названием объекта, идущим первым по алфавиту.\n",
    "\n",
    "А если мы не хотим общую сортировку? Может, нам нужны строки с названием как фильма, так и книги, идущих первыми по алфавиту.\n",
    "\n",
    "Нет ничего проще — отсортируем каждую часть запроса по отдельности и объединим результаты!\n",
    "\n",
    "Просто добавим ORDER BY и LIMIT ещё и в первую часть запроса:\n",
    "\n",
    "\n",
    "```sql\n",
    "   SELECT book_name object_name,\n",
    "          'книга' object_descritption\n",
    "     FROM public.books\n",
    " ORDER BY 1\n",
    "    LIMIT 1\n",
    "UNION ALL\n",
    "   SELECT movie_title,\n",
    "          'фильм'\n",
    "     FROM SQL.kinopoisk\n",
    " ORDER BY 1\n",
    "    LIMIT 1\n",
    "```\n",
    "\n",
    "\n",
    "Вместо результата получим сообщение о синтаксической ошибке: *\"...syntax error at or near \"UNION\"...\"* Очевидно, этот фокус не удался."
   ]
  },
  {
   "cell_type": "markdown",
   "metadata": {},
   "source": [
    "Не стоит огорчаться, ведь проблему можно решить одним (ну, почти) движением руки — просто добавив скобки вокруг каждой из частей запроса.\n",
    "\n",
    "\n",
    "```sql\n",
    "(\n",
    "   SELECT book_name object_name,\n",
    "          'книга' object_descritption\n",
    "     FROM public.books\n",
    " ORDER BY 1\n",
    "    LIMIT 1\n",
    ")\n",
    "UNION ALL\n",
    "(\n",
    "   SELECT movie_title,\n",
    "          'фильм'\n",
    "     FROM SQL.kinopoisk\n",
    " ORDER BY 1\n",
    "    LIMIT 1\n",
    ")\n",
    "```"
   ]
  },
  {
   "cell_type": "markdown",
   "metadata": {},
   "source": [
    "#### Задание 2.1"
   ]
  },
  {
   "cell_type": "markdown",
   "metadata": {},
   "source": [
    "> Напишите запрос, который создает уникальный алфавитный справочник всех городов, штатов, имён водителей и производителей грузовиков. Результатом запроса должны быть два столбца: название и тип объекта (`city`, `state`, `driver`, `truck`). Отсортируйте список по названию объекта, а затем — по типу.\n",
    "\n",
    "```sql\n",
    "   SELECT DISTINCT city.city_name AS object_name,\n",
    "          'city' AS object_type\n",
    "     FROM SQL.city AS city\n",
    "UNION ALL\n",
    "   SELECT DISTINCT city.state,\n",
    "          'state'\n",
    "     FROM SQL.city AS city\n",
    "UNION ALL\n",
    "   SELECT DISTINCT driver.first_name,\n",
    "          'driver'\n",
    "     FROM SQL.driver AS driver\n",
    "UNION ALL\n",
    "   SELECT DISTINCT truck.make,\n",
    "          'truck'\n",
    "     FROM SQL.truck AS truck\n",
    " ORDER BY object_name,\n",
    "          object_type\n",
    "```\n",
    "\n",
    "**Ошибка в формулировке:** не уникальный справочник, а справочник уникальных значений из таблиц:"
   ]
  },
  {
   "cell_type": "markdown",
   "metadata": {},
   "source": [
    "**Эталонное решение**\n",
    "\n",
    "\n",
    "```sql\n",
    "   SELECT c.city_name \"название\",\n",
    "          'city' \"тип объекта\"\n",
    "     FROM SQL.city c\n",
    "    UNION\n",
    "   SELECT c.state,\n",
    "          'state'\n",
    "     FROM SQL.city c\n",
    "    UNION\n",
    "   SELECT d.first_name,\n",
    "          'driver'\n",
    "     FROM SQL.driver d\n",
    "    UNION\n",
    "   SELECT t.make,\n",
    "          'truck'\n",
    "     FROM SQL.truck t\n",
    " ORDER BY 1,\n",
    "          2\n",
    "```"
   ]
  },
  {
   "cell_type": "markdown",
   "metadata": {},
   "source": [
    "#### Задание 2.2"
   ]
  },
  {
   "cell_type": "markdown",
   "metadata": {},
   "source": [
    "> Напишите запрос, который соберёт имена всех упомянутых городов и штатов из таблицы `city`. Результатом запроса должен быть один столбец `object_name`, отсортированный в алфавитном порядке.\n",
    "\n",
    "\n",
    "```sql\n",
    "   SELECT city_name AS object_name\n",
    "     FROM SQL.city\n",
    "UNION ALL\n",
    "   SELECT state\n",
    "     FROM SQL.city\n",
    " ORDER BY object_name\n",
    "```"
   ]
  },
  {
   "cell_type": "markdown",
   "metadata": {},
   "source": [
    "#### Задание 2.3"
   ]
  },
  {
   "cell_type": "markdown",
   "metadata": {},
   "source": [
    "> Выполнив предыдущий запрос, мы получили города с одинаковыми названиями, но находящиеся в разных штатах, а также большое количество дублирующихся названий штатов. Перепишите предыдущий запрос так, чтобы остались только уникальные названия городов и штатов. Результатом запроса должен быть один столбец `object_name`, отсортированный в алфавитном порядке.\n",
    "\n",
    "\n",
    "```SQL\n",
    "   SELECT DISTINCT cities_states.object_name\n",
    "     FROM (\n",
    "             SELECT city_name AS object_name\n",
    "               FROM SQL.city\n",
    "          UNION ALL\n",
    "             SELECT state\n",
    "               FROM SQL.city\n",
    "           ORDER BY object_name\n",
    "          ) AS cities_states\n",
    "```"
   ]
  },
  {
   "cell_type": "markdown",
   "metadata": {},
   "source": [
    "**!!Эталонное решение!!**\n",
    "\n",
    "\n",
    "```sql\n",
    "   SELECT c.city_name object_name\n",
    "     FROM SQL.city c\n",
    "    UNION\n",
    "   SELECT c.state\n",
    "     FROM SQL.city c\n",
    " ORDER BY 1\n",
    "```"
   ]
  },
  {
   "cell_type": "markdown",
   "metadata": {},
   "source": [
    "### (3) UINION и ограничение типов данных\n",
    "---"
   ]
  },
  {
   "cell_type": "markdown",
   "metadata": {},
   "source": [
    "**Почему так важен тип данных?**\n",
    "\n",
    "Как мы уже знаем, `UNION` может быть использован только в случае полного соответствия столбцов и их типов в объединяемых запросах.\n",
    "\n",
    "Допустим, мы хотим вывести список всех `id` городов и их названий в одном столбце.\n",
    "\n",
    "Давайте напишем запрос, который позволит получить нужный нам результат.\n",
    "\n",
    "\n",
    "```sql\n",
    "   SELECT c.city_id\n",
    "     FROM SQL.city c\n",
    "UNION ALL\n",
    "   SELECT cc.city_name\n",
    "     FROM SQL.city cc\n",
    "```\n",
    "\n",
    "Вместо результата вы получите сообщение об ошибке: *\"ERROR: UNION types integer and text cannot be matched\"*. Дело в том, что мы попытались объединить числовой и \n",
    "строковый типы в одной колонке, а это невозможно.\n",
    "\n",
    "Если мы всё же хотим выполнить поставленную задачу, придётся привести оба столбца к одному типу данных. Не каждый текст может быть приведён к числу, зато каждое число может быть представлено в текстовом формате.\n",
    "\n",
    "Забегая вперёд, скажем пару слов о типизации столбцов. Для типизации в `Postgres` составляется запрос по модели `column_name::column_type`.\n",
    "\n",
    "Таким образом, чтобы перевести `city_id` в текст, нам потребуется написать `city_id::text`.\n",
    "\n",
    "**Важно!** Любой тип данных может быть приведён к текстовому формату — эту возможность целесообразно использовать для соединения разнородных сущностей. Главное — помнить, что сортировка текста отличается от сортировки чисел и дат.\n"
   ]
  },
  {
   "cell_type": "markdown",
   "metadata": {},
   "source": [
    "Немного подправим запрос, чтобы получить желаемый результат.\n",
    "\n",
    "\n",
    "```sql\n",
    "   SELECT c.city_id::text\n",
    "     FROM sql.city c\n",
    "UNION ALL\n",
    "   SELECT cc.city_name\n",
    "     FROM sql.city cc\n",
    "```"
   ]
  },
  {
   "cell_type": "markdown",
   "metadata": {},
   "source": [
    "#### Задание 3.1"
   ]
  },
  {
   "cell_type": "markdown",
   "metadata": {
    "vscode": {
     "languageId": "sql"
    }
   },
   "source": [
    "> Напишите запрос, который объединит в себе все почтовые индексы водителей и их телефоны в единый столбец-справочник `contact`. Также добавьте столбец с именем водителя `first_name` и столбец `contact_type` с типом контакта (`phone` или `zip` в зависимости от типа). Отсортируйте список по столбцу с контактными данными в порядке возрастания, а затем — по имени водителя.\n",
    "\n",
    "\n",
    "```SQL\n",
    "   SELECT phone AS contact,\n",
    "          first_name,\n",
    "          'phone' AS contact_type\n",
    "     FROM sql.driver\n",
    "UNION ALL\n",
    "   SELECT zip_code::text,\n",
    "          first_name,\n",
    "          'zip'\n",
    "     FROM sql.driver\n",
    " ORDER BY contact,\n",
    "          first_name\n",
    "```"
   ]
  },
  {
   "cell_type": "markdown",
   "metadata": {},
   "source": [
    "**Эталонное решение**\n",
    "\n",
    "\n",
    "```sql\n",
    "   SELECT d.zip_code::text contact,\n",
    "          d.first_name first_name,\n",
    "          'zip' contact_type\n",
    "     FROM sql.driver d\n",
    "    UNION\n",
    "   SELECT dd.phone contact,\n",
    "          dd.first_name first_name,\n",
    "          'phone' contact_type\n",
    "     FROM sql.driver dd\n",
    " ORDER BY 1,\n",
    "          2\n",
    "```"
   ]
  },
  {
   "cell_type": "markdown",
   "metadata": {},
   "source": [
    "### (4) UNION ALL и промежуточные итоги\n",
    "---"
   ]
  },
  {
   "cell_type": "markdown",
   "metadata": {},
   "source": [
    "**Возможности UNION**\n",
    "\n",
    "Помимо соединения разнородных сущностей в единый справочник, `UNION ALL` часто используется для подведения промежуточных итогов и выведения результатов агрегатных функций.\n",
    "\n",
    "Кроме агрегатных функций, в запросах с `UNION` могут использоваться функции группировки и выборки.\n",
    "\n",
    "\n",
    "```sql\n",
    "   SELECT c.city_name,\n",
    "          c.population\n",
    "     FROM sql.city c\n",
    "UNION ALL\n",
    "   SELECT 'total',\n",
    "          SUM(c.population)\n",
    "     FROM sql.city c\n",
    " ORDER BY 2 DESC\n",
    "```"
   ]
  },
  {
   "cell_type": "markdown",
   "metadata": {},
   "source": [
    "Визуально это действие можно представить так:\n",
    "\n",
    "![](data/dst3-u2-md4_4_1.png)\n",
    "\n",
    "Выполнив запрос в Metabase, вы заметите, что сначала выведен итоговый результат с суммой населения всех городов в таблице, а затем по каждому городу в отдельности."
   ]
  },
  {
   "cell_type": "markdown",
   "metadata": {},
   "source": [
    "#### Задание 4.1"
   ]
  },
  {
   "cell_type": "markdown",
   "metadata": {},
   "source": [
    "> Напишите запрос, который выводит общее число доставок `total_shipments`, а также количество доставок в каждый день. Необходимые столбцы: `date_period`, `cnt_shipment`. Не забывайте о единой типизации. Упорядочите по убыванию столбца `date_period`.\n",
    "\n",
    "\n",
    "```sql\n",
    "   SELECT dates_cnt.date_period::text,\n",
    "          dates_cnt.cnt_shipment\n",
    "     FROM (\n",
    "             SELECT ship_date AS date_period,\n",
    "                    COUNT(ship_id) AS cnt_shipment\n",
    "               FROM sql.shipment\n",
    "           GROUP BY ship_date\n",
    "           ORDER BY date_period DESC\n",
    "          ) AS dates_cnt\n",
    "UNION ALL\n",
    "   SELECT 'total',\n",
    "          COUNT(ship_id)\n",
    "     FROM sql.shipment\n",
    "```\n"
   ]
  },
  {
   "cell_type": "markdown",
   "metadata": {},
   "source": [
    "**Решение после повторения**\n",
    "\n",
    "```sql\n",
    "   SELECT s.ship_date::text AS date_period,\n",
    "          count(s.ship_id) AS cnt_shipment\n",
    "     FROM sql.shipment AS s\n",
    " GROUP BY s.ship_date\n",
    "UNION ALL\n",
    "   SELECT 'total_shipments',\n",
    "          count(s.ship_id)\n",
    "     FROM sql.shipment AS s\n",
    " ORDER BY 1 DESC\n",
    "```"
   ]
  },
  {
   "cell_type": "markdown",
   "metadata": {},
   "source": [
    "**Эталонное решение**\n",
    "\n",
    "```sql\n",
    "   SELECT s.ship_date::text date_period,\n",
    "          COUNT(*) cnt_shipment\n",
    "     FROM sql.shipment s\n",
    " GROUP BY 1\n",
    "UNION ALL\n",
    "   SELECT 'total_shipments',\n",
    "          COUNT(*)\n",
    "     FROM sql.shipment s\n",
    " ORDER BY 1 DESC\n",
    "```"
   ]
  },
  {
   "cell_type": "markdown",
   "metadata": {},
   "source": [
    "### (5) UNION и дополнительные условия\n",
    "---"
   ]
  },
  {
   "cell_type": "markdown",
   "metadata": {},
   "source": [
    "`UNION` также может быть использован для разделения существующей выборки по критерию «выполнение определённого условия».\n",
    "\n",
    "Например, с помощью `UNION` можно отобразить, у кого из водителей заполнен столбец с номером телефона.\n",
    "\n",
    "\n",
    "```sql\n",
    "   SELECT d.first_name,\n",
    "          d.last_name,\n",
    "          'телефон заполнен' phone_info\n",
    "     FROM sql.driver d\n",
    "    WHERE d.phone IS NOT NULL\n",
    "    UNION\n",
    "   SELECT d.first_name,\n",
    "          d.last_name,\n",
    "          'телефон не заполнен' phone_info\n",
    "     FROM sql.driver d\n",
    "    WHERE d.phone IS NULL\n",
    "```"
   ]
  },
  {
   "cell_type": "markdown",
   "metadata": {},
   "source": [
    "#### Задание 5.1"
   ]
  },
  {
   "cell_type": "markdown",
   "metadata": {},
   "source": [
    "> Напишите запрос, который выведет все города и штаты, в которых они расположены, а также информацию о том, была ли осуществлена доставка в этот город:\n",
    ">\n",
    "> * если в город была осуществлена доставка, то выводим 'доставка осуществлялась';\n",
    "> * если нет — выводим 'доставка не осуществлялась'.\n",
    ">\n",
    "> Столбцы к выводу: `city_name`, `state`, `shipping_status`. Отсортируйте в алфавитном порядке по городу, а затем — по штату."
   ]
  },
  {
   "cell_type": "markdown",
   "metadata": {},
   "source": [
    "**Решение после повторения**\n",
    "\n",
    "```sql\n",
    "   SELECT c.city_name,\n",
    "          c.state,\n",
    "          'доставка осуществлялась' AS shipping_status\n",
    "     FROM sql.city AS c\n",
    "LEFT JOIN sql.shipment AS s ON c.city_id = s.city_id\n",
    "    WHERE s.ship_id IS NOT NULL\n",
    "    UNION\n",
    "   SELECT c.city_name,\n",
    "          c.state,\n",
    "          'доставка не осуществлялась' AS shipping_status\n",
    "     FROM sql.city AS c\n",
    "LEFT JOIN sql.shipment AS s ON c.city_id = s.city_id\n",
    "    WHERE s.ship_id IS NULL\n",
    " ORDER BY 1,\n",
    "          2\n",
    "```"
   ]
  },
  {
   "cell_type": "markdown",
   "metadata": {},
   "source": [
    "**Решение 1** (переусложненный)\n",
    "\n",
    "\n",
    "```sql\n",
    "   SELECT shipment_not_completed.city_name,\n",
    "          shipment_not_completed.state,\n",
    "          'доставка не осуществлялась' AS shipment_info\n",
    "     FROM (\n",
    "             SELECT city.city_name,\n",
    "                    city.state,\n",
    "                    shipment.ship_id\n",
    "               FROM sql.city AS city\n",
    "          LEFT JOIN sql.shipment AS shipment ON city.city_id = shipment.city_id\n",
    "           GROUP BY city.city_id,\n",
    "                    shipment.ship_id\n",
    "             HAVING shipment.ship_id IS NULL\n",
    "          ) AS shipment_not_completed\n",
    "UNION ALL\n",
    "   SELECT city.city_name,\n",
    "          city.state,\n",
    "          'доставка осуществлялась'\n",
    "     FROM sql.city AS city\n",
    "     JOIN sql.shipment AS shipment ON city.city_id = shipment.city_id\n",
    " GROUP BY city.city_id\n",
    " ORDER BY city_name,\n",
    "          state\n",
    "```"
   ]
  },
  {
   "cell_type": "markdown",
   "metadata": {},
   "source": [
    "**Эталонное решение**\n",
    "\n",
    "\n",
    "```sql\n",
    "   SELECT c.city_name AS city_name,\n",
    "          c.state AS state,\n",
    "          'доставка осуществлялась' AS shipping_status\n",
    "     FROM sql.city c\n",
    "LEFT JOIN sql.shipment s ON c.city_id = s.city_id\n",
    "    WHERE s.city_id IS NOT NULL\n",
    "    UNION\n",
    "   SELECT c.city_name AS city_name,\n",
    "          c.state AS state,\n",
    "          'доставка не осуществлялась' AS shipping_status\n",
    "     FROM sql.city c\n",
    "LEFT JOIN sql.shipment s ON c.city_id = s.city_id\n",
    "    WHERE s.city_id IS NULL\n",
    " ORDER BY 1,\n",
    "          2\n",
    "```"
   ]
  },
  {
   "cell_type": "markdown",
   "metadata": {},
   "source": [
    "**Решение 2** (оптимизированный эталон)\n",
    "\n",
    "```sql\n",
    "   SELECT city.city_name AS city_name,\n",
    "          city.state AS state,\n",
    "          'доставка осуществлялась' AS shipping_status\n",
    "     FROM sql.city AS city\n",
    "     JOIN sql.shipment AS shipment ON city.city_id = shipment.city_id\n",
    "    UNION\n",
    "   SELECT city.city_name,\n",
    "          city.state,\n",
    "          'доставка не осуществлялась' AS shipping_status\n",
    "     FROM sql.city AS city\n",
    "LEFT JOIN sql.shipment AS shipment ON city.city_id = shipment.city_id\n",
    "    WHERE shipment.city_id IS NULL\n",
    " ORDER BY city_name,\n",
    "          state\n",
    "```\n"
   ]
  },
  {
   "cell_type": "markdown",
   "metadata": {},
   "source": [
    "**Решение 3** (вариант 1 исправленный)\n",
    "\n",
    "```sql\n",
    "   SELECT city.city_name,\n",
    "          city.state,\n",
    "          'доставка не осуществлялась' AS shipment_info\n",
    "     FROM sql.city AS city\n",
    "LEFT JOIN sql.shipment AS shipment ON city.city_id = shipment.city_id\n",
    "    WHERE shipment.ship_id IS NULL\n",
    "UNION ALL\n",
    "   SELECT city.city_name,\n",
    "          city.state,\n",
    "          'доставка осуществлялась'\n",
    "     FROM sql.city AS city\n",
    "     JOIN sql.shipment AS shipment ON city.city_id = shipment.city_id\n",
    " GROUP BY city.city_id\n",
    " ORDER BY city_name,\n",
    "          state\n",
    "```"
   ]
  },
  {
   "cell_type": "markdown",
   "metadata": {},
   "source": [
    "#### Задание 5.2"
   ]
  },
  {
   "cell_type": "markdown",
   "metadata": {},
   "source": [
    "> Напишите запрос, который выводит два столбца: `city_name` и `shippings_fake`. Выведите города, куда совершались доставки. Пусть первый столбец содержит название города, а второй формируется так:\n",
    "> \n",
    "> * если в городе было более десяти доставок, вывести количество доставок в этот город как есть;\n",
    "> * иначе — вывести количество доставок, увеличенное на пять.\n",
    ">\n",
    "> Отсортируйте по убыванию получившегося «нечестного» количества доставок, а затем — по имени в алфавитном порядке."
   ]
  },
  {
   "cell_type": "markdown",
   "metadata": {},
   "source": [
    "**Решение после повторения**\n",
    "\n",
    "```SQL\n",
    "   SELECT c.city_name,\n",
    "          COUNT(s.ship_id) AS shippings_fake\n",
    "     FROM sql.city AS c\n",
    "     JOIN sql.shipment AS s ON c.city_id = s.city_id\n",
    " GROUP BY c.city_id\n",
    "   HAVING count(s.ship_id) > 10\n",
    "UNION ALL\n",
    "   SELECT c.city_name,\n",
    "          COUNT(s.ship_id) + 5 AS shippings_fake\n",
    "     FROM sql.city AS c\n",
    "     JOIN sql.shipment AS s ON c.city_id = s.city_id\n",
    " GROUP BY c.city_id\n",
    "   HAVING count(s.ship_id) <= 10\n",
    " ORDER BY 1 ASC,\n",
    "          2 DESC\n",
    "```"
   ]
  },
  {
   "cell_type": "markdown",
   "metadata": {},
   "source": [
    "**Решение** (моё решение совпадает с эталонным)\n",
    "\n",
    "```sql\n",
    "   SELECT city.city_name,\n",
    "          COUNT(shipment.ship_id) AS shippings_fake\n",
    "     FROM sql.city AS city\n",
    "     JOIN sql.shipment AS shipment ON city.city_id = shipment.city_id\n",
    " GROUP BY city.city_id\n",
    "   HAVING COUNT(shipment.ship_id) > 10\n",
    "UNION ALL\n",
    "   SELECT city.city_name,\n",
    "          COUNT(shipment.ship_id) + 5 AS shippings_fake\n",
    "     FROM sql.city AS city\n",
    "     JOIN sql.shipment AS shipment ON city.city_id = shipment.city_id\n",
    " GROUP BY city.city_id\n",
    "   HAVING COUNT(shipment.ship_id) <= 10\n",
    " ORDER BY shippings_fake DESC,\n",
    "          city_name\n",
    "```"
   ]
  },
  {
   "cell_type": "markdown",
   "metadata": {},
   "source": [
    "### (6) UNION и ручная генерация\n",
    "---"
   ]
  },
  {
   "cell_type": "markdown",
   "metadata": {},
   "source": [
    "`UNION` можно использовать для создания справочников прямо в коде запроса. К примеру, если мы хотим вручную ввести какие-то значения и произвести с ними некоторые манипуляции или дополнить существующую выдачу своими значениями."
   ]
  },
  {
   "cell_type": "markdown",
   "metadata": {},
   "source": [
    "Составим запрос, который позволит вывести первые три буквы алфавита и их порядковые номера.\n",
    "\n",
    "\n",
    "```sql\n",
    "   SELECT 'a' letter,\n",
    "          '1' ordinal_position\n",
    "    UNION\n",
    "   SELECT 'b',\n",
    "          '2'\n",
    "    UNION\n",
    "   SELECT 'c',\n",
    "          '3'\n",
    "```"
   ]
  },
  {
   "cell_type": "markdown",
   "metadata": {},
   "source": [
    "Существуют сложные алгоритмы сравнения текстовых значений, но главный смысл сводится к одному: сравнение производится на основе таблицы `unicode` и позиции элемента в ней с учётом определённых условий."
   ]
  },
  {
   "cell_type": "markdown",
   "metadata": {},
   "source": [
    "#### Задание 6.1"
   ]
  },
  {
   "cell_type": "markdown",
   "metadata": {},
   "source": [
    "> Напишите запрос, который выберет наибольшее из значений:\n",
    "> \n",
    "> * 1000000;\n",
    "> * 541;\n",
    "> * -500;\n",
    "> * 100.\n",
    "> \n",
    "> Столбец с результатом назовите `result`."
   ]
  },
  {
   "cell_type": "markdown",
   "metadata": {},
   "source": [
    "**Решение**\n",
    "\n",
    "\n",
    "```SQL\n",
    "   SELECT 1000000 AS result\n",
    "UNION ALL\n",
    "   SELECT 541\n",
    "UNION ALL\n",
    "   SELECT -500\n",
    "UNION ALL\n",
    "   SELECT 100\n",
    " ORDER BY result DESC\n",
    "    LIMIT 1\n",
    "```"
   ]
  },
  {
   "cell_type": "markdown",
   "metadata": {},
   "source": [
    "#### Задание 6.2"
   ]
  },
  {
   "cell_type": "markdown",
   "metadata": {},
   "source": [
    ">\n",
    "> Помним, что сортировка для числовых и строковых типов данных отличается. Построив запрос по аналогии с примером, приведите значения к текстовому типу данных, сравните и выберите наибольшее из них:\n",
    "> \n",
    "> * 1000000;\n",
    "> * 541;\n",
    "> * -500;\n",
    "> * 100.\n",
    "> \n",
    "> Столбец с ответом назовите `mycol`\n",
    ">"
   ]
  },
  {
   "cell_type": "markdown",
   "metadata": {},
   "source": [
    "**Решение**\n",
    "\n",
    "\n",
    "```SQL\n",
    "   SELECT '1000000' AS val\n",
    "    UNION\n",
    "   SELECT '541'\n",
    "    UNION\n",
    "   SELECT '-500'\n",
    "    UNION\n",
    "   SELECT '100'\n",
    " ORDER BY val DESC\n",
    "    LIMIT 1\n",
    "```"
   ]
  },
  {
   "cell_type": "markdown",
   "metadata": {},
   "source": [
    "**Эталонное решение**\n",
    "\n",
    "\n",
    "```sql\n",
    "   SELECT '1000000' AS mycol\n",
    "UNION ALL\n",
    "   SELECT '541'\n",
    "UNION ALL\n",
    "   SELECT '-500'\n",
    "UNION ALL\n",
    "   SELECT '100'\n",
    " ORDER BY 1 DESC\n",
    "    LIMIT 1\n",
    "```"
   ]
  },
  {
   "cell_type": "markdown",
   "metadata": {},
   "source": [
    "#### Задание 6.3"
   ]
  },
  {
   "cell_type": "markdown",
   "metadata": {},
   "source": [
    "> Построив запрос по аналогии с примером, найдите самое большое значение из перечисленных операторов:\n",
    "> \n",
    "> * `+` ;\n",
    "> * `-` ;\n",
    "> * `=` ;\n",
    "> * `/` .\n",
    "> \n",
    "> Столбец с ответом назовите `result`."
   ]
  },
  {
   "cell_type": "markdown",
   "metadata": {},
   "source": [
    "**Решение**\n",
    "\n",
    "\n",
    "```sql\n",
    "   SELECT '+' AS result\n",
    "UNION ALL\n",
    "   SELECT '-'\n",
    "UNION ALL\n",
    "   SELECT '='\n",
    "UNION ALL\n",
    "   SELECT '/'\n",
    " ORDER BY result DESC\n",
    "    LIMIT 1\n",
    "```"
   ]
  },
  {
   "cell_type": "markdown",
   "metadata": {},
   "source": [
    "## (7) EXCEPT\n",
    "---"
   ]
  },
  {
   "cell_type": "markdown",
   "metadata": {},
   "source": [
    "**Исключаем повторяющиеся данные**\n",
    "\n",
    "Предположим, нам нужно узнать, в какие города осуществлялась доставка, за исключением тех, в которых проживают водители.\n",
    "\n",
    "\n",
    "```SQL\n",
    "   SELECT c.city_name\n",
    "     FROM sql.shipment s\n",
    "     JOIN sql.city c ON s.city_id = c.city_id\n",
    "   EXCEPT\n",
    "   SELECT cc.city_name\n",
    "     FROM sql.driver d\n",
    "     JOIN sql.city cc ON d.city_id = cc.city_id\n",
    " ORDER BY 1\n",
    "```\n",
    "\n",
    "\n",
    "Все водители проживают в городе `Memphis`, и мы видим, что он не выводится в результате запроса.\n",
    "\n",
    "Как вы, должно быть, заметили, для решения этой задачи мы использовали оператор `EXCEPT`. Принципы его работы мы сейчас разберём"
   ]
  },
  {
   "cell_type": "markdown",
   "metadata": {},
   "source": [
    "Чтобы лучше понять данный тип присоединения, предлагаем ознакомиться с **диаграммой Венна** — математическим инструментом, представляющим возможные логические связи между соединёнными наборами данных.\n",
    "\n",
    "![](data/dst3-u2-md4_7_1.png)"
   ]
  },
  {
   "cell_type": "markdown",
   "metadata": {},
   "source": [
    "Синтаксические правила для оператора `EXCEPT` такие же, как и для `UNION`:\n",
    "\n",
    "* одинаковый тип данных;\n",
    "* одинаковое количество столбцов;\n",
    "* одинаковый порядок столбцов согласно типу данных.\n",
    "\n",
    "Синтаксис выглядит следующим образом:\n",
    "\n",
    "\n",
    "```sql\n",
    "   SELECT n columns\n",
    "     FROM table_1\n",
    "   EXCEPT\n",
    "   SELECT n columns\n",
    "     FROM table_2\n",
    "```"
   ]
  },
  {
   "cell_type": "markdown",
   "metadata": {},
   "source": [
    "Мы уже знаем, как решить такую задачу с использованием `LEFT` `JOIN`. Вариант с `EXCEPT` будет полезен в тех случаях, когда у вас много столбцов и вам не хочется прописывать их равенство в условии для `JOIN`.\n",
    "\n",
    "Предположим, у нас есть информация о продажах канцелярского магазина за май и июнь.\n",
    "\n",
    "Какие-то позиции продавались и в том, и в другом месяце, а какие-то — только в одном. Использовав `EXCEPT`, мы можем оставить только те товары, которые есть в первом запросе (например, за май), но отсутствуют во втором запросе (например, за июнь)."
   ]
  },
  {
   "cell_type": "markdown",
   "metadata": {},
   "source": [
    "![](data/dst3-u2-md4_7_2.png)"
   ]
  },
  {
   "cell_type": "markdown",
   "metadata": {},
   "source": [
    "Таким образом, при присоединении с помощью `EXCEPT` мы вывели только те товары, которые были проданы в мае, но не в июне. Чтобы найти продажи по тем позициям, что были реализованы в июне, а в мае — нет, необходимо поменять запросы местами."
   ]
  },
  {
   "cell_type": "markdown",
   "metadata": {},
   "source": [
    "Сообщение ментору от 18.09.2023\n",
    "\n",
    "@Илья_Маяковский_Ментор \n",
    "\n",
    "Здравствуйте!\n",
    "\n",
    "Вопрос по юниту 7 `EXCEPT`\n",
    "\n",
    "В юните приведена диаграма Венна (скрин) и ниже абзац:\n",
    "\n",
    "> Мы уже знаем, как решить такую задачу с использованием LEFT JOIN. Вариант с EXCEPT будет полезен в тех случаях, когда у вас много столбцов и вам не хочется прописывать их равенство в условии для JOIN.\n",
    "\n",
    "Вероятно, я что-то не так понял... Но как решать такую задачу с использованием `LEFT JOIN`?"
   ]
  },
  {
   "cell_type": "markdown",
   "metadata": {},
   "source": [
    "Решение примера с применением `LEFT JOIN` \n",
    "\n",
    "\n",
    "```SQL\n",
    "   SELECT may.product,\n",
    "          may.price\n",
    "     FROM (\n",
    "             SELECT 'Ручка' AS product,\n",
    "                    10 AS price\n",
    "          UNION ALL\n",
    "             SELECT 'Блокнот',\n",
    "                    30\n",
    "          UNION ALL\n",
    "             SELECT 'Тетрадь',\n",
    "                    5\n",
    "          ) AS may\n",
    "LEFT JOIN (\n",
    "             SELECT june.product,\n",
    "                    june.price\n",
    "               FROM (\n",
    "                       SELECT 'Тетрадь' AS product,\n",
    "                              5 AS price\n",
    "                    UNION ALL\n",
    "                       SELECT 'Пенал',\n",
    "                              50\n",
    "                    UNION ALL\n",
    "                       SELECT 'Книга',\n",
    "                              100\n",
    "                    ) AS june\n",
    "          ) AS june ON may.product = june.product\n",
    "    WHERE june IS NULL   \n",
    "```"
   ]
  },
  {
   "cell_type": "markdown",
   "metadata": {},
   "source": [
    "**Решение с использованием `EXCEPT`\n",
    "\n",
    "```SQL\n",
    "   SELECT may.product,\n",
    "          may.price\n",
    "     FROM (\n",
    "             SELECT 'Ручка' AS product,\n",
    "                    10 AS price\n",
    "          UNION ALL\n",
    "             SELECT 'Блокнот',\n",
    "                    30\n",
    "          UNION ALL\n",
    "             SELECT 'Тетрадь',\n",
    "                    5\n",
    "          ) AS may\n",
    "   EXCEPT\n",
    "   SELECT june.product,\n",
    "          june.price\n",
    "     FROM (\n",
    "             SELECT 'Тетрадь' AS product,\n",
    "                    5 AS price\n",
    "          UNION ALL\n",
    "             SELECT 'Пенал',\n",
    "                    50\n",
    "          UNION ALL\n",
    "             SELECT 'Книга',\n",
    "                    100\n",
    "          ) AS june\n",
    "\n",
    "```"
   ]
  },
  {
   "cell_type": "markdown",
   "metadata": {},
   "source": [
    "### Задание 7.1"
   ]
  },
  {
   "cell_type": "markdown",
   "metadata": {},
   "source": [
    "> Выведите список zip-кодов, которые есть в таблице `sql.driver`, но отсутствуют в таблице `sql.customer`. Отсортируйте по возрастанию, столбец к выводу — `zip`. В поле ниже введите запрос, с помощью которого вы решили эту задачу."
   ]
  },
  {
   "cell_type": "markdown",
   "metadata": {},
   "source": [
    "**Решение после повторения**\n",
    "\n",
    "```SQL\n",
    "   SELECT d.zip_code AS zip\n",
    "     FROM sql.driver AS d\n",
    "   EXCEPT\n",
    "   SELECT c.zip\n",
    "     FROM sql.customer AS c\n",
    " ORDER BY 1\n",
    "```"
   ]
  },
  {
   "cell_type": "markdown",
   "metadata": {},
   "source": [
    "**Решение**\n",
    "\n",
    "\n",
    "```sql\n",
    "   SELECT driver.zip_code AS zip\n",
    "     FROM sql.driver AS driver\n",
    "   EXCEPT\n",
    "   SELECT customer.zip\n",
    "     FROM sql.customer AS customer\n",
    " ORDER BY 1\n",
    "```"
   ]
  },
  {
   "cell_type": "markdown",
   "metadata": {},
   "source": [
    "**Эталонное решение**\n",
    "\n",
    "```SQL\n",
    "   SELECT zip_code AS zip\n",
    "     FROM sql.driver\n",
    "   EXCEPT\n",
    "   SELECT zip\n",
    "     FROM sql.customer\n",
    " ORDER BY 1\n",
    " ```"
   ]
  },
  {
   "cell_type": "markdown",
   "metadata": {},
   "source": [
    "## (8) INTERSECT\n",
    "---"
   ]
  },
  {
   "cell_type": "markdown",
   "metadata": {},
   "source": [
    "**Выбираем общие данные**\n",
    "\n",
    "А что если нам надо вывести общие записи — те, что существуют в нескольких таблицах?\n",
    "\n",
    "Предположим, нам надо вывести совпадающие по названию города и штаты.\n",
    "\n",
    "\n",
    "```sql\n",
    "   SELECT c.city_name object_name\n",
    "     FROM sql.city c\n",
    "INTERSECT\n",
    "   SELECT cc.state\n",
    "     FROM sql.city cc\n",
    " ORDER BY 1\n",
    "```\n",
    "\n",
    "Как видим, с помощью оператора `INTERSECT` мы вывели названия городов и штатов, которые совпадают: *New York*, *Washington* и *Wyoming*. Присмотримся к нему внимательнее."
   ]
  },
  {
   "cell_type": "markdown",
   "metadata": {},
   "source": [
    "Чтобы лучше понять, как работает этот оператор, вновь обратимся к диаграмме Венна: `INTERSECT` оставляет из результатов первого запроса все строки, которые совпали с результатом выполнения второго запроса.\n",
    "\n",
    "![](data/dst3-u2-md4_8_1.png)"
   ]
  },
  {
   "cell_type": "markdown",
   "metadata": {},
   "source": [
    "Синтаксис запроса с оператором `INTERSECT` выглядит следующим образом:\n",
    "\n",
    "\n",
    "```sql\n",
    "   SELECT n columns\n",
    "     FROM table_1\n",
    "INTERSECT\n",
    "   SELECT n columns\n",
    "     FROM table_2\n",
    "```"
   ]
  },
  {
   "cell_type": "markdown",
   "metadata": {},
   "source": [
    "Вернёмся к нашему примеру с продажами канцтоваров.\n",
    "\n",
    "С помощью оператора `INTERSECT` мы можем вывести те позиции, которые продавались и в мае, и в июне. Визуализировать это действие можно примерно так:\n",
    "\n",
    "![](data/dst3-u2-md4_8_2.png)"
   ]
  },
  {
   "cell_type": "markdown",
   "metadata": {},
   "source": [
    "Оператор `INTERSECT` оставляет только те строки, которые являются общими для двух запросов (в нашем примере это Тетрадь).\n",
    "\n",
    "> Как `EXCEPT`, так и `INTERSECT` убирают дубликаты, если они имеются."
   ]
  },
  {
   "cell_type": "markdown",
   "metadata": {},
   "source": [
    "### Задание 8.1"
   ]
  },
  {
   "cell_type": "markdown",
   "metadata": {},
   "source": [
    "> Напишите запрос, который выведет список *id* городов, в которых есть и клиенты, и доставки, и водители."
   ]
  },
  {
   "cell_type": "markdown",
   "metadata": {},
   "source": [
    "**Решение после повторения**\n",
    "\n",
    "```SQL\n",
    "   SELECT city_id\n",
    "     FROM sql.customer\n",
    "INTERSECT\n",
    "   SELECT city_id\n",
    "     FROM sql.shipment\n",
    "INTERSECT\n",
    "   SELECT city_id\n",
    "     FROM sql.driver\n",
    "```"
   ]
  },
  {
   "cell_type": "markdown",
   "metadata": {},
   "source": [
    "**Решение**\n",
    "\n",
    "\n",
    "```sql\n",
    "   SELECT customer.city_id\n",
    "     FROM sql.customer AS customer\n",
    "INTERSECT\n",
    "   SELECT driver.city_id\n",
    "     FROM sql.driver AS driver\n",
    "INTERSECT\n",
    "   SELECT shipment.city_id\n",
    "     FROM sql.shipment AS shipment\n",
    "```"
   ]
  },
  {
   "cell_type": "markdown",
   "metadata": {},
   "source": [
    "### Задание 8.2"
   ]
  },
  {
   "cell_type": "markdown",
   "metadata": {},
   "source": [
    "> Выведите *zip*-код, который есть как в таблице с клиентами, так и в таблице с водителями."
   ]
  },
  {
   "cell_type": "markdown",
   "metadata": {},
   "source": [
    "**Решение после повторения**\n",
    "\n",
    "```SQL\n",
    "   SELECT zip\n",
    "     FROM sql.customer\n",
    "INTERSECT\n",
    "   SELECT zip_code\n",
    "     FROM sql.driver\n",
    "```"
   ]
  },
  {
   "cell_type": "markdown",
   "metadata": {},
   "source": [
    "**Решение**\n",
    "\n",
    "\n",
    "```sql\n",
    "SELECT\n",
    "    customer.zip\n",
    "FROM\n",
    "    sql.customer AS customer\n",
    "INTERSECT\n",
    "SELECT\n",
    "    driver.zip_code\n",
    "FROM\n",
    "    sql.driver AS driver\n",
    "```"
   ]
  },
  {
   "cell_type": "markdown",
   "metadata": {},
   "source": [
    "## (9) Итоги. Закрепление знаний"
   ]
  },
  {
   "cell_type": "markdown",
   "metadata": {},
   "source": [
    "В этом модуле вы освоили ещё несколько возможностей из функционала *SQL*.\n",
    "\n",
    "Теперь вы умеете:\n",
    "\n",
    "* присоединять таблицы «снизу», одну под другой;\n",
    "* исключать или, наоборот, выбирать повторяющиеся записи из двух таблиц;\n",
    "* вручную добавлять записи в таблицу.\n",
    "\n",
    "Запишем структуру запроса с учётом полученных знаний.\n",
    "\n",
    "\n",
    "```sql\n",
    "SELECT          \n",
    "    N columns\n",
    "FROM          \n",
    "    table_1\n",
    "UNION / UNION ALL / EXCEPT / INTERSECT \n",
    "SELECT          \n",
    "    N columns\n",
    "FROM          \n",
    "    table_2\n",
    "```"
   ]
  },
  {
   "cell_type": "markdown",
   "metadata": {},
   "source": [
    "### Задание 9.1"
   ]
  },
  {
   "cell_type": "code",
   "execution_count": null,
   "metadata": {
    "vscode": {
     "languageId": "sql"
    }
   },
   "outputs": [],
   "source": [
    "   SELECT c.city_name,\n",
    "          s.weight\n",
    "     FROM sql.city AS c\n",
    "     JOIN sql.shipment AS s ON c.city_id = s.city_id\n",
    "    WHERE weight = (\n",
    "             SELECT MAX(weight)\n",
    "               FROM sql.shipment\n",
    "          )\n",
    "       OR weight = (\n",
    "             SELECT MIN(weight)\n",
    "               FROM sql.shipment\n",
    "          )\n",
    " ORDER BY 2 DESC"
   ]
  },
  {
   "cell_type": "markdown",
   "metadata": {},
   "source": [
    "> Выведите города с максимальным и минимальным весом единичной доставки. Столбцы к выводу — `city_name`, `weight`."
   ]
  },
  {
   "cell_type": "markdown",
   "metadata": {},
   "source": [
    "**Решение после повторения (совпадает с эталонным)**\n",
    "\n",
    "```SQL\n",
    "(\n",
    "   SELECT c.city_name,\n",
    "          s.weight\n",
    "     FROM sql.city AS c\n",
    "     JOIN sql.shipment AS s ON c.city_id = s.city_id\n",
    " ORDER BY 2 DESC\n",
    "    LIMIT 1\n",
    ")\n",
    "UNION ALL\n",
    "(\n",
    "   SELECT c.city_name,\n",
    "          s.weight\n",
    "     FROM sql.city AS c\n",
    "     JOIN sql.shipment AS s ON c.city_id = s.city_id\n",
    " ORDER BY 2 ASC\n",
    "    LIMIT 1\n",
    ")\n",
    "```"
   ]
  },
  {
   "cell_type": "markdown",
   "metadata": {},
   "source": [
    "**Решение после повторения (вариант 2) идея моя - реализация ИИ**\n",
    "\n",
    "```SQL\n",
    "     WITH cityweights AS (\n",
    "             SELECT c.city_name,\n",
    "                    s.weight\n",
    "               FROM sql.city AS c\n",
    "               JOIN sql.shipment AS s ON c.city_id = s.city_id\n",
    "          )\n",
    "   SELECT *\n",
    "     FROM cityweights\n",
    "    WHERE weight = (SELECT MAX(weight) FROM cityweights)\n",
    "       OR weight = (SELECT MIN(weight) FROM cityweights)\n",
    "```"
   ]
  },
  {
   "cell_type": "markdown",
   "metadata": {},
   "source": [
    "**Усовершенстованное решение без UNION - через фильтрацию (после повторения)**\n",
    "\n",
    "```SQL\n",
    "    SELECT c.city_name, s.weight\n",
    "    FROM sql.city AS c\n",
    "    JOIN sql.shipment AS s ON c.city_id = s.city_id\n",
    "WHERE weight = (SELECT MAX(weight) FROM sql.shipment)\n",
    "   OR weight = (SELECT MIN(weight) FROM sql.shipment)\n",
    "   ORDER BY 2 DESC\n",
    "```"
   ]
  },
  {
   "cell_type": "markdown",
   "metadata": {},
   "source": [
    "**Решение с UNION (после повторения)**\n",
    "\n",
    "\n",
    "```SQL\n",
    "    WITH cityweights AS (\n",
    "             SELECT c.city_name,\n",
    "                    s.weight\n",
    "               FROM sql.city AS c\n",
    "               JOIN sql.shipment AS s ON c.city_id = s.city_id\n",
    "          )\n",
    "          --\n",
    "--\n",
    "(\n",
    "    SELECT *\n",
    "      FROM cityweights\n",
    "  ORDER BY 2 DESC\n",
    "     LIMIT 1\n",
    ")\n",
    "UNION ALL\n",
    "(\n",
    "   SELECT *\n",
    "     FROM cityweights\n",
    " ORDER BY 2 ASC\n",
    "    LIMIT 1\n",
    ")\n",
    "```"
   ]
  },
  {
   "cell_type": "markdown",
   "metadata": {},
   "source": [
    "**Решение (тупое)**\n",
    "\n",
    "\n",
    "```sql\n",
    "(\n",
    "   SELECT city.city_name AS city_name,\n",
    "          MAX(shipment.weight) AS weight\n",
    "     FROM sql.shipment AS shipment\n",
    "     JOIN sql.city AS city ON shipment.city_id = city.city_id\n",
    " GROUP BY city.city_id\n",
    " ORDER BY MAX(shipment.weight) DESC\n",
    "    LIMIT 1\n",
    ")\n",
    "UNION ALL\n",
    "(\n",
    "   SELECT city.city_name AS city_name,\n",
    "          MIN(shipment.weight) AS weight\n",
    "     FROM sql.shipment AS shipment\n",
    "     JOIN sql.city AS city ON shipment.city_id = city.city_id\n",
    " GROUP BY city.city_id\n",
    " ORDER BY MIN(shipment.weight) ASC\n",
    "    LIMIT 1\n",
    ")\n",
    "```"
   ]
  },
  {
   "cell_type": "markdown",
   "metadata": {},
   "source": [
    "### Задание 9.2"
   ]
  },
  {
   "cell_type": "markdown",
   "metadata": {},
   "source": [
    "> Выведите идентификационные номера клиентов (`cust_id`), которые совпадают с идентификационными номерами доставок (`ship_id`). Столбец к выводу — `mutual_id`. Отсортируйте по возрастанию."
   ]
  },
  {
   "cell_type": "markdown",
   "metadata": {},
   "source": [
    "**Решение (совпадает с решением после повторения и с эталонным)**\n",
    "\n",
    "\n",
    "```sql\n",
    "   SELECT cust_id AS mutual_id\n",
    "     FROM sql.customer\n",
    "INTERSECT\n",
    "   SELECT ship_id\n",
    "     FROM sql.shipment\n",
    " ORDER BY 1\n",
    "```"
   ]
  },
  {
   "cell_type": "markdown",
   "metadata": {},
   "source": [
    "### Задание 9.3"
   ]
  },
  {
   "cell_type": "markdown",
   "metadata": {},
   "source": [
    "> Создайте справочник, содержащий уникальные имена клиентов, которые являются производителями (`cust_type='manufacturer'`), и производителей грузовиков, а также описание объекта — 'КЛИЕНТ' или 'ГРУЗОВИК'. Столбцы к выводу — `object_name`, `object_description`. Отсортируйте по названию в алфавитном порядке."
   ]
  },
  {
   "cell_type": "markdown",
   "metadata": {},
   "source": [
    "**Решение после повторения**\n",
    "\n",
    "```SQL\n",
    "   SELECT cust_name AS object_name,\n",
    "          'КЛИЕНТ' AS object_description\n",
    "     FROM sql.customer\n",
    "    WHERE cust_type = 'manufacturer'\n",
    "    UNION\n",
    "   SELECT make,\n",
    "          'ГРУЗОВИК'\n",
    "     FROM sql.truck\n",
    " ORDER BY 1\n",
    "```"
   ]
  },
  {
   "cell_type": "markdown",
   "metadata": {},
   "source": [
    "**Решение**\n",
    "\n",
    "\n",
    "```sql\n",
    "   SELECT customer.cust_name AS object_name,\n",
    "          'КЛИЕНТ' AS object_description\n",
    "     FROM sql.customer AS customer\n",
    "    WHERE cust_type = 'manufacturer'\n",
    "    UNION\n",
    "   SELECT truck.make,\n",
    "          'ГРУЗОВИК'\n",
    "     FROM sql.truck AS truck\n",
    " ORDER BY object_name\n",
    "```"
   ]
  },
  {
   "cell_type": "markdown",
   "metadata": {},
   "source": []
  },
  {
   "cell_type": "code",
   "execution_count": null,
   "metadata": {
    "vscode": {
     "languageId": "sql"
    }
   },
   "outputs": [],
   "source": [
    "     WITH rnk_books AS (\n",
    "             SELECT order_month,\n",
    "                    book_name,\n",
    "                    cnt,\n",
    "                    dense_rank() OVER (\n",
    "                    PARTITION BY order_month\n",
    "                     ORDER BY cnt DESC,\n",
    "                              book_average_rating DESC\n",
    "                    ) rnk\n",
    "               FROM (\n",
    "                       SELECT extract(\n",
    "                              MONTH\n",
    "                                   FROM order_date\n",
    "                              ) order_month,\n",
    "                              b.book_name,\n",
    "                              b.book_average_rating,\n",
    "                              count(*) cnt\n",
    "                         FROM other.\"book_orders\" o\n",
    "                         JOIN other.books b ON o.book_id = b.book_id\n",
    "                        WHERE b.publishing_year >= 2021 - 10\n",
    "                          AND order_date >= to_date('2019-01-01', 'YYYY-MM-DD')\n",
    "                     GROUP BY extract(\n",
    "                              MONTH\n",
    "                                   FROM order_date\n",
    "                              ),\n",
    "                              b.book_name,\n",
    "                              book_average_rating\n",
    "                    ) month_books\n",
    "          )\n",
    "   SELECT *\n",
    "     FROM rnk_books\n",
    "    WHERE rnk <= 5\n",
    " ORDER BY order_month DESC,\n",
    "          rnk\n"
   ]
  },
  {
   "cell_type": "code",
   "execution_count": null,
   "metadata": {
    "vscode": {
     "languageId": "sql"
    }
   },
   "outputs": [],
   "source": [
    "     WITH monthly_orders AS (\n",
    "             SELECT DATE_PART('month', order_date) AS order_month,\n",
    "                    b.book_name,\n",
    "                    count(o.book_id) AS cnt,\n",
    "                    sum(cnt) AS total_orders,\n",
    "                    b.book_average_rating\n",
    "               FROM other.book_orders AS o\n",
    "               JOIN other.books AS b ON o.book_id = b.book_id\n",
    "              WHERE b.publishing_year >= 2011\n",
    "                AND o.order_date >= '2019-01-01'\n",
    "           GROUP BY order_month,\n",
    "                    b.book_name,\n",
    "                    b.book_average_rating\n",
    "          ),\n",
    "          ranked_books AS (\n",
    "             SELECT order_month,\n",
    "                    book_name,\n",
    "                    cnt,\n",
    "                    book_average_rating,\n",
    "                    dense_rank() OVER (\n",
    "                    PARTITION BY order_month\n",
    "                     ORDER BY cnt DESC,\n",
    "                              book_average_rating DESC\n",
    "                    ) AS rnk,\n",
    "                    cnt / total_orders * 100 AS total_ratio,\n",
    "               FROM monthly_orders\n",
    "          )\n",
    "   SELECT order_month,\n",
    "          book_name,\n",
    "          cnt,\n",
    "          rnk,\n",
    "          total_orders,\n",
    "          total_ratio\n",
    "     FROM ranked_books\n",
    "    WHERE rnk <= 5\n",
    " ORDER BY order_month DESC,\n",
    "          rnk\n",
    ";\n"
   ]
  },
  {
   "cell_type": "code",
   "execution_count": null,
   "metadata": {
    "vscode": {
     "languageId": "sql"
    }
   },
   "outputs": [],
   "source": [
    "     WITH monthly_orders AS (\n",
    "             SELECT DATE_PART('month', order_date) AS order_month,\n",
    "                    b.book_name,\n",
    "                    count(o.book_id) AS cnt,\n",
    "                    b.book_average_rating\n",
    "               FROM other.book_orders AS o\n",
    "               JOIN other.books AS b ON o.book_id = b.book_id\n",
    "              WHERE b.publishing_year >= 2011\n",
    "                AND o.order_date >= '2019-01-01'\n",
    "           GROUP BY order_month,\n",
    "                    b.book_name,\n",
    "                    b.book_average_rating\n",
    "          ),\n",
    "          ranked_books AS (\n",
    "             SELECT order_month,\n",
    "                    book_name,\n",
    "                    cnt,\n",
    "                    book_average_rating,\n",
    "                    dense_rank() OVER (\n",
    "                    PARTITION BY order_month\n",
    "                     ORDER BY cnt DESC,\n",
    "                              book_average_rating DESC\n",
    "                    ) AS rnk\n",
    "               FROM monthly_orders\n",
    "          ),\n",
    "          month_total AS (\n",
    "             SELECT DATE_PART('month', order_date) AS order_month,\n",
    "                    count(*) AS total_orders\n",
    "               FROM other.book_orders AS o\n",
    "               JOIN other.books AS b ON o.book_id = b.book_id\n",
    "              WHERE b.publishing_year >= 2011\n",
    "                AND o.order_date >= '2019-01-01'\n",
    "           GROUP BY order_month\n",
    "          )\n",
    "   SELECT r.order_month,\n",
    "          book_name,\n",
    "          cnt,\n",
    "          rnk,\n",
    "          total_orders,\n",
    "          CAST(\n",
    "          ROUND((CAST(cnt AS NUMERIC) / total_orders * 100), 0) AS INT\n",
    "          ) AS total_ratio\n",
    "     FROM ranked_books AS r\n",
    "     JOIN month_total AS m ON r.order_month = m.order_month\n",
    "    WHERE rnk <= 5\n",
    " ORDER BY order_month DESC,\n",
    "          rnk\n",
    ";\n"
   ]
  },
  {
   "cell_type": "code",
   "execution_count": null,
   "metadata": {
    "vscode": {
     "languageId": "sql"
    }
   },
   "outputs": [],
   "source": [
    "     WITH monthly_orders AS (\n",
    "             SELECT DATE_PART('month', order_date) AS order_month,\n",
    "                    b.book_name,\n",
    "                    COUNT(o.book_id) AS cnt,\n",
    "                    b.book_average_rating\n",
    "               FROM other.book_orders AS o\n",
    "               JOIN other.books AS b ON o.book_id = b.book_id\n",
    "              WHERE b.publishing_year >= 2011\n",
    "                AND o.order_date >= '2019-01-01'\n",
    "           GROUP BY order_month,\n",
    "                    b.book_name,\n",
    "                    b.book_average_rating\n",
    "          ),\n",
    "          ranked_books AS (\n",
    "             SELECT order_month,\n",
    "                    book_name,\n",
    "                    cnt,\n",
    "                    book_average_rating,\n",
    "                    DENSE_RANK() OVER (\n",
    "                    PARTITION BY order_month\n",
    "                     ORDER BY cnt DESC,\n",
    "                              book_average_rating DESC\n",
    "                    ) AS rnk\n",
    "               FROM monthly_orders\n",
    "          ),\n",
    "          month_total AS (\n",
    "             SELECT DATE_PART('month', order_date) AS order_month,\n",
    "                    COUNT(*) AS total_orders\n",
    "               FROM other.book_orders AS o\n",
    "               JOIN other.books AS b ON o.book_id = b.book_id\n",
    "              WHERE b.publishing_year >= 2011\n",
    "                AND o.order_date >= '2019-01-01'\n",
    "           GROUP BY order_month\n",
    "          )\n",
    "   SELECT r.order_month,\n",
    "          book_name,\n",
    "          cnt,\n",
    "          rnk,\n",
    "          total_orders,\n",
    "          FLOOR(CAST(cnt AS NUMERIC) / total_orders * 100)::INTEGER AS total_ratio_floor\n",
    "     FROM ranked_books AS r\n",
    "     JOIN month_total AS m ON r.order_month = m.order_month\n",
    "    WHERE rnk <= 5\n",
    " ORDER BY order_month DESC,\n",
    "          rnk\n",
    ";"
   ]
  },
  {
   "cell_type": "markdown",
   "metadata": {},
   "source": [
    "Посчитайте долю продаж каждой книги из выборки от общих продаж книг из топ-5. Столбцы к выводу — order_month, book_name, cnt, rnk, total_orders5, total_ratio5. Примечание. Долю нужно посчитать в процентах — не забудьте умножить на 100! Задачу можно решить с помощью агрегатной оконной функции."
   ]
  },
  {
   "cell_type": "code",
   "execution_count": null,
   "metadata": {
    "vscode": {
     "languageId": "sql"
    }
   },
   "outputs": [],
   "source": [
    "     WITH monthly_orders AS (\n",
    "             SELECT DATE_PART('month', order_date) AS order_month,\n",
    "                    b.book_name,\n",
    "                    COUNT(o.book_id) AS cnt,\n",
    "                    b.book_average_rating\n",
    "               FROM other.book_orders AS o\n",
    "               JOIN other.books AS b ON o.book_id = b.book_id\n",
    "              WHERE b.publishing_year >= 2011\n",
    "                AND o.order_date >= '2019-01-01'\n",
    "           GROUP BY order_month,\n",
    "                    b.book_name,\n",
    "                    b.book_average_rating\n",
    "          ),\n",
    "          ranked_books AS (\n",
    "             SELECT order_month,\n",
    "                    book_name,\n",
    "                    cnt,\n",
    "                    book_average_rating,\n",
    "                    DENSE_RANK() OVER (\n",
    "                    PARTITION BY order_month\n",
    "                     ORDER BY cnt DESC,\n",
    "                              book_average_rating DESC\n",
    "                    ) AS rnk\n",
    "               FROM monthly_orders\n",
    "          ),\n",
    "          month_total5 AS (\n",
    "             SELECT order_month,\n",
    "                    sum(cnt) AS total_orders5\n",
    "               FROM ranked_books\n",
    "              WHERE rnk <= 5\n",
    "           GROUP BY order_month\n",
    "          )\n",
    "   SELECT r.order_month,\n",
    "          book_name,\n",
    "          cnt,\n",
    "          rnk,\n",
    "          total_orders5,\n",
    "          (CAST(cnt AS NUMERIC) / NULLIF(total_orders5, 0)) * 100 AS total_ratio5\n",
    "     FROM ranked_books AS r\n",
    "     JOIN month_total5 AS m ON r.order_month = m.order_month\n",
    "    WHERE rnk <= 5\n",
    " ORDER BY order_month DESC,\n",
    "          rnk\n",
    ";"
   ]
  },
  {
   "cell_type": "markdown",
   "metadata": {},
   "source": []
  },
  {
   "cell_type": "markdown",
   "metadata": {},
   "source": [
    "Посчитайте процент заказов каждой книги из выборки в месяц от общих заказов книг из топа за все месяцы. Столбцы к выводу — order_month, book_name, cnt, rnk, total_orders_all, total_ratio5_all. Примечание. Долю нужно посчитать в процентах — не забудьте умножить на 100!"
   ]
  },
  {
   "cell_type": "code",
   "execution_count": null,
   "metadata": {
    "vscode": {
     "languageId": "sql"
    }
   },
   "outputs": [],
   "source": [
    "     WITH monthly_orders AS (\n",
    "             SELECT DATE_PART('month', order_date) AS order_month,\n",
    "                    b.book_name,\n",
    "                    o.book_id,\n",
    "                    COUNT(o.book_id) AS cnt,\n",
    "                    b.book_average_rating\n",
    "               FROM other.book_orders AS o\n",
    "               JOIN other.books AS b ON o.book_id = b.book_id\n",
    "              WHERE b.publishing_year >= 2011\n",
    "                AND o.order_date >= '2019-01-01'\n",
    "           GROUP BY order_month,\n",
    "                    b.book_name,\n",
    "                    o.book_id,\n",
    "                    b.book_average_rating\n",
    "          ),\n",
    "          ranked_books AS (\n",
    "             SELECT order_month,\n",
    "                    book_name,\n",
    "                    book_id,\n",
    "                    cnt,\n",
    "                    book_average_rating,\n",
    "                    DENSE_RANK() OVER (\n",
    "                    PARTITION BY order_month\n",
    "                     ORDER BY cnt DESC,\n",
    "                              book_average_rating DESC\n",
    "                    ) AS rnk\n",
    "               FROM monthly_orders\n",
    "          ),\n",
    "          ranked_book_orders_all AS (\n",
    "             SELECT SUM(cnt)::FLOAT AS total_orders_all\n",
    "               FROM ranked_books\n",
    "              WHERE rnk <= 5\n",
    "          )\n",
    "   SELECT rb.order_month,\n",
    "          rb.book_name,\n",
    "          rb.cnt,\n",
    "          rb.rnk,\n",
    "          rbo.total_orders_all,\n",
    "          (rb.cnt / rbo.total_orders_all) * 100 AS total_ratio_all\n",
    "     FROM ranked_books rb\n",
    "    CROSS JOIN ranked_book_orders_all rbo -- Используем CROSS JOIN для распространения значения\n",
    "    WHERE rb.rnk <= 5\n",
    " ORDER BY rb.order_month DESC,\n",
    "          rb.rnk\n",
    ";"
   ]
  },
  {
   "cell_type": "code",
   "execution_count": null,
   "metadata": {
    "vscode": {
     "languageId": "sql"
    }
   },
   "outputs": [],
   "source": [
    "     WITH monthly_orders AS (\n",
    "             SELECT DATE_PART('month', order_date) AS order_month,\n",
    "                    b.book_name,\n",
    "                    o.book_id,\n",
    "                    COUNT(o.book_id) AS cnt,\n",
    "                    b.book_average_rating\n",
    "               FROM other.book_orders AS o\n",
    "               JOIN other.books AS b ON o.book_id = b.book_id\n",
    "              WHERE b.publishing_year >= 2011\n",
    "                AND o.order_date >= '2019-01-01'\n",
    "           GROUP BY order_month,\n",
    "                    b.book_name,\n",
    "                    o.book_id,\n",
    "                    b.book_average_rating\n",
    "          ),\n",
    "          ranked_books AS (\n",
    "             SELECT order_month,\n",
    "                    book_name,\n",
    "                    book_id,\n",
    "                    cnt,\n",
    "                    book_average_rating,\n",
    "                    DENSE_RANK() OVER (\n",
    "                    PARTITION BY order_month\n",
    "                     ORDER BY cnt DESC,\n",
    "                              book_average_rating DESC\n",
    "                    ) AS rnk\n",
    "               FROM monthly_orders\n",
    "          ),\n",
    "          ranked_book_orders_all AS (\n",
    "             SELECT SUM(cnt)::FLOAT AS total_orders_all\n",
    "               FROM ranked_books\n",
    "              WHERE rnk <= 5\n",
    "          )\n",
    "   SELECT rb.order_month,\n",
    "          rb.book_name,\n",
    "          rb.cnt,\n",
    "          rb.rnk,\n",
    "          rbo.total_orders_all,\n",
    "          (rb.cnt * 100 / rbo.total_orders_all)  AS total_ratio_all\n",
    "     FROM ranked_books rb\n",
    "    CROSS JOIN ranked_book_orders_all rbo -- Используем CROSS JOIN для распространения значения\n",
    "    WHERE rb.rnk <= 5\n",
    " ORDER BY rb.order_month DESC,\n",
    "          rb.rnk\n",
    ";"
   ]
  },
  {
   "cell_type": "code",
   "execution_count": null,
   "metadata": {
    "vscode": {
     "languageId": "sql"
    }
   },
   "outputs": [],
   "source": [
    "     WITH rnk_books AS (\n",
    "             SELECT order_month,\n",
    "                    book_name,\n",
    "                    cnt,\n",
    "                    dense_rank() OVER (\n",
    "                    PARTITION BY order_month\n",
    "                     ORDER BY cnt DESC,\n",
    "                              book_average_rating DESC\n",
    "                    ) rnk\n",
    "               FROM (\n",
    "                       SELECT extract(\n",
    "                              MONTH\n",
    "                                   FROM order_date\n",
    "                              ) order_month,\n",
    "                              b.book_name,\n",
    "                              b.book_average_rating,\n",
    "                              count(*) cnt\n",
    "                         FROM other.\"book_orders\" o\n",
    "                         JOIN other.books b ON o.book_id = b.book_id\n",
    "                        WHERE b.publishing_year >= 2021 - 10\n",
    "                          AND order_date >= to_date('2019-01-01', 'YYYY-MM-DD')\n",
    "                     GROUP BY extract(\n",
    "                              MONTH\n",
    "                                   FROM order_date\n",
    "                              ),\n",
    "                              b.book_name,\n",
    "                              b.book_average_rating\n",
    "                    ) month_books\n",
    "          )\n",
    "   SELECT rnk_books.*,\n",
    "          sum(cnt) OVER () total_orders_all,\n",
    "          cnt * 100 / sum(cnt) OVER () total_ratio_all\n",
    "     FROM rnk_books\n",
    "    WHERE rnk <= 5\n",
    " ORDER BY order_month DESC,\n",
    "          rnk\n"
   ]
  },
  {
   "cell_type": "code",
   "execution_count": 2,
   "metadata": {},
   "outputs": [
    {
     "data": {
      "text/plain": [
       "2.0618556701030926"
      ]
     },
     "execution_count": 2,
     "metadata": {},
     "output_type": "execute_result"
    }
   ],
   "source": [
    "2 / 97 * 100"
   ]
  },
  {
   "cell_type": "markdown",
   "metadata": {},
   "source": [
    "order_month    book_name                                                   cnt    rnk    total_orders_all    total_ratio_all       \n",
    "-------------------------------------------------------------------------------------------------------------------------------\n",
    "4.0            Maybe Someday                                               3      1      97.0                3.0927835051546393    \n",
    "4.0            The Coincidence of Callie & Kayden                          3      2      97.0                3.0927835051546393    \n",
    "4.0            Queen of Shadows                                            2      3      97.0                2.061855670103093     \n",
    "4.0            Aristotle and Dante Discover the Secrets of the Universe    2      4      97.0                2.061855670103093     \n",
    "4.0            Point of Retreat                                            2      5      97.0                2.061855670103093     \n",
    "3.0            Maybe Someday                                               7      1      97.0                7.216494845360825     \n",
    "3.0            Beautiful Bastard                                           5      2      97.0                5.154639175257732     \n",
    "3.0            The Marriage Bargain                                        5      3      97.0                5.154639175257732     \n",
    "3.0            Seriously...I'm Kidding                                     5      4      97.0                5.154639175257732     \n",
    "3.0            Onyx                                                        4      5      97.0                4.123711340206186     \n",
    "2.0            Ugly Love                                                   7      1      97.0                7.216494845360825     \n",
    "2.0            Maybe Someday                                               6      2      97.0                6.185567010309279     \n",
    "2.0            The Alloy of Law                                            6      3      97.0                6.185567010309279     \n",
    "2.0            Between Shades of Gray                                      5      4      97.0                5.154639175257732     \n",
    "2.0            The Coincidence of Callie & Kayden                          5      5      97.0                5.154639175257732     \n",
    "1.0            Maybe Someday                                               6      1      97.0                6.185567010309279     \n",
    "1.0            Ugly Love                                                   6      2      97.0                6.185567010309279     \n",
    "1.0            Gabriel's Rapture                                           6      3      97.0                6.185567010309279     \n",
    "1.0            Unearthly                                                   6      4      97.0                6.185567010309279     \n",
    "1.0            Det som inte dÃ¶dar oss                                     6      5      97.0                6.185567010309279 "
   ]
  },
  {
   "cell_type": "markdown",
   "metadata": {},
   "source": [
    "order_month    book_name                                                   cnt    rnk    total_orders_all    total_ratio_all       \n",
    "-------------------------------------------------------------------------------------------------------------------------------\n",
    "4.0            Maybe Someday                                               3      1      97.0                3.0927835051546393    \n",
    "4.0            The Coincidence of Callie & Kayden                          3      2      97.0                3.0927835051546393    \n",
    "4.0            Queen of Shadows                                            2      3      97.0                2.0618556701030926    \n",
    "4.0            Aristotle and Dante Discover the Secrets of the Universe    2      4      97.0                2.0618556701030926    \n",
    "4.0            Point of Retreat                                            2      5      97.0                2.0618556701030926    \n",
    "3.0            Maybe Someday                                               7      1      97.0                7.216494845360824     \n",
    "3.0            Beautiful Bastard                                           5      2      97.0                5.154639175257731     \n",
    "3.0            The Marriage Bargain                                        5      3      97.0                5.154639175257731     \n",
    "3.0            Seriously...I'm Kidding                                     5      4      97.0                5.154639175257731     \n",
    "3.0            Onyx                                                        4      5      97.0                4.123711340206185     \n",
    "2.0            Ugly Love                                                   7      1      97.0                7.216494845360824     \n",
    "2.0            Maybe Someday                                               6      2      97.0                6.185567010309279     \n",
    "2.0            The Alloy of Law                                            6      3      97.0                6.185567010309279     \n",
    "2.0            Between Shades of Gray                                      5      4      97.0                5.154639175257731     \n",
    "2.0            The Coincidence of Callie & Kayden                          5      5      97.0                5.154639175257731     \n",
    "1.0            Maybe Someday                                               6      1      97.0                6.185567010309279     \n",
    "1.0            Ugly Love                                                   6      2      97.0                6.185567010309279     \n",
    "1.0            Gabriel's Rapture                                           6      3      97.0                6.185567010309279     \n",
    "1.0            Unearthly                                                   6      4      97.0                6.185567010309279     \n",
    "1.0            Det som inte dÃ¶dar oss                                     6      5      97.0                6.185567010309279"
   ]
  }
 ],
 "metadata": {
  "kernelspec": {
   "display_name": "Python 3",
   "language": "python",
   "name": "python3"
  },
  "language_info": {
   "codemirror_mode": {
    "name": "ipython",
    "version": 3
   },
   "file_extension": ".py",
   "mimetype": "text/x-python",
   "name": "python",
   "nbconvert_exporter": "python",
   "pygments_lexer": "ipython3",
   "version": "3.10.12"
  },
  "orig_nbformat": 4
 },
 "nbformat": 4,
 "nbformat_minor": 2
}
