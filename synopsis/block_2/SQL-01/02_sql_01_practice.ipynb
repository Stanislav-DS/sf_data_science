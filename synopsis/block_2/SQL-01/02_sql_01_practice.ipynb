{
 "cells": [
  {
   "cell_type": "markdown",
   "metadata": {},
   "source": [
    "# SQL-1. Практические задания"
   ]
  },
  {
   "cell_type": "markdown",
   "metadata": {},
   "source": [
    "## Задание 5.1 "
   ]
  },
  {
   "cell_type": "markdown",
   "metadata": {},
   "source": [
    "Какой режиссёр снял самый старый фильм в списке?\n",
    "\n",
    "```sql\n",
    "SELECT\n",
    "    director \n",
    "FROM sql.kinopoisk\n",
    "ORDER BY year \n",
    "LIMIT 1\n",
    "```\n",
    "\n",
    "**Чарльз Чаплин**"
   ]
  },
  {
   "cell_type": "markdown",
   "metadata": {},
   "source": [
    "## Задание 5.2"
   ]
  },
  {
   "cell_type": "markdown",
   "metadata": {},
   "source": [
    "В каком году был выпущен фильм, который занимает 111 строку в списке, отсортированном по рейтингу в порядке убывания?\n",
    "При равенстве рейтинга отсортируйте по названию фильма в алфавитном порядке.\n",
    "\n",
    "\n",
    "```sql\n",
    "SELECT year\n",
    "FROM sql.kinopoisk\n",
    "ORDER BY rating DESC, movie_title ASC\n",
    "OFFSET 110 LIMIT 1\n",
    "```\n",
    "\n",
    "**2005**"
   ]
  },
  {
   "cell_type": "markdown",
   "metadata": {},
   "source": [
    "## Задание 5.3"
   ]
  },
  {
   "cell_type": "markdown",
   "metadata": {},
   "source": [
    "Напишите запрос, который выводит столбцы «Название фильма» (`movie_title`), «Режиссёр» (`director`), «Сценарист» (`screenwriter`), «Актёры» (`actors`). Оставьте только те фильмы, у которых:\n",
    "\n",
    "* рейтинг между 8 и 8.5 (включительно) ИЛИ год выхода в прокат до 1990;\n",
    "* есть описание;\n",
    "* название начинается не с буквы 'Т';\n",
    "* название состоит ровно из 12 символов.\n",
    "\n",
    "Оставьте только топ-7 фильмов, отсортированных по рейтингу.\n",
    "\n",
    "```sql\n",
    "SELECT\n",
    "    movie_title,\n",
    "    director,\n",
    "    screenwriter,\n",
    "    actors\n",
    "FROM sql.kinopoisk\n",
    "WHERE ((rating BETWEEN 8 AND 8.5) OR (year < 1990)) AND\n",
    "    (overview IS NOT Null) AND\n",
    "    (movie_title NOT LIKE 'Т%') AND\n",
    "    (movie_title LIKE '____________')\n",
    "ORDER BY rating DESC\n",
    "LIMIT 7\n",
    "```"
   ]
  }
 ],
 "metadata": {
  "language_info": {
   "name": "python"
  },
  "orig_nbformat": 4
 },
 "nbformat": 4,
 "nbformat_minor": 2
}
