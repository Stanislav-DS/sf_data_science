{
 "cells": [
  {
   "cell_type": "markdown",
   "metadata": {},
   "source": [
    "# SQL-1. Практические задания"
   ]
  },
  {
   "cell_type": "markdown",
   "metadata": {},
   "source": [
    "## Задание 5.1 "
   ]
  },
  {
   "cell_type": "markdown",
   "metadata": {},
   "source": [
    "Какой режиссёр снял самый старый фильм в списке?\n",
    "\n",
    "```sql\n",
    "SELECT\n",
    "    director\n",
    "FROM\n",
    "    sql.kinopoisk\n",
    "ORDER BY\n",
    "    year\n",
    "LIMIT\n",
    "    1\n",
    "```\n",
    "\n",
    "**Чарльз Чаплин**"
   ]
  },
  {
   "cell_type": "markdown",
   "metadata": {},
   "source": [
    "## Задание 5.2"
   ]
  },
  {
   "cell_type": "markdown",
   "metadata": {},
   "source": [
    "В каком году был выпущен фильм, который занимает 111 строку в списке, отсортированном по рейтингу в порядке убывания?\n",
    "При равенстве рейтинга отсортируйте по названию фильма в алфавитном порядке.\n",
    "\n",
    "\n",
    "```sql\n",
    "SELECT\n",
    "    year\n",
    "FROM\n",
    "    sql.kinopoisk\n",
    "ORDER BY\n",
    "    rating DESC,\n",
    "    movie_title ASC OFFSET 110\n",
    "LIMIT\n",
    "    1\n",
    "```\n",
    "\n",
    "**2005**"
   ]
  },
  {
   "cell_type": "markdown",
   "metadata": {},
   "source": [
    "## Задание 5.3"
   ]
  },
  {
   "cell_type": "markdown",
   "metadata": {},
   "source": [
    "Напишите запрос, который выводит столбцы «Название фильма» (`movie_title`), «Режиссёр» (`director`), «Сценарист» (`screenwriter`), «Актёры» (`actors`). Оставьте только те фильмы, у которых:\n",
    "\n",
    "* рейтинг между 8 и 8.5 (включительно) ИЛИ год выхода в прокат до 1990;\n",
    "* есть описание;\n",
    "* название начинается не с буквы 'Т';\n",
    "* название состоит ровно из 12 символов.\n",
    "\n",
    "Оставьте только топ-7 фильмов, отсортированных по рейтингу.\n",
    "\n",
    "```sql\n",
    "SELECT\n",
    "    movie_title,\n",
    "    director,\n",
    "    screenwriter,\n",
    "    actors\n",
    "FROM\n",
    "    sql.kinopoisk\n",
    "WHERE\n",
    "    (\n",
    "        rating BETWEEN 8\n",
    "        AND 8.5\n",
    "        OR year < 1990\n",
    "    )\n",
    "    AND (overview IS NOT Null)\n",
    "    AND (movie_title NOT LIKE 'Т%')\n",
    "    AND (movie_title LIKE '____________')\n",
    "ORDER BY\n",
    "    rating DESC\n",
    "LIMIT\n",
    "    7\n",
    "```"
   ]
  }
 ],
 "metadata": {
  "language_info": {
   "name": "python"
  },
  "orig_nbformat": 4
 },
 "nbformat": 4,
 "nbformat_minor": 2
}
