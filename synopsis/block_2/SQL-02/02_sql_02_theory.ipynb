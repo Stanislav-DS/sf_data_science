{
 "cells": [
  {
   "cell_type": "markdown",
   "metadata": {},
   "source": [
    "# SQL-02. Агрегатные функции."
   ]
  },
  {
   "cell_type": "markdown",
   "metadata": {},
   "source": [
    "## Данные о покемонах"
   ]
  },
  {
   "cell_type": "markdown",
   "metadata": {},
   "source": [
    "В этом модуле мы познакомимся с агрегатными функциями.\n",
    "\n",
    "И помогут нам в этом... покемоны! Как? Да очень просто!\n",
    "\n",
    "На протяжении всего модуля мы будем работать с таблицей sql.pokemon, содержащей данные о покемонах и их характеристиках из классических видеоигр.\n",
    "\n",
    "Давайте познакомимся с нашими покемонами и данными о них!\n",
    "\n",
    "Присмотримся к содержимому таблицы sql.pokemon: в ней хранится информация о покемонах.\n",
    "\n",
    "\n",
    "| Название поля\t| Содержимое                |\n",
    "|---------------|---------------------------|\n",
    "| id            | уникальный идентификатор  |\n",
    "| name          | имя                       |\n",
    "| type1         | основной тип              |\n",
    "| type2         | дополнительный тип        |\n",
    "| hp            | количество очков здоровья |\n",
    "| attack        | показатели атаки          |\n",
    "| defense       | показатели защиты         |\n",
    "| speed         | показатели скорости       |"
   ]
  },
  {
   "cell_type": "markdown",
   "metadata": {},
   "source": [
    "**Агрегатные функции** помогают вычислять сводные значения для группы строк."
   ]
  },
  {
   "cell_type": "markdown",
   "metadata": {},
   "source": [
    "## Убираем повторы"
   ]
  },
  {
   "cell_type": "markdown",
   "metadata": {},
   "source": [
    "Для начала получим все основные типы покемонов.\n",
    "\n",
    "\n",
    "```sql\n",
    "SELECT\n",
    "    type1\n",
    "FROM sql.pokemon\n",
    "```\n",
    "\n",
    "Видно, что типы повторяются, потому что в результате запроса вы получаете все строки, которые подходят под заданные условия.\n",
    "\n",
    "Чтобы получить уникальные значения из столбца, воспользуемся ключевым словом `DISTINCT`.\n",
    "\n",
    "\n",
    "```sql\n",
    "SELECT DISTINCT\n",
    "    type1\n",
    "FROM sql.pokemon\n",
    "\n",
    "```\n",
    "\n",
    "Получим, например, все уникальные пары основного и дополнительного типов для покемонов.\n",
    "\n",
    "\n",
    "```sql\n",
    "SELECT DISTINCT\n",
    "    type1,\n",
    "    type2\n",
    "FROM sql.pokemon\n",
    "```\n",
    "\n",
    "Обратите внимание! `DISTINCT` пишется только один раз, в начале списка получаемых столбцов."
   ]
  },
  {
   "cell_type": "markdown",
   "metadata": {},
   "source": [
    "## Основные агрегатные функции"
   ]
  },
  {
   "cell_type": "markdown",
   "metadata": {},
   "source": [
    "### Подсчёт количества строк"
   ]
  },
  {
   "cell_type": "markdown",
   "metadata": {},
   "source": [
    "Давайте посчитаем количество строк в таблице. Для этого применим агрегатную функцию `COUNT`.\n",
    "\n",
    "\n",
    "```sql\n",
    "SELECT\n",
    "    COUNT(*)\n",
    "FROM sql.pokemon\n",
    "```\n",
    "\n",
    "`COUNT` считает строки, а звёздочка (`*`) в аргументе функции означает, что считаются все строки, которые возвращает запрос.\n",
    "\n",
    "**Если в аргументе функции указать название столбца, функция обработает только строки с непустым значением.**\n",
    "\n",
    "**Задание 3.1**\n",
    "\n",
    "Сколько покемонов имеет дополнительный тип?\n",
    "\n",
    "```sql\n",
    "SELECT\n",
    "    COUNT(type2)\n",
    "FROM sql.pokemon\n",
    "```\n",
    "\n",
    "**Ответ:** 414"
   ]
  },
  {
   "cell_type": "markdown",
   "metadata": {},
   "source": [
    "Внутри функции `COUNT` мы можем также применять `DISTINCT`, чтобы вычислить количество уникальных значений.\n",
    "\n",
    "\n",
    "```sql\n",
    "SELECT\n",
    "    COUNT(DISTINCT type1)\n",
    "FROM sql.pokemon\n",
    "```\n",
    "\n",
    "**Задание 3.2**\n",
    "\n",
    "Совпадает ли количество различных основных и дополнительных типов?\n",
    "\n",
    "**Ответ:** Совпадает"
   ]
  },
  {
   "cell_type": "markdown",
   "metadata": {},
   "source": [
    "### Описание функций"
   ]
  },
  {
   "cell_type": "markdown",
   "metadata": {},
   "source": [
    "Назовём основные агрегатные функции, с которыми нам предстоит работать:\n",
    "\n",
    "* `COUNT` — вычисляет число непустых строк;<br><br>\n",
    "* `SUM` — вычисляет сумму;<br><br>\n",
    "* `AVG` — вычисляет среднее;<br><br>\n",
    "* `MAX` — вычисляет максимум;<br><br>\n",
    "* `MIN` — вычисляет минимум.<br><br>\n"
   ]
  },
  {
   "cell_type": "markdown",
   "metadata": {},
   "source": [
    "**Задание 3.3**\n",
    "\n",
    "Найдите максимальное значение атаки среди всех покемонов.\n",
    "\n",
    "\n",
    "```sql\n",
    "SELECT\n",
    "    MAX(attack)\n",
    "FROM sql.pokemon\n",
    "```\n",
    "\n",
    "**Ответ:** 190\n",
    "\n",
    "Разумеется, вы можете использовать в запросе фильтрацию строк с помощью `WHERE`, чтобы получить агрегированное значение только для отдельных строк."
   ]
  },
  {
   "cell_type": "markdown",
   "metadata": {},
   "source": [
    "**Задание 3.4**\n",
    "\n",
    "```sql\n",
    "SELECT\n",
    "    AVG(hp)\n",
    "FROM\n",
    "    sql.pokemon\n",
    "WHERE\n",
    "    type1 = 'Dragon'\n",
    "```\n",
    "\n",
    "**Ответ:** 83"
   ]
  },
  {
   "cell_type": "markdown",
   "metadata": {},
   "source": [
    "### Несколько функций в одном запросе"
   ]
  },
  {
   "cell_type": "markdown",
   "metadata": {},
   "source": [
    "Кроме того, мы можем применять несколько агрегатных функций в одном запросе.\n",
    "\n",
    "\n",
    "```sql\n",
    "SELECT\n",
    "    COUNT(*) AS \"всего травяных покемонов\",\n",
    "    COUNT(type2) AS \"покемонов с дополнительным типом\",\n",
    "    AVG(attack) AS \"средняя атака\",\n",
    "    AVG(defense) AS \"средняя защита\"\n",
    "FROM\n",
    "    sql.pokemon\n",
    "WHERE\n",
    "    type1 = 'Grass'\n",
    "```"
   ]
  },
  {
   "cell_type": "markdown",
   "metadata": {},
   "source": [
    "**ДОПОЛНИТЕЛЬНО**\n",
    "\n",
    "С полным перечнем существующих агрегатных функций вы можете ознакомиться в [официальной документации](https://postgrespro.ru/docs/postgrespro/11/functions-aggregate)."
   ]
  },
  {
   "cell_type": "markdown",
   "metadata": {},
   "source": [
    "### Задание 3.5"
   ]
  },
  {
   "cell_type": "markdown",
   "metadata": {},
   "source": [
    "Напишите запрос, который выведет:\n",
    "\n",
    "* количество покемонов (столбец `pokemon_count`),<br><br>\n",
    "* среднюю скорость (столбец `avg_speed`),<br><br>\n",
    "* максимальное и минимальное число очков здоровья (столбцы `max_hp` и `min_hp`)<br><br>\n",
    "\n",
    "для электрических (`Electric`) покемонов, имеющих дополнительный тип и показатели атаки или защиты больше 50.\n",
    "\n",
    "\n",
    "```sql\n",
    "SELECT\n",
    "    COUNT(*) AS pokemon_count,\n",
    "    AVG(speed) AS avg_speed,\n",
    "    MAX(hp) AS max_hp,\n",
    "    MIN(hp) AS min_hp\n",
    "FROM\n",
    "    sql.pokemon\n",
    "WHERE\n",
    "    type1 = 'Electric'\n",
    "    AND type2 IS NOT Null\n",
    "    AND (\n",
    "        attack > 50\n",
    "        OR defense > 50\n",
    "    )\n",
    "```"
   ]
  },
  {
   "cell_type": "markdown",
   "metadata": {},
   "source": [
    "## Группировка"
   ]
  },
  {
   "cell_type": "markdown",
   "metadata": {},
   "source": [
    "Как мы помним, агрегатные функции вычисляют какой-то параметр для набора строк.\n",
    "\n",
    "Прежде мы применяли агрегатные функции для всего вывода, а сейчас используем для различных групп строк. Поможет нам в этом ключевое слово `GROUP BY`.\n",
    "\n",
    "`GROUP BY` используется для определения групп выходных строк, к которым могут применяться агрегатные функции.\n",
    "\n",
    "\n",
    "```sql\n",
    "SELECT\n",
    "    type1 AS pokemon_type,\n",
    "    COUNT(*) AS pokemon_count\n",
    "FROM\n",
    "    sql.pokemon\n",
    "GROUP BY\n",
    "    type1\n",
    "ORDER BY\n",
    "    type1\n",
    "```\n",
    "\n",
    "Конечно же, можно сортировать по столбцу с агрегированием.\n",
    "\n",
    "Представим ТОП существующих типов покемонов.\n",
    "\n",
    "\n",
    "```sql\n",
    "SELECT\n",
    "    type1 AS pokemon_type,\n",
    "    COUNT(*) AS pokemon_count\n",
    "FROM\n",
    "    sql.pokemon\n",
    "GROUP BY\n",
    "    pokemon_type\n",
    "ORDER BY\n",
    "    COUNT(*) DESC\n",
    "```\n",
    "\n",
    "**Обратите внимание!** Мы использовали в группировке не название столбца, а его алиас."
   ]
  },
  {
   "cell_type": "markdown",
   "metadata": {},
   "source": [
    "**Задание 4.1**\n",
    "\n",
    "Напишите запрос, который выведет:\n",
    "\n",
    "* число различных дополнительных типов (столбец `additional_types_count`),<br><br>\n",
    "* среднее число очков здоровья (столбец `avg_hp`),<br><br>\n",
    "* сумму показателей атаки (столбец `attack_sum`) в разбивке по основным типам (столбец `primary_type`).<br><br>\n",
    "Отсортируйте результат по числу дополнительных типов в порядке убывания, при равенстве — по основному типу в алфавитном порядке. Столбцы к выводу (обратите внимание на порядок!): `primary_type`, `additional_types_count`, `avg_hp`, `attack_sum`.\n",
    "\n",
    "\n",
    "```sql\n",
    "SELECT\n",
    "    type1 AS primary_type,\n",
    "    COUNT(DISTINCT type2) AS additional_types_count,\n",
    "    AVG(hp) AS avg_hp,\n",
    "    SUM(attack) AS attack_sum\n",
    "FROM\n",
    "    sql.pokemon\n",
    "GROUP BY\n",
    "    type1\n",
    "ORDER BY\n",
    "    COUNT(type2) DESC,\n",
    "    type1 ASC\n",
    "```"
   ]
  },
  {
   "cell_type": "markdown",
   "metadata": {},
   "source": [
    "Мы можем осуществлять группировку по нескольким столбцам.\n",
    "\n",
    "\n",
    "```sql\n",
    "SELECT\n",
    "    type1 AS primary_type,\n",
    "    type2 AS additional_type,\n",
    "    COUNT(*) AS pokemon_count\n",
    "FROM\n",
    "    sql.pokemon\n",
    "GROUP BY\n",
    "    1,\n",
    "    2\n",
    "ORDER BY\n",
    "    1,\n",
    "    2 NULLS FIRST\n",
    "```\n",
    "\n",
    "**Обратите внимание!** В группировке можно указывать порядковый номер столбца так же, как мы делали это в прошлом модуле для сортировки.\n",
    "\n",
    "`GROUP BY` можно использовать и без агрегатных функций. Тогда его действие будет равносильно действию `DISTINCT`.\n",
    "\n",
    "Сравните выводы двух запросов:\n",
    "\n",
    "```sql\n",
    "SELECT\n",
    "    DISTINCT type1\n",
    "FROM\n",
    "    sql.pokemon\n",
    "```\n",
    "\n",
    "\n",
    "```sql\n",
    "SELECT\n",
    "    type1\n",
    "FROM\n",
    "    sql.pokemon\n",
    "GROUP BY\n",
    "    type1\n",
    "```"
   ]
  },
  {
   "cell_type": "markdown",
   "metadata": {},
   "source": [
    "## Фильтрация агрегированных строк"
   ]
  },
  {
   "cell_type": "markdown",
   "metadata": {},
   "source": [
    "Если ключевое слово `WHERE` определяет фильтрацию строк до агрегирования, то для фильтрации уже агрегированных данных применяется ключевое слово `HAVING`\n",
    "\n",
    "Выведем типы покемонов и их средний показатель атаки, при этом оставим только тех, у кого средняя атака больше 90.\n",
    "\n",
    "\n",
    "```sql\n",
    "SELECT\n",
    "    type1 AS primary_type,\n",
    "    AVG(attack) AS avg_attack\n",
    "FROM\n",
    "    sql.pokemon\n",
    "GROUP BY\n",
    "    primary_type\n",
    "HAVING\n",
    "    AVG(attack) > 90\n",
    "```\n",
    "\n",
    "Попробуйте удалить из запроса вывод второго столбца (со средним показателем атаки).\n",
    "\n",
    "Что получилось?\n",
    "\n",
    "Запрос работает и выводит только названия типов, у которых средний показатель атаки выше 90.\n",
    "\n",
    "В `HAVING` вы можете использовать все те же условия, что и в `WHERE`."
   ]
  },
  {
   "cell_type": "markdown",
   "metadata": {},
   "source": [
    "**ДОПОЛНИТЕЛЬНО**\n",
    "\n",
    "Об отличиях HAVING от WHERE можно прочитать в [официальной документации](https://postgrespro.ru/docs/postgresql/11/tutorial-agg)."
   ]
  },
  {
   "cell_type": "markdown",
   "metadata": {},
   "source": [
    "**ВМЕСТО РЕЗЮМЕ**\n",
    "\n",
    "В общем виде синтаксис оператора `SELECT`, с учётом имеющихся на данный момент знаний, представляем следующим образом:\n",
    "\n",
    "\n",
    "```sql\n",
    "SELECT [ALL | DISTINCT] список_столбцов|*\n",
    "FROM список_имён_таблиц\n",
    "[WHERE условие_поиска]\n",
    "[GROUP BY список_имён_столбцов]\n",
    "[HAVING условие_поиска]\n",
    "[ORDER BY имя_столбца [ASC | DESC],…]\n",
    "```\n",
    "\n",
    "Обратите внимание! В квадратных скобках указаны необязательные предложения: они могут отсутствовать в операторе `SELECT`."
   ]
  },
  {
   "cell_type": "markdown",
   "metadata": {},
   "source": [
    "### Задание 5.1"
   ]
  },
  {
   "cell_type": "markdown",
   "metadata": {},
   "source": [
    "Напишите запрос, который выведет основной и дополнительный типы покемонов (столбцы `primary_type` и `additional_type`) для тех, у кого средний показатель атаки больше 100 и максимальный показатель очков здоровья меньше 80.\n",
    "\n",
    "```sql\n",
    "SELECT\n",
    "    type1 AS primary_type,\n",
    "    type2 AS additional_type\n",
    "FROM\n",
    "    sql.pokemon\n",
    "GROUP BY\n",
    "    type1,\n",
    "    type2\n",
    "HAVING\n",
    "    AVG(attack) > 100\n",
    "    AND MAX(hp) < 80\n",
    "```"
   ]
  },
  {
   "cell_type": "markdown",
   "metadata": {},
   "source": [
    "### Задание 5.2"
   ]
  },
  {
   "cell_type": "markdown",
   "metadata": {},
   "source": [
    "Напишите запрос, чтобы для покемонов, чьё имя (`name`) начинается с S, вывести столбцы с их основным типом (`primary_type`) и общим числом покемонов этого типа (`pokemon_count`). Оставьте только те типы, у которых средний показатель защиты больше \n",
    "80. Выведите топ-3 типов по числу покемонов в них.\n",
    "\n",
    "\n",
    "```sql\n",
    "SELECT\n",
    "    type1,\n",
    "    COUNT(*) AS pokemon_count\n",
    "FROM\n",
    "    sql.pokemon\n",
    "WHERE\n",
    "    name LIKE 'S%'\n",
    "GROUP BY\n",
    "    type1\n",
    "HAVING\n",
    "    AVG(defense) > 80\n",
    "ORDER BY\n",
    "    pokemon_count DESC\n",
    "LIMIT\n",
    "    3\n",
    "```"
   ]
  },
  {
   "cell_type": "markdown",
   "metadata": {},
   "source": [
    "## ИТОГИ"
   ]
  },
  {
   "cell_type": "markdown",
   "metadata": {},
   "source": [
    "И в довершение итогов напомним структуру запроса, который мы можем составить с учётом новых знаний:\n",
    "\n",
    "\n",
    "```sql\n",
    "SELECT\n",
    "    столбец1 AS новое_название,\n",
    "    столбец2,\n",
    "    АГРЕГАТ(столбец3)\n",
    "FROM\n",
    "    таблица\n",
    "WHERE\n",
    "    (\n",
    "        условие1\n",
    "        OR условие2\n",
    "    )\n",
    "    AND условие3\n",
    "GROUP BY\n",
    "    столбец1,\n",
    "    столбец2\n",
    "HAVING\n",
    "    АГРЕГАТ(столбец3) > 5\n",
    "ORDER BY\n",
    "    сортировка1,\n",
    "    сортировка2 OFFSET 1\n",
    "LIMIT\n",
    "    2\n",
    "```"
   ]
  },
  {
   "cell_type": "markdown",
   "metadata": {},
   "source": [
    "### Задание 6.1"
   ]
  },
  {
   "cell_type": "markdown",
   "metadata": {},
   "source": [
    "Сколько различных значений показателей атаки есть у покемонов с типом `Water` (основным или дополнительным)?\n",
    "\n",
    "```sql\n",
    "SELECT\n",
    "    COUNT(DISTINCT attack)\n",
    "FROM\n",
    "    sql.pokemon\n",
    "WHERE\n",
    "    type1 = 'Water'\n",
    "    OR type2 = 'Water'\n",
    "```\n",
    "\n",
    "**Ответ:** 53"
   ]
  },
  {
   "cell_type": "markdown",
   "metadata": {},
   "source": [
    "### Задание 6.2"
   ]
  },
  {
   "cell_type": "markdown",
   "metadata": {},
   "source": [
    "Напишите запрос, который выведет основной и дополнительный типы покемонов и средние значения по каждому показателю (столбцы `avg_hp`, `avg_attack`, `avg_defense`, `avg_speed`).Оставьте только те пары типов, у которых сумма этих четырёх показателей более 400.\n",
    "\n",
    "\n",
    "```sql\n",
    "SELECT\n",
    "    type1,\n",
    "    type2,\n",
    "    AVG(hp) AS avg_hp,\n",
    "    AVG(attack) AS avg_attack,\n",
    "    AVG(defense) AS avg_defense,\n",
    "    AVG(speed) AS avg_speed\n",
    "FROM\n",
    "    sql.pokemon\n",
    "GROUP BY\n",
    "    type1,\n",
    "    type2\n",
    "HAVING\n",
    "    AVG(hp) + AVG(attack) + AVG(defense) + AVG(speed) > 400\n",
    "```"
   ]
  },
  {
   "cell_type": "markdown",
   "metadata": {},
   "source": [
    "### Задание 6.3"
   ]
  },
  {
   "cell_type": "markdown",
   "metadata": {},
   "source": [
    "Напишите запрос, который выведет столбцы с основным типом покемона и общим количеством покемонов этого типа. Учитывайте только тех покемонов, у кого или показатель атаки, или показатель защиты принимает значение между 50 и 100 включительно. Оставьте только те типы покемонов, у которых максимальный показатель здоровья не больше 125. Выведите только тот тип, который находится на пятом месте по количеству покемонов.\n",
    "\n",
    "\n",
    "```sql\n",
    "SELECT\n",
    "    type1,\n",
    "    COUNT(type1)\n",
    "FROM\n",
    "    sql.pokemon\n",
    "WHERE\n",
    "    (\n",
    "        attack BETWEEN 50\n",
    "        AND 100\n",
    "    )\n",
    "    OR (\n",
    "        defense BETWEEN 50\n",
    "        AND 100\n",
    "    )\n",
    "GROUP BY\n",
    "    type1\n",
    "HAVING\n",
    "    MAX(hp) < 125\n",
    "ORDER BY\n",
    "    COUNT DESC OFFSET 4\n",
    "LIMIT\n",
    "    1\n",
    "```"
   ]
  }
 ],
 "metadata": {
  "language_info": {
   "name": "python"
  },
  "orig_nbformat": 4
 },
 "nbformat": 4,
 "nbformat_minor": 2
}
