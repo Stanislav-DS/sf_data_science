{
 "cells": [
  {
   "cell_type": "markdown",
   "metadata": {},
   "source": [
    "# SQL-02. Агрегатные функции."
   ]
  },
  {
   "cell_type": "markdown",
   "metadata": {},
   "source": [
    "## Данные о покемонах"
   ]
  },
  {
   "cell_type": "markdown",
   "metadata": {},
   "source": [
    "В этом модуле мы познакомимся с агрегатными функциями.\n",
    "\n",
    "И помогут нам в этом... покемоны! Как? Да очень просто!\n",
    "\n",
    "На протяжении всего модуля мы будем работать с таблицей sql.pokemon, содержащей данные о покемонах и их характеристиках из классических видеоигр.\n",
    "\n",
    "Давайте познакомимся с нашими покемонами и данными о них!\n",
    "\n",
    "Присмотримся к содержимому таблицы sql.pokemon: в ней хранится информация о покемонах.\n",
    "\n",
    "\n",
    "| Название поля\t| Содержимое                |\n",
    "|---------------|---------------------------|\n",
    "| id            | уникальный идентификатор  |\n",
    "| name          | имя                       |\n",
    "| type1         | основной тип              |\n",
    "| type2         | дополнительный тип        |\n",
    "| hp            | количество очков здоровья |\n",
    "| attack        | показатели атаки          |\n",
    "| defense       | показатели защиты         |\n",
    "| speed         | показатели скорости       |"
   ]
  },
  {
   "cell_type": "markdown",
   "metadata": {},
   "source": [
    "**Агрегатные функции** помогают вычислять сводные значения для группы строк."
   ]
  },
  {
   "cell_type": "markdown",
   "metadata": {},
   "source": [
    "## Убираем повторы"
   ]
  },
  {
   "cell_type": "markdown",
   "metadata": {},
   "source": [
    "Для начала получим все основные типы покемонов.\n",
    "\n",
    "\n",
    "```sql\n",
    "SELECT\n",
    "    type1\n",
    "FROM sql.pokemon\n",
    "```\n",
    "\n",
    "Видно, что типы повторяются, потому что в результате запроса вы получаете все строки, которые подходят под заданные условия.\n",
    "\n",
    "Чтобы получить уникальные значения из столбца, воспользуемся ключевым словом `DISTINCT`.\n",
    "\n",
    "\n",
    "```sql\n",
    "SELECT DISTINCT\n",
    "    type1\n",
    "FROM sql.pokemon\n",
    "\n",
    "```\n",
    "\n",
    "Получим, например, все уникальные пары основного и дополнительного типов для покемонов.\n",
    "\n",
    "\n",
    "```sql\n",
    "SELECT DISTINCT\n",
    "    type1,\n",
    "    type2\n",
    "FROM sql.pokemon\n",
    "```\n",
    "\n",
    "Обратите внимание! `DISTINCT` пишется только один раз, в начале списка получаемых столбцов."
   ]
  },
  {
   "cell_type": "markdown",
   "metadata": {},
   "source": [
    "## Основные агрегатные функции"
   ]
  },
  {
   "cell_type": "markdown",
   "metadata": {},
   "source": [
    "### Подсчёт количества строк"
   ]
  },
  {
   "cell_type": "markdown",
   "metadata": {},
   "source": [
    "Давайте посчитаем количество строк в таблице. Для этого применим агрегатную функцию `COUNT`.\n",
    "\n",
    "\n",
    "```sql\n",
    "SELECT\n",
    "    COUNT(*)\n",
    "FROM sql.pokemon\n",
    "```\n",
    "\n",
    "`COUNT` считает строки, а звёздочка (`*`) в аргументе функции означает, что считаются все строки, которые возвращает запрос.\n",
    "\n",
    "**Если в аргументе функции указать название столбца, функция обработает только строки с непустым значением.**\n",
    "\n",
    "**Задание 3.1**\n",
    "\n",
    "Сколько покемонов имеет дополнительный тип?\n",
    "\n",
    "```sql\n",
    "SELECT\n",
    "    COUNT(type2)\n",
    "FROM sql.pokemon\n",
    "```\n",
    "\n",
    "**Ответ:** 414"
   ]
  },
  {
   "cell_type": "markdown",
   "metadata": {},
   "source": [
    "Внутри функции `COUNT` мы можем также применять `DISTINCT`, чтобы вычислить количество уникальных значений.\n",
    "\n",
    "\n",
    "```sql\n",
    "SELECT\n",
    "    COUNT(DISTINCT type1)\n",
    "FROM sql.pokemon\n",
    "```\n",
    "\n",
    "**Задание 3.2**\n",
    "\n",
    "Совпадает ли количество различных основных и дополнительных типов?\n",
    "\n",
    "**Ответ:** Совпадает"
   ]
  },
  {
   "cell_type": "markdown",
   "metadata": {},
   "source": [
    "### Описание функций"
   ]
  },
  {
   "cell_type": "markdown",
   "metadata": {},
   "source": [
    "Назовём основные агрегатные функции, с которыми нам предстоит работать:\n",
    "\n",
    "* `COUNT` — вычисляет число непустых строк;<br><br>\n",
    "* `SUM` — вычисляет сумму;<br><br>\n",
    "* `AVG` — вычисляет среднее;<br><br>\n",
    "* `MAX` — вычисляет максимум;<br><br>\n",
    "* `MIN` — вычисляет минимум.<br><br>\n"
   ]
  },
  {
   "cell_type": "markdown",
   "metadata": {},
   "source": [
    "**Задание 3.3**\n",
    "\n",
    "Найдите максимальное значение атаки среди всех покемонов.\n",
    "\n",
    "\n",
    "```sql\n",
    "SELECT\n",
    "    MAX(attack)\n",
    "FROM sql.pokemon\n",
    "```\n",
    "\n",
    "**Ответ:** 190\n",
    "\n",
    "Разумеется, вы можете использовать в запросе фильтрацию строк с помощью `WHERE`, чтобы получить агрегированное значение только для отдельных строк."
   ]
  },
  {
   "cell_type": "markdown",
   "metadata": {},
   "source": [
    "**Задание 3.4**\n",
    "\n",
    "```sql\n",
    "SELECT\n",
    "    AVG(hp)\n",
    "FROM sql.pokemon\n",
    "WHERE type1 = 'Dragon'\n",
    "```\n",
    "\n",
    "**Ответ:** 83"
   ]
  },
  {
   "cell_type": "markdown",
   "metadata": {},
   "source": [
    "### Несколько функций в одном запросе"
   ]
  },
  {
   "cell_type": "markdown",
   "metadata": {},
   "source": [
    "Кроме того, мы можем применять несколько агрегатных функций в одном запросе.\n",
    "\n",
    "\n",
    "```sql\n",
    "SELECT\n",
    "    COUNT(*) AS \"всего травяных покемонов\",\n",
    "    COUNT(type2) AS \"покемонов с дополнительным типом\",\n",
    "    AVG(attack) AS \"средняя атака\",\n",
    "    AVG(defense) AS \"средняя защита\"\n",
    "FROM sql.pokemon\n",
    "WHERE type1 = 'Grass'\n",
    "```"
   ]
  },
  {
   "cell_type": "markdown",
   "metadata": {},
   "source": [
    "**ДОПОЛНИТЕЛЬНО**\n",
    "\n",
    "С полным перечнем существующих агрегатных функций вы можете ознакомиться в [официальной документации](https://postgrespro.ru/docs/postgrespro/11/functions-aggregate)."
   ]
  },
  {
   "cell_type": "markdown",
   "metadata": {},
   "source": [
    "### Задание 3.5"
   ]
  },
  {
   "cell_type": "markdown",
   "metadata": {},
   "source": [
    "Напишите запрос, который выведет:\n",
    "\n",
    "* количество покемонов (столбец `pokemon_count`),<br><br>\n",
    "* среднюю скорость (столбец `avg_speed`),<br><br>\n",
    "* максимальное и минимальное число очков здоровья (столбцы `max_hp` и `min_hp`)<br><br>\n",
    "\n",
    "для электрических (`Electric`) покемонов, имеющих дополнительный тип и показатели атаки или защиты больше 50.\n",
    "\n",
    "\n",
    "```sql\n",
    "SELECT\n",
    "    COUNT(*) AS pokemon_count,\n",
    "    AVG(speed) AS avg_speed,\n",
    "    MAX(hp) AS max_hp,\n",
    "    MIN(hp) AS min_hp\n",
    "FROM sql.pokemon\n",
    "WHERE type1='Electric' AND \n",
    "      type2 IS NOT Null AND\n",
    "      (attack > 50 OR defense > 50)\n",
    "```"
   ]
  },
  {
   "cell_type": "markdown",
   "metadata": {},
   "source": [
    "## Группировка"
   ]
  },
  {
   "cell_type": "markdown",
   "metadata": {},
   "source": [
    "Как мы помним, агрегатные функции вычисляют какой-то параметр для набора строк.\n",
    "\n",
    "Прежде мы применяли агрегатные функции для всего вывода, а сейчас используем для различных групп строк. Поможет нам в этом ключевое слово `GROUP BY`.\n",
    "\n",
    "`GROUP BY` используется для определения групп выходных строк, к которым могут применяться агрегатные функции.\n",
    "\n",
    "\n",
    "```sql\n",
    "SELECT\n",
    "    type1 AS pokemon_type,\n",
    "    COUNT(*) AS pokemon_count\n",
    "FROM sql.pokemon\n",
    "GROUP BY type1\n",
    "ORDER BY type1\n",
    "```\n",
    "\n",
    "Конечно же, можно сортировать по столбцу с агрегированием.\n",
    "\n",
    "Представим ТОП существующих типов покемонов.\n",
    "\n",
    "\n",
    "```sql\n",
    "SELECT\n",
    "    type1 AS pokemon_type,\n",
    "    COUNT(*) AS pokemon_count\n",
    "FROM sql.pokemon\n",
    "GROUP BY pokemon_type\n",
    "ORDER BY COUNT(*) DESC\n",
    "```\n",
    "\n",
    "**Обратите внимание!** Мы использовали в группировке не название столбца, а его алиас."
   ]
  },
  {
   "cell_type": "markdown",
   "metadata": {},
   "source": [
    "**Задание 4.1**\n",
    "\n",
    "Напишите запрос, который выведет:\n",
    "\n",
    "* число различных дополнительных типов (столбец `additional_types_count`),<br><br>\n",
    "* среднее число очков здоровья (столбец `avg_hp`),<br><br>\n",
    "* сумму показателей атаки (столбец `attack_sum`) в разбивке по основным типам (столбец `primary_type`).<br><br>\n",
    "Отсортируйте результат по числу дополнительных типов в порядке убывания, при равенстве — по основному типу в алфавитном порядке. Столбцы к выводу (обратите внимание на порядок!): `primary_type`, `additional_types_count`, `avg_hp`, `attack_sum`.\n",
    "\n",
    "\n",
    "```sql\n",
    "SELECT\n",
    "    type1 AS primary_type,\n",
    "    COUNT(DISTINCT type2) AS additional_types_count,\n",
    "    AVG(hp) AS avg_hp,\n",
    "    SUM(attack) AS attack_sum\n",
    "FROM sql.pokemon\n",
    "GROUP BY type1\n",
    "ORDER BY COUNT(type2) DESC, type1 ASC\n",
    "```"
   ]
  },
  {
   "cell_type": "markdown",
   "metadata": {},
   "source": [
    "Мы можем осуществлять группировку по нескольким столбцам.\n",
    "\n",
    "\n",
    "```sql\n",
    "SELECT\n",
    "    type1 AS primary_type,\n",
    "    type2 AS additional_type,\n",
    "    COUNT(*) AS pokemon_count\n",
    "FROM sql.pokemon\n",
    "GROUP BY 1, 2\n",
    "ORDER BY 1, 2 NULLS FIRST\n",
    "```\n",
    "\n",
    "**Обратите внимание!** В группировке можно указывать порядковый номер столбца так же, как мы делали это в прошлом модуле для сортировки.\n",
    "\n",
    "`GROUP BY` можно использовать и без агрегатных функций. Тогда его действие будет равносильно действию `DISTINCT`.\n",
    "\n",
    "Сравните выводы двух запросов:\n",
    "\n",
    "```sql\n",
    "SELECT DISTINCT \n",
    "    type1\n",
    "FROM sql.pokemon\n",
    "```\n",
    "\n",
    "\n",
    "```sql\n",
    "SELECT\n",
    "    type1\n",
    "FROM sql.pokemon\n",
    "GROUP BY type1\n",
    "```"
   ]
  }
 ],
 "metadata": {
  "language_info": {
   "name": "python"
  },
  "orig_nbformat": 4
 },
 "nbformat": 4,
 "nbformat_minor": 2
}
