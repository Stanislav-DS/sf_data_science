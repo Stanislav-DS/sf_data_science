{
 "cells": [
  {
   "cell_type": "markdown",
   "id": "25bb6bc5-fbd2-400a-9e01-cba18415fe9d",
   "metadata": {},
   "source": [
    "## <center> Аттестация. Практическое задание в Jupiter"
   ]
  },
  {
   "cell_type": "markdown",
   "id": "74c91391-dc17-4d6a-bbf8-489617260e61",
   "metadata": {},
   "source": [
    "В данном блоке вам предстоит решить задачу, которую автор когда-то решал на одном из своих собеседований.\n",
    "Вам предоставлена таблица с данными (скачать файл можно на платформе) о ежедневной выработке энергии солнечными батареями. Информация в ней содержится в двух столбцах: \n",
    "* date - дата наблюдения\n",
    "* cum_power - накопленная (кумулятивная) выработка энергии на указанный день\n",
    "\n",
    "То есть перед вами классический пример временного ряда: числовой показатель, зависящий от времени. Давайте с ним поработаем.\n"
   ]
  },
  {
   "cell_type": "code",
   "execution_count": 1,
   "id": "b3bad4ea-f1e8-47a4-a8f9-7c7ec263e5cb",
   "metadata": {},
   "outputs": [],
   "source": [
    "import pandas as pd\n",
    "import numpy as np"
   ]
  },
  {
   "cell_type": "markdown",
   "id": "d4014255-56cb-4ca8-9ebc-34003a9177d1",
   "metadata": {},
   "source": [
    "1. В нашем временном ряде есть несколько пропусков, они обозначены числом -1. Заполните пропуски средним арифметическим между двумя соседними наблюдениями: </p>\n",
    "    $$x^*_i  = \\frac{x_{i-1} - x_{i+1}}{2}$$ \n",
    "    \n",
    "Совет: проще всего будет сделать это, используя цикл по индексам элементов столбца cum_power, но вы можете предложить более изящное решение.\n"
   ]
  },
  {
   "cell_type": "code",
   "execution_count": 2,
   "id": "57660a6b-ff89-4c83-88c7-d59cfce8ab34",
   "metadata": {},
   "outputs": [
    {
     "data": {
      "text/plain": [
       "date         0\n",
       "cum_power    0\n",
       "dtype: int64"
      ]
     },
     "execution_count": 2,
     "metadata": {},
     "output_type": "execute_result"
    }
   ],
   "source": [
    "solar_data = pd.read_csv(\"data/solarpower.csv\")\n",
    "for i in range(solar_data.shape[0]):\n",
    "    if solar_data.loc[i, \"cum_power\"] == -1:\n",
    "        solar_data.loc[i, \"cum_power\"] = (\n",
    "            solar_data.loc[i - 1, \"cum_power\"] + solar_data.loc[i + 1, \"cum_power\"]\n",
    "        ) / 2\n",
    "solar_data.isnull().sum()"
   ]
  },
  {
   "cell_type": "markdown",
   "id": "c06a7457-db3f-4bf8-be0a-b53f242c3451",
   "metadata": {},
   "source": [
    "-----"
   ]
  },
  {
   "cell_type": "markdown",
   "id": "ce8d1b00-4ec7-45c9-8e85-4157c3fcd7d6",
   "metadata": {},
   "source": [
    "Критерии оценки:\n",
    "\n",
    "Студенту выставляется 1 балл за задание, если:\n",
    "* В предыдущей ящейке указан код, реализующий замену пропущенных значений (обозначенных в столбец cum_power как -1) на среднее арифметическое между двумя соседними элементами\n",
    "* Он заполнил пропуски с использованием указанной в задании формулы, но его способ заполнения является низкопроизводительным (скорость выполнения кода в 10-15 раз ниже, чем указанная в эталлонном решении), либо он заполнил пропущенные значения вручную.\n",
    "\n",
    "Студенту выставляется 2 балла за задание, если:\n",
    "* В предыдущей ящейке указан код, реализующий замену пропущенных значений (обозначенных в столбец cum_power как -1) на среднее арифметическое между двумя соседними элементами\n",
    "* Заполнение пропусков автоматизировано и скорость работы алгоритма сопоставима с эталонным решением"
   ]
  },
  {
   "cell_type": "markdown",
   "id": "0185618d-4347-4c7e-b29e-840a4bbc0666",
   "metadata": {},
   "source": [
    "-----"
   ]
  },
  {
   "cell_type": "markdown",
   "id": "2fe6fd75-0332-4b3d-a89c-d96f42617c6e",
   "metadata": {},
   "source": [
    "2. Теперь, когда таблица заполнена, создайте столбец day_power - ежедневный прирост выработки солнечной энергии.\n",
    "\n",
    "    После чего создайте данные о ежемесячной выработке энергии на каждый год. \n",
    "    \n",
    "Совет: для того, чтобы выделить из даты год и месяц проще всего воспользоваться методом аксессора dt.to_period('M'), который позволяет выделять периоды, в данном случае 'М' - месяц."
   ]
  },
  {
   "cell_type": "code",
   "execution_count": 3,
   "id": "00602d51",
   "metadata": {},
   "outputs": [
    {
     "data": {
      "text/plain": [
       "23848.246987951807"
      ]
     },
     "execution_count": 3,
     "metadata": {},
     "output_type": "execute_result"
    }
   ],
   "source": [
    "#чему равно среднее арифметическое\n",
    "solar_data['cum_power'].mean()"
   ]
  },
  {
   "cell_type": "code",
   "execution_count": 4,
   "id": "41510025-02ae-4b62-a813-1d5966a5782f",
   "metadata": {},
   "outputs": [
    {
     "name": "stderr",
     "output_type": "stream",
     "text": [
      "/tmp/ipykernel_5385/1328914565.py:5: FutureWarning: The default value of numeric_only in DataFrameGroupBy.sum is deprecated. In a future version, numeric_only will default to False. Either specify numeric_only or select only columns which should be valid for the function.\n",
      "  grouped = solar_data.groupby(['year_month']).sum()\n"
     ]
    },
    {
     "data": {
      "text/html": [
       "<div>\n",
       "<style scoped>\n",
       "    .dataframe tbody tr th:only-of-type {\n",
       "        vertical-align: middle;\n",
       "    }\n",
       "\n",
       "    .dataframe tbody tr th {\n",
       "        vertical-align: top;\n",
       "    }\n",
       "\n",
       "    .dataframe thead th {\n",
       "        text-align: right;\n",
       "    }\n",
       "</style>\n",
       "<table border=\"1\" class=\"dataframe\">\n",
       "  <thead>\n",
       "    <tr style=\"text-align: right;\">\n",
       "      <th></th>\n",
       "      <th>cum_power</th>\n",
       "      <th>day_power</th>\n",
       "    </tr>\n",
       "    <tr>\n",
       "      <th>year_month</th>\n",
       "      <th></th>\n",
       "      <th></th>\n",
       "    </tr>\n",
       "  </thead>\n",
       "  <tbody>\n",
       "    <tr>\n",
       "      <th>2017-01</th>\n",
       "      <td>624746.0</td>\n",
       "      <td>97.0</td>\n",
       "    </tr>\n",
       "    <tr>\n",
       "      <th>2017-02</th>\n",
       "      <td>567197.0</td>\n",
       "      <td>104.0</td>\n",
       "    </tr>\n",
       "    <tr>\n",
       "      <th>2017-03</th>\n",
       "      <td>633782.0</td>\n",
       "      <td>334.0</td>\n",
       "    </tr>\n",
       "    <tr>\n",
       "      <th>2017-04</th>\n",
       "      <td>626551.0</td>\n",
       "      <td>489.0</td>\n",
       "    </tr>\n",
       "    <tr>\n",
       "      <th>2017-05</th>\n",
       "      <td>663651.0</td>\n",
       "      <td>589.0</td>\n",
       "    </tr>\n",
       "  </tbody>\n",
       "</table>\n",
       "</div>"
      ],
      "text/plain": [
       "            cum_power  day_power\n",
       "year_month                      \n",
       "2017-01      624746.0       97.0\n",
       "2017-02      567197.0      104.0\n",
       "2017-03      633782.0      334.0\n",
       "2017-04      626551.0      489.0\n",
       "2017-05      663651.0      589.0"
      ]
     },
     "execution_count": 4,
     "metadata": {},
     "output_type": "execute_result"
    }
   ],
   "source": [
    "#рассчет ежедневного прироста производства СЭ\n",
    "solar_data['day_power'] = solar_data['cum_power'].diff()\n",
    "solar_data['date'] = pd.to_datetime(solar_data['date'])\n",
    "solar_data['year_month'] = solar_data['date'].dt.to_period('M')\n",
    "grouped = solar_data.groupby(['year_month']).sum()\n",
    "grouped.head()"
   ]
  },
  {
   "cell_type": "markdown",
   "id": "3fd4a012-5c11-4b6c-bf97-4c74b748fa48",
   "metadata": {},
   "source": [
    "----"
   ]
  },
  {
   "cell_type": "code",
   "execution_count": 6,
   "id": "d93c488b",
   "metadata": {},
   "outputs": [
    {
     "name": "stdout",
     "output_type": "stream",
     "text": [
      "<class 'pandas.core.frame.DataFrame'>\n",
      "RangeIndex: 664 entries, 0 to 663\n",
      "Data columns (total 4 columns):\n",
      " #   Column      Non-Null Count  Dtype         \n",
      "---  ------      --------------  -----         \n",
      " 0   date        664 non-null    datetime64[ns]\n",
      " 1   cum_power   664 non-null    float64       \n",
      " 2   day_power   663 non-null    float64       \n",
      " 3   year_month  664 non-null    period[M]     \n",
      "dtypes: datetime64[ns](1), float64(2), period[M](1)\n",
      "memory usage: 20.9 KB\n"
     ]
    }
   ],
   "source": [
    "solar_data.info()"
   ]
  },
  {
   "cell_type": "code",
   "execution_count": 9,
   "id": "b01e71e3",
   "metadata": {},
   "outputs": [
    {
     "data": {
      "text/plain": [
       "10.774193548387096"
      ]
     },
     "execution_count": 9,
     "metadata": {},
     "output_type": "execute_result"
    }
   ],
   "source": [
    "#чему равно среднее арифметическое\n",
    "solar_data[solar_data['year_month']=='2017-03']['day_power'].mean()"
   ]
  },
  {
   "cell_type": "markdown",
   "id": "5b413c84-5aec-4481-bc93-1e48dd1ae3ee",
   "metadata": {},
   "source": [
    "Критерии оценки:\n",
    "\n",
    "Студенту выставляется 1 балл за задание, если:\n",
    "* Он верно расчитал ежедневный прирост производства солнечной энерегии как разницу между двумя соседними наблюдениями в столбце cum_power\n",
    "* Он не расчитал или расчитал ошибочно ежемесячную выработку солнечной энерегии\n",
    "\n",
    "Студенту выставляется 2 балла за задание, если:\n",
    "\n",
    "* Он верно расчитал ежедневный прирост производства солнечной энерегии как разницу между двумя соседними наблюдениями в столбце cum_power\n",
    "* Он верно расчитал ежемесячную выработку солнечной энергии, сгруппировав данные по годам и месяцам одновременно и вычислив сумму по столбцам"
   ]
  },
  {
   "cell_type": "markdown",
   "id": "ee7df726-c428-4204-baa1-65d3c65b95b4",
   "metadata": {},
   "source": [
    "-----"
   ]
  },
  {
   "cell_type": "markdown",
   "id": "1d56535a-0a9e-48ca-983d-614397ff9f47",
   "metadata": {},
   "source": [
    "3. Постройте график временного ряда - ежемесячной выработки солнечной энергии. Не забудьте подписать оси и сам график.\n",
    "Укажите в какие сезоны наблюдается подъем, а в какие спад?"
   ]
  },
  {
   "cell_type": "code",
   "execution_count": 4,
   "id": "34a3da4a-00e3-4261-9552-c8113ef2bf50",
   "metadata": {},
   "outputs": [
    {
     "data": {
      "image/png": "[encoded data removed]",
      "text/plain": [
       "<Figure size 720x360 with 1 Axes>"
      ]
     },
     "metadata": {
      "needs_background": "light"
     },
     "output_type": "display_data"
    }
   ],
   "source": [
    "grouped['day_power'].plot(\n",
    "    kind='line',\n",
    "    lw=3, \n",
    "    title='Ежемесячная выработка энергии',\n",
    "    xlabel='Год-месяц',\n",
    "    ylabel='Выработка энергии',\n",
    "    figsize=(10, 5)\n",
    ");"
   ]
  },
  {
   "cell_type": "markdown",
   "id": "595fc7cf-f495-4fb2-9896-0b087056a130",
   "metadata": {},
   "source": [
    "----"
   ]
  },
  {
   "cell_type": "markdown",
   "id": "9ed7cf50-7799-4796-82bc-881358908f8e",
   "metadata": {},
   "source": [
    "Критерии оценки:\n",
    "\n",
    "Студенту выставляется 1 балл, если:\n",
    "\n",
    "* Он построил **линейный** график ежемесячной выработки солнечной энерегии (данные полученные в задании 2), а также подписал его оси и сам график\n",
    "* Он привел анализ полученного графика, но приведенные выводы не соответствуют, либо частично соответствуют построенному графику\n",
    "\n",
    "Студенты выставляется 2 балла, если:\n",
    "\n",
    "* Он построил **линейный** график ежемесячной выработки солнечной энерегии (данные полученные в задании 2), а также подписал его оси и сам график\n",
    "* Он привел анализ полученного графика, приведенные выводы соответствуют представленному графику\n",
    "\n",
    "Пример анализа:\n",
    "\n",
    "Из построенного графика отчетливо наблюдается зависимость выработки солнечной энергии от сезона: наибольшая производительность солнечных батарей наблюдается в летние месяцы (июнь-июль-август), наименьшая - в зимние месяцы (декабрь-январь). Жаркие летние месяцыы характеризуются наибольшой солнечной активностью, а следственно и наибольшей выработкой электроэнергии"
   ]
  },
  {
   "cell_type": "markdown",
   "id": "f8118236-714b-403c-846c-0264d674d337",
   "metadata": {},
   "source": [
    "-----"
   ]
  },
  {
   "cell_type": "markdown",
   "id": "722a82f1-52b5-40fb-9342-44a644f35237",
   "metadata": {},
   "source": [
    "После того, как вы выполнили практическое задание, отправьте ваш ноутбук на проверку ментору, чтобы получить баллы."
   ]
  },
  {
   "cell_type": "markdown",
   "id": "ae1d3a8a-01e8-4511-a948-f9a98374727d",
   "metadata": {},
   "source": []
  }
 ],
 "metadata": {
  "kernelspec": {
   "display_name": "Python 3 (ipykernel)",
   "language": "python",
   "name": "python3"
  },
  "language_info": {
   "codemirror_mode": {
    "name": "ipython",
    "version": 3
   },
   "file_extension": ".py",
   "mimetype": "text/x-python",
   "name": "python",
   "nbconvert_exporter": "python",
   "pygments_lexer": "ipython3",
   "version": "3.10.12"
  }
 },
 "nbformat": 4,
 "nbformat_minor": 5
}
