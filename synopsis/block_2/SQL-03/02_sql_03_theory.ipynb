{
 "cells": [
  {
   "cell_type": "markdown",
   "metadata": {},
   "source": [
    "# SQL-03. Соединение таблиц.\n",
    "\n",
    "----"
   ]
  },
  {
   "cell_type": "markdown",
   "metadata": {},
   "source": [
    "## Описание таблиц о футбольных матчах и командах.\n",
    "\n",
    "---"
   ]
  },
  {
   "cell_type": "markdown",
   "metadata": {},
   "source": [
    "Вы уже умеете делать запросы к одной таблице, использовать агрегатные функции и фильтровать данные в выводе. Но в реальных условиях базы данных обычно содержат множество таблиц и при запросе необходимо обращаться к нескольким таблицам. Освоением этого навыка мы сейчас и займёмся.\n",
    "\n",
    "В этом модуле мы будем работать с таблицами о футбольных матчах и командах.\n",
    "\n",
    "Таблицы этого модуля, как и все другие в курсе, лежат в схеме `sql` в [Metabase](http://sql.skillfactory.ru:3000/). Нам понадобятся таблицы `teams` и `matches`."
   ]
  },
  {
   "cell_type": "markdown",
   "metadata": {},
   "source": [
    "\n",
    "**Таблица** `teams` **с данными о командах**\n",
    "\n",
    "| Название столбца | Содержимое столбца           |\n",
    "|------------------|------------------------------|\n",
    "| id               | id команды                   |\n",
    "| api_id           | ключ на таблицу matches      |\n",
    "| long_name        | полное название команды      |\n",
    "| short_name       | сокращённое название команды |\n"
   ]
  },
  {
   "cell_type": "markdown",
   "metadata": {},
   "source": [
    "\n",
    "**Таблица** `matches` **с данными о матчах**\n",
    "\n",
    "| Название столбца | Содержимое столбца                             |\n",
    "|------------------|------------------------------------------------|\n",
    "| id               | id матча                                       |\n",
    "| season           | сезон                                          |\n",
    "| date             | дата матча                                     |\n",
    "| home_team_api_id | api_id домашней команды, ключ на таблицу teams |\n",
    "| away_team_api_id | api_id гостевой команды, ключ на таблицу teams |\n",
    "| home_team_goals  | количество голов домашней команды              |\n",
    "| away_team_goals  | количество голов гостевой команды              |"
   ]
  },
  {
   "cell_type": "markdown",
   "metadata": {},
   "source": [
    "> **Задание  1.1**\n",
    ">\n",
    "> Сколько различных полных названий команд в таблице `teams`?\n",
    "\n",
    "```sql\n",
    "SELECT\n",
    "    COUNT(DISTINCT long_name)\n",
    "FROM\n",
    "    sql.teams\n",
    "```\n",
    "\n",
    "**Ответ:** 296"
   ]
  },
  {
   "cell_type": "markdown",
   "metadata": {},
   "source": [
    "> Сколько в таблице teams команд с коротким названием *VAL*?\n",
    "\n",
    "```sql\n",
    "SELECT\n",
    "    COUNT(*)\n",
    "FROM\n",
    "    sql.teams\n",
    "WHERE\n",
    "    short_name = 'VAL'\n",
    "```\n",
    "\n",
    "**Ответ:** 3"
   ]
  },
  {
   "cell_type": "markdown",
   "metadata": {},
   "source": [
    "> Информацию о скольких матчах содержит таблица `matches`?\n",
    "\n",
    "```sql\n",
    "SELECT\n",
    "    COUNT(*)\n",
    "FROM\n",
    "    sql.matches\n",
    "```\n",
    "\n",
    "**Ответ:** 25083\n"
   ]
  },
  {
   "cell_type": "markdown",
   "metadata": {},
   "source": [
    "> Данные за какие сезоны даны в таблице matches?\n",
    "Ответ введите в формате 2019/2020.\n",
    "\n",
    "```sql\n",
    "SELECT\n",
    "    DISTINCT season\n",
    "FROM\n",
    "    sql.matches\n",
    "ORDER BY\n",
    "    season\n",
    "```\n",
    "\n",
    "**Ответ:** 2008/2009 - 2015/2016"
   ]
  },
  {
   "cell_type": "markdown",
   "metadata": {},
   "source": [
    "> **Задание 1.2**\n",
    "> \n",
    "> Напишите запрос, который выведет сезон (`season`), а также общее количество забитых мячей домашними (`total_home_goals`) и гостевыми (`total_away_goals`) командами.\n",
    "> Отсортируйте по столбцу с сезоном в порядке возрастания.\n",
    "\n",
    "\n",
    "```sql\n",
    "SELECT\n",
    "    season,\n",
    "    SUM(home_team_goals) AS total_home_goals,\n",
    "    SUM(away_team_goals) AS total_away_goals\n",
    "FROM\n",
    "    sql.matches\n",
    "GROUP BY\n",
    "    season\n",
    "ORDER BY\n",
    "    season ASC\n",
    "```"
   ]
  },
  {
   "cell_type": "markdown",
   "metadata": {},
   "source": [
    "## Объединение таблиц без операторов\n",
    "\n",
    "---"
   ]
  },
  {
   "cell_type": "markdown",
   "metadata": {
    "tags": [
     "декартово произведение таблиц",
     "parameters"
    ]
   },
   "source": [
    "Чтобы соединить две таблицы между собой, достаточно записать названия таблиц через запятую в разделе `FROM`. Что произойдёт в таком случае?\n",
    "\n",
    "```sql\n",
    "SELECT *\n",
    "FROM\n",
    "    sql.teams,\n",
    "    sql.matches\n",
    "```\n",
    "\n",
    "Каждая запись, которая есть в таблице `teams`, будет соединена с каждой записью в таблице `matches`.\n",
    "\n",
    "Это действие также называют декартовым произведением таблиц."
   ]
  },
  {
   "cell_type": "markdown",
   "metadata": {},
   "source": [
    "Действительно ли это произведение?\n",
    "\n",
    "Легко проверить! В исходных таблицах `teams` и `matches` было `299` и `25083` записей соответственно. Если соединить каждую запись одной таблицы с каждой записью другой, получится `299` `*` `25083` записей в итоговой таблице."
   ]
  },
  {
   "cell_type": "markdown",
   "metadata": {},
   "source": [
    "> **Задание 2.1**\n",
    ">\n",
    "> Напишите запрос, который выведет количество строк соединённой таблицы.\n",
    "\n",
    "\n",
    "```sql\n",
    "SELECT\n",
    "    COUNT(*)\n",
    "FROM\n",
    "    sql.matches,\n",
    "    sql.teams\n",
    "```"
   ]
  },
  {
   "cell_type": "markdown",
   "metadata": {},
   "source": [
    "В данном случае соединение таблиц не даёт практической пользы: мы получили очень много записей, которые никак не можем интерпретировать, потому что команды не соответствуют матчам.\n",
    "\n",
    "Давайте исправим это. В таблице teams есть столбец `api_id`, а таблица `matches` содержит столбцы `home_team_api_id` и `away_team_api_id` — это ключи таблиц, по которым они соединяются.\n",
    "\n",
    "**Ключ** — это поле (столбец) в таблице, которое позволяет однозначно идентифицировать запись (строку).\n",
    "\n",
    "Чтобы соединить таблицы и получить данные о домашней команде по каждому матчу, добавим условие `where home_team_api_id = api_id`.\n",
    "\n",
    "```SQL\n",
    "SELECT\n",
    "    *\n",
    "FROM\n",
    "    sql.teams,\n",
    "    sql.matches\n",
    "WHERE\n",
    "    home_team_api_id = api_id\n",
    "```\n",
    "\n",
    "Аналогично можем получить данные о гостевых командах: необходимо изменить условие на\n",
    "where `away_team_api_id = api_id`.\n",
    "\n",
    "```SQL\n",
    "SELECT\n",
    "    *\n",
    "FROM\n",
    "    sql.teams,\n",
    "    sql.matches\n",
    "WHERE\n",
    "    away_team_api_id = api_id\n",
    "```"
   ]
  },
  {
   "cell_type": "markdown",
   "metadata": {},
   "source": [
    "Итак, мы только что объединили таблицы по ключу.\n",
    "\n",
    "Вы уже знакомы с ключами по таблице `pokemon` (там в этой роли выступал столбец `id`). Ключи нужны для того, чтобы иметь возможность не перепутать между собой различные записи.\n",
    "\n",
    "Например, у нас есть несколько команд с одинаковым названием: *Polonia* *Bytom*, *Widzew* *Łódź* и *Royal* *Excel* *Mouscron* — хотя это разные команды, с разными `id`.\n",
    "\n",
    "Кроме того, как мы уже смогли убедиться, ключи используются для соединения таблиц между собой."
   ]
  },
  {
   "cell_type": "markdown",
   "metadata": {},
   "source": [
    "**Ключи бывают двух основных типов:**\n",
    "\n",
    "* *Primary* — первичный ключ — служит для идентификации текущей таблицы и, как правило, идёт первым в списке столбцов. Всегда уникален: повторяющихся значений в основной таблице быть не может.<br><br>\n",
    "* *Foreign* — внешний ключ — представляет собой ссылку на другую таблицу.<br><br>"
   ]
  },
  {
   "cell_type": "markdown",
   "metadata": {},
   "source": [
    "Как правило, названия ключей имеют «хвост», который позволяет их идентифицировать: например, `_id`, `_rk`, `_cd`, `_pk` (от `primary_key`), `_fk` (от `foreign_key`) и другие.\n",
    "\n",
    "**Обратите внимание!** В данном датасете ключ `api_id` таблицы `teams` может быть использован в разных значениях. Его можно использовать для того, чтобы получить информацию о домашней (`home`) или гостевой (`away`) команде."
   ]
  },
  {
   "cell_type": "markdown",
   "metadata": {},
   "source": [
    "Вы могли заметить, что в последних двух запросах получилось очень много столбцов. Как и при работе с одиночной таблицей, мы можем выбирать, какие столбцы соединённой таблицы выводить.\n",
    "\n",
    "С помощью известного нам запроса получим названия команд, игравших домашние матчи, и счёт матчей.\n",
    "\n",
    "\n",
    "```sql\n",
    "SELECT\n",
    "    long_name,\n",
    "    home_team_goals,\n",
    "    away_team_goals\n",
    "FROM\n",
    "    sql.teams,\n",
    "    sql.matches\n",
    "WHERE\n",
    "    home_team_api_id = api_id\n",
    "```"
   ]
  },
  {
   "cell_type": "markdown",
   "metadata": {},
   "source": [
    "> **Задание 2.2**\n",
    ">\n",
    "> Напишите запрос, который выведет таблицу с результатами матчей для гостевых команд, содержащую:\n",
    ">\n",
    "> * названия гостевых команд (`long_name`),<br><br>\n",
    "> * количество забитых мячей домашней команды (`home_team_goals`),<br><br>\n",
    "> * количество забитых мячей гостевой команды (`away_team_goals`).<br><br>\n",
    "\n",
    "\n",
    "```sql\n",
    "SELECT\n",
    "    long_name,\n",
    "    home_team_goals,\n",
    "    away_team_goals\n",
    "FROM\n",
    "    sql.teams,\n",
    "    sql.matches\n",
    "WHERE\n",
    "    away_team_api_id = api_id\n",
    "```"
   ]
  },
  {
   "cell_type": "markdown",
   "metadata": {},
   "source": [
    "## JOIN\n",
    "\n",
    "---"
   ]
  },
  {
   "cell_type": "markdown",
   "metadata": {},
   "source": [
    "В прошлом юните для соединения таблиц мы использовали условие в разделе `WHERE`, чтобы показать принцип работы оператора `JOIN`.\n",
    "\n",
    "В качестве примера используем запрос из предыдущего юнита.\n",
    "\n",
    "\n",
    "```SQL\n",
    "SELECT\n",
    "    long_name,\n",
    "    home_team_goals,\n",
    "    away_team_goals\n",
    "FROM\n",
    "    sql.teams,\n",
    "    sql.matches\n",
    "WHERE\n",
    "    home_team_api_id = api_id\n",
    "```\n",
    "\n",
    "и запишем его с использованием `JOIN`.\n",
    "\n",
    "\n",
    "```sql\n",
    "SELECT\n",
    "    long_name,\n",
    "    home_team_goals,\n",
    "    away_team_goals\n",
    "FROM\n",
    "    sql.teams\n",
    "    JOIN sql.matches ON home_team_api_id = api_id\n",
    "```"
   ]
  },
  {
   "cell_type": "markdown",
   "metadata": {},
   "source": [
    "> **Задание 3.1**\n",
    ">\n",
    "> Выполните данный запрос\n",
    "\n",
    "\n",
    "```sql\n",
    "SELECT\n",
    "    *\n",
    "FROM\n",
    "    sql.teams,\n",
    "    sql.matches\n",
    "WHERE\n",
    "    away_team_api_id = api_id\n",
    "```\n",
    "\n",
    "> с использованием оператора `JOIN`, исключив оператор `WHERE`.\n",
    "\n",
    "\n",
    "```sql\n",
    "SELECT\n",
    "    *\n",
    "FROM\n",
    "    sql.teams\n",
    "    JOIN sql.matches ON away_team_api_id = api_id\n",
    "```"
   ]
  },
  {
   "cell_type": "markdown",
   "metadata": {},
   "source": [
    "**СИНТАКСИС**\n",
    "\n",
    "Оператор `JOIN` упрощает процесс соединения таблиц.\n",
    "\n",
    "Его синтаксис можно представить следующим образом:\n",
    "\n",
    "\n",
    "```sql\n",
    "SELECT\n",
    "    столбец1,\n",
    "    столбец2,\n",
    "    ...\n",
    "FROM\n",
    "    таблица1\n",
    "    JOIN таблица2 ON условие\n",
    "```\n",
    "\n",
    "Порядок присоединения таблиц в данном случае не важен — результат будет одинаковым.\n",
    "\n",
    "С помощью `JOIN` можно соединить и более двух таблиц.\n",
    "\n",
    "\n",
    "```sql\n",
    "SELECT\n",
    "    столбец1,\n",
    "    столбец2,\n",
    "    ...\n",
    "FROM\n",
    "    таблица1\n",
    "    JOIN таблица2 ON условие\n",
    "    JOIN таблица3 ON условие\n",
    "```"
   ]
  },
  {
   "cell_type": "markdown",
   "metadata": {},
   "source": [
    "В таблицах, которые мы соединяем, могут быть одинаковые названия столбцов.\n",
    "\n",
    "К примеру, столбец `id` есть и в таблице `matches`, и в таблице `teams`. Такой запрос не будет обработан.\n",
    "\n",
    "\n",
    "```sql\n",
    "SELECT\n",
    "    id\n",
    "FROM\n",
    "    sql.teams\n",
    "    JOIN sql.matches ON home_team_api_id = api_id\n",
    "```\n",
    "\n",
    "В результате должно появиться сообщение об ошибке вроде такого: *\"... column id is ambiguous ...\"*.\n",
    "\n",
    "Что же делать в таком случае?"
   ]
  },
  {
   "cell_type": "markdown",
   "metadata": {},
   "source": [
    "Можно указать, откуда мы хотим запросить данные, записав название таблицы перед столбцом через точку.\n",
    "\n",
    "\n",
    "```sql\n",
    "SELECT\n",
    "    teams.id\n",
    "FROM\n",
    "    sql.teams\n",
    "    JOIN sql.matches ON home_team_api_id = api_id\n",
    "```\n",
    "\n",
    "Можно также выбрать и столбец из таблицы `matches`.\n",
    "\n",
    "\n",
    "\n",
    "```sql\n",
    "SELECT\n",
    "    matches.id\n",
    "FROM\n",
    "    sql.teams\n",
    "    JOIN sql.matches on home_team_api_id = api_id\n",
    "```\n",
    "\n",
    "Зачастую названия таблиц слишком длинные, так что использовать их неудобно."
   ]
  },
  {
   "cell_type": "markdown",
   "metadata": {},
   "source": [
    "Упростить обращение к различным таблицам можно, присвоив им сокращённые названия — **алиасы** (от англ. *alias*).\n",
    "\n",
    "Синтаксис для указания алиаса такой же, как и для названия столбца.\n",
    "\n",
    "\n",
    "```sql\n",
    "SELECT\n",
    "    столбец1,\n",
    "    столбец2,\n",
    "    ...\n",
    "FROM\n",
    "    таблица1 AS короткое_название_1\n",
    "    JOIN таблица2 AS короткое_название_2 ON условие\n",
    "```\n",
    "\n",
    "Название записывается без пробелов и операторов."
   ]
  },
  {
   "cell_type": "markdown",
   "metadata": {},
   "source": [
    "Если необходимо записать название, в котором используются пробелы (\"table 1\"), то алиас можно обернуть в кавычки.\n",
    "\n",
    "**Важно!** Обращаться по такому алиасу придётся также с помощью кавычек.\n",
    "\n",
    "\n",
    "```sql\n",
    "SELECT\n",
    "    \"table 1\".столбец1,\n",
    "    \"table 2\".столбец2,\n",
    "    ...\n",
    "FROM\n",
    "    таблица1 AS \"table 1\"\n",
    "    JOIN таблица2 AS \"table 2\" ON условие\n",
    "```\n",
    "\n",
    "**Использование таких алиасов считается плохой практикой как минимум по причине того, что обращаться с такими алиасами неудобно.**"
   ]
  },
  {
   "cell_type": "markdown",
   "metadata": {},
   "source": [
    "Вместо алиасов с кавычками рекомендуется давать простое короткое название на латинице, без специальных символов и пробелов. Если таблиц немного и все названия начинаются с разных букв, можно присваивать алиасы по первой букве.\n",
    "\n",
    "Ключевое слово `as`, как и в названии столбца, можно опустить в большинстве СУБД.\n",
    "\n",
    "\n",
    "```sql\n",
    "SELECT\n",
    "    столбец1 новое_название_столбца,\n",
    "    столбец2 новое_название_столбца,\n",
    "    ...\n",
    "FROM\n",
    "    таблица1 короткое_название_1\n",
    "    JOIN таблица2 короткое_название_2 ON условие\n",
    "```"
   ]
  },
  {
   "cell_type": "markdown",
   "metadata": {},
   "source": [
    "> **Задание 3.2**\n",
    ">\n",
    "> Напишите запрос, который выведет два столбца: id матча (`match_id`) и id домашней команды (`team_id`). Отсортируйте по id матча в порядке возрастания значений.\n",
    "\n",
    "\n",
    "```sql\n",
    "SELECT\n",
    "    matches.id AS match_id,\n",
    "    teams.id AS team_id\n",
    "FROM\n",
    "    sql.matches\n",
    "    JOIN sql.teams ON home_team_api_id = api_id\n",
    "ORDER BY\n",
    "    match_id ASC\n",
    "```"
   ]
  },
  {
   "cell_type": "markdown",
   "metadata": {},
   "source": [
    "Кажется, теперь мы можем соединить таблицы между собой и создать своё табло со счётом матчей, как на спортивных сайтах!\n",
    "\n",
    "Давайте с помощью запроса SQL получим таблицу, содержащую:\n",
    "\n",
    "* название домашней команды;<br><br>\n",
    "* количество забитых домашней командой голов;<br><br>\n",
    "* количество забитых гостевой командой голов;<br><br>\n",
    "* название гостевой команды.<br><br>\n",
    "\n",
    "```sql\n",
    "SELECT\n",
    "    h.long_name \"домашняя команда\",\n",
    "    m.home_team_goals \"голы домашней команды\",\n",
    "    m.away_team_goals \"голы гостевой команды\",\n",
    "    a.long_name \"гостевая команда\"\n",
    "FROM\n",
    "    sql.matches m\n",
    "    JOIN sql.teams h ON m.home_team_api_id = h.api_id\n",
    "    JOIN sql.teams a ON m.away_team_api_id = a.api_id\n",
    "```"
   ]
  },
  {
   "cell_type": "markdown",
   "metadata": {},
   "source": [
    "> **Задание 3.3**\n",
    ">\n",
    "> Напишите запрос, который выведет столбцы:\n",
    ">\n",
    "> * id матча,\n",
    "> * короткое название домашней команды (home_short),\n",
    "> * короткое название гостевой команды (away_short).\n",
    ">\n",
    "> Отсортируйте запрос по возрастанию id матча.\n",
    "\n",
    "\n",
    "```sql\n",
    "SELECT\n",
    "    m.id,\n",
    "    h.short_name AS home_short,\n",
    "    a.short_name AS away_short\n",
    "FROM\n",
    "    sql.matches AS m\n",
    "    JOIN sql.teams AS h ON m.home_team_api_id = h.api_id\n",
    "    JOIN sql.teams AS a ON m.away_team_api_id = a.api_id\n",
    "ORDER BY\n",
    "    m.id\n",
    "```"
   ]
  },
  {
   "cell_type": "markdown",
   "metadata": {},
   "source": [
    "## Фильтрация и агрегатные функции\n",
    "\n",
    "---"
   ]
  },
  {
   "cell_type": "markdown",
   "metadata": {},
   "source": [
    "Соединять таблицы мы научились, теперь давайте научимся получать необходимые данные из нескольких таблиц.\n",
    "\n",
    "Принцип построения запроса и порядок операторов такой же, как и с обычной таблицей.\n",
    "\n",
    "Вспомним его:\n",
    "\n",
    "\n",
    "```sql\n",
    "SELECT... \n",
    "FROM... \n",
    "WHERE... \n",
    "GROUP BY... \n",
    "ORDER BY... \n",
    "LIMIT...\n",
    "```"
   ]
  },
  {
   "cell_type": "markdown",
   "metadata": {},
   "source": [
    "**Фильтрация данных**\n",
    "\n",
    "К соединённым таблицам применимы функции фильтрации данных.\n",
    "\n",
    "Например, можно вывести *id* матчей, в которых команда *Arsenal* была гостевой.\n",
    "\n",
    "```sql\n",
    "SELECT\n",
    "    m.id\n",
    "FROM\n",
    "    sql.teams t\n",
    "    JOIN sql.matches m ON m.away_team_api_id = t.api_id\n",
    "WHERE\n",
    "    long_name = 'Arsenal'\n",
    "```\n",
    "\n",
    "Принципиальное отличие фильтрации данных по соединённым таблицам от аналогичного действия по одиночным таблицам заключается в том, что, фильтруя записи одной таблицы, мы также будем фильтровать и записи другой таблицы, поскольку соединённые на уровне запроса таблицы по сути являются единой таблицей.\n",
    "\n",
    "Например, результат запроса\n",
    "\n",
    "\n",
    "```sql\n",
    "SELECT\n",
    "    m.id id_1,\n",
    "    m.season,\n",
    "    t.id id_2,\n",
    "    t.long_name\n",
    "FROM\n",
    "    sql.teams t\n",
    "    JOIN sql.matches m ON m.away_team_api_id = t.api_id\n",
    "```"
   ]
  },
  {
   "cell_type": "markdown",
   "metadata": {},
   "source": [
    "можно разделить на две разные части\n",
    "\n",
    "\n",
    "![](data/dst3-u2-md3_4_1.png)"
   ]
  },
  {
   "cell_type": "markdown",
   "metadata": {},
   "source": [
    "Одна часть — таблица `matches` с алиасом `m`, вторая — `teams` с алиасом `t`, но после соединения они являются одной таблицей.\n",
    "\n",
    "Таким образом, если вы отфильтруете данные по одной части таблицы, то другая, соединённая, часть пропадёт вместе с ней."
   ]
  },
  {
   "cell_type": "markdown",
   "metadata": {},
   "source": [
    "> **Задание 4.1**\n",
    "> \n",
    "> Напишите запрос, который выведет полное название домашней команды (`long_name`), количество голов домашней команды (`home_goal`) и количество голов гостевой команды (`away_goal`) в матчах, где домашней командой были команды с коротким названием 'GEN'.\n",
    "> Отсортируйте запрос по id матча в порядке возрастания.\n",
    "\n",
    "\n",
    "```sql\n",
    "SELECT\n",
    "    t.long_name,\n",
    "    m.home_team_goals AS home_goal,\n",
    "    m.away_team_goals AS away_goal\n",
    "FROM\n",
    "    sql.teams AS t\n",
    "    JOIN sql.matches AS m ON t.api_id = m.home_team_api_id\n",
    "WHERE\n",
    "    t.short_name = 'GEN'\n",
    "ORDER BY\n",
    "    m.id ASC\n",
    "```"
   ]
  },
  {
   "cell_type": "markdown",
   "metadata": {},
   "source": [
    "Также мы можем отфильтровать записи сразу по двум таблицам.\n",
    "\n",
    "Например, можно оставить только записи, в которых короткое название домашней команды `GEN` и матчи сезона `2008/2009`.\n",
    "\n",
    "```sql\n",
    "SELECT\n",
    "    *\n",
    "FROM\n",
    "    sql.matches m\n",
    "    JOIN sql.teams t on t.api_id = m.home_team_api_id\n",
    "WHERE\n",
    "    t.short_name = 'GEN'\n",
    "    AND m.season = '2008/2009'\n",
    "```"
   ]
  },
  {
   "cell_type": "markdown",
   "metadata": {},
   "source": [
    "> **Задание 4.2**\n",
    "> \n",
    "> Напишите запрос, чтобы вывести `id` матчей, короткое название домашней команды (`home_short`), короткое название гостевой команды (`away_short`) для матчей сезона `2011`/`2012`, в которых участвовала команда с названием `Liverpool`. Отсортируйте по `id` матча в порядке возрастания.\n",
    "\n",
    "\n",
    "```sql\n",
    "SELECT\n",
    "    m.id,\n",
    "    h.short_name AS home_short,\n",
    "    a.short_name AS away_short\n",
    "FROM\n",
    "    sql.matches AS m\n",
    "    JOIN sql.teams AS h ON m.home_team_api_id = h.api_id\n",
    "    JOIN sql.teams AS a ON m.away_team_api_id = a.api_id\n",
    "WHERE\n",
    "    m.season = '2011/2012'\n",
    "    AND (\n",
    "        h.long_name = 'Liverpool'\n",
    "        OR a.long_name = 'Liverpool'\n",
    "    )\n",
    "ORDER BY\n",
    "    m.id\n",
    "```"
   ]
  },
  {
   "cell_type": "markdown",
   "metadata": {},
   "source": [
    "**Агрегация данных**\n",
    "\n",
    "К соединённым таблицам также применимы любые агрегатные функции — самые важные функции для анализа данных.\n",
    "\n",
    "Например, мы можем вывести сумму голов матча, забитых командами, агрегированную по гостевым командам (совокупное количество голов в матче, забитых обеими командами, суммированное в разрезе гостевых команд).\n",
    "\n",
    "\n",
    "```sql\n",
    "SELECT\n",
    "    t.long_name,\n",
    "    SUM(m.home_team_goals) + SUM(m.away_team_goals) match_goals\n",
    "FROM\n",
    "    sql.matches m\n",
    "    JOIN sql.teams t ON m.away_team_api_id = t.api_id\n",
    "GROUP BY\n",
    "    t.id\n",
    "```\n",
    "\n",
    "**Обратите внимание!** В данном запросе была использована группировка по столбцу `id` таблицы `teams`, хотя этот столбец не выводится в запросе. Это необходимо для того, чтобы команды с одинаковым названием, если такие найдутся, не группировались между собой. Группировка по названию команды в данном запросе будет неверной, так как есть несколько команд с одинаковым полным названием — мы говорили об этом в начале модуля."
   ]
  },
  {
   "cell_type": "markdown",
   "metadata": {},
   "source": [
    "Также, применяя агрегатные функции к соединённым таблицам, обращайте внимание на указание алиасов (или таблиц) при группировке и указании столбцов агрегатных функций. В нашей соединённой таблице есть два столбца с названием `id`, и если бы мы сформировали запрос без указания таблицы, как указано ниже, то...\n",
    "\n",
    "\n",
    "```sql\n",
    "SELECT\n",
    "    t.long_name,\n",
    "    SUM(m.home_team_goals) + SUM(m.away_team_goals) match_goals\n",
    "FROM\n",
    "    sql.matches m\n",
    "    JOIN sql.teams t ON m.away_team_api_id = t.api_id\n",
    "GROUP BY\n",
    "    id\n",
    "```\n",
    "\n",
    "система выдала бы уже знакомую нам ошибку: *\"... column \"id\" is ambiguous ...\"*\n",
    "\n",
    "Мы можем использовать оператор `HAVING` для фильтрации сгруппированных данных."
   ]
  },
  {
   "cell_type": "markdown",
   "metadata": {},
   "source": [
    "Поставим задачу — вывести таблицу с суммарным количеством забитых голов в матчах по командам и сезонам для команд, в которых суммарное количество голов в матчах сезона больше 100.\n",
    "\n",
    "Для начала посчитаем общее количество голов в матчах по сезонам.\n",
    "\n",
    "\n",
    "```sql\n",
    "SELECT\n",
    "    m.season,\n",
    "    SUM(m.home_team_goals) + SUM(m.away_team_goals) AS total_goals\n",
    "FROM \n",
    "    sql.matches AS m\n",
    "GROUP BY\n",
    "    m.season\n",
    "```"
   ]
  },
  {
   "cell_type": "markdown",
   "metadata": {},
   "source": [
    "Затем добавим таблицу с командами, группировку по командам и условие фильтрации.\n",
    "\n",
    "\n",
    "```sql\n",
    "SELECT\n",
    "    m.season,\n",
    "    t.long_name,\n",
    "    SUM(m.home_team_goals) + SUM(m.away_team_goals) AS total_goals\n",
    "FROM\n",
    "    sql.matches AS m\n",
    "    JOIN sql.teams AS t ON t.api_id = m.home_team_api_id\n",
    "    OR t.api_id = m.away_team_api_id\n",
    "GROUP BY\n",
    "    m.season,\n",
    "    t.id\n",
    "HAVING\n",
    "    SUM(m.home_team_goals) + SUM(m.away_team_goals) > 100\n",
    "```"
   ]
  },
  {
   "cell_type": "markdown",
   "metadata": {},
   "source": [
    "**Проверка кода для команды Aberdeen (api_id=8485) в сезоне 2015/2016**\n",
    "\n",
    "* Код с платформы (с добавлением фильтрации и столбца api_id)\n",
    "\n",
    "\n",
    "```sql\n",
    "SELECT\n",
    "    m.season,\n",
    "    t.long_name,\n",
    "    t.api_id,\n",
    "    SUM(m.home_team_goals) + SUM(m.away_team_goals) AS total_goals\n",
    "FROM\n",
    "    sql.matches AS m\n",
    "    JOIN sql.teams AS t ON t.api_id = m.home_team_api_id\n",
    "    OR t.api_id = m.away_team_api_id\n",
    "GROUP BY\n",
    "    m.season,\n",
    "    t.id\n",
    "HAVING\n",
    "    SUM(m.home_team_goals) + SUM(m.away_team_goals) > 100 \n",
    "    AND t.api_id = '8485'\n",
    "    AND m.season='2015/2016'`\n",
    "```\n",
    "\n",
    "**Ответ: 110**"
   ]
  },
  {
   "cell_type": "markdown",
   "metadata": {},
   "source": [
    "\n",
    "* Сумма забитых голов в гостях\n",
    "\n",
    "\n",
    "```sql\n",
    "SELECT\n",
    "    m.season,\n",
    "    t.long_name,\n",
    "    SUM(away_team_goals) AS total_away_goals\n",
    "FROM\n",
    "    sql.matches AS m\n",
    "    JOIN sql.teams AS t ON m.away_team_api_id = t.api_id\n",
    "GROUP BY\n",
    "    m.season,\n",
    "    m.away_team_api_id,\n",
    "    t.id\n",
    "HAVING\n",
    "    away_team_api_id = '8485' AND season = '2015/2016'\n",
    "```\n",
    "\n",
    "**Ответ: 32**\n"
   ]
  },
  {
   "cell_type": "markdown",
   "metadata": {},
   "source": [
    "\n",
    "* Сумма забитых голов дома\n",
    "\n",
    "\n",
    "```sql\n",
    "SELECT\n",
    "    m.season,\n",
    "    t.long_name,\n",
    "    SUM(home_team_goals) AS total_home_goals\n",
    "FROM\n",
    "    sql.matches AS m\n",
    "    JOIN sql.teams AS t ON m.home_team_api_id = t.api_id\n",
    "GROUP BY\n",
    "    m.season,\n",
    "    m.home_team_api_id,\n",
    "    t.id\n",
    "HAVING\n",
    "    home_team_api_id = '8485' AND season = '2015/2016'\n",
    "```\n",
    "\n",
    "**Ответ: 30**"
   ]
  },
  {
   "cell_type": "markdown",
   "metadata": {},
   "source": [
    "* Код, который помог лучше понять как по заданному условию в таблицу `matches` подтягиваются данные из таблицы `teams`, и как затем происходит группировка:\n",
    "\n",
    "\n",
    "```sql\n",
    "SELECT\n",
    "    season,\n",
    "    t.api_id,\n",
    "    m.home_team_api_id,\n",
    "    m.away_team_api_id,\n",
    "    SUM(m.home_team_goals) AS total_home,\n",
    "    SUM(m.away_team_goals) AS total_away,\n",
    "    SUM(m.home_team_goals) + SUM(m.away_team_goals) AS total_goals\n",
    "FROM\n",
    "    sql.matches AS m\n",
    "    JOIN sql.teams AS t ON (\n",
    "        t.api_id = m.home_team_api_id\n",
    "        OR t.api_id = m.away_team_api_id\n",
    "    )\n",
    "GROUP BY\n",
    "    m.season,\n",
    "    t.api_id,\n",
    "    m.home_team_api_id,\n",
    "    m.away_team_api_id\n",
    "HAVING\n",
    "    t.api_id = '8485'\n",
    "    AND season = '2015/2016'\n",
    "```\n",
    "\n",
    "**Вывод:** в задаче речь шла о сумме забитых и пропущенных голов командами за сезон, а не только забитых, как я изначально подумал."
   ]
  },
  {
   "cell_type": "markdown",
   "metadata": {},
   "source": [
    "* Код, который считает сумму забитых и пропущенных за сезон для тестовой команды:\n",
    "\n",
    "\n",
    "```sql\n",
    "SELECT\n",
    "    SUM(home_team_goals) + SUM(away_team_goals)\n",
    "FROM\n",
    "    sql.matches\n",
    "WHERE\n",
    "    (\n",
    "        home_team_api_id = '8485'\n",
    "        OR away_team_api_id = '8485'\n",
    "    )\n",
    "    AND season = '2015/2016'\n",
    "```"
   ]
  },
  {
   "cell_type": "markdown",
   "metadata": {},
   "source": [
    "@Андрей_Кукунов_ментор \n",
    "\n",
    "Здравствуйте, Андрей!\n",
    "\n",
    "Во-первых, не понимаю (хотя догадываюсь), зачем Вы начали новый тред! Изначально вопрос был по конкретной задаче на платформе, так что от темы я не отклонялся. Поэтому продолжаю обсуждение здесь.\n",
    "\n",
    "Во-вторых, категорически не согласен с [озвученным Вами мнением](https://app.pachca.com/chats/4734580?message=77525718), что неточность формулировки - это дескать *\"педагогический приём, стимулирующий студентов на поиск смыслов\"*. Когда пытаешься вникнуть в соединение таблиц, а особенно в группировку, совершенно не до поиска смыслов в условиях задачи. Это только создает  кумулятивное непонимание. Поэтому не должно быть (а в действительности и нет) таких приёмов! По крайней мере, в учебном материале, изучая который, студенты осмысливают механизм выполнения инструкций ЯП. Формулировки должны быть предельно точными и лаконичными и уж точно не содержать ошибок (убежден, что в данном случае со стороны авторов совершенно ненамеренных)!  \n",
    "\n",
    "Соответственно, если при выполнении обсуждаемой задачи не учитывать сделанных якобы в учебных целях семантических ошибок в её условии,  то суммировать необходимо именно количество **забитых** командой голов за сезон (и в гостях, и дома). \n",
    "\n",
    "В этом случае код решения выглядел бы примерно так:\n",
    "\n",
    "\n",
    "```sql\n",
    "SELECT\n",
    "    m.season,\n",
    "    t.long_name,\n",
    "    t.api_id,\n",
    "    SUM(m.home_team_goals) + away_scored.total_away_scored_goals AS total_scored_goals\n",
    "FROM\n",
    "    sql.matches AS m\n",
    "    JOIN sql.teams AS t ON t.api_id = m.home_team_api_id\n",
    "    JOIN (\n",
    "        --таблица забитых голов в гостях\n",
    "        SELECT\n",
    "            m.season,\n",
    "            t.long_name,\n",
    "            t.api_id,\n",
    "            SUM(m.away_team_goals) AS total_away_scored_goals\n",
    "        FROM\n",
    "            sql.matches AS m\n",
    "            JOIN sql.teams AS t ON t.api_id = m.away_team_api_id\n",
    "        GROUP BY\n",
    "            m.season,\n",
    "            t.id\n",
    "    ) AS away_scored ON (\n",
    "        m.season = away_scored.season\n",
    "        AND t.api_id = away_scored.api_id\n",
    "    )\n",
    "GROUP BY\n",
    "    m.season,\n",
    "    t.id,\n",
    "    away_scored.total_away_scored_goals\n",
    "HAVING\n",
    "    SUM(m.home_team_goals) + away_scored.total_away_scored_goals > 100\n",
    "```\n",
    "\n",
    "**Может быть в программировании я мало смыслю, но вот на выверении формулировок (и кое на чём ещё) за последние 15 лет собаку съел.  Либо надо менять условие задачи, либо - код её решения, выложенный на платформе!**"
   ]
  },
  {
   "cell_type": "markdown",
   "metadata": {},
   "source": [
    "> **Задание 4.3**\n",
    "> \n",
    "> Напишите запрос, с помощью которого можно вывести список полных названий команд, сыгравших в гостях 150 и более матчей. Отсортируйте список по названию команды.\n",
    "\n",
    "\n",
    "```sql\n",
    "SELECT\n",
    "    t.long_name\n",
    "FROM\n",
    "    sql.matches AS m\n",
    "    JOIN sql.teams AS t ON m.away_team_api_id = t.api_id\n",
    "GROUP BY\n",
    "    m.away_team_api_id,\n",
    "    t.long_name\n",
    "HAVING\n",
    "    count(m.away_team_api_id) >= 150\n",
    "ORDER BY\n",
    "    t.long_name\n",
    "```"
   ]
  },
  {
   "cell_type": "markdown",
   "metadata": {},
   "source": [
    "## Способы соединения таблиц\n",
    "\n",
    "---"
   ]
  },
  {
   "cell_type": "markdown",
   "metadata": {},
   "source": [
    "В прошлых юнитах для соединения таблиц мы использовали один оператор — `JOIN`. В действительности же он не один: существует несколько различных видов соединений (join’ов) — давайте посмотрим, какие "
   ]
  },
  {
   "cell_type": "markdown",
   "metadata": {},
   "source": [
    "### INNER JOIN\n",
    "\n",
    "---"
   ]
  },
  {
   "cell_type": "markdown",
   "metadata": {},
   "source": [
    "![](data/asset-v1_SkillFactory+DST-3.0+28FEB2021+type@asset+block@dst3-u2-md3_5_1.gif)"
   ]
  },
  {
   "cell_type": "markdown",
   "metadata": {},
   "source": [
    "Для `INNER JOIN` работает следующее правило: присоединяются только те строки таблиц, которые удовлетворяют условию соединения. Если в любой из соединяемых таблиц находятся такие строки, которые не удовлетворяют заявленному условию, — они отбрасываются.\n",
    "\n",
    "Рассмотрим на примере нашего датасета. \n",
    "\n",
    "В таблице `teams` есть данные о 299 различных командах — можем проверить это с помощью запроса.\n",
    "\n",
    "\n",
    "```sql\n",
    "SELECT\n",
    "    COUNT(DISTINCT id)\n",
    "FROM\n",
    "    sql.teams\n",
    "```\n",
    "\n",
    "или\n",
    "\n",
    "\n",
    "```sql\n",
    "SELECT\n",
    "    COUNT(DISTINCT api_id)\n",
    "FROM\n",
    "    sql.teams\n",
    "```"
   ]
  },
  {
   "cell_type": "markdown",
   "metadata": {},
   "source": [
    "Теперь добавим к teams таблицу с матчами.\n",
    "\n",
    "\n",
    "```sql\n",
    "SELECT\n",
    "    COUNT(DISTINCT t.id)\n",
    "FROM\n",
    "    sql.teams t\n",
    "    JOIN sql.matches m ON (\n",
    "        t.api_id = m.home_team_api_id\n",
    "        OR t.api_id = m.away_team_api_id\n",
    "    )\n",
    "```"
   ]
  },
  {
   "cell_type": "markdown",
   "metadata": {},
   "source": [
    "И в таблице останется уже не 299 команд, а только 292.\n",
    "\n",
    "Дело в том, что таблица `sql.matches` по какой-то причине не содержит информацию о командах `Lierse` `SK`, `KVC` `Westerlo`, `KAS` `Eupen`, `Club` `Brugge` `KV`, `KV` `Oostende`, `RSC` `Anderlecht` и `Hull` `City`, зато они есть в таблице `sql.teams`. Возможно, эти команды не участвовали ни в одном матче или записи по этим матчам были удалены."
   ]
  },
  {
   "cell_type": "markdown",
   "metadata": {},
   "source": [
    "### LEFT OUTER JOIN и RIGHT OUTER JOIN\n",
    "\n",
    "---"
   ]
  },
  {
   "cell_type": "markdown",
   "metadata": {},
   "source": [
    "Также существуют схожие друг с другом типы соединения — `LEFT JOIN` и `RIGHT JOIN` (слово outer в операторе можно опустить)."
   ]
  },
  {
   "cell_type": "markdown",
   "metadata": {
    "vscode": {
     "languageId": "sql"
    }
   },
   "source": [
    "Принцип работы оператора можно описать так:\n",
    "\n",
    "![](data/asset-v1_SkillFactory+DST-3.0+28FEB2021+type@asset+block@dst3-u2-md3_5_2.gif)"
   ]
  },
  {
   "cell_type": "markdown",
   "metadata": {},
   "source": [
    "Для `LEFT JOIN` работает следующее правило: из левой (относительно оператора) таблицы сохраняются все строки, а из правой добавляются только те, которые соответствуют условию соединения. Если в правой таблице не находится соответствия, то значения строк второй таблицы будут иметь значение `NULL`.\n",
    "\n",
    "`LEFT JOIN` может быть полезен, когда соответствующих записей во второй таблице может не быть, но важно сохранить записи из первой таблицы."
   ]
  },
  {
   "cell_type": "markdown",
   "metadata": {},
   "source": [
    "Поставим следующую задачу: вывести полные названия команд, данных по которым нет в таблице `matches`.\n",
    "\n",
    "Для начала посмотрим на результат запроса после соединения.\n",
    "\n",
    "\n",
    "```sql\n",
    "SELECT\n",
    "    t.long_name,\n",
    "    m.id\n",
    "FROM\n",
    "    sql.teams t\n",
    "    LEFT JOIN sql.matches m ON t.api_id = m.home_team_api_id\n",
    "    OR t.api_id = m.away_team_api_id\n",
    "ORDER BY\n",
    "    m.id DESC\n",
    "```\n",
    "\n",
    "Вывод: в таблице `teams` сохранились все записи, а в таблице `matches` есть пустые строки.\n",
    "\n",
    "Теперь, чтобы выбрать такие команды, которые не принимали участия в матчах, достаточно добавить условие where m.id is null (или любое другое поле таблицы matches).\n",
    "\n",
    "\n",
    "```sql\n",
    "SELECT\n",
    "    t.long_name\n",
    "FROM\n",
    "    sql.teams t\n",
    "    LEFT JOIN sql.matches m ON t.api_id = m.home_team_api_id\n",
    "    OR t.api_id = m.away_team_api_id\n",
    "WHERE\n",
    "    m.id IS NULL\n",
    "```\n",
    "\n",
    "**Обратите внимание!** Если мы добавим какой-либо фильтр по отличному от `NULL` значению для таблицы matches, то `LEFT` `JOIN` превратится в `INNER` `JOIN`, поскольку для второй таблицы станет необходимым присутствие такого (`NOT` `NULL`) значения в строке.\n",
    "\n",
    "\n",
    "```sql\n",
    "SELECT\n",
    "    t.long_name\n",
    "FROM\n",
    "    sql.teams t\n",
    "    LEFT JOIN sql.matches m ON (\n",
    "        t.api_id = m.home_team_api_id\n",
    "        OR t.api_id = m.away_team_api_id\n",
    "    )\n",
    "WHERE\n",
    "    m.season = '2008/2009'\n",
    "    AND t.long_name = 'KAS Eupen'\n",
    "```\n",
    "\n",
    "В ответе Metabase получим `No results`!, так как вместе с фильтром m.season = '2008/2009' исчезли все строки, значения которых NULL."
   ]
  },
  {
   "cell_type": "markdown",
   "metadata": {},
   "source": [
    "> **Задание 5.1**\n",
    "> \n",
    "> Используя LEFT JOIN, выведите список уникальных названий команд, содержащихся в таблице matches. Отсортируйте список в алфавитном порядке.\n",
    "\n",
    "```sql\n",
    "SELECT\n",
    "    DISTINCT t.long_name\n",
    "FROM\n",
    "    sql.matches AS m\n",
    "    JOIN sql.teams AS t ON (\n",
    "        m.home_team_api_id = t.api_id\n",
    "        OR m.away_team_api_id = t.api_id\n",
    "    )\n",
    "ORDER BY\n",
    "    t.long_name\n",
    "```"
   ]
  },
  {
   "cell_type": "markdown",
   "metadata": {},
   "source": [
    "С `LEFT JOIN` также работают агрегатные функции, что позволяет не потерять значения из левой таблицы. Например, мы можем вывести сумму голов команд по гостевым матчам.\n",
    "\n",
    "\n",
    "```sql\n",
    "SELECT\n",
    "    t.long_name,\n",
    "    SUM(m.away_team_goals) total_goals\n",
    "FROM\n",
    "    sql.teams t\n",
    "    LEFT JOIN sql.matches m ON t.api_id = m.away_team_api_id\n",
    "GROUP BY\n",
    "    t.id\n",
    "ORDER BY\n",
    "    2 DESC\n",
    "```\n",
    "\n",
    "**Обратите внимание!** При применении функций `SUM`, `MIN`, `MAX`, `AVG` к полям со значением `NULL` в результате получится `NULL`, а не 0. А при использовании функции `COUNT`, наоборот, получится 0."
   ]
  },
  {
   "cell_type": "markdown",
   "metadata": {},
   "source": [
    "> **Задание 5.2**\n",
    "> \n",
    "> Используя `LEFT JOIN`, напишите запрос, который выведет полное название команды (`long_name`), количество матчей, в которых участвовала команда, — домашних и гостевых (`matches_cnt`). Отсортируйте по количеству матчей в порядке возрастания, затем — по названию команды в алфавитном порядке.\n",
    "\n",
    "\n",
    "```sql\n",
    "SELECT\n",
    "    t.long_name,\n",
    "    COUNT(m.away_team_api_id) AS matches_cnt\n",
    "FROM\n",
    "    sql.teams AS t\n",
    "    LEFT JOIN sql.matches AS m ON (\n",
    "        t.api_id = m.home_team_api_id\n",
    "        OR t.api_id = m.away_team_api_id\n",
    "    )\n",
    "GROUP BY\n",
    "    t.api_id,\n",
    "    t.long_name\n",
    "ORDER BY\n",
    "    matches_cnt,\n",
    "    t.long_name\n",
    "```"
   ]
  },
  {
   "cell_type": "markdown",
   "metadata": {},
   "source": [
    "При использовании `RIGHT JOIN` сохраняется та же логика, что и для `LEFT JOIN`, только за основу берётся правая таблица.\n",
    "\n",
    "Чтобы из `LEFT JOIN` получить `RIGHT JOIN`, нужно просто поменять порядок соединения таблиц.\n",
    "\n",
    "Вообще, применение `RIGHT JOIN` считается плохим тоном, так как язык `SQL` читается и пишется слева направо, а такой оператор усложняет чтение запросов."
   ]
  },
  {
   "cell_type": "markdown",
   "metadata": {},
   "source": [
    "### FULL OUTER JOIN\n",
    "\n",
    "---"
   ]
  },
  {
   "cell_type": "markdown",
   "metadata": {},
   "source": [
    "Оператор `FULL` `OUTER` `JOIN` объединяет в себе `LEFT` и `RIGHT` `JOIN` и позволяет сохранить кортежи обеих таблиц. Даже если не будет соответствий, мы сохраним все записи из обеих таблиц.\n",
    "\n",
    "`FULL OUTER JOIN` может быть полезен в ситуациях, когда схема данных недостаточно нормализована и не хватает таблиц-справочников.\n",
    "\n",
    "`Пример:` в базе данных интернет-магазина есть две таблицы — с зарегистрированными пользователями и пользователями, оформившими заказ. При этом оформить заказ можно без регистрации, а зарегистрироваться — без оформления заказа.\n",
    "\n",
    "Предположим, что вам необходимо получить полный список пользователей — и оформивших заказ, и зарегистрированных, — но в базе данных этой объединённой таблицы нет. В данном случае можно использовать `FULL OUTER JOIN` для получения полного списка, соединив таким образом таблицы c заказами и регистрациями по `id` пользователя."
   ]
  },
  {
   "cell_type": "markdown",
   "metadata": {},
   "source": [
    "![](data/dst3-u2-md3_5_4.png)"
   ]
  },
  {
   "cell_type": "markdown",
   "metadata": {},
   "source": [
    "Синтаксис `FULL OUTER JOIN` аналогичен другим `JOIN`.\n",
    "\n",
    "\n",
    "```sql\n",
    "SELECT\n",
    "    …\n",
    "FROM\n",
    "    table1 FULL\n",
    "    OUTER JOIN table2 ON условие\n",
    "```"
   ]
  },
  {
   "cell_type": "markdown",
   "metadata": {},
   "source": [
    "### CROSS JOIN\n",
    "\n",
    "---"
   ]
  },
  {
   "cell_type": "markdown",
   "metadata": {},
   "source": [
    "На самом деле с этим оператором соединения таблиц вы познакомились в самом начале текущего модуля.\n",
    "\n",
    "`CROSS JOIN` соединяет таблицы так, что каждая запись в первой таблице присоединяется к каждой записи во второй таблице, иначе говоря, даёт декартово произведение."
   ]
  },
  {
   "cell_type": "markdown",
   "metadata": {},
   "source": [
    "![](data/dst3-u2-md3_5_5.png)"
   ]
  },
  {
   "cell_type": "markdown",
   "metadata": {},
   "source": [
    "В начале модуля вы использовали этот оператор, записывая таблицы через запятую.\n",
    "\n",
    "\n",
    "```sql\n",
    "SELECT \n",
    "    *\n",
    "FROM\n",
    "    sql.teams,\n",
    "    sql.matches\n",
    "```\n",
    "\n",
    "Этот же запрос можно записать с использованием `CROSS JOIN`.\n",
    "\n",
    "\n",
    "```sql\n",
    "SELECT \n",
    "    *\n",
    "FROM\n",
    "    sql.teams\n",
    "    CROSS JOIN sql.matches\n",
    "```\n",
    "\n",
    "Также этот запрос можно записать с помощью `INNER JOIN` с условием `ON TRUE` — результат будет тот же.\n",
    "\n",
    "\n",
    "```sql\n",
    "SELECT \n",
    "    *\n",
    "FROM\n",
    "    sql.teams\n",
    "    JOIN sql.matches ON TRUE\n",
    "```\n",
    "\n",
    "`CROSS JOIN` может быть полезен, когда необходимо создать таблицу фактов.\n",
    "\n",
    "Например, с помощью такого запроса мы можем получить все возможные комбинации полных названий команд в матчах.\n",
    "\n",
    "\n",
    "```sql\n",
    "SELECT\n",
    "    DISTINCT t1.long_name home_team,\n",
    "    t2.long_name away_team\n",
    "FROM\n",
    "    sql.teams t1\n",
    "    CROSS JOIN sql.teams t2\n",
    "```"
   ]
  },
  {
   "cell_type": "markdown",
   "metadata": {},
   "source": [
    "> **Задание 5.3**\n",
    "> \n",
    "> Напишите запрос, который выведет все возможные уникальные комбинации коротких названий домашней команды (`home_team`) и коротких названий гостевой команды (`away_team`). Отсортируйте запрос по первому и второму столбцам.\n",
    "\n",
    "\n",
    "```sql\n",
    "SELECT\n",
    "    DISTINCT t1.short_name home_team,\n",
    "    t2.short_name away_team\n",
    "FROM\n",
    "    sql.teams AS t1\n",
    "    CROSS JOIN sql.teams AS t2\n",
    "ORDER BY\n",
    "    1,\n",
    "    2\n",
    "```"
   ]
  },
  {
   "cell_type": "markdown",
   "metadata": {},
   "source": [
    "### NATURAL JOIN\n",
    "\n",
    "---"
   ]
  },
  {
   "cell_type": "markdown",
   "metadata": {},
   "source": [
    "Ключевое слово `NATURAL` в начале оператора `JOIN` позволяет не указывать условие соединения таблиц — для соединения будут использованы столбцы с одинаковым названием из этих таблиц.\n",
    "\n",
    "`NATURAL JOIN` можно использовать с любыми видами соединений, которые требуют условия соединения:\n",
    "\n",
    "* `NATURAL INNER JOIN` (возможна запись `NATURAL JOIN)`;\n",
    "* `NATURAL LEFT JOIN`;\n",
    "* `NATURAL RIGHT JOIN`;\n",
    "* `NATURAL FULL OUTER JOIN`.\n",
    "\n",
    "При использовании `NATURAL JOIN` прежде всего стоит обратить внимание на ключи таблиц. Для наших таблиц `teams` и `matches` этот вид соединения не подойдёт, так как общим для обеих таблиц является столбец `id`, но таблицы соединяются по другим столбцам.\n",
    "\n",
    "Когда у таблиц есть несколько столбцов с одинаковыми именами, при `NATURAL JOIN` условие соединения будет применено на все столбцы с одинаковыми именами."
   ]
  },
  {
   "cell_type": "markdown",
   "metadata": {},
   "source": [
    "### Общая логика построения запроса с JOIN\n",
    "---"
   ]
  },
  {
   "cell_type": "markdown",
   "metadata": {},
   "source": [
    "При построении запроса с несколькими `JOIN` старайтесь идти слева направо. Сначала выберите таблицу, которая является центральной в соответствии с поставленной задачей, вопросом. Затем добавляйте таблицы поэтапно в зависимости от бизнес-логики запроса.\n",
    "\n",
    "Например, для ответа на вопрос: «Какая команда сыграла больше всех матчей в сезоне 2010/2011?» в качестве центральной лучше выбрать таблицу с командами.\n",
    "\n",
    "А для ответа на вопрос: «В каком сезоне участвовало больше всего команд?» — таблицу с матчами.\n",
    "\n",
    "Стоит отметить, что из рассмотренных видов соединений чаще всего используются `INNER JOIN` и `LEFT JOIN`. Другие операторы используются реже, но стоит помнить об их существовании при решении нестандартных задач.\n",
    "\n"
   ]
  },
  {
   "cell_type": "markdown",
   "metadata": {},
   "source": [
    "## Виды JOINов (коротко)\n",
    "---"
   ]
  },
  {
   "cell_type": "markdown",
   "metadata": {},
   "source": [
    "**CROSS JOIN**\n",
    "\n",
    "Cоединяет таблицы так, что каждая запись в первой таблице присоединяется к каждой записи во второй таблице ― иначе говоря, даёт декартово произведение."
   ]
  },
  {
   "cell_type": "markdown",
   "metadata": {},
   "source": [
    "**INNER JOIN**\n",
    "\n",
    "— это тот же `JOIN` (слово `INNER` в операторе можно опустить).\n",
    "\n",
    "Для `INNER JOIN` работает следующее правило: присоединяются только те строки таблиц, которые удовлетворяют условию соединения. Если в любой из соединяемых таблиц находятся такие строки, которые не удовлетворяют заявленному условию, — они отбрасываются."
   ]
  },
  {
   "cell_type": "markdown",
   "metadata": {},
   "source": [
    "**NATURAL JOIN**\n",
    "\n",
    "Ключевое слово `NATURAL` в начале оператора `JOIN` позволяет не указывать условие соединения таблиц — для соединения будут использованы столбцы с одинаковым названием из этих таблиц.\n",
    "\n",
    "`NATURAL JOIN` можно использовать с любыми видами соединений, которые требуют определённого условия:\n",
    "\n",
    "* `NATURAL INNER JOIN` (возможна запись NATURAL JOIN);\n",
    "* `NATURAL LEFT JOIN`;\n",
    "* `NATURAL RIGHT JOIN`;\n",
    "* `NATURAL FULL OUTER JOIN`.\n",
    "\n",
    "При использовании `NATURAL JOIN` прежде всего стоит обратить внимание на ключи таблиц.\n",
    "\n",
    "Когда у таблиц есть несколько столбцов с одинаковыми именами, при `NATURAL JOIN` условие соединения будет применено на все столбцы с одинаковыми именами."
   ]
  },
  {
   "cell_type": "markdown",
   "metadata": {},
   "source": [
    "**LEFT JOIN**\n",
    "\n",
    "Для `LEFT JOIN` работает следующее правило: из левой (относительно оператора) таблицы сохраняются все строки, а из правой добавляются только те, которые соответствуют условию соединения. Если в правой таблице не находится соответствия, то значения строк второй таблицы будут иметь значение `NULL`.\n",
    "\n",
    "`LEFT JOIN` полезен, когда соответствующих записей во второй таблице может не быть, но важно сохранить записи из первой таблицы.\n",
    "\n",
    "Чтобы из `LEFT JOIN` получить `RIGHT JOIN`, нужно просто поменять порядок соединения таблиц."
   ]
  },
  {
   "cell_type": "markdown",
   "metadata": {},
   "source": [
    "**RIGHT JOIN**\n",
    "\n",
    "Для `RIGHT JOIN` работает следующее правило: из правой (относительно оператора) таблицы сохраняются все строки, а из левой добавляются только те, которые соответствуют условию соединения. Если в левой таблице не находится соответствия, то значения строк второй таблицы будут иметь значение `NULL`.\n",
    "\n",
    "`RIGHT JOIN` полезен, когда соответствующих записей во второй таблице может не быть, но важно сохранить записи из первой таблицы.\n",
    "\n",
    "Чтобы из `RIGHT JOIN` получить LEFT JOIN, нужно просто поменять порядок соединения таблиц.\n",
    "\n",
    "Вообще, применение `RIGHT JOIN` считается дурным тоном, так как язык *SQL* читается и пишется слева направо, и этот оператор усложняет чтение запросов."
   ]
  },
  {
   "cell_type": "markdown",
   "metadata": {},
   "source": [
    "**FULL OUTER JOIN**\n",
    "\n",
    "Оператор `FULL OUTER JOIN` объединяет в себе `LEFT` и `RIGHT JOIN` и позволяет сохранить кортежи обеих таблиц. Даже если не будет соответствий, мы сохраним все записи из обеих таблиц.\n",
    "\n",
    "`FULL OUTER JOIN` может быть полезен в ситуациях, когда схема данных недостаточно нормализована и не хватает таблиц-справочников.\n",
    "\n",
    "Пример: в базе данных интернет-магазина есть две таблицы — с зарегистрированными пользователями и пользователями, оформившими заказ. При этом оформить заказ можно без регистрации, а зарегистрироваться — без оформления заказа.\n",
    "\n",
    "Предположим, что вам необходимо получить полный список пользователей — и оформивших заказ, и зарегистрированных, — но в базе данных этой объединённой таблицы нет. В данном случае можно использовать `FULL OUTER JOIN` для получения полного списка, соединив таким образом таблицы c заказами и регистрациями по `id `пользователя."
   ]
  },
  {
   "cell_type": "markdown",
   "metadata": {},
   "source": [
    "## Практические задания\n",
    "---"
   ]
  },
  {
   "cell_type": "markdown",
   "metadata": {},
   "source": [
    "### Задание 6.1"
   ]
  },
  {
   "cell_type": "markdown",
   "metadata": {},
   "source": [
    "> Напишите запрос, который выведет список уникальных полных названий команд (`long_name`), игравших в гостях в матчах сезона 2012/2013. Отсортируйте список в алфавитном порядке."
   ]
  },
  {
   "cell_type": "markdown",
   "metadata": {},
   "source": [
    "**Вариант 1** \n",
    "\n",
    "```sql\n",
    "SELECT\n",
    "    t.long_name\n",
    "FROM\n",
    "    sql.matches AS m\n",
    "    JOIN sql.teams AS t ON (\n",
    "        m.away_team_api_id = t.api_id\n",
    "        AND m.season = '2012/2013'\n",
    "    )\n",
    "GROUP BY\n",
    "    t.long_name\n",
    "ORDER BY\n",
    "    t.long_name\n",
    "```"
   ]
  },
  {
   "cell_type": "markdown",
   "metadata": {},
   "source": [
    "**Вариант 2** (выводит список команд, сыгравших хотя бы один матч в сезоне)\n",
    "\n",
    "```sql\n",
    "SELECT \n",
    "    t.long_name\n",
    "FROM\n",
    "    sql.teams AS t\n",
    "    JOIN sql.matches AS h ON (\n",
    "        t.api_id = h.home_team_api_id\n",
    "        AND h.season = '2012/2013'\n",
    "    )\n",
    "    JOIN sql.matches AS a ON (\n",
    "        t.api_id = a.away_team_api_id\n",
    "        AND a.season = '2012/2013'\n",
    "    )\n",
    "GROUP BY\n",
    "    t.long_name\n",
    "ORDER BY\n",
    "    t.long_name\n",
    "```"
   ]
  },
  {
   "cell_type": "markdown",
   "metadata": {},
   "source": [
    "**Эталонное решение**\n",
    "\n",
    "```sql\n",
    "SELECT\n",
    "    DISTINCT t.long_name\n",
    "FROM\n",
    "    sql.teams t\n",
    "    JOIN sql.matches m ON t.api_id = m.away_team_api_id\n",
    "WHERE\n",
    "    m.season = '2012/2013'\n",
    "ORDER BY\n",
    "    1\n",
    "```"
   ]
  },
  {
   "cell_type": "markdown",
   "metadata": {},
   "source": [
    "### Задание 6.2"
   ]
  },
  {
   "cell_type": "markdown",
   "metadata": {},
   "source": [
    "> Напишите запрос, который выведет полное название команды (`long_name`) и общее количество матчей (`matches_cnt`), сыгранных командой `Inter` в домашних матчах.\n",
    "\n",
    "```sql\n",
    "SELECT\n",
    "    t.long_name,\n",
    "    COUNT(t.long_name) AS 'matches_cnt'\n",
    "FROM\n",
    "    sql.teams AS t\n",
    "    JOIN sql.matches AS m ON (\n",
    "        m.home_team_api_id = t.api_id\n",
    "        AND t.long_name = 'Inter'\n",
    "    )\n",
    "GROUP BY\n",
    "    t.long_name\n",
    "```"
   ]
  },
  {
   "cell_type": "markdown",
   "metadata": {},
   "source": [
    "**Эталонное решение**\n",
    "\n",
    "```sql\n",
    "SELECT\n",
    "    t.long_name,\n",
    "    COUNT(m.id) matches_cnt\n",
    "FROM\n",
    "    sql.matches m\n",
    "    JOIN sql.teams t ON t.api_id = m.home_team_api_id\n",
    "WHERE\n",
    "    t.long_name = 'Inter'\n",
    "GROUP BY\n",
    "    t.id\n",
    "```"
   ]
  },
  {
   "cell_type": "markdown",
   "metadata": {},
   "source": [
    "### Задание 6.3"
   ]
  },
  {
   "cell_type": "markdown",
   "metadata": {},
   "source": [
    "> Напишите запрос, который выведет топ-10 команд (`long_name`) по суммарному количеству забитых голов в гостевых матчах. Во втором столбце запроса выведите суммарное количество голов в гостевых матчах (`total_goals`).\n",
    "\n",
    "```sql\n",
    "SELECT\n",
    "    t.long_name,\n",
    "    SUM(m.away_team_goals) AS total_goals\n",
    "FROM\n",
    "    sql.teams AS t\n",
    "    JOIN sql.matches AS m ON m.away_team_api_id = t.api_id\n",
    "GROUP BY\n",
    "    t.api_id,\n",
    "    t.long_name\n",
    "ORDER BY\n",
    "    total_goals DESC\n",
    "LIMIT\n",
    "    10\n",
    "```"
   ]
  },
  {
   "cell_type": "markdown",
   "metadata": {},
   "source": [
    "**Эталонное решение**\n",
    "\n",
    "```sql\n",
    "SELECT\n",
    "    t.long_name,\n",
    "    SUM(m.away_team_goals) total_goals\n",
    "FROM\n",
    "    sql.teams t\n",
    "    JOIN sql.matches m ON t.api_id = m.away_team_api_id\n",
    "GROUP BY\n",
    "    t.id\n",
    "ORDER BY\n",
    "    2 desc\n",
    "LIMIT\n",
    "    10\n",
    "```"
   ]
  },
  {
   "cell_type": "markdown",
   "metadata": {},
   "source": [
    "### Задание 6.4"
   ]
  },
  {
   "cell_type": "markdown",
   "metadata": {},
   "source": [
    "> Выведите количество матчей между командами `Real Madrid CF` и `FC Barcelona`. В поле ниже введите запрос, с помощью которого вы решили задание.\n",
    "\n",
    "```sql\n",
    "SELECT\n",
    "    COUNT(*)\n",
    "FROM\n",
    "    sql.matches as m\n",
    "    JOIN sql.teams as t1 ON m.home_team_api_id = t1.api_id\n",
    "    JOIN sql.teams as t2 ON m.away_team_api_id = t2.api_id\n",
    "WHERE\n",
    "    (\n",
    "        t1.long_name = 'Real Madrid CF'\n",
    "        AND t2.long_name = 'FC Barcelona'\n",
    "    )\n",
    "    OR (\n",
    "        t1.long_name = 'FC Barcelona'\n",
    "        AND t2.long_name = 'Real Madrid CF'\n",
    "    )\n",
    "```"
   ]
  },
  {
   "cell_type": "markdown",
   "metadata": {},
   "source": [
    "**Эталонное решение**\n",
    "\n",
    "```sql\n",
    "SELECT\n",
    "    COUNT (*)\n",
    "FROM\n",
    "    sql.matches m\n",
    "    JOIN sql.teams h ON h.api_id = m.home_team_api_id\n",
    "    JOIN sql.teams a ON a.api_id = m.away_team_api_id\n",
    "WHERE\n",
    "    (\n",
    "        h.long_name = 'Real Madrid CF'\n",
    "        and a.long_name = 'FC Barcelona'\n",
    "    )\n",
    "    or (\n",
    "        a.long_name = 'Real Madrid CF'\n",
    "        and h.long_name = 'FC Barcelona'\n",
    "    )\n",
    "```"
   ]
  },
  {
   "cell_type": "markdown",
   "metadata": {},
   "source": [
    "### Задание 6.5"
   ]
  },
  {
   "cell_type": "markdown",
   "metadata": {},
   "source": [
    "> Напишите запрос, который выведет название команды (`long_name`), сезон (`season`) и суммарное количество забитых голов в домашних матчах (`total_goals`). Оставьте только те строки, в которых суммарное количество голов менее десяти. Отсортируйте запрос по названию команды, а затем — по сезону.\n",
    "\n",
    "```sql\n",
    "SELECT\n",
    "    t.long_name,\n",
    "    m.season,\n",
    "    SUM(m.home_team_goals) AS total_goals\n",
    "FROM\n",
    "    sql.matches AS m\n",
    "    JOIN sql.teams AS t ON m.home_team_api_id = t.api_id\n",
    "GROUP BY\n",
    "    m.season,\n",
    "    t.id\n",
    "HAVING\n",
    "    SUM(m.home_team_goals) < 10\n",
    "ORDER BY\n",
    "    t.long_name,\n",
    "    m.season\n",
    "```"
   ]
  },
  {
   "cell_type": "markdown",
   "metadata": {},
   "source": [
    "**Эталонное решение**\n",
    "\n",
    "```sql\n",
    "SELECT\n",
    "    t.long_name,\n",
    "    m.season,\n",
    "    SUM(m.home_team_goals) total_goals\n",
    "FROM\n",
    "    sql.teams t\n",
    "    JOIN sql.matches m ON t.api_id = m.home_team_api_id\n",
    "GROUP BY\n",
    "    t.id,\n",
    "    m.season\n",
    "HAVING\n",
    "    SUM(m.home_team_goals) < 10\n",
    "ORDER BY\n",
    "    1,\n",
    "    2\n",
    "```"
   ]
  },
  {
   "cell_type": "markdown",
   "metadata": {},
   "source": [
    "Сообщение ментору от 10.09.2023\n",
    "\n",
    "@Андрей_Кукунов_ментор \n",
    "\n",
    "Здравствуйте!\n",
    "\n",
    "**Вопрос по заданию 6.5**\n",
    "\n",
    "И одновременно, в продолжение дискуссии о  целесообразности намеренных (по Вашему мнению) неточностей (а я бы сказал ненамеренных ошибок) в условиях заданий. \n",
    "\n",
    "Изучая этот канал, обратил внимание, что студенты неоднократно обращались за помощью по данному заданию. Выполнив его, понял возможную причину возникающих затруднений.\n",
    "\n",
    "Вероятнее всего, они обусловлены именно проигнорированными Вами семантическими ошибками в формулировке условия обсуждаемой нами ранее очень похожей задачи, приведенной в качестве примера в учебном материале юнита 4. Очевидно, что по замыслу авторов, осмыслив её, студенты смогут без проблем выполнить задание 6.5.\n",
    "\n",
    "Если сравнить две формулировки и код решений, то становиться очевидно, что озвученные мною в предыдущем треде ошибки приводят к путанице и непониманию учебного материала.\n",
    "\n",
    "**Условие задачи из юнита 4**\n",
    "\n",
    "> Поставим задачу — вывести таблицу с **суммарным количеством забитых голов** в матчах по командам и сезонам для команд, в которых суммарное количество голов в матчах сезона больше 100.\n",
    "\n",
    "\n",
    "> Альтернативная формулировка1: Поставим задачу: вывести таблицу с суммарным количеством голов за все матчи сезона, проведенные с участием команды, для команд, у которых это значение больше 100.\n",
    "\n",
    "> Альтернативная формулировка2: Поставим задачу: вывести таблицу со сведенями о сезонах, командах и суммарном количестве голов за сезон в матчах с участием команды, для команд, у которых сумма забитых и пропущенных голов за сезон превышает 100.  \n",
    "\n",
    "> Альтернативная формулировка3: Поставим задачу: вывести таблицу со сведениями о сезонах, командах и суммарном количестве голов, для команд, у которых сумма голов за все матчи сезона, проведенные с их участием, превышает 100.  \n",
    "\n",
    "\n",
    "**Условие задачи 6.5** (фрагмент, вызывающий вопросы)\n",
    "\n",
    "> Напишите запрос, который выведет название команды (`long_name`), сезон (`season`) и **суммарное количество забитых голов** в домашних матчах (`total_goals`).\n",
    "\n",
    "**Внимание вопрос:** Так что же такое все-таки **\"суммарное количество забитых голов\"** (применительно к результатам одной команды за сезон), которое требуется подсчитать и отобразить в результирующей таблице в обоих заданиях?\n",
    "\n",
    "При этом невозможно усомниться в словах авторов о том, что *соединение таблиц — одна из самых сложных тем для освоения и эффективного использования языка SQL*, поэтому, убежден, что никакой дополнительной путаницы в заданих быть не должно априори: формулировки должны быть предельно точными и лаконичными, а уж ошибки в них совершенно недопустимы!"
   ]
  },
  {
   "cell_type": "markdown",
   "metadata": {},
   "source": [
    "Сообщение от 11.09.2023\n",
    "\n",
    "Андрей, как и Вы, никакого отношения не имею к среде футбольных болельщиков. \n",
    "Но проблема отнюдь не в тонкостях футбольной терминологии, а в языковых конструкциях.\n",
    "\n",
    "**В условии задания по созданию новой таблицы важно четко и однозначно показать, как содержащиеся в ней признаки соотносятся между собой, особенно, соотношение агрегируемых (числовых) признаков с категориальными**\n",
    "\n",
    "Исходя из формулировки *\"суммарное количество забитых голов\"* в условии задания 6.5, **невозможно** достоверно определить источники для агрегации создаваемой таблицы. При описании её агрегируемого признака (количества голов) используется причастие в страдательном залоге (*\"забитых\"*), употребленное без зависимых слов, что исключает возможность однозначно определить, как этот признак таблицы должен соотноситься с ее категориальным признаком - командой, т.е. **неясно какое именно количество голов надо суммировать: либо которое команда забила, либо пропустила, либо и забила, и пропустила**.\n",
    "\n",
    "А если к этому винегрету добавить совсем неочевидный для новичков механизм соединения, группировки и агрегации таблиц SQL, то у многих наступает полный коллапс.\n",
    "\n",
    "Но еще больше сбивает с толку схожее по смыслу задание, разобранное в юните 4, которое по идее должно облегчить выполнение задания 6.5, а получается с точностью до наоборот. \n",
    "\n",
    "При описании агрегируемого признака создаваемой таблицы в условии задачи юнита 4 используется та же неоднозначная формулировка (*\"суммарное количество забитых голов\"*), но с совершенно другим значением. \n",
    "\n",
    "Если в задании 6.5 под *суммарным количеством забитых голов* подразумевается **сумма голов, которые команда забила**, то в юните 4 - **сумма голов, которые команда забила и пропустила**.\n",
    "\n",
    "Не говоря уже о том, что в условии указанной задачи юнита 4 помимо описанной семантической ошибки, которая крайне затрудняет осмысление студентом механизма выполнения инструкций SQL, присутствуют еще и лексическая: придаточное определительное предложение (*\"в которых суммарное количество голов в матчах сезона больше 100\"*) грамматически не согласовано с определяемым словом (*\"команд\"*), точнее вообще неясно какое слово оно определяет, т.к. *\"голы в командах\"* очевидно быть не могут - это больше похоже на абсурд.\n",
    "\n",
    "Формулировки обоих заданий, очевидно, требуют исправления. \n",
    " \n",
    "Если не согласны, покажите их филологу, и он Вам гораздо лучше объяснит в чем проблема, и что сбивает с толку."
   ]
  },
  {
   "cell_type": "markdown",
   "metadata": {},
   "source": [
    "## Вопросы для самопроверки\n",
    "\n",
    "---\n",
    "\n",
    "Все примеры взяты из книги [Нолис Ж., Робинсон Э. Data Science для карьериста. СПб.: Питер, 2021](https://www.litres.ru/zhaklin-nolis/data-science-dlya-karerista/)"
   ]
  },
  {
   "cell_type": "markdown",
   "metadata": {},
   "source": [
    "### Вопрос 1"
   ]
  },
  {
   "cell_type": "markdown",
   "metadata": {},
   "source": [
    "\n",
    "*Задание от Лудамилы Джанда (Ludamila Janda), Data Scientist в Amplify*\n",
    "\n",
    "> Объясните разницу между левым (`LEFT`) и внутренним (`INNER`) соединениями."
   ]
  },
  {
   "cell_type": "markdown",
   "metadata": {},
   "source": [
    "**Пример ответа**\n",
    "\n",
    "**Соединения** — это способы объединения данных из двух разных таблиц (левой и правой) в новую.\n",
    "\n",
    "Принцип работы соединений заключается в объединении строк между двумя таблицами; набор ключевых столбцов используется для поиска данных в двух одинаковых таблицах, которые необходимо соединить.\n",
    "\n",
    "В случае левого соединения каждая строка из левой таблицы появляется в полученной таблице, но строки из правой появляются, только если значения в их ключевых столбцах отображаются в левой. При внутреннем соединении обе строки из левой и правой таблиц появляются, только если есть совпадающая строка в другой таблице.\n",
    "\n",
    "На практике вы можете воспринимать левое соединение как добавление данных из правой таблицы к левой, если она существует (например, с использованием правой таблицы в качестве подстановочной). Внутреннее соединение больше похоже на поиск всех общих данных и создание новой таблицы только из пар.\n",
    "\n",
    "Обратите внимание, что в нашем варианте ответа мы не упоминали какие‐либо сложности, связанные с появлением повторяющихся строк в данных. Возможно, о них стоит упомянуть, потому что повторяющиеся строки могут повлиять на результат, но с большей долей вероятности эта информация может увести вас от мысли, которую вы пытаетесь донести до интервьюера.\n",
    "\n",
    "\n",
    "> *Лудамила Джанда любит задавать этот вопрос при наборе кандидатов на роли джуниоров, потому что это не вопрос с подвохом, а минимально необходимые знания. Она считает, что можно многое узнать по тому, как кандидат решает дать ответ. Правильно ответить можно по‐разному: процитировать учебник, используя сложные выражения, или объяснить всё простым языком, не вдаваясь в крайности.*"
   ]
  },
  {
   "cell_type": "markdown",
   "metadata": {},
   "source": [
    "### Вопрос 2"
   ]
  },
  {
   "cell_type": "markdown",
   "metadata": {},
   "source": [
    "\n",
    "> Перед вами школьная таблица **TABLE_A** с оценками от 0 до 100, выставленными ученикам нескольких классов.\n",
    ">\n",
    ">![](data/dst3-u2-md3_6_1.png)\n",
    ">\n",
    ">Как бы вы рассчитали максимальную оценку в каждом классе?"
   ]
  },
  {
   "cell_type": "markdown",
   "metadata": {},
   "source": [
    "**Пример ответа**\n",
    "\n",
    "Предполагая, что у нас есть результат предыдущего запроса, сохранённый в **TABLE_B**, мы можем использовать его в этом решении:\n",
    "\n",
    "```sql\n",
    "SELECT \n",
    "    a.CLASS, \n",
    "    a.GRADE, \n",
    "    a.STUDENT \n",
    "FROM \n",
    "    TABLE_A a \n",
    "    INNER JOIN TABLE_B b ON a.CLASS = b.CLASS \n",
    "    AND a.GRADE = b.GRADE\n",
    "```\n",
    "\n",
    "Этот запрос выбирает всех учащихся и их оценки из исходной таблицы **TABLE_A**, где указаны классы и оценки, которые отображаются в таблице максимальных значений **TABLE_B**. Внутреннее соединение работает как фильтр, сохраняя только максимальные комбинации классов/оценок, потому что только в этом случае оценка появляется в таблице **TABLE_B**."
   ]
  },
  {
   "cell_type": "markdown",
   "metadata": {},
   "source": [
    "В качестве альтернативы можно было бы использовать подзапрос, чтобы сделать то же самое, не вызывая таблицу **TABLE_B**:\n",
    "\n",
    "```sql\n",
    "SELECT \n",
    "    a.CLASS, \n",
    "    a.GRADE, \n",
    "    a.STUDENT \n",
    "FROM \n",
    "    TABLE_A a \n",
    "    INNER JOIN (\n",
    "        SELECT \n",
    "            CLASS, \n",
    "            MAX(GRADE) \n",
    "        FROM \n",
    "            TABLE_A \n",
    "        GROUP BY \n",
    "            CLASS\n",
    "    ) b ON a.CLASS = b.CLASS \n",
    "    AND a.GRADE = b.GRADE\n",
    "```\n",
    "\n",
    "> **Примечание.** Подзапросы мы будем проходить чуть позднее, так что, ознакомившись сейчас, вернитесь к этому варианту, когда изучите синтаксис подзапросов.\n",
    "\n",
    "Как видите, эту задачу можно решить несколькими способами, но любое решение почти наверняка требует более одного запроса из таблицы **TABLE_A**, поэтому этот вопрос может легко поставить в тупик. На бумаге решение может показаться лёгким, но додуматься до него во время интервью может быть непросто. Даже если вы ответили неправильно, это не значит, что вы провалились.\n",
    "\n",
    "Решение не даёт каких‐либо специфичных случаев для привязки к максимальному значению. В примере будут возвращены строки для нескольких студентов. Возможно, стоит указать на этот факт интервьюеру, потому что так вы показываете, что обращаете внимание на пограничные случаи."
   ]
  },
  {
   "cell_type": "markdown",
   "metadata": {},
   "source": [
    "## Подсчет статистики забитых и пропущенных (мини-проект)"
   ]
  },
  {
   "cell_type": "markdown",
   "metadata": {},
   "source": [
    "Решается с использованием подзапросов.\n",
    "\n",
    "```sql\n",
    "SELECT\n",
    "    t.api_id,\n",
    "    t.long_name,\n",
    "    home_scored.total_home_scored,\n",
    "    away_scored.total_away_scored,\n",
    "    home_scored.total_home_scored + away_scored.total_away_scored AS total_goals_scored,\n",
    "    home_missed.total_home_missed,\n",
    "    away_missed.total_away_missed,\n",
    "    home_missed.total_home_missed + away_missed.total_away_missed AS total_goals_missed\n",
    "FROM\n",
    "    sql.teams AS t\n",
    "    JOIN (\n",
    "        --таблица забитых голов дома\n",
    "        SELECT\n",
    "            t.api_id,\n",
    "            t.long_name,\n",
    "            SUM(m.home_team_goals) AS total_home_scored\n",
    "        FROM\n",
    "            sql.teams AS t\n",
    "            JOIN sql.matches AS m ON t.api_id = m.home_team_api_id\n",
    "        GROUP BY\n",
    "            t.api_id,\n",
    "            t.long_name\n",
    "    ) AS home_scored ON t.api_id = home_scored.api_id\n",
    "    JOIN (\n",
    "        --таблица забитых голов в гостях\n",
    "        SELECT\n",
    "            t.api_id,\n",
    "            t.long_name,\n",
    "            SUM(m.away_team_goals) AS total_away_scored\n",
    "        FROM\n",
    "            sql.teams AS t\n",
    "            JOIN sql.matches AS m ON t.api_id = m.away_team_api_id\n",
    "        GROUP BY\n",
    "            t.api_id,\n",
    "            t.long_name\n",
    "    ) AS away_scored ON t.api_id = away_scored.api_id\n",
    "    JOIN (\n",
    "        --таблица пропущенных голов дома\n",
    "        SELECT\n",
    "            t.api_id,\n",
    "            t.long_name,\n",
    "            SUM(m.away_team_goals) AS total_home_missed\n",
    "        FROM\n",
    "            sql.teams AS t\n",
    "            JOIN sql.matches AS m ON t.api_id = m.home_team_api_id\n",
    "        GROUP BY\n",
    "            t.api_id,\n",
    "            t.long_name\n",
    "    ) AS home_missed ON t.api_id = home_missed.api_id\n",
    "    JOIN (\n",
    "        --таблица пропущенных голов в гостях\n",
    "        SELECT\n",
    "            t.api_id,\n",
    "            t.long_name,\n",
    "            SUM(m.home_team_goals) AS total_away_missed\n",
    "        FROM\n",
    "            sql.teams AS t\n",
    "            JOIN sql.matches AS m ON t.api_id = m.away_team_api_id\n",
    "        GROUP BY\n",
    "            t.api_id,\n",
    "            t.long_name\n",
    "    ) AS away_missed ON t.api_id = away_missed.api_id\n",
    "GROUP BY\n",
    "    t.api_id,\n",
    "    t.long_name,\n",
    "    home_scored.total_home_scored,\n",
    "    away_scored.total_away_scored,\n",
    "    home_missed.total_home_missed,\n",
    "    away_missed.total_away_missed\n",
    "ORDER BY\n",
    "    total_goals_scored DESC\n",
    "```"
   ]
  }
 ],
 "metadata": {
  "kernelspec": {
   "display_name": "Python 3",
   "language": "python",
   "name": "python3"
  },
  "language_info": {
   "codemirror_mode": {
    "name": "ipython",
    "version": 3
   },
   "file_extension": ".py",
   "mimetype": "text/x-python",
   "name": "python",
   "nbconvert_exporter": "python",
   "pygments_lexer": "ipython3",
   "version": "3.10.12"
  },
  "orig_nbformat": 4
 },
 "nbformat": 4,
 "nbformat_minor": 2
}
