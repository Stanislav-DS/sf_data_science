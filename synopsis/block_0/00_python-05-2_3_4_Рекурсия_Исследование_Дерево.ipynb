{
 "cells": [
  {
   "cell_type": "markdown",
   "metadata": {},
   "source": [
    "# Исследование. Дерево рекурсии функции поиска числа Фиббоначи."
   ]
  },
  {
   "cell_type": "code",
   "execution_count": 1,
   "metadata": {},
   "outputs": [
    {
     "name": "stdout",
     "output_type": "stream",
     "text": [
      "Num in stack: 1\t n=5\t call from main block\t return fib(4) + fib(3) \n",
      "Num in stack: 2\t n=4\t call from 1 operand\t return fib(3) + fib(2) \n",
      "Num in stack: 3\t n=3\t call from 1 operand\t return fib(2) + fib(1) \n",
      "Num in stack: 4\t n=2\t call from 1 operand\t return fib(1) + fib(0) \n",
      "Num in stack: 5\t n=1\t call from 1 operand\t return 1\n",
      "Num in stack: 5\t n=0\t call from 2 operand\t return 0\n",
      "Num in stack: 4\t n=1\t call from 2 operand\t return 1\n",
      "Num in stack: 3\t n=2\t call from 2 operand\t return fib(1) + fib(0) \n",
      "Num in stack: 4\t n=1\t call from 1 operand\t return 1\n",
      "Num in stack: 4\t n=0\t call from 2 operand\t return 0\n",
      "Num in stack: 2\t n=3\t call from 2 operand\t return fib(2) + fib(1) \n",
      "Num in stack: 3\t n=2\t call from 1 operand\t return fib(1) + fib(0) \n",
      "Num in stack: 4\t n=1\t call from 1 operand\t return 1\n",
      "Num in stack: 4\t n=0\t call from 2 operand\t return 0\n",
      "Num in stack: 3\t n=1\t call from 2 operand\t return 1\n",
      "Result: 5\n"
     ]
    }
   ],
   "source": [
    "def fib(n, place, num_calling):\n",
    "    if n == 0:\n",
    "        print(f\"Num in stack: {num_calling}\\t n={n}\\t call from {place} operand\\t return {n}\")\n",
    "        return 0\n",
    "    if n == 1:\n",
    "        print(f\"Num in stack: {num_calling}\\t n={n}\\t call from {place} operand\\t return {n}\")\n",
    "        return 1\n",
    "    if place == 0:\n",
    "        print(f\"Num in stack: {num_calling}\\t n={n}\\t call from main block\\t return fib({n-1}) + fib({n-2}) \")\n",
    "    else:\n",
    "        print(f\"Num in stack: {num_calling}\\t n={n}\\t call from {place} operand\\t return fib({n-1}) + fib({n-2}) \")\n",
    "    return fib(n-1, 1, num_calling+1) + fib(n-2, 2, num_calling+1)\n",
    "\n",
    "\n",
    "print(\"Result:\", fib(5, 0, 1))"
   ]
  },
  {
   "cell_type": "markdown",
   "metadata": {},
   "source": [
    "Получилась примерно такая картина...\n",
    "\n",
    "Функции будут вызываться слева-направо как они записаны в выражении оператора `return`, т.к. их вызов имеет равный приоритет.\n",
    "Т.е. каждая рекурсивно вызываемая функция будет висеть в стеке и сначала дожидаться подстановки значения в левый операнд выражения своего оператора `return`,  а затем вызвать функцию, расположенную справа, для подстановки значения уже во второй операнд этого арифметического выражения.\n",
    "\n",
    "С учетом того, что при вызове функции, указанной первой  (в выражении оператора `return`), в качестве аргумента ей передано `n-1`, а второй `n-2`,  для подстановки значения в первый операнд (т.е. выхода из рекурсии) потребуется большее количество рекурсивных вызовов, чем для подстановки значения во второй. Соответственно, стек сначала заполнится на максимальную глубину (5 экземпляров функций), потом будет несколько раз частично освобождаться и опять заполняться."
   ]
  },
  {
   "cell_type": "markdown",
   "metadata": {},
   "source": [
    "<img src=\"img/recursion.png\" width=1000 height=500 />"
   ]
  },
  {
   "cell_type": "markdown",
   "metadata": {},
   "source": [
    "На рисунке результаты работы кода с отладочным выводом на экран. \n",
    "\n",
    "Каждый экземпляр функции выводит на экран.\n",
    "\n",
    "1. Свой номер в стеке. \n",
    "\n",
    "1. Полученный при вызове аргумент `n`,  \n",
    "\n",
    "1. Номер операнда выражения оператора `return`, которым он был вызван.\n",
    "\n",
    "1. Свою инструкцию `return`\n",
    "\n",
    "Попытался визуализировать ход заполнения и освобождения стека:\n",
    "\n",
    "Красными линиями соединены строки, выведенные на экран экземплярами функций, которые были вызваны одним оператором return.  \n",
    "\n",
    "А синими линиями они соединяются со строкой выведенной на экран \"родительской\" функцией, из которой они были вызваны."
   ]
  },
  {
   "cell_type": "markdown",
   "metadata": {},
   "source": [
    "Нашел дерево рекурсии для этой задачи. \n",
    "\n",
    "Подписал очередность рекурсивных вызовов функции согласно результатам работы моего кода."
   ]
  },
  {
   "cell_type": "markdown",
   "metadata": {},
   "source": [
    "<img src=\"img/fib_tree.png\" width=1000 height=500 />"
   ]
  }
 ],
 "metadata": {
  "kernelspec": {
   "display_name": "Python 3.10.4 64-bit",
   "language": "python",
   "name": "python3"
  },
  "language_info": {
   "codemirror_mode": {
    "name": "ipython",
    "version": 3
   },
   "file_extension": ".py",
   "mimetype": "text/x-python",
   "name": "python",
   "nbconvert_exporter": "python",
   "pygments_lexer": "ipython3",
   "version": "3.10.4"
  },
  "orig_nbformat": 4,
  "vscode": {
   "interpreter": {
    "hash": "e7370f93d1d0cde622a1f8e1c04877d8463912d04d973331ad4851f04de6915a"
   }
  }
 },
 "nbformat": 4,
 "nbformat_minor": 2
}
