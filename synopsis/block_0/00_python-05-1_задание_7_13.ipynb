{
 "cells": [
  {
   "cell_type": "code",
   "execution_count": 87,
   "metadata": {
    "colab": {
     "base_uri": "https://localhost:8080/"
    },
    "executionInfo": {
     "elapsed": 3167,
     "status": "ok",
     "timestamp": 1657894109557,
     "user": {
      "displayName": "Станислав Кисляков",
      "userId": "10183413209756710787"
     },
     "user_tz": -180
    },
    "id": "mDqHjTtj4-Fx",
    "outputId": "a9f0f44d-9c54-41ba-e3da-cc77203eb116",
    "pycharm": {
     "name": "#%%\n"
    }
   },
   "outputs": [
    {
     "name": "stdout",
     "output_type": "stream",
     "text": [
      "func_type      time, sec      diff\n",
      "if             0.718          -40.66 %\n",
      "min            1.116          -7.77 %\n",
      "sort           1.21           100 %\n"
     ]
    }
   ],
   "source": [
    "from time import time\n",
    "\n",
    "def best_student_sort(**kwargs):\n",
    "    rating = []\n",
    "    for name, i in kwargs.items():\n",
    "        rating.append([i, name])\n",
    "    rating.sort()\n",
    "    return rating[0][1]\n",
    "\n",
    "\n",
    "def best_student_min(**kwargs):\n",
    "    for i, j in kwargs.items():\n",
    "        if j == min(kwargs.values()):\n",
    "            return i\n",
    "\n",
    "\n",
    "def best_student_if(**std_lst):\n",
    "    bst = None\n",
    "    bst_rate = None\n",
    "    for std in std_lst:\n",
    "        if bst is None:\n",
    "            bst = std\n",
    "            bst_rate = std_lst[std]\n",
    "        if std_lst[std] < bst_rate:\n",
    "            bst = std\n",
    "            bst_rate = std_lst[std]\n",
    "    return bst\n",
    "\n",
    "\n",
    "\n",
    "res = [[\"func_type\", \"time, sec\"]]\n",
    "a = time()\n",
    "for _ in range(1000000):\n",
    "    best_student_if(Tom=12, Jerry=1, Jane=2)\n",
    "b = time()\n",
    "res.append([\"if\", round(b-a, 3)])\n",
    "\n",
    "a = time()\n",
    "for _ in range(1000000):\n",
    "    best_student_min(Tom=12, Jerry=1, Jane=2)\n",
    "b = time()\n",
    "res.append([\"min\", round(b-a, 3)])\n",
    "\n",
    "a = time()\n",
    "for _ in range(1000000):\n",
    "    best_student_sort(Tom=12, Jerry=1, Jane=2)\n",
    "b = time()\n",
    "res.append([\"sort\", round(b-a, 3)])\n",
    "\n",
    "res[0].append(\"diff\")\n",
    "res[3].append(\"100 %\")\n",
    "x = round((res[3][1]-res[1][1])/(res[3][1]/100), 2)\n",
    "res[1].append(\"-\"+str(x)+\" %\")\n",
    "x = round((res[3][1]-res[2][1])/(res[3][1]/100), 2)\n",
    "res[2].append(\"-\"+str(x)+\" %\")\n",
    "\n",
    "for row in res:\n",
    "    print(f\"{row[0]:<15}{row[1]:<15}{row[2]}\")\n",
    "\n",
    "\n"
   ]
  },
  {
   "cell_type": "code",
   "execution_count": 42,
   "metadata": {
    "colab": {
     "base_uri": "https://localhost:8080/"
    },
    "executionInfo": {
     "elapsed": 649,
     "status": "ok",
     "timestamp": 1657890704605,
     "user": {
      "displayName": "Станислав Кисляков",
      "userId": "10183413209756710787"
     },
     "user_tz": -180
    },
    "id": "7MqIhO3B_Hv0",
    "outputId": "6c895037-9b33-4936-9322-a94ad2001aea",
    "pycharm": {
     "name": "#%%\n"
    }
   },
   "outputs": [
    {
     "name": "stdout",
     "output_type": "stream",
     "text": [
      "Python\n",
      " ython\n",
      "  thon\n",
      "   hon\n",
      "    on\n",
      "     n\n"
     ]
    }
   ],
   "source": [
    "s1 = 'Python'\n",
    "s2 = 'ython'\n",
    "s3 = 'thon'\n",
    "s4 = 'hon'\n",
    "s5 = 'on'\n",
    "s6 = 'n'\n",
    "\n",
    "print(f'{s1:>6}')\n",
    "print(f'{s2:>6}')\n",
    "print(f'{s3:>6}')\n",
    "print(f'{s4:>6}')\n",
    "print(f'{s5:>6}')\n",
    "print(f'{s6:>6}')"
   ]
  }
 ],
 "metadata": {
  "colab": {
   "authorship_tag": "ABX9TyN0qle8MnjPk4E/cevo1zFd",
   "collapsed_sections": [],
   "name": "00_python-05-1_задание_7_13.ipynb",
   "provenance": []
  },
  "kernelspec": {
   "display_name": "Python 3.10.4 64-bit",
   "language": "python",
   "name": "python3"
  },
  "language_info": {
   "name": "python",
   "version": "3.10.4"
  },
  "vscode": {
   "interpreter": {
    "hash": "e7370f93d1d0cde622a1f8e1c04877d8463912d04d973331ad4851f04de6915a"
   }
  }
 },
 "nbformat": 4,
 "nbformat_minor": 0
}
